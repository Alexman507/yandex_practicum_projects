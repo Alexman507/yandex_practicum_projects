{
 "cells": [
  {
   "cell_type": "markdown",
   "id": "fb286e79",
   "metadata": {},
   "source": [
    "# Исследование доходности ставок в РПЛ"
   ]
  },
  {
   "cell_type": "markdown",
   "id": "7080088b",
   "metadata": {},
   "source": [
    "**Цель исследования** - Оценка потенциального выигрыша в ставках на матчи РПЛ, а также возможные пути повышения эффективности выбора ставок.\n",
    "  \n",
    "**Основные гипотезы**\n",
    "1. Большинство матчей заканчивается с 2-мя или более забитыми мячами, следовательно ставки \"Тотал больше 1.5\" и \"Тотал больше 2.5\" выгодны.\n",
    "1. Если ставить только на матчи определенных команд, вероятность выигрыша повысится.\n",
    "    \n",
    "**Исходные данные**\n",
    "  \n",
    "* Результаты всех матчей сезона РПЛ 2021/22\n",
    "* Список коэффициентов ставок ТБ 1.5 и ТБ 2.5\n",
    "\n",
    "**Ход исследования**   \n",
    "  \n",
    "1. Оценить возможный доход от ставок**  \n",
    "2. Найти способы повысить эффективность выбора ставок**"
   ]
  },
  {
   "cell_type": "code",
   "execution_count": 1,
   "id": "74fc547f",
   "metadata": {},
   "outputs": [],
   "source": [
    "import pandas as pd\n",
    "import seaborn as sb"
   ]
  },
  {
   "cell_type": "code",
   "execution_count": 2,
   "id": "d1604caf",
   "metadata": {},
   "outputs": [
    {
     "name": "stdout",
     "output_type": "stream",
     "text": [
      "Index(['round', 'date', 'time', 'host_team', 'away_team', 'host_score',\n",
      "       'away_score'],\n",
      "      dtype='object')\n"
     ]
    }
   ],
   "source": [
    "df = pd.read_excel ('rpl_2021.xlsx') \n",
    "print(df.columns)"
   ]
  },
  {
   "cell_type": "markdown",
   "id": "1e6bfa4c",
   "metadata": {},
   "source": [
    "## 1. Исходные данные"
   ]
  },
  {
   "cell_type": "markdown",
   "id": "2cbe4377",
   "metadata": {},
   "source": [
    "В таблице результаты 240 матчей РПЛ сезона 2021/22\n",
    "\n",
    "Названия столбцов: \n",
    "  \n",
    "`round` - номер тура  \n",
    "`date` - дата матча  \n",
    "`time` - время начала матча  \n",
    "`host_team` - название команды хозяев  \n",
    "`away_team` - название команды гостей  \n",
    "`host_score` - счет команды хозяев  \n",
    "`away_score` - счет команды гостей  "
   ]
  },
  {
   "cell_type": "markdown",
   "id": "1631cee3",
   "metadata": {},
   "source": [
    "Списки коэффициентов на ставки \"ТБ 1.5\" и \"ТБ 2.5\" получены из прогнозов на матчи РПЛ сезона 2022/23.  \n",
    "В расчетах используется среднее значение."
   ]
  },
  {
   "cell_type": "code",
   "execution_count": 10,
   "id": "5930f4b1",
   "metadata": {},
   "outputs": [
    {
     "name": "stdout",
     "output_type": "stream",
     "text": [
      "1.249\n",
      "1.797\n"
     ]
    }
   ],
   "source": [
    "coeff_1_5 = [1.32, 1.2, 1.24, 1.24, 1.31, 1.26, 1.27, 1.24, 1.23, 1.26, 1.2, 1.2, 1.21, 1.2, 1.22, 1.26, 1.4, 1.17, 1.23, 1.24, 1.21, 1.27, 1.44, 1.25, 1.2, 1.21, 1.3, 1.25, 1.2]\n",
    "coeff_2_5 = [1.92, 1.85, 1.71, 1.88, 1.64, 1.63, 1.68, 1.7, 1.73, 1.86, 2.26, 1.58, 1.76, 1.82, 1.7, 1.87, 2.13, 1.81, 1.65, 1.69, 1.99, 1.82, 1.65]\n",
    "\n",
    "coeff_1_5_avg = sum(coeff_1_5)/len(coeff_1_5)\n",
    "coeff_2_5_avg = sum(coeff_2_5)/len(coeff_2_5)\n",
    "\n",
    "print(round(coeff_1_5_avg,3))\n",
    "print(round(coeff_2_5_avg,3))"
   ]
  },
  {
   "cell_type": "markdown",
   "id": "621d535c",
   "metadata": {},
   "source": [
    "## 1.1. Предобработка данных"
   ]
  },
  {
   "cell_type": "code",
   "execution_count": null,
   "id": "5ec60138",
   "metadata": {},
   "outputs": [],
   "source": [
    "необходимо проверить названия команд"
   ]
  },
  {
   "cell_type": "code",
   "execution_count": 54,
   "id": "987df175",
   "metadata": {},
   "outputs": [
    {
     "data": {
      "text/plain": [
       "array(['Ростов\\xa0', 'Химки\\xa0', 'Локомотив М\\xa0', 'Рубин\\xa0',\n",
       "       'Урал\\xa0', 'Крылья Советов\\xa0', 'ЦСКА\\xa0',\n",
       "       'Нижний Новгород\\xa0', 'Арсенал\\xa0', 'Уфа\\xa0', 'Краснодар\\xa0',\n",
       "       'Ахмат\\xa0', 'Зенит\\xa0', 'Спартак М\\xa0', 'Динамо М\\xa0',\n",
       "       'Сочи\\xa0'], dtype=object)"
      ]
     },
     "execution_count": 54,
     "metadata": {},
     "output_type": "execute_result"
    }
   ],
   "source": [
    "host_teams = df['host_team'].unique()\n",
    "host_teams"
   ]
  },
  {
   "cell_type": "code",
   "execution_count": 56,
   "id": "28d3280d",
   "metadata": {
    "scrolled": true
   },
   "outputs": [
    {
     "data": {
      "text/plain": [
       "array(['\\xa0Динамо М', '\\xa0Зенит', '\\xa0Арсенал', '\\xa0Спартак М',\n",
       "       '\\xa0Краснодар', '\\xa0Ахмат', '\\xa0Уфа', '\\xa0Сочи', '\\xa0Рубин',\n",
       "       '\\xa0Локомотив М', '\\xa0Нижний Новгород', '\\xa0Химки',\n",
       "       '\\xa0Крылья Советов', '\\xa0Ростов', '\\xa0ЦСКА', '\\xa0Урал'],\n",
       "      dtype=object)"
      ]
     },
     "execution_count": 56,
     "metadata": {},
     "output_type": "execute_result"
    }
   ],
   "source": [
    "away_teams = df['away_team'].unique()\n",
    "away_teams"
   ]
  },
  {
   "cell_type": "markdown",
   "id": "7bc72762",
   "metadata": {},
   "source": [
    "Исправление названий (удаление пробелов)"
   ]
  },
  {
   "cell_type": "code",
   "execution_count": 94,
   "id": "d3503076",
   "metadata": {},
   "outputs": [
    {
     "name": "stdout",
     "output_type": "stream",
     "text": [
      "['Ростов' 'Химки' 'Локомотив М' 'Рубин' 'Урал' 'Крылья Советов' 'ЦСКА'\n",
      " 'Нижний Новгород' 'Арсенал' 'Уфа' 'Краснодар' 'Ахмат' 'Зенит' 'Спартак М'\n",
      " 'Динамо М' 'Сочи']\n",
      "['Динамо М' 'Зенит' 'Арсенал' 'Спартак М' 'Краснодар' 'Ахмат' 'Уфа' 'Сочи'\n",
      " 'Рубин' 'Локомотив М' 'Нижний Новгород' 'Химки' 'Крылья Советов' 'Ростов'\n",
      " 'ЦСКА' 'Урал']\n"
     ]
    }
   ],
   "source": [
    "teams = ['host_team', 'away_team']\n",
    "\n",
    "for team in teams:\n",
    "    for index in range(len(df['host_team'])):\n",
    "        df[team][index] = df[team][index].replace('\\xa0', '')\n",
    "    \n",
    "    \n",
    "print(df['host_team'].unique())\n",
    "print(df['away_team'].unique())"
   ]
  },
  {
   "cell_type": "markdown",
   "id": "74d12aae",
   "metadata": {},
   "source": [
    "Названия команд исправлены."
   ]
  },
  {
   "cell_type": "markdown",
   "id": "1fec7d6e",
   "metadata": {},
   "source": [
    "## 2. Общие расчеты"
   ]
  },
  {
   "cell_type": "markdown",
   "id": "d3364515",
   "metadata": {},
   "source": [
    "### 2.1. Количество голов в каждом матче"
   ]
  },
  {
   "cell_type": "markdown",
   "id": "c0c8a658",
   "metadata": {},
   "source": [
    "К датафрейму добавляется столбец `total_score` с информацией о сумме забитых голов в матче"
   ]
  },
  {
   "cell_type": "code",
   "execution_count": 4,
   "id": "30d87dc9",
   "metadata": {
    "scrolled": false
   },
   "outputs": [
    {
     "data": {
      "text/html": [
       "<div>\n",
       "<style scoped>\n",
       "    .dataframe tbody tr th:only-of-type {\n",
       "        vertical-align: middle;\n",
       "    }\n",
       "\n",
       "    .dataframe tbody tr th {\n",
       "        vertical-align: top;\n",
       "    }\n",
       "\n",
       "    .dataframe thead th {\n",
       "        text-align: right;\n",
       "    }\n",
       "</style>\n",
       "<table border=\"1\" class=\"dataframe\">\n",
       "  <thead>\n",
       "    <tr style=\"text-align: right;\">\n",
       "      <th></th>\n",
       "      <th>round</th>\n",
       "      <th>date</th>\n",
       "      <th>time</th>\n",
       "      <th>host_team</th>\n",
       "      <th>away_team</th>\n",
       "      <th>host_score</th>\n",
       "      <th>away_score</th>\n",
       "      <th>total_score</th>\n",
       "    </tr>\n",
       "  </thead>\n",
       "  <tbody>\n",
       "    <tr>\n",
       "      <th>0</th>\n",
       "      <td>1</td>\n",
       "      <td>2021-07-23</td>\n",
       "      <td>20:00</td>\n",
       "      <td>Ростов</td>\n",
       "      <td>Динамо М</td>\n",
       "      <td>0</td>\n",
       "      <td>2</td>\n",
       "      <td>2</td>\n",
       "    </tr>\n",
       "    <tr>\n",
       "      <th>1</th>\n",
       "      <td>1</td>\n",
       "      <td>2021-07-24</td>\n",
       "      <td>17:30</td>\n",
       "      <td>Химки</td>\n",
       "      <td>Зенит</td>\n",
       "      <td>1</td>\n",
       "      <td>3</td>\n",
       "      <td>4</td>\n",
       "    </tr>\n",
       "    <tr>\n",
       "      <th>2</th>\n",
       "      <td>1</td>\n",
       "      <td>2021-07-24</td>\n",
       "      <td>20:00</td>\n",
       "      <td>Локомотив М</td>\n",
       "      <td>Арсенал</td>\n",
       "      <td>3</td>\n",
       "      <td>1</td>\n",
       "      <td>4</td>\n",
       "    </tr>\n",
       "    <tr>\n",
       "      <th>3</th>\n",
       "      <td>1</td>\n",
       "      <td>2021-07-24</td>\n",
       "      <td>20:00</td>\n",
       "      <td>Рубин</td>\n",
       "      <td>Спартак М</td>\n",
       "      <td>1</td>\n",
       "      <td>0</td>\n",
       "      <td>1</td>\n",
       "    </tr>\n",
       "    <tr>\n",
       "      <th>4</th>\n",
       "      <td>1</td>\n",
       "      <td>2021-07-25</td>\n",
       "      <td>17:30</td>\n",
       "      <td>Урал</td>\n",
       "      <td>Краснодар</td>\n",
       "      <td>0</td>\n",
       "      <td>3</td>\n",
       "      <td>3</td>\n",
       "    </tr>\n",
       "    <tr>\n",
       "      <th>...</th>\n",
       "      <td>...</td>\n",
       "      <td>...</td>\n",
       "      <td>...</td>\n",
       "      <td>...</td>\n",
       "      <td>...</td>\n",
       "      <td>...</td>\n",
       "      <td>...</td>\n",
       "      <td>...</td>\n",
       "    </tr>\n",
       "    <tr>\n",
       "      <th>235</th>\n",
       "      <td>30</td>\n",
       "      <td>2022-05-21</td>\n",
       "      <td>17:00</td>\n",
       "      <td>Рубин</td>\n",
       "      <td>Уфа</td>\n",
       "      <td>1</td>\n",
       "      <td>2</td>\n",
       "      <td>3</td>\n",
       "    </tr>\n",
       "    <tr>\n",
       "      <th>236</th>\n",
       "      <td>30</td>\n",
       "      <td>2022-05-21</td>\n",
       "      <td>17:00</td>\n",
       "      <td>Крылья Советов</td>\n",
       "      <td>Локомотив М</td>\n",
       "      <td>0</td>\n",
       "      <td>1</td>\n",
       "      <td>1</td>\n",
       "    </tr>\n",
       "    <tr>\n",
       "      <th>237</th>\n",
       "      <td>30</td>\n",
       "      <td>2022-05-21</td>\n",
       "      <td>17:00</td>\n",
       "      <td>Динамо М</td>\n",
       "      <td>Сочи</td>\n",
       "      <td>1</td>\n",
       "      <td>5</td>\n",
       "      <td>6</td>\n",
       "    </tr>\n",
       "    <tr>\n",
       "      <th>238</th>\n",
       "      <td>30</td>\n",
       "      <td>2022-05-21</td>\n",
       "      <td>17:00</td>\n",
       "      <td>Краснодар</td>\n",
       "      <td>Ахмат</td>\n",
       "      <td>1</td>\n",
       "      <td>1</td>\n",
       "      <td>2</td>\n",
       "    </tr>\n",
       "    <tr>\n",
       "      <th>239</th>\n",
       "      <td>30</td>\n",
       "      <td>2022-05-21</td>\n",
       "      <td>17:00</td>\n",
       "      <td>ЦСКА</td>\n",
       "      <td>Ростов</td>\n",
       "      <td>4</td>\n",
       "      <td>0</td>\n",
       "      <td>4</td>\n",
       "    </tr>\n",
       "  </tbody>\n",
       "</table>\n",
       "<p>240 rows × 8 columns</p>\n",
       "</div>"
      ],
      "text/plain": [
       "     round       date    time        host_team     away_team  host_score  \\\n",
       "0        1 2021-07-23   20:00          Ростов       Динамо М           0   \n",
       "1        1 2021-07-24   17:30           Химки          Зенит           1   \n",
       "2        1 2021-07-24   20:00     Локомотив М        Арсенал           3   \n",
       "3        1 2021-07-24   20:00           Рубин      Спартак М           1   \n",
       "4        1 2021-07-25   17:30            Урал      Краснодар           0   \n",
       "..     ...        ...     ...              ...           ...         ...   \n",
       "235     30 2022-05-21   17:00           Рубин            Уфа           1   \n",
       "236     30 2022-05-21   17:00  Крылья Советов    Локомотив М           0   \n",
       "237     30 2022-05-21   17:00        Динамо М           Сочи           1   \n",
       "238     30 2022-05-21   17:00       Краснодар          Ахмат           1   \n",
       "239     30 2022-05-21   17:00            ЦСКА         Ростов           4   \n",
       "\n",
       "     away_score  total_score  \n",
       "0             2            2  \n",
       "1             3            4  \n",
       "2             1            4  \n",
       "3             0            1  \n",
       "4             3            3  \n",
       "..          ...          ...  \n",
       "235           2            3  \n",
       "236           1            1  \n",
       "237           5            6  \n",
       "238           1            2  \n",
       "239           0            4  \n",
       "\n",
       "[240 rows x 8 columns]"
      ]
     },
     "execution_count": 4,
     "metadata": {},
     "output_type": "execute_result"
    }
   ],
   "source": [
    "df['total_score'] = df['host_score'] + df['away_score']\n",
    "\n",
    "df"
   ]
  },
  {
   "cell_type": "markdown",
   "id": "25d5bc57",
   "metadata": {},
   "source": [
    "### 2.2. Подсчет выигрышей"
   ]
  },
  {
   "cell_type": "markdown",
   "id": "e4718058",
   "metadata": {},
   "source": [
    "Функция `bet_win` проводит проверку, \"зашла\" ставка или нет"
   ]
  },
  {
   "cell_type": "code",
   "execution_count": 11,
   "id": "f3685e54",
   "metadata": {
    "scrolled": false
   },
   "outputs": [
    {
     "data": {
      "text/html": [
       "<div>\n",
       "<style scoped>\n",
       "    .dataframe tbody tr th:only-of-type {\n",
       "        vertical-align: middle;\n",
       "    }\n",
       "\n",
       "    .dataframe tbody tr th {\n",
       "        vertical-align: top;\n",
       "    }\n",
       "\n",
       "    .dataframe thead th {\n",
       "        text-align: right;\n",
       "    }\n",
       "</style>\n",
       "<table border=\"1\" class=\"dataframe\">\n",
       "  <thead>\n",
       "    <tr style=\"text-align: right;\">\n",
       "      <th></th>\n",
       "      <th>round</th>\n",
       "      <th>date</th>\n",
       "      <th>time</th>\n",
       "      <th>host_team</th>\n",
       "      <th>away_team</th>\n",
       "      <th>host_score</th>\n",
       "      <th>away_score</th>\n",
       "      <th>total_score</th>\n",
       "      <th>tb_1_5_win</th>\n",
       "      <th>tb_2_5_win</th>\n",
       "    </tr>\n",
       "  </thead>\n",
       "  <tbody>\n",
       "    <tr>\n",
       "      <th>0</th>\n",
       "      <td>1</td>\n",
       "      <td>2021-07-23</td>\n",
       "      <td>20:00</td>\n",
       "      <td>Ростов</td>\n",
       "      <td>Динамо М</td>\n",
       "      <td>0</td>\n",
       "      <td>2</td>\n",
       "      <td>2</td>\n",
       "      <td>1</td>\n",
       "      <td>0</td>\n",
       "    </tr>\n",
       "    <tr>\n",
       "      <th>1</th>\n",
       "      <td>1</td>\n",
       "      <td>2021-07-24</td>\n",
       "      <td>17:30</td>\n",
       "      <td>Химки</td>\n",
       "      <td>Зенит</td>\n",
       "      <td>1</td>\n",
       "      <td>3</td>\n",
       "      <td>4</td>\n",
       "      <td>1</td>\n",
       "      <td>1</td>\n",
       "    </tr>\n",
       "    <tr>\n",
       "      <th>2</th>\n",
       "      <td>1</td>\n",
       "      <td>2021-07-24</td>\n",
       "      <td>20:00</td>\n",
       "      <td>Локомотив М</td>\n",
       "      <td>Арсенал</td>\n",
       "      <td>3</td>\n",
       "      <td>1</td>\n",
       "      <td>4</td>\n",
       "      <td>1</td>\n",
       "      <td>1</td>\n",
       "    </tr>\n",
       "    <tr>\n",
       "      <th>3</th>\n",
       "      <td>1</td>\n",
       "      <td>2021-07-24</td>\n",
       "      <td>20:00</td>\n",
       "      <td>Рубин</td>\n",
       "      <td>Спартак М</td>\n",
       "      <td>1</td>\n",
       "      <td>0</td>\n",
       "      <td>1</td>\n",
       "      <td>0</td>\n",
       "      <td>0</td>\n",
       "    </tr>\n",
       "    <tr>\n",
       "      <th>4</th>\n",
       "      <td>1</td>\n",
       "      <td>2021-07-25</td>\n",
       "      <td>17:30</td>\n",
       "      <td>Урал</td>\n",
       "      <td>Краснодар</td>\n",
       "      <td>0</td>\n",
       "      <td>3</td>\n",
       "      <td>3</td>\n",
       "      <td>1</td>\n",
       "      <td>1</td>\n",
       "    </tr>\n",
       "    <tr>\n",
       "      <th>...</th>\n",
       "      <td>...</td>\n",
       "      <td>...</td>\n",
       "      <td>...</td>\n",
       "      <td>...</td>\n",
       "      <td>...</td>\n",
       "      <td>...</td>\n",
       "      <td>...</td>\n",
       "      <td>...</td>\n",
       "      <td>...</td>\n",
       "      <td>...</td>\n",
       "    </tr>\n",
       "    <tr>\n",
       "      <th>235</th>\n",
       "      <td>30</td>\n",
       "      <td>2022-05-21</td>\n",
       "      <td>17:00</td>\n",
       "      <td>Рубин</td>\n",
       "      <td>Уфа</td>\n",
       "      <td>1</td>\n",
       "      <td>2</td>\n",
       "      <td>3</td>\n",
       "      <td>1</td>\n",
       "      <td>1</td>\n",
       "    </tr>\n",
       "    <tr>\n",
       "      <th>236</th>\n",
       "      <td>30</td>\n",
       "      <td>2022-05-21</td>\n",
       "      <td>17:00</td>\n",
       "      <td>Крылья Советов</td>\n",
       "      <td>Локомотив М</td>\n",
       "      <td>0</td>\n",
       "      <td>1</td>\n",
       "      <td>1</td>\n",
       "      <td>0</td>\n",
       "      <td>0</td>\n",
       "    </tr>\n",
       "    <tr>\n",
       "      <th>237</th>\n",
       "      <td>30</td>\n",
       "      <td>2022-05-21</td>\n",
       "      <td>17:00</td>\n",
       "      <td>Динамо М</td>\n",
       "      <td>Сочи</td>\n",
       "      <td>1</td>\n",
       "      <td>5</td>\n",
       "      <td>6</td>\n",
       "      <td>1</td>\n",
       "      <td>1</td>\n",
       "    </tr>\n",
       "    <tr>\n",
       "      <th>238</th>\n",
       "      <td>30</td>\n",
       "      <td>2022-05-21</td>\n",
       "      <td>17:00</td>\n",
       "      <td>Краснодар</td>\n",
       "      <td>Ахмат</td>\n",
       "      <td>1</td>\n",
       "      <td>1</td>\n",
       "      <td>2</td>\n",
       "      <td>1</td>\n",
       "      <td>0</td>\n",
       "    </tr>\n",
       "    <tr>\n",
       "      <th>239</th>\n",
       "      <td>30</td>\n",
       "      <td>2022-05-21</td>\n",
       "      <td>17:00</td>\n",
       "      <td>ЦСКА</td>\n",
       "      <td>Ростов</td>\n",
       "      <td>4</td>\n",
       "      <td>0</td>\n",
       "      <td>4</td>\n",
       "      <td>1</td>\n",
       "      <td>1</td>\n",
       "    </tr>\n",
       "  </tbody>\n",
       "</table>\n",
       "<p>240 rows × 10 columns</p>\n",
       "</div>"
      ],
      "text/plain": [
       "     round       date    time        host_team     away_team  host_score  \\\n",
       "0        1 2021-07-23   20:00          Ростов       Динамо М           0   \n",
       "1        1 2021-07-24   17:30           Химки          Зенит           1   \n",
       "2        1 2021-07-24   20:00     Локомотив М        Арсенал           3   \n",
       "3        1 2021-07-24   20:00           Рубин      Спартак М           1   \n",
       "4        1 2021-07-25   17:30            Урал      Краснодар           0   \n",
       "..     ...        ...     ...              ...           ...         ...   \n",
       "235     30 2022-05-21   17:00           Рубин            Уфа           1   \n",
       "236     30 2022-05-21   17:00  Крылья Советов    Локомотив М           0   \n",
       "237     30 2022-05-21   17:00        Динамо М           Сочи           1   \n",
       "238     30 2022-05-21   17:00       Краснодар          Ахмат           1   \n",
       "239     30 2022-05-21   17:00            ЦСКА         Ростов           4   \n",
       "\n",
       "     away_score  total_score  tb_1_5_win  tb_2_5_win  \n",
       "0             2            2           1           0  \n",
       "1             3            4           1           1  \n",
       "2             1            4           1           1  \n",
       "3             0            1           0           0  \n",
       "4             3            3           1           1  \n",
       "..          ...          ...         ...         ...  \n",
       "235           2            3           1           1  \n",
       "236           1            1           0           0  \n",
       "237           5            6           1           1  \n",
       "238           1            2           1           0  \n",
       "239           0            4           1           1  \n",
       "\n",
       "[240 rows x 10 columns]"
      ]
     },
     "execution_count": 11,
     "metadata": {},
     "output_type": "execute_result"
    }
   ],
   "source": [
    "def bet_win (score, bet):\n",
    "    if score > bet:\n",
    "        return 1\n",
    "    else:\n",
    "        return 0\n",
    "    \n",
    "new_columns = ['tb_1_5_win', 'tb_2_5_win']\n",
    "\n",
    "df['tb_1_5_win'] = df['total_score'].apply(bet_win, bet = 1.5)\n",
    "df['tb_2_5_win'] = df['total_score'].apply(bet_win, bet = 2.5)\n",
    "\n",
    "df"
   ]
  },
  {
   "cell_type": "code",
   "execution_count": 6,
   "id": "fa6f2f77",
   "metadata": {},
   "outputs": [],
   "source": [
    "total_bets = df['total_score'].count()\n",
    "\n",
    "tb_1_5_wins = df['tb_1_5_win'].sum()\n",
    "tb_2_5_wins = df['tb_2_5_win'].sum()"
   ]
  },
  {
   "cell_type": "code",
   "execution_count": 7,
   "id": "f54c6ee1",
   "metadata": {},
   "outputs": [],
   "source": [
    "tb_1_5_profit = tb_1_5_wins * coeff_1_5_avg\n",
    "tb_2_5_profit = tb_2_5_wins * coeff_2_5_avg"
   ]
  },
  {
   "cell_type": "markdown",
   "id": "c45a91e3",
   "metadata": {},
   "source": [
    "Производится подсчет выигрышей для каждого типа ставок и на основании полученных данных строится график:"
   ]
  },
  {
   "cell_type": "code",
   "execution_count": 8,
   "id": "9a07bd46",
   "metadata": {
    "scrolled": false
   },
   "outputs": [
    {
     "data": {
      "text/plain": [
       "<AxesSubplot:>"
      ]
     },
     "execution_count": 8,
     "metadata": {},
     "output_type": "execute_result"
    },
    {
     "data": {
      "image/png": "[encoded data removed]",
      "text/plain": [
       "<Figure size 432x288 with 1 Axes>"
      ]
     },
     "metadata": {
      "needs_background": "light"
     },
     "output_type": "display_data"
    }
   ],
   "source": [
    "chart_data = pd.Series({'total_bets':total_bets, 'tb_1_5_profit':tb_1_5_profit, 'tb_2_5_profit':tb_2_5_profit})\n",
    "chart_data\n",
    "\n",
    "sb.barplot(x=chart_data.index,\n",
    "           y=chart_data,\n",
    "           palette = 'cubehelix')"
   ]
  },
  {
   "cell_type": "markdown",
   "id": "25d7d92c",
   "metadata": {},
   "source": [
    "### 2.3. Выводы"
   ]
  },
  {
   "cell_type": "code",
   "execution_count": 9,
   "id": "f950309e",
   "metadata": {},
   "outputs": [
    {
     "name": "stdout",
     "output_type": "stream",
     "text": [
      "Если бы вы поставили ставку \"ТБ > 1.5\" по 1 руб. на все матчи РПЛ сезона 2021/22:\n",
      "Средний коэффициент ставок был бы равен 1.249.\n",
      "При этом ваш доход составил бы -17.62руб. или -7.34%!\n",
      "\n",
      "Если бы вы поставили ставку \"ТБ > 2.5\" по 1 руб. со средним коэффициентом 1.797:\n",
      "Ваш доход составил бы -20.77руб. или -8.65%!\n"
     ]
    }
   ],
   "source": [
    "tb_1_5_total_profit = tb_1_5_profit - total_bets\n",
    "tb_2_5_total_profit = tb_2_5_profit - total_bets\n",
    "\n",
    "tb_1_5_total_profit_percentage = tb_1_5_total_profit / total_bets\n",
    "tb_2_5_total_profit_percentage = tb_2_5_total_profit / total_bets\n",
    "\n",
    "print(f'''Если бы вы поставили ставку \"ТБ > 1.5\" по 1 руб. на все матчи РПЛ сезона 2021/22:\n",
    "Средний коэффициент ставок был бы равен {coeff_1_5_avg:.4}.\n",
    "При этом ваш доход составил бы {tb_1_5_total_profit:.4}руб. или {tb_1_5_total_profit_percentage:.2%}!''')\n",
    "print()\n",
    "print(f'''Если бы вы поставили ставку \"ТБ > 2.5\" по 1 руб. со средним коэффициентом {coeff_2_5_avg:.4}:\n",
    "Ваш доход составил бы {tb_2_5_total_profit:.4}руб. или {tb_2_5_total_profit_percentage:.2%}!''')"
   ]
  },
  {
   "cell_type": "markdown",
   "id": "9b50ccc6",
   "metadata": {},
   "source": [
    "## 3. Поиск выгодных ставок"
   ]
  },
  {
   "cell_type": "markdown",
   "id": "8dfa7865",
   "metadata": {},
   "source": [
    "### 3.1. Самые забивающие и пропускающие команды"
   ]
  },
  {
   "cell_type": "markdown",
   "id": "de21e16b",
   "metadata": {},
   "source": [
    "Для того, чтобы ставка на тотал \"сыграла\", неважно, команда много забьет или пропустит.  \n",
    "Поэтому по каждой команде исследуются данные столбца `total_score`."
   ]
  },
  {
   "cell_type": "code",
   "execution_count": 154,
   "id": "eb595ddc",
   "metadata": {},
   "outputs": [
    {
     "data": {
      "text/html": [
       "<div>\n",
       "<style scoped>\n",
       "    .dataframe tbody tr th:only-of-type {\n",
       "        vertical-align: middle;\n",
       "    }\n",
       "\n",
       "    .dataframe tbody tr th {\n",
       "        vertical-align: top;\n",
       "    }\n",
       "\n",
       "    .dataframe thead th {\n",
       "        text-align: right;\n",
       "    }\n",
       "</style>\n",
       "<table border=\"1\" class=\"dataframe\">\n",
       "  <thead>\n",
       "    <tr style=\"text-align: right;\">\n",
       "      <th></th>\n",
       "      <th>team</th>\n",
       "      <th>total_score</th>\n",
       "    </tr>\n",
       "  </thead>\n",
       "  <tbody>\n",
       "    <tr>\n",
       "      <th>0</th>\n",
       "      <td>Ростов</td>\n",
       "      <td>98</td>\n",
       "    </tr>\n",
       "    <tr>\n",
       "      <th>1</th>\n",
       "      <td>Зенит</td>\n",
       "      <td>94</td>\n",
       "    </tr>\n",
       "    <tr>\n",
       "      <th>2</th>\n",
       "      <td>Динамо М</td>\n",
       "      <td>94</td>\n",
       "    </tr>\n",
       "    <tr>\n",
       "      <th>3</th>\n",
       "      <td>Рубин</td>\n",
       "      <td>90</td>\n",
       "    </tr>\n",
       "    <tr>\n",
       "      <th>4</th>\n",
       "      <td>Арсенал</td>\n",
       "      <td>89</td>\n",
       "    </tr>\n",
       "    <tr>\n",
       "      <th>5</th>\n",
       "      <td>Сочи</td>\n",
       "      <td>84</td>\n",
       "    </tr>\n",
       "    <tr>\n",
       "      <th>6</th>\n",
       "      <td>Локомотив М</td>\n",
       "      <td>82</td>\n",
       "    </tr>\n",
       "    <tr>\n",
       "      <th>7</th>\n",
       "      <td>Химки</td>\n",
       "      <td>81</td>\n",
       "    </tr>\n",
       "    <tr>\n",
       "      <th>8</th>\n",
       "      <td>Спартак М</td>\n",
       "      <td>78</td>\n",
       "    </tr>\n",
       "    <tr>\n",
       "      <th>9</th>\n",
       "      <td>Крылья Советов</td>\n",
       "      <td>75</td>\n",
       "    </tr>\n",
       "    <tr>\n",
       "      <th>10</th>\n",
       "      <td>Ахмат</td>\n",
       "      <td>74</td>\n",
       "    </tr>\n",
       "    <tr>\n",
       "      <th>11</th>\n",
       "      <td>Краснодар</td>\n",
       "      <td>72</td>\n",
       "    </tr>\n",
       "    <tr>\n",
       "      <th>12</th>\n",
       "      <td>ЦСКА</td>\n",
       "      <td>71</td>\n",
       "    </tr>\n",
       "    <tr>\n",
       "      <th>13</th>\n",
       "      <td>Уфа</td>\n",
       "      <td>69</td>\n",
       "    </tr>\n",
       "    <tr>\n",
       "      <th>14</th>\n",
       "      <td>Нижний Новгород</td>\n",
       "      <td>65</td>\n",
       "    </tr>\n",
       "    <tr>\n",
       "      <th>15</th>\n",
       "      <td>Урал</td>\n",
       "      <td>62</td>\n",
       "    </tr>\n",
       "  </tbody>\n",
       "</table>\n",
       "</div>"
      ],
      "text/plain": [
       "               team  total_score\n",
       "0            Ростов           98\n",
       "1             Зенит           94\n",
       "2          Динамо М           94\n",
       "3             Рубин           90\n",
       "4           Арсенал           89\n",
       "5              Сочи           84\n",
       "6       Локомотив М           82\n",
       "7             Химки           81\n",
       "8         Спартак М           78\n",
       "9    Крылья Советов           75\n",
       "10            Ахмат           74\n",
       "11        Краснодар           72\n",
       "12             ЦСКА           71\n",
       "13              Уфа           69\n",
       "14  Нижний Новгород           65\n",
       "15             Урал           62"
      ]
     },
     "execution_count": 154,
     "metadata": {},
     "output_type": "execute_result"
    }
   ],
   "source": [
    "all_teams_data = []\n",
    "\n",
    "for team in df['host_team'].unique():\n",
    "    \n",
    "    all_host_games = df[df['host_team'] ==  team]\n",
    "    all_away_games = df[df['away_team'] ==  team]\n",
    "    all_team_games = pd.concat([all_host_games, all_away_games])\n",
    "    \n",
    "    total_team_score = all_team_games['total_score'].sum()\n",
    "    team_data = [team, total_team_score]\n",
    "    all_teams_data.append(team_data)\n",
    "\n",
    "all_teams_data = pd.DataFrame(all_teams_data, columns=['team', 'total_score']).sort_values(by='total_score', ascending = False).reset_index(drop = True)\n",
    "\n",
    "all_teams_data"
   ]
  },
  {
   "cell_type": "markdown",
   "id": "2f7ce2ae",
   "metadata": {},
   "source": [
    "Как видно, самые \"голевые\" (то есть забивающие или пропускающие) команды - это:\n",
    "1. `Ростов`\n",
    "2. `Зенит`\n",
    "3. `Динамо`\n",
    "4. `Рубин`\n",
    "5. `Арсенал`"
   ]
  },
  {
   "cell_type": "code",
   "execution_count": null,
   "id": "2944e398",
   "metadata": {},
   "outputs": [],
   "source": []
  },
  {
   "cell_type": "code",
   "execution_count": null,
   "id": "f875a578",
   "metadata": {},
   "outputs": [],
   "source": []
  },
  {
   "cell_type": "code",
   "execution_count": null,
   "id": "adc7371e",
   "metadata": {},
   "outputs": [],
   "source": []
  },
  {
   "cell_type": "code",
   "execution_count": null,
   "id": "1b425a38",
   "metadata": {},
   "outputs": [],
   "source": []
  }
 ],
 "metadata": {
  "kernelspec": {
   "display_name": "Python 3 (ipykernel)",
   "language": "python",
   "name": "python3"
  },
  "language_info": {
   "codemirror_mode": {
    "name": "ipython",
    "version": 3
   },
   "file_extension": ".py",
   "mimetype": "text/x-python",
   "name": "python",
   "nbconvert_exporter": "python",
   "pygments_lexer": "ipython3",
   "version": "3.9.12"
  }
 },
 "nbformat": 4,
 "nbformat_minor": 5
}
