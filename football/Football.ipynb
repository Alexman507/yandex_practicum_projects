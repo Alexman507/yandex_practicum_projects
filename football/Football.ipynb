{
 "cells": [
  {
   "cell_type": "code",
   "execution_count": 14,
   "id": "74fc547f",
   "metadata": {},
   "outputs": [],
   "source": [
    "import pandas as pd\n",
    "import seaborn as sb"
   ]
  },
  {
   "cell_type": "code",
   "execution_count": 13,
   "id": "d1604caf",
   "metadata": {},
   "outputs": [
    {
     "name": "stdout",
     "output_type": "stream",
     "text": [
      "Index(['round', 'date', 'time', 'host_team', 'away_team', 'host_score',\n",
      "       'away_score'],\n",
      "      dtype='object')\n"
     ]
    }
   ],
   "source": [
    "df = pd.read_excel ('rpl_2021.xlsx') \n",
    "print(df.columns)"
   ]
  },
  {
   "cell_type": "markdown",
   "id": "2cbe4377",
   "metadata": {},
   "source": [
    "В таблице результаты 240 матчей\n",
    "\n",
    "Названия столбцов: \n",
    "  \n",
    "round - номер тура  \n",
    "date - дата матча  \n",
    "time - время начала матча  \n",
    "host_team - название команды хозяев  \n",
    "away_team - название команды гостей  \n",
    "host_score - счет команды хозяев  \n",
    "away_score - счет команды гостей  "
   ]
  },
  {
   "cell_type": "code",
   "execution_count": 5,
   "id": "5930f4b1",
   "metadata": {},
   "outputs": [
    {
     "name": "stdout",
     "output_type": "stream",
     "text": [
      "[1.32, 1.2, 1.24, 1.24, 1.31, 1.26, 1.27, 1.24, 1.23, 1.26, 1.2, 1.2, 1.21]\n",
      "[1.92, 1.85, 1.71, 1.88, 1.64, 1.63, 1.68]\n"
     ]
    }
   ],
   "source": [
    "coeff_1_5 = [1.32, 1.2, 1.24, 1.24, 1.31, 1.26, 1.27, 1.24, 1.23, 1.26, 1.2, 1.2, 1.21]\n",
    "coeff_2_5 = [1.92, 1.85, 1.71, 1.88, 1.64, 1.63, 1.68]"
   ]
  },
  {
   "cell_type": "markdown",
   "id": "1631cee3",
   "metadata": {},
   "source": [
    "Списки коэффициентов на ТБ 1.5 и ТБ 2.5"
   ]
  },
  {
   "cell_type": "markdown",
   "id": "0e218ec7",
   "metadata": {},
   "source": [
    "План:\n",
    "\n",
    "Общий\n",
    "1. Количество голов в каждом матче\n",
    "2. Средние коэффициенты\n",
    "3. Сколько ставок сыграет\n",
    "4. Суммарный выигрыш по каждой ставке\n",
    "5. Суммарный доход по каждой ставке\n",
    "6. Процент дохода от суммарных ставок\n",
    "  \n",
    "Выход в \"0\"\n",
    "1. Необходиный процент победных ставок для \"0\"\n",
    "2. Необходимый коэффициент для \"0\"\n",
    "  \n",
    "Распределение по командам\n",
    "1. Самые забивающие команды\n",
    "2. п.п. 3-5 общего расчета для этих команд\n",
    "3. Самые пропускающие команды\n",
    "4. п.п. 3-5 общего расчета для этих команд"
   ]
  },
  {
   "cell_type": "markdown",
   "id": "1fec7d6e",
   "metadata": {},
   "source": [
    "## 1. Общие расчеты"
   ]
  },
  {
   "cell_type": "markdown",
   "id": "d3364515",
   "metadata": {},
   "source": [
    "### 1.1. Количество голов в каждом матче"
   ]
  },
  {
   "cell_type": "code",
   "execution_count": 11,
   "id": "2e662968",
   "metadata": {},
   "outputs": [],
   "source": [
    "host_score = df['host_score'] # списки очков команд\n",
    "away_score = df['away_score']"
   ]
  },
  {
   "cell_type": "code",
   "execution_count": 19,
   "id": "30d87dc9",
   "metadata": {},
   "outputs": [
    {
     "name": "stdout",
     "output_type": "stream",
     "text": [
      "[2, 4, 4, 1, 3, 3, 1, 1, 1, 3, 5, 3, 2, 6, 1, 3, 2, 5, 3, 3, 2, 3, 3, 2, 3, 1, 3, 4, 2, 5, 2, 3, 2, 2, 1, 2, 1, 3, 3, 2, 3, 3, 3, 1, 2, 2, 2, 2, 2, 4, 4, 4, 4, 3, 4, 2, 5, 6, 2, 5, 1, 0, 4, 1, 0, 3, 2, 2, 3, 3, 2, 2, 1, 1, 0, 0, 1, 3, 1, 3, 3, 4, 5, 4, 1, 2, 2, 2, 5, 5, 4, 4, 2, 1, 8, 3, 5, 1, 2, 3, 1, 1, 3, 0, 0, 1, 3, 5, 0, 6, 2, 4, 6, 2, 3, 3, 0, 4, 6, 3, 2, 2, 6, 0, 5, 2, 2, 4, 4, 1, 3, 1, 3, 3, 2, 3, 2, 2, 5, 2, 5, 2, 0, 3, 3, 1, 2, 2, 3, 5, 1, 5, 4, 2, 3, 2, 1, 3, 0, 5, 3, 0, 0, 2, 3, 3, 1, 2, 5, 3, 2, 7, 5, 2, 5, 0, 3, 3, 1, 1, 4, 0, 1, 1, 6, 1, 2, 1, 3, 3, 5, 2, 2, 4, 2, 3, 4, 2, 0, 3, 3, 5, 1, 5, 5, 1, 4, 5, 6, 3, 4, 3, 2, 2, 4, 1, 7, 4, 1, 1, 1, 0, 2, 1, 0, 3, 6, 3, 1, 3, 2, 1, 3, 3, 1, 3, 1, 6, 2, 4]\n"
     ]
    }
   ],
   "source": [
    "total_score = [] # создание спискс суммарного счета игр\n",
    "match_score = 0\n",
    "\n",
    "for index in range(len(host_score)):\n",
    "    match_score = host_score[index] + away_score[index]\n",
    "    total_score.append(match_score)\n",
    "\n",
    "print (total_score)"
   ]
  },
  {
   "cell_type": "code",
   "execution_count": 41,
   "id": "f3685e54",
   "metadata": {},
   "outputs": [
    {
     "name": "stdout",
     "output_type": "stream",
     "text": [
      "[18, 44, 56, 59, 26, 24, 10, 2, 1]\n"
     ]
    }
   ],
   "source": [
    "score_list = list(range(min(total_score),max(total_score)+1)) # подсчет кол-ва игр с указанным счетом\n",
    "score_count = []\n",
    "\n",
    "for index in score_list:\n",
    "    counter = 0\n",
    "    for score in total_score:\n",
    "        if score == index:\n",
    "            counter +=1\n",
    "    score_count.append(counter)\n",
    "    \n",
    "print(score_count)"
   ]
  },
  {
   "cell_type": "code",
   "execution_count": 47,
   "id": "b1ddad13",
   "metadata": {
    "scrolled": false
   },
   "outputs": [
    {
     "data": {
      "image/png": "[encoded data removed]",
      "text/plain": [
       "<Figure size 432x288 with 1 Axes>"
      ]
     },
     "metadata": {
      "needs_background": "light"
     },
     "output_type": "display_data"
    }
   ],
   "source": [
    "sb.barplot(x=score_list, y=score_count) # график кол-ва игр с указанным счетом"
   ]
  },
  {
   "cell_type": "code",
   "execution_count": 51,
   "id": "bce09afc",
   "metadata": {},
   "outputs": [
    {
     "data": {
      "image/png": "[encoded data removed]",
      "text/plain": [
       "<Figure size 432x288 with 1 Axes>"
      ]
     },
     "metadata": {
      "needs_background": "light"
     },
     "output_type": "display_data"
    }
   ],
   "source": [
    "score_percentage =  score_count # график % игр с указанным счетом\n",
    "\n",
    "for index in range(len(score_count)):\n",
    "    score_percentage[index] = score_count[index] / sum(score_count) * 100\n",
    "    \n",
    "sb.barplot(x=score_list, y=score_percentage);"
   ]
  },
  {
   "cell_type": "code",
   "execution_count": 56,
   "id": "f950309e",
   "metadata": {},
   "outputs": [
    {
     "name": "stdout",
     "output_type": "stream",
     "text": [
      "178\n",
      "122\n"
     ]
    }
   ],
   "source": [
    "tb_1_5_count = 0\n",
    "tb_2_5_count = 0\n",
    "\n",
    "for score in total_score:\n",
    "    if score > 1.5:\n",
    "        tb_1_5_count += 1\n",
    "        if score > 2.5:\n",
    "            tb_2_5_count += 1\n",
    "\n",
    "print(tb_1_5_count)\n",
    "print(tb_2_5_count)"
   ]
  }
 ],
 "metadata": {
  "kernelspec": {
   "display_name": "Python 3 (ipykernel)",
   "language": "python",
   "name": "python3"
  },
  "language_info": {
   "codemirror_mode": {
    "name": "ipython",
    "version": 3
   },
   "file_extension": ".py",
   "mimetype": "text/x-python",
   "name": "python",
   "nbconvert_exporter": "python",
   "pygments_lexer": "ipython3",
   "version": "3.9.12"
  }
 },
 "nbformat": 4,
 "nbformat_minor": 5
}
