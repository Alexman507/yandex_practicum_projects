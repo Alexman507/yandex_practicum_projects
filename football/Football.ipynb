{
 "cells": [
  {
   "cell_type": "markdown",
   "id": "fb286e79",
   "metadata": {},
   "source": [
    "# Исследование доходности ставок в РПЛ"
   ]
  },
  {
   "cell_type": "markdown",
   "id": "7080088b",
   "metadata": {},
   "source": [
    "**Цель исследования** - Оценка потенциального выигрыша в ставках на матчи РПЛ, а также возможные пути повышения эффективности выбора ставок.\n",
    "  \n",
    "**Основные гипотезы**\n",
    "1. Большинство матчей заканчивается с 2-мя или более забитыми мячами, следовательно ставки \"Тотал больше 1.5\" и \"Тотал больше 2.5\" выгодны.\n",
    "1. Если ставить только на матчи определенных команд, вероятность выигрыша повысится.\n",
    "    \n",
    "**Исходные данные**\n",
    "  \n",
    "* Результаты всех матчей сезона РПЛ 2021/22\n",
    "* Список коэффициентов ставок ТБ 1.5 и ТБ 2.5\n",
    "\n",
    "**Ход исследования**   \n",
    "  \n",
    "1. Оценить возможный доход от ставок  \n",
    "2. Найти способы повысить эффективность выбора ставок"
   ]
  },
  {
   "cell_type": "code",
   "execution_count": 1,
   "id": "74fc547f",
   "metadata": {},
   "outputs": [],
   "source": [
    "import pandas as pd\n",
    "import seaborn as sb"
   ]
  },
  {
   "cell_type": "code",
   "execution_count": 2,
   "id": "d1604caf",
   "metadata": {},
   "outputs": [
    {
     "name": "stdout",
     "output_type": "stream",
     "text": [
      "Index(['round', 'date', 'time', 'host_team', 'away_team', 'host_score',\n",
      "       'away_score'],\n",
      "      dtype='object')\n"
     ]
    }
   ],
   "source": [
    "df = pd.read_excel ('rpl_2021.xlsx') \n",
    "print(df.columns)"
   ]
  },
  {
   "cell_type": "markdown",
   "id": "1e6bfa4c",
   "metadata": {},
   "source": [
    "## 1. Исходные данные"
   ]
  },
  {
   "cell_type": "markdown",
   "id": "2cbe4377",
   "metadata": {},
   "source": [
    "В таблице результаты 240 матчей РПЛ сезона 2021/22\n",
    "\n",
    "Названия столбцов: \n",
    "  \n",
    "`round` - номер тура  \n",
    "`date` - дата матча  \n",
    "`time` - время начала матча  \n",
    "`host_team` - название команды хозяев  \n",
    "`away_team` - название команды гостей  \n",
    "`host_score` - счет команды хозяев  \n",
    "`away_score` - счет команды гостей  "
   ]
  },
  {
   "cell_type": "markdown",
   "id": "1631cee3",
   "metadata": {},
   "source": [
    "Списки коэффициентов на ставки \"ТБ 1.5\" и \"ТБ 2.5\" получены из прогнозов на матчи РПЛ сезона 2022/23.  \n",
    "В расчетах используется среднее значение."
   ]
  },
  {
   "cell_type": "code",
   "execution_count": 3,
   "id": "5930f4b1",
   "metadata": {},
   "outputs": [
    {
     "name": "stdout",
     "output_type": "stream",
     "text": [
      "1.249\n",
      "1.797\n"
     ]
    }
   ],
   "source": [
    "coeff_1_5 = [1.32, 1.2, 1.24, 1.24, 1.31, 1.26, 1.27, 1.24, 1.23, 1.26, 1.2, 1.2, 1.21, 1.2, 1.22, 1.26, 1.4, 1.17, 1.23, 1.24, 1.21, 1.27, 1.44, 1.25, 1.2, 1.21, 1.3, 1.25, 1.2]\n",
    "coeff_2_5 = [1.92, 1.85, 1.71, 1.88, 1.64, 1.63, 1.68, 1.7, 1.73, 1.86, 2.26, 1.58, 1.76, 1.82, 1.7, 1.87, 2.13, 1.81, 1.65, 1.69, 1.99, 1.82, 1.65]\n",
    "\n",
    "coeff_1_5_avg = sum(coeff_1_5)/len(coeff_1_5)\n",
    "coeff_2_5_avg = sum(coeff_2_5)/len(coeff_2_5)\n",
    "\n",
    "print(round(coeff_1_5_avg,3))\n",
    "print(round(coeff_2_5_avg,3))"
   ]
  },
  {
   "cell_type": "markdown",
   "id": "621d535c",
   "metadata": {},
   "source": [
    "### 1.1. Предобработка данных"
   ]
  },
  {
   "cell_type": "markdown",
   "id": "ad9ac8c4",
   "metadata": {},
   "source": [
    "Необходимо проверить названия команд"
   ]
  },
  {
   "cell_type": "code",
   "execution_count": 4,
   "id": "987df175",
   "metadata": {},
   "outputs": [
    {
     "data": {
      "text/plain": [
       "array(['Ростов\\xa0', 'Химки\\xa0', 'Локомотив М\\xa0', 'Рубин\\xa0',\n",
       "       'Урал\\xa0', 'Крылья Советов\\xa0', 'ЦСКА\\xa0',\n",
       "       'Нижний Новгород\\xa0', 'Арсенал\\xa0', 'Уфа\\xa0', 'Краснодар\\xa0',\n",
       "       'Ахмат\\xa0', 'Зенит\\xa0', 'Спартак М\\xa0', 'Динамо М\\xa0',\n",
       "       'Сочи\\xa0'], dtype=object)"
      ]
     },
     "execution_count": 4,
     "metadata": {},
     "output_type": "execute_result"
    }
   ],
   "source": [
    "host_teams = df['host_team'].unique()\n",
    "host_teams"
   ]
  },
  {
   "cell_type": "code",
   "execution_count": 5,
   "id": "28d3280d",
   "metadata": {
    "scrolled": true
   },
   "outputs": [
    {
     "data": {
      "text/plain": [
       "array(['\\xa0Динамо М', '\\xa0Зенит', '\\xa0Арсенал', '\\xa0Спартак М',\n",
       "       '\\xa0Краснодар', '\\xa0Ахмат', '\\xa0Уфа', '\\xa0Сочи', '\\xa0Рубин',\n",
       "       '\\xa0Локомотив М', '\\xa0Нижний Новгород', '\\xa0Химки',\n",
       "       '\\xa0Крылья Советов', '\\xa0Ростов', '\\xa0ЦСКА', '\\xa0Урал'],\n",
       "      dtype=object)"
      ]
     },
     "execution_count": 5,
     "metadata": {},
     "output_type": "execute_result"
    }
   ],
   "source": [
    "away_teams = df['away_team'].unique()\n",
    "away_teams"
   ]
  },
  {
   "cell_type": "markdown",
   "id": "7bc72762",
   "metadata": {},
   "source": [
    "Исправление названий"
   ]
  },
  {
   "cell_type": "code",
   "execution_count": 25,
   "id": "d3503076",
   "metadata": {},
   "outputs": [
    {
     "name": "stdout",
     "output_type": "stream",
     "text": [
      "['Ростов' 'Химки' 'Локомотив М' 'Рубин' 'Урал' 'Крылья Советов' 'ЦСКА'\n",
      " 'Нижний Новгород' 'Арсенал' 'Уфа' 'Краснодар' 'Ахмат' 'Зенит' 'Спартак М'\n",
      " 'Динамо М' 'Сочи']\n",
      "['Динамо М' 'Зенит' 'Арсенал' 'Спартак М' 'Краснодар' 'Ахмат' 'Уфа' 'Сочи'\n",
      " 'Рубин' 'Локомотив М' 'Нижний Новгород' 'Химки' 'Крылья Советов' 'Ростов'\n",
      " 'ЦСКА' 'Урал']\n"
     ]
    }
   ],
   "source": [
    "teams = ['host_team', 'away_team']\n",
    "pd.options.mode.chained_assignment = None  # default='warn'\n",
    "\n",
    "for team in teams:\n",
    "    for index in range(len(df['host_team'])):\n",
    "        df[team][index] = df[team][index].replace('\\xa0', '')\n",
    "    \n",
    "    \n",
    "print(df['host_team'].unique())\n",
    "print(df['away_team'].unique())"
   ]
  },
  {
   "cell_type": "markdown",
   "id": "74d12aae",
   "metadata": {},
   "source": [
    "Названия команд исправлены."
   ]
  },
  {
   "cell_type": "markdown",
   "id": "1fec7d6e",
   "metadata": {},
   "source": [
    "## 2. Общие расчеты"
   ]
  },
  {
   "cell_type": "markdown",
   "id": "d3364515",
   "metadata": {},
   "source": [
    "### 2.1. Количество голов в каждом матче"
   ]
  },
  {
   "cell_type": "markdown",
   "id": "c0c8a658",
   "metadata": {},
   "source": [
    "К датафрейму добавляется столбец `total_score` с информацией о сумме забитых голов в матче"
   ]
  },
  {
   "cell_type": "code",
   "execution_count": 7,
   "id": "30d87dc9",
   "metadata": {
    "scrolled": false
   },
   "outputs": [
    {
     "data": {
      "text/html": [
       "<div>\n",
       "<style scoped>\n",
       "    .dataframe tbody tr th:only-of-type {\n",
       "        vertical-align: middle;\n",
       "    }\n",
       "\n",
       "    .dataframe tbody tr th {\n",
       "        vertical-align: top;\n",
       "    }\n",
       "\n",
       "    .dataframe thead th {\n",
       "        text-align: right;\n",
       "    }\n",
       "</style>\n",
       "<table border=\"1\" class=\"dataframe\">\n",
       "  <thead>\n",
       "    <tr style=\"text-align: right;\">\n",
       "      <th></th>\n",
       "      <th>round</th>\n",
       "      <th>date</th>\n",
       "      <th>time</th>\n",
       "      <th>host_team</th>\n",
       "      <th>away_team</th>\n",
       "      <th>host_score</th>\n",
       "      <th>away_score</th>\n",
       "      <th>total_score</th>\n",
       "    </tr>\n",
       "  </thead>\n",
       "  <tbody>\n",
       "    <tr>\n",
       "      <th>0</th>\n",
       "      <td>1</td>\n",
       "      <td>2021-07-23</td>\n",
       "      <td>20:00</td>\n",
       "      <td>Ростов</td>\n",
       "      <td>Динамо М</td>\n",
       "      <td>0</td>\n",
       "      <td>2</td>\n",
       "      <td>2</td>\n",
       "    </tr>\n",
       "    <tr>\n",
       "      <th>1</th>\n",
       "      <td>1</td>\n",
       "      <td>2021-07-24</td>\n",
       "      <td>17:30</td>\n",
       "      <td>Химки</td>\n",
       "      <td>Зенит</td>\n",
       "      <td>1</td>\n",
       "      <td>3</td>\n",
       "      <td>4</td>\n",
       "    </tr>\n",
       "    <tr>\n",
       "      <th>2</th>\n",
       "      <td>1</td>\n",
       "      <td>2021-07-24</td>\n",
       "      <td>20:00</td>\n",
       "      <td>Локомотив М</td>\n",
       "      <td>Арсенал</td>\n",
       "      <td>3</td>\n",
       "      <td>1</td>\n",
       "      <td>4</td>\n",
       "    </tr>\n",
       "    <tr>\n",
       "      <th>3</th>\n",
       "      <td>1</td>\n",
       "      <td>2021-07-24</td>\n",
       "      <td>20:00</td>\n",
       "      <td>Рубин</td>\n",
       "      <td>Спартак М</td>\n",
       "      <td>1</td>\n",
       "      <td>0</td>\n",
       "      <td>1</td>\n",
       "    </tr>\n",
       "    <tr>\n",
       "      <th>4</th>\n",
       "      <td>1</td>\n",
       "      <td>2021-07-25</td>\n",
       "      <td>17:30</td>\n",
       "      <td>Урал</td>\n",
       "      <td>Краснодар</td>\n",
       "      <td>0</td>\n",
       "      <td>3</td>\n",
       "      <td>3</td>\n",
       "    </tr>\n",
       "    <tr>\n",
       "      <th>...</th>\n",
       "      <td>...</td>\n",
       "      <td>...</td>\n",
       "      <td>...</td>\n",
       "      <td>...</td>\n",
       "      <td>...</td>\n",
       "      <td>...</td>\n",
       "      <td>...</td>\n",
       "      <td>...</td>\n",
       "    </tr>\n",
       "    <tr>\n",
       "      <th>235</th>\n",
       "      <td>30</td>\n",
       "      <td>2022-05-21</td>\n",
       "      <td>17:00</td>\n",
       "      <td>Рубин</td>\n",
       "      <td>Уфа</td>\n",
       "      <td>1</td>\n",
       "      <td>2</td>\n",
       "      <td>3</td>\n",
       "    </tr>\n",
       "    <tr>\n",
       "      <th>236</th>\n",
       "      <td>30</td>\n",
       "      <td>2022-05-21</td>\n",
       "      <td>17:00</td>\n",
       "      <td>Крылья Советов</td>\n",
       "      <td>Локомотив М</td>\n",
       "      <td>0</td>\n",
       "      <td>1</td>\n",
       "      <td>1</td>\n",
       "    </tr>\n",
       "    <tr>\n",
       "      <th>237</th>\n",
       "      <td>30</td>\n",
       "      <td>2022-05-21</td>\n",
       "      <td>17:00</td>\n",
       "      <td>Динамо М</td>\n",
       "      <td>Сочи</td>\n",
       "      <td>1</td>\n",
       "      <td>5</td>\n",
       "      <td>6</td>\n",
       "    </tr>\n",
       "    <tr>\n",
       "      <th>238</th>\n",
       "      <td>30</td>\n",
       "      <td>2022-05-21</td>\n",
       "      <td>17:00</td>\n",
       "      <td>Краснодар</td>\n",
       "      <td>Ахмат</td>\n",
       "      <td>1</td>\n",
       "      <td>1</td>\n",
       "      <td>2</td>\n",
       "    </tr>\n",
       "    <tr>\n",
       "      <th>239</th>\n",
       "      <td>30</td>\n",
       "      <td>2022-05-21</td>\n",
       "      <td>17:00</td>\n",
       "      <td>ЦСКА</td>\n",
       "      <td>Ростов</td>\n",
       "      <td>4</td>\n",
       "      <td>0</td>\n",
       "      <td>4</td>\n",
       "    </tr>\n",
       "  </tbody>\n",
       "</table>\n",
       "<p>240 rows × 8 columns</p>\n",
       "</div>"
      ],
      "text/plain": [
       "     round       date    time        host_team     away_team  host_score  \\\n",
       "0        1 2021-07-23   20:00          Ростов       Динамо М           0   \n",
       "1        1 2021-07-24   17:30           Химки          Зенит           1   \n",
       "2        1 2021-07-24   20:00     Локомотив М        Арсенал           3   \n",
       "3        1 2021-07-24   20:00           Рубин      Спартак М           1   \n",
       "4        1 2021-07-25   17:30            Урал      Краснодар           0   \n",
       "..     ...        ...     ...              ...           ...         ...   \n",
       "235     30 2022-05-21   17:00           Рубин            Уфа           1   \n",
       "236     30 2022-05-21   17:00  Крылья Советов    Локомотив М           0   \n",
       "237     30 2022-05-21   17:00        Динамо М           Сочи           1   \n",
       "238     30 2022-05-21   17:00       Краснодар          Ахмат           1   \n",
       "239     30 2022-05-21   17:00            ЦСКА         Ростов           4   \n",
       "\n",
       "     away_score  total_score  \n",
       "0             2            2  \n",
       "1             3            4  \n",
       "2             1            4  \n",
       "3             0            1  \n",
       "4             3            3  \n",
       "..          ...          ...  \n",
       "235           2            3  \n",
       "236           1            1  \n",
       "237           5            6  \n",
       "238           1            2  \n",
       "239           0            4  \n",
       "\n",
       "[240 rows x 8 columns]"
      ]
     },
     "execution_count": 7,
     "metadata": {},
     "output_type": "execute_result"
    }
   ],
   "source": [
    "df['total_score'] = df['host_score'] + df['away_score']\n",
    "\n",
    "df"
   ]
  },
  {
   "cell_type": "markdown",
   "id": "25d5bc57",
   "metadata": {},
   "source": [
    "### 2.2. Подсчет выигрышей"
   ]
  },
  {
   "cell_type": "markdown",
   "id": "e4718058",
   "metadata": {},
   "source": [
    "Функция `bet_win` проводит проверку, \"сыграла\" ставка или нет"
   ]
  },
  {
   "cell_type": "code",
   "execution_count": 8,
   "id": "f3685e54",
   "metadata": {
    "scrolled": false
   },
   "outputs": [
    {
     "data": {
      "text/html": [
       "<div>\n",
       "<style scoped>\n",
       "    .dataframe tbody tr th:only-of-type {\n",
       "        vertical-align: middle;\n",
       "    }\n",
       "\n",
       "    .dataframe tbody tr th {\n",
       "        vertical-align: top;\n",
       "    }\n",
       "\n",
       "    .dataframe thead th {\n",
       "        text-align: right;\n",
       "    }\n",
       "</style>\n",
       "<table border=\"1\" class=\"dataframe\">\n",
       "  <thead>\n",
       "    <tr style=\"text-align: right;\">\n",
       "      <th></th>\n",
       "      <th>round</th>\n",
       "      <th>date</th>\n",
       "      <th>time</th>\n",
       "      <th>host_team</th>\n",
       "      <th>away_team</th>\n",
       "      <th>host_score</th>\n",
       "      <th>away_score</th>\n",
       "      <th>total_score</th>\n",
       "      <th>tb_1_5_win</th>\n",
       "      <th>tb_2_5_win</th>\n",
       "    </tr>\n",
       "  </thead>\n",
       "  <tbody>\n",
       "    <tr>\n",
       "      <th>0</th>\n",
       "      <td>1</td>\n",
       "      <td>2021-07-23</td>\n",
       "      <td>20:00</td>\n",
       "      <td>Ростов</td>\n",
       "      <td>Динамо М</td>\n",
       "      <td>0</td>\n",
       "      <td>2</td>\n",
       "      <td>2</td>\n",
       "      <td>1</td>\n",
       "      <td>0</td>\n",
       "    </tr>\n",
       "    <tr>\n",
       "      <th>1</th>\n",
       "      <td>1</td>\n",
       "      <td>2021-07-24</td>\n",
       "      <td>17:30</td>\n",
       "      <td>Химки</td>\n",
       "      <td>Зенит</td>\n",
       "      <td>1</td>\n",
       "      <td>3</td>\n",
       "      <td>4</td>\n",
       "      <td>1</td>\n",
       "      <td>1</td>\n",
       "    </tr>\n",
       "    <tr>\n",
       "      <th>2</th>\n",
       "      <td>1</td>\n",
       "      <td>2021-07-24</td>\n",
       "      <td>20:00</td>\n",
       "      <td>Локомотив М</td>\n",
       "      <td>Арсенал</td>\n",
       "      <td>3</td>\n",
       "      <td>1</td>\n",
       "      <td>4</td>\n",
       "      <td>1</td>\n",
       "      <td>1</td>\n",
       "    </tr>\n",
       "    <tr>\n",
       "      <th>3</th>\n",
       "      <td>1</td>\n",
       "      <td>2021-07-24</td>\n",
       "      <td>20:00</td>\n",
       "      <td>Рубин</td>\n",
       "      <td>Спартак М</td>\n",
       "      <td>1</td>\n",
       "      <td>0</td>\n",
       "      <td>1</td>\n",
       "      <td>0</td>\n",
       "      <td>0</td>\n",
       "    </tr>\n",
       "    <tr>\n",
       "      <th>4</th>\n",
       "      <td>1</td>\n",
       "      <td>2021-07-25</td>\n",
       "      <td>17:30</td>\n",
       "      <td>Урал</td>\n",
       "      <td>Краснодар</td>\n",
       "      <td>0</td>\n",
       "      <td>3</td>\n",
       "      <td>3</td>\n",
       "      <td>1</td>\n",
       "      <td>1</td>\n",
       "    </tr>\n",
       "    <tr>\n",
       "      <th>...</th>\n",
       "      <td>...</td>\n",
       "      <td>...</td>\n",
       "      <td>...</td>\n",
       "      <td>...</td>\n",
       "      <td>...</td>\n",
       "      <td>...</td>\n",
       "      <td>...</td>\n",
       "      <td>...</td>\n",
       "      <td>...</td>\n",
       "      <td>...</td>\n",
       "    </tr>\n",
       "    <tr>\n",
       "      <th>235</th>\n",
       "      <td>30</td>\n",
       "      <td>2022-05-21</td>\n",
       "      <td>17:00</td>\n",
       "      <td>Рубин</td>\n",
       "      <td>Уфа</td>\n",
       "      <td>1</td>\n",
       "      <td>2</td>\n",
       "      <td>3</td>\n",
       "      <td>1</td>\n",
       "      <td>1</td>\n",
       "    </tr>\n",
       "    <tr>\n",
       "      <th>236</th>\n",
       "      <td>30</td>\n",
       "      <td>2022-05-21</td>\n",
       "      <td>17:00</td>\n",
       "      <td>Крылья Советов</td>\n",
       "      <td>Локомотив М</td>\n",
       "      <td>0</td>\n",
       "      <td>1</td>\n",
       "      <td>1</td>\n",
       "      <td>0</td>\n",
       "      <td>0</td>\n",
       "    </tr>\n",
       "    <tr>\n",
       "      <th>237</th>\n",
       "      <td>30</td>\n",
       "      <td>2022-05-21</td>\n",
       "      <td>17:00</td>\n",
       "      <td>Динамо М</td>\n",
       "      <td>Сочи</td>\n",
       "      <td>1</td>\n",
       "      <td>5</td>\n",
       "      <td>6</td>\n",
       "      <td>1</td>\n",
       "      <td>1</td>\n",
       "    </tr>\n",
       "    <tr>\n",
       "      <th>238</th>\n",
       "      <td>30</td>\n",
       "      <td>2022-05-21</td>\n",
       "      <td>17:00</td>\n",
       "      <td>Краснодар</td>\n",
       "      <td>Ахмат</td>\n",
       "      <td>1</td>\n",
       "      <td>1</td>\n",
       "      <td>2</td>\n",
       "      <td>1</td>\n",
       "      <td>0</td>\n",
       "    </tr>\n",
       "    <tr>\n",
       "      <th>239</th>\n",
       "      <td>30</td>\n",
       "      <td>2022-05-21</td>\n",
       "      <td>17:00</td>\n",
       "      <td>ЦСКА</td>\n",
       "      <td>Ростов</td>\n",
       "      <td>4</td>\n",
       "      <td>0</td>\n",
       "      <td>4</td>\n",
       "      <td>1</td>\n",
       "      <td>1</td>\n",
       "    </tr>\n",
       "  </tbody>\n",
       "</table>\n",
       "<p>240 rows × 10 columns</p>\n",
       "</div>"
      ],
      "text/plain": [
       "     round       date    time        host_team     away_team  host_score  \\\n",
       "0        1 2021-07-23   20:00          Ростов       Динамо М           0   \n",
       "1        1 2021-07-24   17:30           Химки          Зенит           1   \n",
       "2        1 2021-07-24   20:00     Локомотив М        Арсенал           3   \n",
       "3        1 2021-07-24   20:00           Рубин      Спартак М           1   \n",
       "4        1 2021-07-25   17:30            Урал      Краснодар           0   \n",
       "..     ...        ...     ...              ...           ...         ...   \n",
       "235     30 2022-05-21   17:00           Рубин            Уфа           1   \n",
       "236     30 2022-05-21   17:00  Крылья Советов    Локомотив М           0   \n",
       "237     30 2022-05-21   17:00        Динамо М           Сочи           1   \n",
       "238     30 2022-05-21   17:00       Краснодар          Ахмат           1   \n",
       "239     30 2022-05-21   17:00            ЦСКА         Ростов           4   \n",
       "\n",
       "     away_score  total_score  tb_1_5_win  tb_2_5_win  \n",
       "0             2            2           1           0  \n",
       "1             3            4           1           1  \n",
       "2             1            4           1           1  \n",
       "3             0            1           0           0  \n",
       "4             3            3           1           1  \n",
       "..          ...          ...         ...         ...  \n",
       "235           2            3           1           1  \n",
       "236           1            1           0           0  \n",
       "237           5            6           1           1  \n",
       "238           1            2           1           0  \n",
       "239           0            4           1           1  \n",
       "\n",
       "[240 rows x 10 columns]"
      ]
     },
     "execution_count": 8,
     "metadata": {},
     "output_type": "execute_result"
    }
   ],
   "source": [
    "def bet_win (score, bet):\n",
    "    if score > bet:\n",
    "        return 1\n",
    "    else:\n",
    "        return 0\n",
    "    \n",
    "new_columns = ['tb_1_5_win', 'tb_2_5_win']\n",
    "\n",
    "df['tb_1_5_win'] = df['total_score'].apply(bet_win, bet = 1.5)\n",
    "df['tb_2_5_win'] = df['total_score'].apply(bet_win, bet = 2.5)\n",
    "\n",
    "df"
   ]
  },
  {
   "cell_type": "code",
   "execution_count": 9,
   "id": "fa6f2f77",
   "metadata": {},
   "outputs": [],
   "source": [
    "total_bets = df['total_score'].count()\n",
    "\n",
    "tb_1_5_wins = df['tb_1_5_win'].sum()\n",
    "tb_2_5_wins = df['tb_2_5_win'].sum()"
   ]
  },
  {
   "cell_type": "code",
   "execution_count": 10,
   "id": "f54c6ee1",
   "metadata": {},
   "outputs": [],
   "source": [
    "tb_1_5_profit = tb_1_5_wins * coeff_1_5_avg\n",
    "tb_2_5_profit = tb_2_5_wins * coeff_2_5_avg"
   ]
  },
  {
   "cell_type": "markdown",
   "id": "c45a91e3",
   "metadata": {},
   "source": [
    "Производится подсчет выигрышей для каждого типа ставок и на основании полученных данных строится график:"
   ]
  },
  {
   "cell_type": "code",
   "execution_count": 11,
   "id": "9a07bd46",
   "metadata": {
    "scrolled": false
   },
   "outputs": [
    {
     "data": {
      "text/plain": [
       "<AxesSubplot:>"
      ]
     },
     "execution_count": 11,
     "metadata": {},
     "output_type": "execute_result"
    },
    {
     "data": {
      "image/png": "[encoded data removed]",
      "text/plain": [
       "<Figure size 432x288 with 1 Axes>"
      ]
     },
     "metadata": {
      "needs_background": "light"
     },
     "output_type": "display_data"
    }
   ],
   "source": [
    "chart_data = pd.Series({'total_bets':total_bets, 'tb_1_5_profit':tb_1_5_profit, 'tb_2_5_profit':tb_2_5_profit})\n",
    "chart_data\n",
    "\n",
    "sb.barplot(x=chart_data.index,\n",
    "           y=chart_data,\n",
    "           palette = 'cubehelix')"
   ]
  },
  {
   "cell_type": "markdown",
   "id": "25d7d92c",
   "metadata": {},
   "source": [
    "### 2.3. Выводы"
   ]
  },
  {
   "cell_type": "code",
   "execution_count": 26,
   "id": "f950309e",
   "metadata": {},
   "outputs": [
    {
     "name": "stdout",
     "output_type": "stream",
     "text": [
      "Если бы вы поставили ставку \"ТБ 1.5\" по 1 руб. на все матчи РПЛ сезона 2021/22:\n",
      "Средний коэффициент ставок был бы равен 1.249.\n",
      "При этом ваш доход составил бы -17.62руб. или -7.34%!\n",
      "\n",
      "Если бы вы поставили ставку \"ТБ 2.5\" по 1 руб. со средним коэффициентом 1.797:\n",
      "Ваш доход составил бы -20.77руб. или -8.65%!\n"
     ]
    }
   ],
   "source": [
    "tb_1_5_total_profit = tb_1_5_profit - total_bets\n",
    "tb_2_5_total_profit = tb_2_5_profit - total_bets\n",
    "\n",
    "tb_1_5_total_profit_percentage = tb_1_5_total_profit / total_bets\n",
    "tb_2_5_total_profit_percentage = tb_2_5_total_profit / total_bets\n",
    "\n",
    "print(f'''Если бы вы поставили ставку \"ТБ 1.5\" по 1 руб. на все матчи РПЛ сезона 2021/22:\n",
    "Средний коэффициент ставок был бы равен {coeff_1_5_avg:.4}.\n",
    "При этом ваш доход составил бы {tb_1_5_total_profit:.4}руб. или {tb_1_5_total_profit_percentage:.2%}!''')\n",
    "print()\n",
    "print(f'''Если бы вы поставили ставку \"ТБ 2.5\" по 1 руб. со средним коэффициентом {coeff_2_5_avg:.4}:\n",
    "Ваш доход составил бы {tb_2_5_total_profit:.4}руб. или {tb_2_5_total_profit_percentage:.2%}!''')"
   ]
  },
  {
   "cell_type": "markdown",
   "id": "9b50ccc6",
   "metadata": {},
   "source": [
    "## 3. Поиск выгодных ставок"
   ]
  },
  {
   "cell_type": "markdown",
   "id": "8dfa7865",
   "metadata": {},
   "source": [
    "### 3.1. Самые забивающие и пропускающие команды"
   ]
  },
  {
   "cell_type": "markdown",
   "id": "de21e16b",
   "metadata": {},
   "source": [
    "Для того, чтобы ставка на тотал \"сыграла\", неважно, команда много забьет или пропустит.  \n",
    "Поэтому по каждой команде исследуются данные столбца `total_score`."
   ]
  },
  {
   "cell_type": "code",
   "execution_count": 13,
   "id": "eb595ddc",
   "metadata": {},
   "outputs": [
    {
     "data": {
      "text/html": [
       "<div>\n",
       "<style scoped>\n",
       "    .dataframe tbody tr th:only-of-type {\n",
       "        vertical-align: middle;\n",
       "    }\n",
       "\n",
       "    .dataframe tbody tr th {\n",
       "        vertical-align: top;\n",
       "    }\n",
       "\n",
       "    .dataframe thead th {\n",
       "        text-align: right;\n",
       "    }\n",
       "</style>\n",
       "<table border=\"1\" class=\"dataframe\">\n",
       "  <thead>\n",
       "    <tr style=\"text-align: right;\">\n",
       "      <th></th>\n",
       "      <th>team</th>\n",
       "      <th>total_score</th>\n",
       "    </tr>\n",
       "  </thead>\n",
       "  <tbody>\n",
       "    <tr>\n",
       "      <th>0</th>\n",
       "      <td>Зенит</td>\n",
       "      <td>58</td>\n",
       "    </tr>\n",
       "    <tr>\n",
       "      <th>1</th>\n",
       "      <td>Ростов</td>\n",
       "      <td>54</td>\n",
       "    </tr>\n",
       "    <tr>\n",
       "      <th>2</th>\n",
       "      <td>Сочи</td>\n",
       "      <td>45</td>\n",
       "    </tr>\n",
       "    <tr>\n",
       "      <th>3</th>\n",
       "      <td>Рубин</td>\n",
       "      <td>44</td>\n",
       "    </tr>\n",
       "    <tr>\n",
       "      <th>4</th>\n",
       "      <td>Динамо М</td>\n",
       "      <td>44</td>\n",
       "    </tr>\n",
       "    <tr>\n",
       "      <th>5</th>\n",
       "      <td>Локомотив М</td>\n",
       "      <td>42</td>\n",
       "    </tr>\n",
       "    <tr>\n",
       "      <th>6</th>\n",
       "      <td>Химки</td>\n",
       "      <td>40</td>\n",
       "    </tr>\n",
       "    <tr>\n",
       "      <th>7</th>\n",
       "      <td>Крылья Советов</td>\n",
       "      <td>40</td>\n",
       "    </tr>\n",
       "    <tr>\n",
       "      <th>8</th>\n",
       "      <td>Ахмат</td>\n",
       "      <td>40</td>\n",
       "    </tr>\n",
       "    <tr>\n",
       "      <th>9</th>\n",
       "      <td>Арсенал</td>\n",
       "      <td>39</td>\n",
       "    </tr>\n",
       "    <tr>\n",
       "      <th>10</th>\n",
       "      <td>Спартак М</td>\n",
       "      <td>39</td>\n",
       "    </tr>\n",
       "    <tr>\n",
       "      <th>11</th>\n",
       "      <td>ЦСКА</td>\n",
       "      <td>33</td>\n",
       "    </tr>\n",
       "    <tr>\n",
       "      <th>12</th>\n",
       "      <td>Уфа</td>\n",
       "      <td>33</td>\n",
       "    </tr>\n",
       "    <tr>\n",
       "      <th>13</th>\n",
       "      <td>Краснодар</td>\n",
       "      <td>32</td>\n",
       "    </tr>\n",
       "    <tr>\n",
       "      <th>14</th>\n",
       "      <td>Нижний Новгород</td>\n",
       "      <td>31</td>\n",
       "    </tr>\n",
       "    <tr>\n",
       "      <th>15</th>\n",
       "      <td>Урал</td>\n",
       "      <td>25</td>\n",
       "    </tr>\n",
       "  </tbody>\n",
       "</table>\n",
       "</div>"
      ],
      "text/plain": [
       "                team  total_score\n",
       "0             Зенит            58\n",
       "1            Ростов            54\n",
       "2              Сочи            45\n",
       "3             Рубин            44\n",
       "4          Динамо М            44\n",
       "5       Локомотив М            42\n",
       "6             Химки            40\n",
       "7    Крылья Советов            40\n",
       "8             Ахмат            40\n",
       "9           Арсенал            39\n",
       "10        Спартак М            39\n",
       "11             ЦСКА            33\n",
       "12              Уфа            33\n",
       "13        Краснодар            32\n",
       "14  Нижний Новгород            31\n",
       "15             Урал            25"
      ]
     },
     "execution_count": 13,
     "metadata": {},
     "output_type": "execute_result"
    }
   ],
   "source": [
    "all_teams_data = []\n",
    "\n",
    "for team in df['host_team'].unique():\n",
    "    \n",
    "    all_host_games = df[df['host_team'] ==  team]\n",
    "    all_away_games = df[df['away_team'] ==  team]\n",
    "    all_team_games = pd.concat([all_host_games, all_away_games])\n",
    "    \n",
    "    total_team_score = all_team_games['total_score'].sum()\n",
    "    team_data = [team, total_team_score]\n",
    "    all_teams_data.append(team_data)\n",
    "\n",
    "all_teams_data = pd.DataFrame(all_teams_data, columns=['team', 'total_score']).sort_values(by='total_score', ascending = False).reset_index(drop = True)\n",
    "\n",
    "all_teams_data"
   ]
  },
  {
   "cell_type": "markdown",
   "id": "2f7ce2ae",
   "metadata": {},
   "source": [
    "Как видно, самые \"голевые\" (то есть забивающие или пропускающие) команды - это:\n",
    "1. `Ростов`\n",
    "2. `Зенит`\n",
    "3. `Динамо`\n",
    "4. `Рубин`\n",
    "5. `Арсенал`"
   ]
  },
  {
   "cell_type": "markdown",
   "id": "693e1e88",
   "metadata": {},
   "source": [
    "### 3.2. Подсчет выигрышей \"точечных\" ставок"
   ]
  },
  {
   "cell_type": "markdown",
   "id": "bdc9a92b",
   "metadata": {},
   "source": [
    "Следует провести подсчет выигрыша, если делать ставки именно на эти 5 команд:"
   ]
  },
  {
   "cell_type": "code",
   "execution_count": 14,
   "id": "f875a578",
   "metadata": {},
   "outputs": [
    {
     "data": {
      "text/html": [
       "<div>\n",
       "<style scoped>\n",
       "    .dataframe tbody tr th:only-of-type {\n",
       "        vertical-align: middle;\n",
       "    }\n",
       "\n",
       "    .dataframe tbody tr th {\n",
       "        vertical-align: top;\n",
       "    }\n",
       "\n",
       "    .dataframe thead th {\n",
       "        text-align: right;\n",
       "    }\n",
       "</style>\n",
       "<table border=\"1\" class=\"dataframe\">\n",
       "  <thead>\n",
       "    <tr style=\"text-align: right;\">\n",
       "      <th></th>\n",
       "      <th>round</th>\n",
       "      <th>date</th>\n",
       "      <th>time</th>\n",
       "      <th>host_team</th>\n",
       "      <th>away_team</th>\n",
       "      <th>host_score</th>\n",
       "      <th>away_score</th>\n",
       "      <th>total_score</th>\n",
       "      <th>tb_1_5_win</th>\n",
       "      <th>tb_2_5_win</th>\n",
       "    </tr>\n",
       "  </thead>\n",
       "  <tbody>\n",
       "    <tr>\n",
       "      <th>17</th>\n",
       "      <td>3</td>\n",
       "      <td>2021-08-07 00:00:00</td>\n",
       "      <td>17:00</td>\n",
       "      <td>Зенит</td>\n",
       "      <td>Краснодар</td>\n",
       "      <td>3</td>\n",
       "      <td>2</td>\n",
       "      <td>5</td>\n",
       "      <td>1</td>\n",
       "      <td>1</td>\n",
       "    </tr>\n",
       "    <tr>\n",
       "      <th>43</th>\n",
       "      <td>6</td>\n",
       "      <td>2021-08-26 00:00:00</td>\n",
       "      <td>20:45</td>\n",
       "      <td>Зенит</td>\n",
       "      <td>ЦСКА</td>\n",
       "      <td>1</td>\n",
       "      <td>0</td>\n",
       "      <td>1</td>\n",
       "      <td>0</td>\n",
       "      <td>0</td>\n",
       "    </tr>\n",
       "    <tr>\n",
       "      <th>49</th>\n",
       "      <td>7</td>\n",
       "      <td>2021-09-11 00:00:00</td>\n",
       "      <td>16:30</td>\n",
       "      <td>Зенит</td>\n",
       "      <td>Ахмат</td>\n",
       "      <td>3</td>\n",
       "      <td>1</td>\n",
       "      <td>4</td>\n",
       "      <td>1</td>\n",
       "      <td>1</td>\n",
       "    </tr>\n",
       "    <tr>\n",
       "      <th>65</th>\n",
       "      <td>9</td>\n",
       "      <td>2021-09-25 00:00:00</td>\n",
       "      <td>16:30</td>\n",
       "      <td>Зенит</td>\n",
       "      <td>Крылья Советов</td>\n",
       "      <td>2</td>\n",
       "      <td>1</td>\n",
       "      <td>3</td>\n",
       "      <td>1</td>\n",
       "      <td>1</td>\n",
       "    </tr>\n",
       "    <tr>\n",
       "      <th>77</th>\n",
       "      <td>10</td>\n",
       "      <td>2021-10-03 00:00:00</td>\n",
       "      <td>16:30</td>\n",
       "      <td>Зенит</td>\n",
       "      <td>Сочи</td>\n",
       "      <td>1</td>\n",
       "      <td>2</td>\n",
       "      <td>3</td>\n",
       "      <td>1</td>\n",
       "      <td>1</td>\n",
       "    </tr>\n",
       "    <tr>\n",
       "      <th>...</th>\n",
       "      <td>...</td>\n",
       "      <td>...</td>\n",
       "      <td>...</td>\n",
       "      <td>...</td>\n",
       "      <td>...</td>\n",
       "      <td>...</td>\n",
       "      <td>...</td>\n",
       "      <td>...</td>\n",
       "      <td>...</td>\n",
       "      <td>...</td>\n",
       "    </tr>\n",
       "    <tr>\n",
       "      <th>153</th>\n",
       "      <td>20</td>\n",
       "      <td>2022-03-06 00:00:00</td>\n",
       "      <td>19:00</td>\n",
       "      <td>Динамо М</td>\n",
       "      <td>Спартак М</td>\n",
       "      <td>0</td>\n",
       "      <td>2</td>\n",
       "      <td>2</td>\n",
       "      <td>1</td>\n",
       "      <td>0</td>\n",
       "    </tr>\n",
       "    <tr>\n",
       "      <th>173</th>\n",
       "      <td>22</td>\n",
       "      <td>2022-03-20 00:00:00</td>\n",
       "      <td>20:00</td>\n",
       "      <td>Динамо М</td>\n",
       "      <td>Ростов</td>\n",
       "      <td>1</td>\n",
       "      <td>1</td>\n",
       "      <td>2</td>\n",
       "      <td>1</td>\n",
       "      <td>0</td>\n",
       "    </tr>\n",
       "    <tr>\n",
       "      <th>191</th>\n",
       "      <td>25</td>\n",
       "      <td>2022-04-15 00:00:00</td>\n",
       "      <td>19:30</td>\n",
       "      <td>Динамо М</td>\n",
       "      <td>Ахмат</td>\n",
       "      <td>2</td>\n",
       "      <td>0</td>\n",
       "      <td>2</td>\n",
       "      <td>1</td>\n",
       "      <td>0</td>\n",
       "    </tr>\n",
       "    <tr>\n",
       "      <th>207</th>\n",
       "      <td>27</td>\n",
       "      <td>2022-04-30 00:00:00</td>\n",
       "      <td>14:00</td>\n",
       "      <td>Динамо М</td>\n",
       "      <td>Урал</td>\n",
       "      <td>2</td>\n",
       "      <td>3</td>\n",
       "      <td>5</td>\n",
       "      <td>1</td>\n",
       "      <td>1</td>\n",
       "    </tr>\n",
       "    <tr>\n",
       "      <th>237</th>\n",
       "      <td>30</td>\n",
       "      <td>2022-05-21 00:00:00</td>\n",
       "      <td>17:00</td>\n",
       "      <td>Динамо М</td>\n",
       "      <td>Сочи</td>\n",
       "      <td>1</td>\n",
       "      <td>5</td>\n",
       "      <td>6</td>\n",
       "      <td>1</td>\n",
       "      <td>1</td>\n",
       "    </tr>\n",
       "  </tbody>\n",
       "</table>\n",
       "<p>75 rows × 10 columns</p>\n",
       "</div>"
      ],
      "text/plain": [
       "    round                 date    time  host_team        away_team host_score  \\\n",
       "17      3  2021-08-07 00:00:00   17:00     Зенит         Краснодар          3   \n",
       "43      6  2021-08-26 00:00:00   20:45     Зенит              ЦСКА          1   \n",
       "49      7  2021-09-11 00:00:00   16:30     Зенит             Ахмат          3   \n",
       "65      9  2021-09-25 00:00:00   16:30     Зенит    Крылья Советов          2   \n",
       "77     10  2021-10-03 00:00:00   16:30     Зенит              Сочи          1   \n",
       "..    ...                  ...     ...        ...              ...        ...   \n",
       "153    20  2022-03-06 00:00:00   19:00  Динамо М         Спартак М          0   \n",
       "173    22  2022-03-20 00:00:00   20:00  Динамо М            Ростов          1   \n",
       "191    25  2022-04-15 00:00:00   19:30  Динамо М             Ахмат          2   \n",
       "207    27  2022-04-30 00:00:00   14:00  Динамо М              Урал          2   \n",
       "237    30  2022-05-21 00:00:00   17:00  Динамо М              Сочи          1   \n",
       "\n",
       "    away_score total_score tb_1_5_win tb_2_5_win  \n",
       "17           2           5          1          1  \n",
       "43           0           1          0          0  \n",
       "49           1           4          1          1  \n",
       "65           1           3          1          1  \n",
       "77           2           3          1          1  \n",
       "..         ...         ...        ...        ...  \n",
       "153          2           2          1          0  \n",
       "173          1           2          1          0  \n",
       "191          0           2          1          0  \n",
       "207          3           5          1          1  \n",
       "237          5           6          1          1  \n",
       "\n",
       "[75 rows x 10 columns]"
      ]
     },
     "execution_count": 14,
     "metadata": {},
     "output_type": "execute_result"
    }
   ],
   "source": [
    "top5 = pd.DataFrame(columns = df.columns)\n",
    "\n",
    "for team in all_teams_data['team'][0:5]:\n",
    "    top = df[df['host_team'] == team]\n",
    "    top5 = pd.concat ([top5, top]) \n",
    "\n",
    "top5"
   ]
  },
  {
   "cell_type": "markdown",
   "id": "591dbd0a",
   "metadata": {},
   "source": [
    "Для голевых команд аналогичным образом производится подсчет выигрышей для каждого типа ставок и строится график:"
   ]
  },
  {
   "cell_type": "code",
   "execution_count": 15,
   "id": "b1640dd6",
   "metadata": {},
   "outputs": [],
   "source": [
    "top5_total_bets = top5['total_score'].count()\n",
    "\n",
    "top5_tb_1_5_wins = top5['tb_1_5_win'].sum()\n",
    "top5_tb_2_5_wins = top5['tb_2_5_win'].sum()"
   ]
  },
  {
   "cell_type": "code",
   "execution_count": 16,
   "id": "adc7371e",
   "metadata": {},
   "outputs": [],
   "source": [
    "top5_tb_1_5_profit = top5_tb_1_5_wins * coeff_1_5_avg\n",
    "top5_tb_2_5_profit = top5_tb_2_5_wins * coeff_2_5_avg"
   ]
  },
  {
   "cell_type": "code",
   "execution_count": 17,
   "id": "1b425a38",
   "metadata": {},
   "outputs": [
    {
     "data": {
      "text/plain": [
       "<AxesSubplot:>"
      ]
     },
     "execution_count": 17,
     "metadata": {},
     "output_type": "execute_result"
    },
    {
     "data": {
      "image/png": "[encoded data removed]",
      "text/plain": [
       "<Figure size 432x288 with 1 Axes>"
      ]
     },
     "metadata": {
      "needs_background": "light"
     },
     "output_type": "display_data"
    }
   ],
   "source": [
    "top5_chart_data = pd.Series({'top5_total_bets':top5_total_bets, 'top5_tb_1_5_profit':top5_tb_1_5_profit, 'top5_tb_2_5_profit':top5_tb_2_5_profit})\n",
    "top5_chart_data\n",
    "\n",
    "sb.barplot(x=top5_chart_data.index,\n",
    "           y=top5_chart_data,\n",
    "           palette = 'cubehelix')"
   ]
  },
  {
   "cell_type": "code",
   "execution_count": 18,
   "id": "d8a5c727",
   "metadata": {},
   "outputs": [
    {
     "name": "stdout",
     "output_type": "stream",
     "text": [
      "Если бы вы поставили ставку \"ТБ 1.5\" по 1 руб.\n",
      "На все матчи самых голевых команд РПЛ сезона 2021/22:\n",
      "Средний коэффициент ставок был бы равен 1.249.\n",
      "При этом ваш доход составил бы 1.208руб. или 1.61%!\n",
      "\n",
      "Если бы вы поставили ставку \"ТБ 2.5\" по 1 руб. со средним коэффициентом 1.797:\n",
      "Ваш доход составил бы 11.25руб. или 15.01%!\n"
     ]
    }
   ],
   "source": [
    "top5_tb_1_5_total_profit = top5_tb_1_5_profit - top5_total_bets\n",
    "top5_tb_2_5_total_profit = top5_tb_2_5_profit - top5_total_bets\n",
    "\n",
    "top5_tb_1_5_total_profit_percentage = top5_tb_1_5_total_profit / top5_total_bets\n",
    "top5_tb_2_5_total_profit_percentage = top5_tb_2_5_total_profit / top5_total_bets\n",
    "\n",
    "print(f'''Если бы вы поставили ставку \"ТБ 1.5\" по 1 руб.\n",
    "На все матчи самых голевых команд РПЛ сезона 2021/22:\n",
    "Средний коэффициент ставок был бы равен {coeff_1_5_avg:.4}.\n",
    "При этом ваш доход составил бы {top5_tb_1_5_total_profit:.4}руб. или {top5_tb_1_5_total_profit_percentage:.2%}!''')\n",
    "print()\n",
    "print(f'''Если бы вы поставили ставку \"ТБ 2.5\" по 1 руб. со средним коэффициентом {coeff_2_5_avg:.4}:\n",
    "Ваш доход составил бы {top5_tb_2_5_total_profit:.4}руб. или {top5_tb_2_5_total_profit_percentage:.2%}!''')"
   ]
  },
  {
   "cell_type": "markdown",
   "id": "f985bd36",
   "metadata": {},
   "source": [
    "**Промежуточный вывод**\n",
    "\n",
    "Согласно данным о голевых командах, обе ставки имеют положительный доход, причем ТБ 2,5 с доходностью 15%!\n",
    "\n",
    "Однако стоит учесть, что данные о коэффициентах получены не с тех же матчей, что и коэффициенты, исход может быть иным.  \n",
    "**NB!** Вероятно, матчи команд, забивающих или пропускающих больше остальных имеют наименьшие коэффициенты, поэтому стоит провести повторный, \"пессимистичный\" расчет."
   ]
  },
  {
   "cell_type": "markdown",
   "id": "83885a6e",
   "metadata": {},
   "source": [
    "### 3.3. Пессимистичный прогноз \"точечных\" ставок"
   ]
  },
  {
   "cell_type": "markdown",
   "id": "69af8991",
   "metadata": {},
   "source": [
    "Для расчета пессимистичного прогноза допустим, что для каждого матча голевых команд использовались наименьшие коэффициенты из списка:"
   ]
  },
  {
   "cell_type": "code",
   "execution_count": 19,
   "id": "0ca0502a",
   "metadata": {},
   "outputs": [
    {
     "name": "stdout",
     "output_type": "stream",
     "text": [
      "1.17\n",
      "1.58\n"
     ]
    }
   ],
   "source": [
    "coeff_1_5_min = min(coeff_1_5)\n",
    "coeff_2_5_min = min(coeff_2_5)\n",
    "\n",
    "print(coeff_1_5_min)\n",
    "print(coeff_2_5_min)"
   ]
  },
  {
   "cell_type": "markdown",
   "id": "b19fe028",
   "metadata": {},
   "source": [
    "Минимальные коэффициенты составляют 1.17 и 1.58 соответственно*\n",
    "\n",
    "** на основании данных сезона 2022/23*"
   ]
  },
  {
   "cell_type": "code",
   "execution_count": 20,
   "id": "4664f624",
   "metadata": {},
   "outputs": [],
   "source": [
    "top5_tb_1_5_profit_min = top5_tb_1_5_wins * coeff_1_5_min\n",
    "top5_tb_2_5_profit_min = top5_tb_2_5_wins * coeff_2_5_min"
   ]
  },
  {
   "cell_type": "code",
   "execution_count": 21,
   "id": "36b60e3d",
   "metadata": {},
   "outputs": [
    {
     "data": {
      "text/plain": [
       "<AxesSubplot:>"
      ]
     },
     "execution_count": 21,
     "metadata": {},
     "output_type": "execute_result"
    },
    {
     "data": {
      "image/png": "[encoded data removed]",
      "text/plain": [
       "<Figure size 432x288 with 1 Axes>"
      ]
     },
     "metadata": {
      "needs_background": "light"
     },
     "output_type": "display_data"
    }
   ],
   "source": [
    "top5_chart_data_min = pd.Series({'top5_total_bets':top5_total_bets, \n",
    "                             'top5_tb_1_5_profit_min':top5_tb_1_5_profit_min, \n",
    "                             'top5_tb_2_5_profit_min':top5_tb_2_5_profit_min})\n",
    "\n",
    "sb.barplot(x=top5_chart_data_min.index,\n",
    "           y=top5_chart_data_min,\n",
    "           palette = 'cubehelix')"
   ]
  },
  {
   "cell_type": "code",
   "execution_count": 22,
   "id": "203e5209",
   "metadata": {},
   "outputs": [
    {
     "name": "stdout",
     "output_type": "stream",
     "text": [
      "Если бы вы поставили ставку \"ТБ 1.5\" по 1 руб.\n",
      "На все матчи самых голевых команд РПЛ сезона 2021/22:\n",
      "С минимальным коэффициентом 1.17.\n",
      "При этом ваш доход составил бы -3.63руб. или -4.84%!\n",
      "\n",
      "Если бы вы поставили ставку \"ТБ 2.5\" по 1 руб. с минимальным коэффициентом 1.797:\n",
      "Ваш доход составил бы 0.84руб. или 1.12%!\n"
     ]
    }
   ],
   "source": [
    "top5_tb_1_5_total_profit_min = top5_tb_1_5_profit_min - top5_total_bets\n",
    "top5_tb_2_5_total_profit_min = top5_tb_2_5_profit_min - top5_total_bets\n",
    "\n",
    "top5_tb_1_5_total_profit_percentage_min = top5_tb_1_5_total_profit_min / top5_total_bets\n",
    "top5_tb_2_5_total_profit_percentage_min = top5_tb_2_5_total_profit_min / top5_total_bets\n",
    "\n",
    "print(f'''Если бы вы поставили ставку \"ТБ 1.5\" по 1 руб.\n",
    "На все матчи самых голевых команд РПЛ сезона 2021/22:\n",
    "С минимальным коэффициентом {coeff_1_5_min:.4}.\n",
    "При этом ваш доход составил бы {top5_tb_1_5_total_profit_min:.4}руб. или {top5_tb_1_5_total_profit_percentage_min:.2%}!''')\n",
    "print()\n",
    "print(f'''Если бы вы поставили ставку \"ТБ 2.5\" по 1 руб. с минимальным коэффициентом {coeff_2_5_avg:.4}:\n",
    "Ваш доход составил бы {top5_tb_2_5_total_profit_min:.4}руб. или {top5_tb_2_5_total_profit_percentage_min:.2%}!''')"
   ]
  },
  {
   "cell_type": "markdown",
   "id": "d7ed0516",
   "metadata": {},
   "source": [
    "### 3.4. Выводы"
   ]
  },
  {
   "cell_type": "markdown",
   "id": "0cc4bd35",
   "metadata": {},
   "source": [
    "С учетом низких коэффициентов на команды с наибольшим количеством забитых и пропущенных мячей, доходность получается околонулевая."
   ]
  },
  {
   "cell_type": "markdown",
   "id": "4c6aef6f",
   "metadata": {},
   "source": [
    "## 4. Итоги исследования"
   ]
  },
  {
   "cell_type": "markdown",
   "id": "8a8d620f",
   "metadata": {},
   "source": [
    "Гипотеза о высокой доходности ставок ТБ 1.5 и ТБ 2.5 опровергнута, наиболее вероятна потеря от 5% до 10% вложенных средств.\n",
    "  \n",
    "Несмотря на то, что доходность ставок на \"голевые\" команды оказалась положительной, вероятность получения дохода в долгосрочной перспективе крайне мала.\n",
    "  \n",
    "Также следует учесть, что использование результатов матчей сезона 2021/22 и коэффициентов сезона 2022/23 вносит неточность в результаты. Тем не менее, прослеживается общая тенденция невозможности получить значительную доходность.  "
   ]
  }
 ],
 "metadata": {
  "kernelspec": {
   "display_name": "Python 3 (ipykernel)",
   "language": "python",
   "name": "python3"
  },
  "language_info": {
   "codemirror_mode": {
    "name": "ipython",
    "version": 3
   },
   "file_extension": ".py",
   "mimetype": "text/x-python",
   "name": "python",
   "nbconvert_exporter": "python",
   "pygments_lexer": "ipython3",
   "version": "3.9.12"
  }
 },
 "nbformat": 4,
 "nbformat_minor": 5
}
