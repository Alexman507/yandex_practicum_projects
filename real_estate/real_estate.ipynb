{
 "cells": [
  {
   "cell_type": "markdown",
   "id": "6907b89e",
   "metadata": {},
   "source": [
    "## Оглавление:\n",
    "\n",
    "* [1. Обзор данных](#обзор_данных)\n",
    "* [2. Предобработка данных](#предобработка_данных)\n",
    "    * [2.1. Удаление пропусков](#удаление_пропусков)\n",
    "    * [2.2. Обработка аномальных значений](#обработка_аномальных_значений)\n",
    "    * [2.3. Обработка дубликатов](#обработка_дубликатов)\n",
    "    * [2.4. Категоризация данных](#категоризация_данных)\n",
    "* [3. Проверка гипотез](#проверка_гипотез)\n",
    "    * [3.1. Количество детей](#дети)\n",
    "    * [3.2. Семейное положение](#семья)\n",
    "    * [3.3. Возраст заемщика](#возраст)\n",
    "    * [3.4. Уровень заработка](#доход)\n",
    "    * [3.5. Цель получения кредита](#цель)\n",
    "* [4. Итоги исследования](#итоги_исследования)"
   ]
  },
  {
   "cell_type": "markdown",
   "id": "94b4ee6a",
   "metadata": {},
   "source": [
    "# Оценка рынка недвижимости Санкт-Петербурга и Ленинградской области"
   ]
  },
  {
   "cell_type": "markdown",
   "id": "bf8a677a",
   "metadata": {},
   "source": [
    "**Цель исследования** - Нахождение зависимостей между различными параметрами жилья, такими как площадь квартиры, удленность от центра города, наличие балкона и другие.\n",
    "  \n",
    "**Ход исследования** - Данные о поведении пользователей получены из файла с расширением .csv. \n",
    "К данным приложена документация, однако могут встречаться пропуски или значения, искажающие данные.\n",
    "Поэтому перед проверкой гипотез требуется провести обзор данных и их обработку."
   ]
  },
  {
   "cell_type": "markdown",
   "id": "b44caad9",
   "metadata": {},
   "source": [
    "## 1. Обзор данных <a class=\"anchor\" id=\"обзор_данных\"></a>"
   ]
  },
  {
   "cell_type": "markdown",
   "id": "e4645cc1",
   "metadata": {},
   "source": [
    "В исследовании используются средства библиотеки `pandas`.\n",
    "Данные получены в виде файла с расширением .csv"
   ]
  },
  {
   "cell_type": "code",
   "execution_count": 1,
   "id": "348acd9d",
   "metadata": {},
   "outputs": [],
   "source": [
    "import pandas as pd"
   ]
  },
  {
   "cell_type": "code",
   "execution_count": 2,
   "id": "65908a56",
   "metadata": {},
   "outputs": [],
   "source": [
    "df = pd.read_csv('real_estate_data.csv', sep='\\t')"
   ]
  },
  {
   "cell_type": "markdown",
   "id": "d1b75fb5",
   "metadata": {},
   "source": [
    "Для общего представления о полученных данных осуществляется вывод первых 5-ти строк таблицы,\n",
    "а также используется метод `info`."
   ]
  },
  {
   "cell_type": "code",
   "execution_count": 3,
   "id": "c112f70d",
   "metadata": {},
   "outputs": [
    {
     "data": {
      "text/html": [
       "<div>\n",
       "<style scoped>\n",
       "    .dataframe tbody tr th:only-of-type {\n",
       "        vertical-align: middle;\n",
       "    }\n",
       "\n",
       "    .dataframe tbody tr th {\n",
       "        vertical-align: top;\n",
       "    }\n",
       "\n",
       "    .dataframe thead th {\n",
       "        text-align: right;\n",
       "    }\n",
       "</style>\n",
       "<table border=\"1\" class=\"dataframe\">\n",
       "  <thead>\n",
       "    <tr style=\"text-align: right;\">\n",
       "      <th></th>\n",
       "      <th>total_images</th>\n",
       "      <th>last_price</th>\n",
       "      <th>total_area</th>\n",
       "      <th>first_day_exposition</th>\n",
       "      <th>rooms</th>\n",
       "      <th>ceiling_height</th>\n",
       "      <th>floors_total</th>\n",
       "      <th>living_area</th>\n",
       "      <th>floor</th>\n",
       "      <th>is_apartment</th>\n",
       "      <th>...</th>\n",
       "      <th>kitchen_area</th>\n",
       "      <th>balcony</th>\n",
       "      <th>locality_name</th>\n",
       "      <th>airports_nearest</th>\n",
       "      <th>cityCenters_nearest</th>\n",
       "      <th>parks_around3000</th>\n",
       "      <th>parks_nearest</th>\n",
       "      <th>ponds_around3000</th>\n",
       "      <th>ponds_nearest</th>\n",
       "      <th>days_exposition</th>\n",
       "    </tr>\n",
       "  </thead>\n",
       "  <tbody>\n",
       "    <tr>\n",
       "      <th>0</th>\n",
       "      <td>20</td>\n",
       "      <td>13000000.0</td>\n",
       "      <td>108.0</td>\n",
       "      <td>2019-03-07T00:00:00</td>\n",
       "      <td>3</td>\n",
       "      <td>2.70</td>\n",
       "      <td>16.0</td>\n",
       "      <td>51.0</td>\n",
       "      <td>8</td>\n",
       "      <td>NaN</td>\n",
       "      <td>...</td>\n",
       "      <td>25.0</td>\n",
       "      <td>NaN</td>\n",
       "      <td>Санкт-Петербург</td>\n",
       "      <td>18863.0</td>\n",
       "      <td>16028.0</td>\n",
       "      <td>1.0</td>\n",
       "      <td>482.0</td>\n",
       "      <td>2.0</td>\n",
       "      <td>755.0</td>\n",
       "      <td>NaN</td>\n",
       "    </tr>\n",
       "    <tr>\n",
       "      <th>1</th>\n",
       "      <td>7</td>\n",
       "      <td>3350000.0</td>\n",
       "      <td>40.4</td>\n",
       "      <td>2018-12-04T00:00:00</td>\n",
       "      <td>1</td>\n",
       "      <td>NaN</td>\n",
       "      <td>11.0</td>\n",
       "      <td>18.6</td>\n",
       "      <td>1</td>\n",
       "      <td>NaN</td>\n",
       "      <td>...</td>\n",
       "      <td>11.0</td>\n",
       "      <td>2.0</td>\n",
       "      <td>посёлок Шушары</td>\n",
       "      <td>12817.0</td>\n",
       "      <td>18603.0</td>\n",
       "      <td>0.0</td>\n",
       "      <td>NaN</td>\n",
       "      <td>0.0</td>\n",
       "      <td>NaN</td>\n",
       "      <td>81.0</td>\n",
       "    </tr>\n",
       "    <tr>\n",
       "      <th>2</th>\n",
       "      <td>10</td>\n",
       "      <td>5196000.0</td>\n",
       "      <td>56.0</td>\n",
       "      <td>2015-08-20T00:00:00</td>\n",
       "      <td>2</td>\n",
       "      <td>NaN</td>\n",
       "      <td>5.0</td>\n",
       "      <td>34.3</td>\n",
       "      <td>4</td>\n",
       "      <td>NaN</td>\n",
       "      <td>...</td>\n",
       "      <td>8.3</td>\n",
       "      <td>0.0</td>\n",
       "      <td>Санкт-Петербург</td>\n",
       "      <td>21741.0</td>\n",
       "      <td>13933.0</td>\n",
       "      <td>1.0</td>\n",
       "      <td>90.0</td>\n",
       "      <td>2.0</td>\n",
       "      <td>574.0</td>\n",
       "      <td>558.0</td>\n",
       "    </tr>\n",
       "    <tr>\n",
       "      <th>3</th>\n",
       "      <td>0</td>\n",
       "      <td>64900000.0</td>\n",
       "      <td>159.0</td>\n",
       "      <td>2015-07-24T00:00:00</td>\n",
       "      <td>3</td>\n",
       "      <td>NaN</td>\n",
       "      <td>14.0</td>\n",
       "      <td>NaN</td>\n",
       "      <td>9</td>\n",
       "      <td>NaN</td>\n",
       "      <td>...</td>\n",
       "      <td>NaN</td>\n",
       "      <td>0.0</td>\n",
       "      <td>Санкт-Петербург</td>\n",
       "      <td>28098.0</td>\n",
       "      <td>6800.0</td>\n",
       "      <td>2.0</td>\n",
       "      <td>84.0</td>\n",
       "      <td>3.0</td>\n",
       "      <td>234.0</td>\n",
       "      <td>424.0</td>\n",
       "    </tr>\n",
       "    <tr>\n",
       "      <th>4</th>\n",
       "      <td>2</td>\n",
       "      <td>10000000.0</td>\n",
       "      <td>100.0</td>\n",
       "      <td>2018-06-19T00:00:00</td>\n",
       "      <td>2</td>\n",
       "      <td>3.03</td>\n",
       "      <td>14.0</td>\n",
       "      <td>32.0</td>\n",
       "      <td>13</td>\n",
       "      <td>NaN</td>\n",
       "      <td>...</td>\n",
       "      <td>41.0</td>\n",
       "      <td>NaN</td>\n",
       "      <td>Санкт-Петербург</td>\n",
       "      <td>31856.0</td>\n",
       "      <td>8098.0</td>\n",
       "      <td>2.0</td>\n",
       "      <td>112.0</td>\n",
       "      <td>1.0</td>\n",
       "      <td>48.0</td>\n",
       "      <td>121.0</td>\n",
       "    </tr>\n",
       "  </tbody>\n",
       "</table>\n",
       "<p>5 rows × 22 columns</p>\n",
       "</div>"
      ],
      "text/plain": [
       "   total_images  last_price  total_area first_day_exposition  rooms  \\\n",
       "0            20  13000000.0       108.0  2019-03-07T00:00:00      3   \n",
       "1             7   3350000.0        40.4  2018-12-04T00:00:00      1   \n",
       "2            10   5196000.0        56.0  2015-08-20T00:00:00      2   \n",
       "3             0  64900000.0       159.0  2015-07-24T00:00:00      3   \n",
       "4             2  10000000.0       100.0  2018-06-19T00:00:00      2   \n",
       "\n",
       "   ceiling_height  floors_total  living_area  floor is_apartment  ...  \\\n",
       "0            2.70          16.0         51.0      8          NaN  ...   \n",
       "1             NaN          11.0         18.6      1          NaN  ...   \n",
       "2             NaN           5.0         34.3      4          NaN  ...   \n",
       "3             NaN          14.0          NaN      9          NaN  ...   \n",
       "4            3.03          14.0         32.0     13          NaN  ...   \n",
       "\n",
       "   kitchen_area  balcony    locality_name  airports_nearest  \\\n",
       "0          25.0      NaN  Санкт-Петербург           18863.0   \n",
       "1          11.0      2.0   посёлок Шушары           12817.0   \n",
       "2           8.3      0.0  Санкт-Петербург           21741.0   \n",
       "3           NaN      0.0  Санкт-Петербург           28098.0   \n",
       "4          41.0      NaN  Санкт-Петербург           31856.0   \n",
       "\n",
       "  cityCenters_nearest  parks_around3000  parks_nearest  ponds_around3000  \\\n",
       "0             16028.0               1.0          482.0               2.0   \n",
       "1             18603.0               0.0            NaN               0.0   \n",
       "2             13933.0               1.0           90.0               2.0   \n",
       "3              6800.0               2.0           84.0               3.0   \n",
       "4              8098.0               2.0          112.0               1.0   \n",
       "\n",
       "   ponds_nearest  days_exposition  \n",
       "0          755.0              NaN  \n",
       "1            NaN             81.0  \n",
       "2          574.0            558.0  \n",
       "3          234.0            424.0  \n",
       "4           48.0            121.0  \n",
       "\n",
       "[5 rows x 22 columns]"
      ]
     },
     "execution_count": 3,
     "metadata": {},
     "output_type": "execute_result"
    }
   ],
   "source": [
    "df.head()"
   ]
  },
  {
   "cell_type": "code",
   "execution_count": 4,
   "id": "31d3a031",
   "metadata": {},
   "outputs": [
    {
     "name": "stdout",
     "output_type": "stream",
     "text": [
      "<class 'pandas.core.frame.DataFrame'>\n",
      "RangeIndex: 23699 entries, 0 to 23698\n",
      "Data columns (total 22 columns):\n",
      " #   Column                Non-Null Count  Dtype  \n",
      "---  ------                --------------  -----  \n",
      " 0   total_images          23699 non-null  int64  \n",
      " 1   last_price            23699 non-null  float64\n",
      " 2   total_area            23699 non-null  float64\n",
      " 3   first_day_exposition  23699 non-null  object \n",
      " 4   rooms                 23699 non-null  int64  \n",
      " 5   ceiling_height        14504 non-null  float64\n",
      " 6   floors_total          23613 non-null  float64\n",
      " 7   living_area           21796 non-null  float64\n",
      " 8   floor                 23699 non-null  int64  \n",
      " 9   is_apartment          2775 non-null   object \n",
      " 10  studio                23699 non-null  bool   \n",
      " 11  open_plan             23699 non-null  bool   \n",
      " 12  kitchen_area          21421 non-null  float64\n",
      " 13  balcony               12180 non-null  float64\n",
      " 14  locality_name         23650 non-null  object \n",
      " 15  airports_nearest      18157 non-null  float64\n",
      " 16  cityCenters_nearest   18180 non-null  float64\n",
      " 17  parks_around3000      18181 non-null  float64\n",
      " 18  parks_nearest         8079 non-null   float64\n",
      " 19  ponds_around3000      18181 non-null  float64\n",
      " 20  ponds_nearest         9110 non-null   float64\n",
      " 21  days_exposition       20518 non-null  float64\n",
      "dtypes: bool(2), float64(14), int64(3), object(3)\n",
      "memory usage: 3.7+ MB\n"
     ]
    }
   ],
   "source": [
    "df.info()"
   ]
  },
  {
   "cell_type": "code",
   "execution_count": 5,
   "id": "b93a3314",
   "metadata": {},
   "outputs": [
    {
     "data": {
      "text/html": [
       "<div>\n",
       "<style scoped>\n",
       "    .dataframe tbody tr th:only-of-type {\n",
       "        vertical-align: middle;\n",
       "    }\n",
       "\n",
       "    .dataframe tbody tr th {\n",
       "        vertical-align: top;\n",
       "    }\n",
       "\n",
       "    .dataframe thead th {\n",
       "        text-align: right;\n",
       "    }\n",
       "</style>\n",
       "<table border=\"1\" class=\"dataframe\">\n",
       "  <thead>\n",
       "    <tr style=\"text-align: right;\">\n",
       "      <th></th>\n",
       "      <th>total_images</th>\n",
       "      <th>last_price</th>\n",
       "      <th>total_area</th>\n",
       "      <th>rooms</th>\n",
       "      <th>ceiling_height</th>\n",
       "      <th>floors_total</th>\n",
       "      <th>living_area</th>\n",
       "      <th>floor</th>\n",
       "      <th>kitchen_area</th>\n",
       "      <th>balcony</th>\n",
       "      <th>airports_nearest</th>\n",
       "      <th>cityCenters_nearest</th>\n",
       "      <th>parks_around3000</th>\n",
       "      <th>parks_nearest</th>\n",
       "      <th>ponds_around3000</th>\n",
       "      <th>ponds_nearest</th>\n",
       "      <th>days_exposition</th>\n",
       "    </tr>\n",
       "  </thead>\n",
       "  <tbody>\n",
       "    <tr>\n",
       "      <th>count</th>\n",
       "      <td>23699.000000</td>\n",
       "      <td>2.369900e+04</td>\n",
       "      <td>23699.000000</td>\n",
       "      <td>23699.000000</td>\n",
       "      <td>14504.000000</td>\n",
       "      <td>23613.000000</td>\n",
       "      <td>21796.000000</td>\n",
       "      <td>23699.000000</td>\n",
       "      <td>21421.000000</td>\n",
       "      <td>12180.000000</td>\n",
       "      <td>18157.000000</td>\n",
       "      <td>18180.000000</td>\n",
       "      <td>18181.000000</td>\n",
       "      <td>8079.000000</td>\n",
       "      <td>18181.000000</td>\n",
       "      <td>9110.000000</td>\n",
       "      <td>20518.000000</td>\n",
       "    </tr>\n",
       "    <tr>\n",
       "      <th>mean</th>\n",
       "      <td>9.858475</td>\n",
       "      <td>6.541549e+06</td>\n",
       "      <td>60.348651</td>\n",
       "      <td>2.070636</td>\n",
       "      <td>2.771499</td>\n",
       "      <td>10.673824</td>\n",
       "      <td>34.457852</td>\n",
       "      <td>5.892358</td>\n",
       "      <td>10.569807</td>\n",
       "      <td>1.150082</td>\n",
       "      <td>28793.672193</td>\n",
       "      <td>14191.277833</td>\n",
       "      <td>0.611408</td>\n",
       "      <td>490.804555</td>\n",
       "      <td>0.770255</td>\n",
       "      <td>517.980900</td>\n",
       "      <td>180.888634</td>\n",
       "    </tr>\n",
       "    <tr>\n",
       "      <th>std</th>\n",
       "      <td>5.682529</td>\n",
       "      <td>1.088701e+07</td>\n",
       "      <td>35.654083</td>\n",
       "      <td>1.078405</td>\n",
       "      <td>1.261056</td>\n",
       "      <td>6.597173</td>\n",
       "      <td>22.030445</td>\n",
       "      <td>4.885249</td>\n",
       "      <td>5.905438</td>\n",
       "      <td>1.071300</td>\n",
       "      <td>12630.880622</td>\n",
       "      <td>8608.386210</td>\n",
       "      <td>0.802074</td>\n",
       "      <td>342.317995</td>\n",
       "      <td>0.938346</td>\n",
       "      <td>277.720643</td>\n",
       "      <td>219.727988</td>\n",
       "    </tr>\n",
       "    <tr>\n",
       "      <th>min</th>\n",
       "      <td>0.000000</td>\n",
       "      <td>1.219000e+04</td>\n",
       "      <td>12.000000</td>\n",
       "      <td>0.000000</td>\n",
       "      <td>1.000000</td>\n",
       "      <td>1.000000</td>\n",
       "      <td>2.000000</td>\n",
       "      <td>1.000000</td>\n",
       "      <td>1.300000</td>\n",
       "      <td>0.000000</td>\n",
       "      <td>0.000000</td>\n",
       "      <td>181.000000</td>\n",
       "      <td>0.000000</td>\n",
       "      <td>1.000000</td>\n",
       "      <td>0.000000</td>\n",
       "      <td>13.000000</td>\n",
       "      <td>1.000000</td>\n",
       "    </tr>\n",
       "    <tr>\n",
       "      <th>25%</th>\n",
       "      <td>6.000000</td>\n",
       "      <td>3.400000e+06</td>\n",
       "      <td>40.000000</td>\n",
       "      <td>1.000000</td>\n",
       "      <td>2.520000</td>\n",
       "      <td>5.000000</td>\n",
       "      <td>18.600000</td>\n",
       "      <td>2.000000</td>\n",
       "      <td>7.000000</td>\n",
       "      <td>0.000000</td>\n",
       "      <td>18585.000000</td>\n",
       "      <td>9238.000000</td>\n",
       "      <td>0.000000</td>\n",
       "      <td>288.000000</td>\n",
       "      <td>0.000000</td>\n",
       "      <td>294.000000</td>\n",
       "      <td>45.000000</td>\n",
       "    </tr>\n",
       "    <tr>\n",
       "      <th>50%</th>\n",
       "      <td>9.000000</td>\n",
       "      <td>4.650000e+06</td>\n",
       "      <td>52.000000</td>\n",
       "      <td>2.000000</td>\n",
       "      <td>2.650000</td>\n",
       "      <td>9.000000</td>\n",
       "      <td>30.000000</td>\n",
       "      <td>4.000000</td>\n",
       "      <td>9.100000</td>\n",
       "      <td>1.000000</td>\n",
       "      <td>26726.000000</td>\n",
       "      <td>13098.500000</td>\n",
       "      <td>0.000000</td>\n",
       "      <td>455.000000</td>\n",
       "      <td>1.000000</td>\n",
       "      <td>502.000000</td>\n",
       "      <td>95.000000</td>\n",
       "    </tr>\n",
       "    <tr>\n",
       "      <th>75%</th>\n",
       "      <td>14.000000</td>\n",
       "      <td>6.800000e+06</td>\n",
       "      <td>69.900000</td>\n",
       "      <td>3.000000</td>\n",
       "      <td>2.800000</td>\n",
       "      <td>16.000000</td>\n",
       "      <td>42.300000</td>\n",
       "      <td>8.000000</td>\n",
       "      <td>12.000000</td>\n",
       "      <td>2.000000</td>\n",
       "      <td>37273.000000</td>\n",
       "      <td>16293.000000</td>\n",
       "      <td>1.000000</td>\n",
       "      <td>612.000000</td>\n",
       "      <td>1.000000</td>\n",
       "      <td>729.000000</td>\n",
       "      <td>232.000000</td>\n",
       "    </tr>\n",
       "    <tr>\n",
       "      <th>max</th>\n",
       "      <td>50.000000</td>\n",
       "      <td>7.630000e+08</td>\n",
       "      <td>900.000000</td>\n",
       "      <td>19.000000</td>\n",
       "      <td>100.000000</td>\n",
       "      <td>60.000000</td>\n",
       "      <td>409.700000</td>\n",
       "      <td>33.000000</td>\n",
       "      <td>112.000000</td>\n",
       "      <td>5.000000</td>\n",
       "      <td>84869.000000</td>\n",
       "      <td>65968.000000</td>\n",
       "      <td>3.000000</td>\n",
       "      <td>3190.000000</td>\n",
       "      <td>3.000000</td>\n",
       "      <td>1344.000000</td>\n",
       "      <td>1580.000000</td>\n",
       "    </tr>\n",
       "  </tbody>\n",
       "</table>\n",
       "</div>"
      ],
      "text/plain": [
       "       total_images    last_price    total_area         rooms  ceiling_height  \\\n",
       "count  23699.000000  2.369900e+04  23699.000000  23699.000000    14504.000000   \n",
       "mean       9.858475  6.541549e+06     60.348651      2.070636        2.771499   \n",
       "std        5.682529  1.088701e+07     35.654083      1.078405        1.261056   \n",
       "min        0.000000  1.219000e+04     12.000000      0.000000        1.000000   \n",
       "25%        6.000000  3.400000e+06     40.000000      1.000000        2.520000   \n",
       "50%        9.000000  4.650000e+06     52.000000      2.000000        2.650000   \n",
       "75%       14.000000  6.800000e+06     69.900000      3.000000        2.800000   \n",
       "max       50.000000  7.630000e+08    900.000000     19.000000      100.000000   \n",
       "\n",
       "       floors_total   living_area         floor  kitchen_area       balcony  \\\n",
       "count  23613.000000  21796.000000  23699.000000  21421.000000  12180.000000   \n",
       "mean      10.673824     34.457852      5.892358     10.569807      1.150082   \n",
       "std        6.597173     22.030445      4.885249      5.905438      1.071300   \n",
       "min        1.000000      2.000000      1.000000      1.300000      0.000000   \n",
       "25%        5.000000     18.600000      2.000000      7.000000      0.000000   \n",
       "50%        9.000000     30.000000      4.000000      9.100000      1.000000   \n",
       "75%       16.000000     42.300000      8.000000     12.000000      2.000000   \n",
       "max       60.000000    409.700000     33.000000    112.000000      5.000000   \n",
       "\n",
       "       airports_nearest  cityCenters_nearest  parks_around3000  parks_nearest  \\\n",
       "count      18157.000000         18180.000000      18181.000000    8079.000000   \n",
       "mean       28793.672193         14191.277833          0.611408     490.804555   \n",
       "std        12630.880622          8608.386210          0.802074     342.317995   \n",
       "min            0.000000           181.000000          0.000000       1.000000   \n",
       "25%        18585.000000          9238.000000          0.000000     288.000000   \n",
       "50%        26726.000000         13098.500000          0.000000     455.000000   \n",
       "75%        37273.000000         16293.000000          1.000000     612.000000   \n",
       "max        84869.000000         65968.000000          3.000000    3190.000000   \n",
       "\n",
       "       ponds_around3000  ponds_nearest  days_exposition  \n",
       "count      18181.000000    9110.000000     20518.000000  \n",
       "mean           0.770255     517.980900       180.888634  \n",
       "std            0.938346     277.720643       219.727988  \n",
       "min            0.000000      13.000000         1.000000  \n",
       "25%            0.000000     294.000000        45.000000  \n",
       "50%            1.000000     502.000000        95.000000  \n",
       "75%            1.000000     729.000000       232.000000  \n",
       "max            3.000000    1344.000000      1580.000000  "
      ]
     },
     "execution_count": 5,
     "metadata": {},
     "output_type": "execute_result"
    }
   ],
   "source": [
    "df.describe()"
   ]
  },
  {
   "cell_type": "markdown",
   "id": "2bb02a6f",
   "metadata": {},
   "source": [
    "**Наименования столбцов**\n",
    "  \n",
    "`airports_nearest` — расстояние до ближайшего аэропорта в метрах (м)  \n",
    "`balcony` — число балконов  \n",
    "`ceiling_height` — высота потолков (м)  \n",
    "`cityCenters_nearest` — расстояние до центра города (м)  \n",
    "`days_exposition` — сколько дней было размещено объявление (от публикации до снятия)  \n",
    "`first_day_exposition` — дата публикации  \n",
    "`floor` — этаж  \n",
    "`floors_total` — всего этажей в доме  \n",
    "`is_apartment` — апартаменты (булев тип)  \n",
    "`kitchen_area` — площадь кухни в квадратных метрах (м²)  \n",
    "`last_price` — цена на момент снятия с публикации  \n",
    "`living_area` — жилая площадь в квадратных метрах (м²)  \n",
    "`locality_name` — название населённого пункта  \n",
    "`open_plan` — свободная планировка (булев тип)  \n",
    "`parks_around3000` — число парков в радиусе 3 км  \n",
    "`parks_nearest` — расстояние до ближайшего парка (м)  \n",
    "`ponds_around3000` — число водоёмов в радиусе 3 км  \n",
    "`ponds_nearest` — расстояние до ближайшего водоёма (м)  \n",
    "`rooms` — число комнат  \n",
    "`studio` — квартира-студия (булев тип)  \n",
    "`total_area` — общая площадь квартиры в квадратных метрах (м²)  \n",
    "`total_images` — число фотографий квартиры в объявлении  "
   ]
  },
  {
   "cell_type": "markdown",
   "id": "d39f630a",
   "metadata": {},
   "source": [
    "## 2. Предобработка данных <a class=\"anchor\" id=\"предобработка_данных\"></a>"
   ]
  },
  {
   "cell_type": "markdown",
   "id": "c930a152",
   "metadata": {},
   "source": [
    "### 2.1 Удаление пропусков <a class=\"anchor\" id=\"удаление_пропусков\"></a>"
   ]
  },
  {
   "cell_type": "markdown",
   "id": "96d00aec",
   "metadata": {},
   "source": [
    "В данных наблюдаются множественные пропуски, потребуется их изучение и заполнение релевантными значениями"
   ]
  },
  {
   "cell_type": "markdown",
   "id": "ec0e4d5d",
   "metadata": {},
   "source": [
    "**Высота потолков**"
   ]
  },
  {
   "cell_type": "code",
   "execution_count": 6,
   "id": "94e53220",
   "metadata": {
    "scrolled": true
   },
   "outputs": [
    {
     "data": {
      "text/plain": [
       "array([  2.7 ,    nan,   3.03,   2.5 ,   2.67,   2.56,   3.05,   2.75,\n",
       "         2.6 ,   2.9 ,   2.8 ,   2.55,   3.  ,   2.65,   3.2 ,   2.61,\n",
       "         3.25,   3.45,   2.77,   2.85,   2.64,   2.57,   4.15,   3.5 ,\n",
       "         3.3 ,   2.71,   4.  ,   2.47,   2.73,   2.84,   3.1 ,   2.34,\n",
       "         3.4 ,   3.06,   2.72,   2.54,   2.51,   2.78,   2.76,  25.  ,\n",
       "         2.58,   3.7 ,   2.52,   5.2 ,   2.87,   2.66,   2.59,   2.  ,\n",
       "         2.45,   3.6 ,   2.92,   3.11,   3.13,   3.8 ,   3.15,   3.55,\n",
       "         3.16,   3.62,   3.12,   2.53,   2.74,   2.96,   2.46,   5.3 ,\n",
       "         5.  ,   2.79,   2.95,   4.06,   2.94,   3.82,   3.54,   3.53,\n",
       "         2.83,   4.7 ,   2.4 ,   3.38,   3.01,   5.6 ,   3.65,   3.9 ,\n",
       "         3.18,   3.35,   2.3 ,   3.57,   2.48,   2.62,   2.82,   3.98,\n",
       "         2.63,   3.83,   3.52,   3.95,   3.75,   2.88,   3.67,   3.87,\n",
       "         3.66,   3.85,   3.86,   4.19,   3.24,   4.8 ,   4.5 ,   4.2 ,\n",
       "         3.36,  32.  ,   3.08,   3.68,   3.07,   3.37,   3.09,   8.  ,\n",
       "         3.26,   3.34,   2.81,   3.44,   2.97,   3.14,   4.37,   2.68,\n",
       "         3.22,   3.27,  27.  ,   4.1 ,   2.93,   3.46,  24.  ,   3.47,\n",
       "         3.33,   3.63,   3.32,  26.  ,   1.2 ,   8.3 ,   2.98,   2.86,\n",
       "         3.17,   4.4 ,   3.28,   3.04,   4.45,   5.5 ,   3.84,   3.23,\n",
       "         3.02,   3.21,   3.43,   3.78,   4.3 ,   3.39,   2.69,   3.31,\n",
       "         4.65,   3.56,   2.2 ,   3.51,   3.93,   3.42,   2.99,   3.49,\n",
       "        14.  ,   4.14,   2.91,   3.88,   1.75,   4.25,   3.29,  20.  ,\n",
       "         2.25,   3.76,   3.69,   6.  ,  22.6 ,   2.89,   3.58,   5.8 ,\n",
       "        27.5 ,   2.49,   4.9 ,   3.48,  10.3 ,   1.  , 100.  ,   3.59])"
      ]
     },
     "execution_count": 6,
     "metadata": {},
     "output_type": "execute_result"
    }
   ],
   "source": [
    "df['ceiling_height'].unique()"
   ]
  },
  {
   "cell_type": "markdown",
   "id": "9ed1ecd1",
   "metadata": {},
   "source": [
    "Наблюдаются аномально высокие значения, такие как 27.0, 32.0. Вероятнее всего, реальные значения - 2.7, 3.2 соответственно.  \n",
    "Все значения больше 20м заменяются на порядок меньшими."
   ]
  },
  {
   "cell_type": "code",
   "execution_count": 7,
   "id": "79731759",
   "metadata": {
    "scrolled": true
   },
   "outputs": [
    {
     "data": {
      "text/html": [
       "<div>\n",
       "<style scoped>\n",
       "    .dataframe tbody tr th:only-of-type {\n",
       "        vertical-align: middle;\n",
       "    }\n",
       "\n",
       "    .dataframe tbody tr th {\n",
       "        vertical-align: top;\n",
       "    }\n",
       "\n",
       "    .dataframe thead th {\n",
       "        text-align: right;\n",
       "    }\n",
       "</style>\n",
       "<table border=\"1\" class=\"dataframe\">\n",
       "  <thead>\n",
       "    <tr style=\"text-align: right;\">\n",
       "      <th></th>\n",
       "      <th>total_images</th>\n",
       "      <th>last_price</th>\n",
       "      <th>total_area</th>\n",
       "      <th>first_day_exposition</th>\n",
       "      <th>rooms</th>\n",
       "      <th>ceiling_height</th>\n",
       "      <th>floors_total</th>\n",
       "      <th>living_area</th>\n",
       "      <th>floor</th>\n",
       "      <th>is_apartment</th>\n",
       "      <th>...</th>\n",
       "      <th>kitchen_area</th>\n",
       "      <th>balcony</th>\n",
       "      <th>locality_name</th>\n",
       "      <th>airports_nearest</th>\n",
       "      <th>cityCenters_nearest</th>\n",
       "      <th>parks_around3000</th>\n",
       "      <th>parks_nearest</th>\n",
       "      <th>ponds_around3000</th>\n",
       "      <th>ponds_nearest</th>\n",
       "      <th>days_exposition</th>\n",
       "    </tr>\n",
       "  </thead>\n",
       "  <tbody>\n",
       "    <tr>\n",
       "      <th>0</th>\n",
       "      <td>20</td>\n",
       "      <td>13000000.0</td>\n",
       "      <td>108.00</td>\n",
       "      <td>2019-03-07T00:00:00</td>\n",
       "      <td>3</td>\n",
       "      <td>2.70</td>\n",
       "      <td>16.0</td>\n",
       "      <td>51.0</td>\n",
       "      <td>8</td>\n",
       "      <td>NaN</td>\n",
       "      <td>...</td>\n",
       "      <td>25.00</td>\n",
       "      <td>NaN</td>\n",
       "      <td>Санкт-Петербург</td>\n",
       "      <td>18863.0</td>\n",
       "      <td>16028.0</td>\n",
       "      <td>1.0</td>\n",
       "      <td>482.0</td>\n",
       "      <td>2.0</td>\n",
       "      <td>755.0</td>\n",
       "      <td>NaN</td>\n",
       "    </tr>\n",
       "    <tr>\n",
       "      <th>1</th>\n",
       "      <td>7</td>\n",
       "      <td>3350000.0</td>\n",
       "      <td>40.40</td>\n",
       "      <td>2018-12-04T00:00:00</td>\n",
       "      <td>1</td>\n",
       "      <td>NaN</td>\n",
       "      <td>11.0</td>\n",
       "      <td>18.6</td>\n",
       "      <td>1</td>\n",
       "      <td>NaN</td>\n",
       "      <td>...</td>\n",
       "      <td>11.00</td>\n",
       "      <td>2.0</td>\n",
       "      <td>посёлок Шушары</td>\n",
       "      <td>12817.0</td>\n",
       "      <td>18603.0</td>\n",
       "      <td>0.0</td>\n",
       "      <td>NaN</td>\n",
       "      <td>0.0</td>\n",
       "      <td>NaN</td>\n",
       "      <td>81.0</td>\n",
       "    </tr>\n",
       "    <tr>\n",
       "      <th>2</th>\n",
       "      <td>10</td>\n",
       "      <td>5196000.0</td>\n",
       "      <td>56.00</td>\n",
       "      <td>2015-08-20T00:00:00</td>\n",
       "      <td>2</td>\n",
       "      <td>NaN</td>\n",
       "      <td>5.0</td>\n",
       "      <td>34.3</td>\n",
       "      <td>4</td>\n",
       "      <td>NaN</td>\n",
       "      <td>...</td>\n",
       "      <td>8.30</td>\n",
       "      <td>0.0</td>\n",
       "      <td>Санкт-Петербург</td>\n",
       "      <td>21741.0</td>\n",
       "      <td>13933.0</td>\n",
       "      <td>1.0</td>\n",
       "      <td>90.0</td>\n",
       "      <td>2.0</td>\n",
       "      <td>574.0</td>\n",
       "      <td>558.0</td>\n",
       "    </tr>\n",
       "    <tr>\n",
       "      <th>3</th>\n",
       "      <td>0</td>\n",
       "      <td>64900000.0</td>\n",
       "      <td>159.00</td>\n",
       "      <td>2015-07-24T00:00:00</td>\n",
       "      <td>3</td>\n",
       "      <td>NaN</td>\n",
       "      <td>14.0</td>\n",
       "      <td>NaN</td>\n",
       "      <td>9</td>\n",
       "      <td>NaN</td>\n",
       "      <td>...</td>\n",
       "      <td>NaN</td>\n",
       "      <td>0.0</td>\n",
       "      <td>Санкт-Петербург</td>\n",
       "      <td>28098.0</td>\n",
       "      <td>6800.0</td>\n",
       "      <td>2.0</td>\n",
       "      <td>84.0</td>\n",
       "      <td>3.0</td>\n",
       "      <td>234.0</td>\n",
       "      <td>424.0</td>\n",
       "    </tr>\n",
       "    <tr>\n",
       "      <th>4</th>\n",
       "      <td>2</td>\n",
       "      <td>10000000.0</td>\n",
       "      <td>100.00</td>\n",
       "      <td>2018-06-19T00:00:00</td>\n",
       "      <td>2</td>\n",
       "      <td>3.03</td>\n",
       "      <td>14.0</td>\n",
       "      <td>32.0</td>\n",
       "      <td>13</td>\n",
       "      <td>NaN</td>\n",
       "      <td>...</td>\n",
       "      <td>41.00</td>\n",
       "      <td>NaN</td>\n",
       "      <td>Санкт-Петербург</td>\n",
       "      <td>31856.0</td>\n",
       "      <td>8098.0</td>\n",
       "      <td>2.0</td>\n",
       "      <td>112.0</td>\n",
       "      <td>1.0</td>\n",
       "      <td>48.0</td>\n",
       "      <td>121.0</td>\n",
       "    </tr>\n",
       "    <tr>\n",
       "      <th>...</th>\n",
       "      <td>...</td>\n",
       "      <td>...</td>\n",
       "      <td>...</td>\n",
       "      <td>...</td>\n",
       "      <td>...</td>\n",
       "      <td>...</td>\n",
       "      <td>...</td>\n",
       "      <td>...</td>\n",
       "      <td>...</td>\n",
       "      <td>...</td>\n",
       "      <td>...</td>\n",
       "      <td>...</td>\n",
       "      <td>...</td>\n",
       "      <td>...</td>\n",
       "      <td>...</td>\n",
       "      <td>...</td>\n",
       "      <td>...</td>\n",
       "      <td>...</td>\n",
       "      <td>...</td>\n",
       "      <td>...</td>\n",
       "      <td>...</td>\n",
       "    </tr>\n",
       "    <tr>\n",
       "      <th>23694</th>\n",
       "      <td>9</td>\n",
       "      <td>9700000.0</td>\n",
       "      <td>133.81</td>\n",
       "      <td>2017-03-21T00:00:00</td>\n",
       "      <td>3</td>\n",
       "      <td>3.70</td>\n",
       "      <td>5.0</td>\n",
       "      <td>73.3</td>\n",
       "      <td>3</td>\n",
       "      <td>NaN</td>\n",
       "      <td>...</td>\n",
       "      <td>13.83</td>\n",
       "      <td>NaN</td>\n",
       "      <td>Санкт-Петербург</td>\n",
       "      <td>24665.0</td>\n",
       "      <td>4232.0</td>\n",
       "      <td>1.0</td>\n",
       "      <td>796.0</td>\n",
       "      <td>3.0</td>\n",
       "      <td>381.0</td>\n",
       "      <td>NaN</td>\n",
       "    </tr>\n",
       "    <tr>\n",
       "      <th>23695</th>\n",
       "      <td>14</td>\n",
       "      <td>3100000.0</td>\n",
       "      <td>59.00</td>\n",
       "      <td>2018-01-15T00:00:00</td>\n",
       "      <td>3</td>\n",
       "      <td>NaN</td>\n",
       "      <td>5.0</td>\n",
       "      <td>38.0</td>\n",
       "      <td>4</td>\n",
       "      <td>NaN</td>\n",
       "      <td>...</td>\n",
       "      <td>8.50</td>\n",
       "      <td>NaN</td>\n",
       "      <td>Тосно</td>\n",
       "      <td>NaN</td>\n",
       "      <td>NaN</td>\n",
       "      <td>NaN</td>\n",
       "      <td>NaN</td>\n",
       "      <td>NaN</td>\n",
       "      <td>NaN</td>\n",
       "      <td>45.0</td>\n",
       "    </tr>\n",
       "    <tr>\n",
       "      <th>23696</th>\n",
       "      <td>18</td>\n",
       "      <td>2500000.0</td>\n",
       "      <td>56.70</td>\n",
       "      <td>2018-02-11T00:00:00</td>\n",
       "      <td>2</td>\n",
       "      <td>NaN</td>\n",
       "      <td>3.0</td>\n",
       "      <td>29.7</td>\n",
       "      <td>1</td>\n",
       "      <td>NaN</td>\n",
       "      <td>...</td>\n",
       "      <td>NaN</td>\n",
       "      <td>NaN</td>\n",
       "      <td>село Рождествено</td>\n",
       "      <td>NaN</td>\n",
       "      <td>NaN</td>\n",
       "      <td>NaN</td>\n",
       "      <td>NaN</td>\n",
       "      <td>NaN</td>\n",
       "      <td>NaN</td>\n",
       "      <td>NaN</td>\n",
       "    </tr>\n",
       "    <tr>\n",
       "      <th>23697</th>\n",
       "      <td>13</td>\n",
       "      <td>11475000.0</td>\n",
       "      <td>76.75</td>\n",
       "      <td>2017-03-28T00:00:00</td>\n",
       "      <td>2</td>\n",
       "      <td>3.00</td>\n",
       "      <td>17.0</td>\n",
       "      <td>NaN</td>\n",
       "      <td>12</td>\n",
       "      <td>NaN</td>\n",
       "      <td>...</td>\n",
       "      <td>23.30</td>\n",
       "      <td>2.0</td>\n",
       "      <td>Санкт-Петербург</td>\n",
       "      <td>39140.0</td>\n",
       "      <td>10364.0</td>\n",
       "      <td>2.0</td>\n",
       "      <td>173.0</td>\n",
       "      <td>3.0</td>\n",
       "      <td>196.0</td>\n",
       "      <td>602.0</td>\n",
       "    </tr>\n",
       "    <tr>\n",
       "      <th>23698</th>\n",
       "      <td>4</td>\n",
       "      <td>1350000.0</td>\n",
       "      <td>32.30</td>\n",
       "      <td>2017-07-21T00:00:00</td>\n",
       "      <td>1</td>\n",
       "      <td>2.50</td>\n",
       "      <td>5.0</td>\n",
       "      <td>12.3</td>\n",
       "      <td>1</td>\n",
       "      <td>NaN</td>\n",
       "      <td>...</td>\n",
       "      <td>9.00</td>\n",
       "      <td>NaN</td>\n",
       "      <td>поселок Новый Учхоз</td>\n",
       "      <td>NaN</td>\n",
       "      <td>NaN</td>\n",
       "      <td>NaN</td>\n",
       "      <td>NaN</td>\n",
       "      <td>NaN</td>\n",
       "      <td>NaN</td>\n",
       "      <td>NaN</td>\n",
       "    </tr>\n",
       "  </tbody>\n",
       "</table>\n",
       "<p>23699 rows × 22 columns</p>\n",
       "</div>"
      ],
      "text/plain": [
       "       total_images  last_price  total_area first_day_exposition  rooms  \\\n",
       "0                20  13000000.0      108.00  2019-03-07T00:00:00      3   \n",
       "1                 7   3350000.0       40.40  2018-12-04T00:00:00      1   \n",
       "2                10   5196000.0       56.00  2015-08-20T00:00:00      2   \n",
       "3                 0  64900000.0      159.00  2015-07-24T00:00:00      3   \n",
       "4                 2  10000000.0      100.00  2018-06-19T00:00:00      2   \n",
       "...             ...         ...         ...                  ...    ...   \n",
       "23694             9   9700000.0      133.81  2017-03-21T00:00:00      3   \n",
       "23695            14   3100000.0       59.00  2018-01-15T00:00:00      3   \n",
       "23696            18   2500000.0       56.70  2018-02-11T00:00:00      2   \n",
       "23697            13  11475000.0       76.75  2017-03-28T00:00:00      2   \n",
       "23698             4   1350000.0       32.30  2017-07-21T00:00:00      1   \n",
       "\n",
       "       ceiling_height  floors_total  living_area  floor is_apartment  ...  \\\n",
       "0                2.70          16.0         51.0      8          NaN  ...   \n",
       "1                 NaN          11.0         18.6      1          NaN  ...   \n",
       "2                 NaN           5.0         34.3      4          NaN  ...   \n",
       "3                 NaN          14.0          NaN      9          NaN  ...   \n",
       "4                3.03          14.0         32.0     13          NaN  ...   \n",
       "...               ...           ...          ...    ...          ...  ...   \n",
       "23694            3.70           5.0         73.3      3          NaN  ...   \n",
       "23695             NaN           5.0         38.0      4          NaN  ...   \n",
       "23696             NaN           3.0         29.7      1          NaN  ...   \n",
       "23697            3.00          17.0          NaN     12          NaN  ...   \n",
       "23698            2.50           5.0         12.3      1          NaN  ...   \n",
       "\n",
       "       kitchen_area  balcony        locality_name  airports_nearest  \\\n",
       "0             25.00      NaN      Санкт-Петербург           18863.0   \n",
       "1             11.00      2.0       посёлок Шушары           12817.0   \n",
       "2              8.30      0.0      Санкт-Петербург           21741.0   \n",
       "3               NaN      0.0      Санкт-Петербург           28098.0   \n",
       "4             41.00      NaN      Санкт-Петербург           31856.0   \n",
       "...             ...      ...                  ...               ...   \n",
       "23694         13.83      NaN      Санкт-Петербург           24665.0   \n",
       "23695          8.50      NaN                Тосно               NaN   \n",
       "23696           NaN      NaN     село Рождествено               NaN   \n",
       "23697         23.30      2.0      Санкт-Петербург           39140.0   \n",
       "23698          9.00      NaN  поселок Новый Учхоз               NaN   \n",
       "\n",
       "      cityCenters_nearest  parks_around3000  parks_nearest  ponds_around3000  \\\n",
       "0                 16028.0               1.0          482.0               2.0   \n",
       "1                 18603.0               0.0            NaN               0.0   \n",
       "2                 13933.0               1.0           90.0               2.0   \n",
       "3                  6800.0               2.0           84.0               3.0   \n",
       "4                  8098.0               2.0          112.0               1.0   \n",
       "...                   ...               ...            ...               ...   \n",
       "23694              4232.0               1.0          796.0               3.0   \n",
       "23695                 NaN               NaN            NaN               NaN   \n",
       "23696                 NaN               NaN            NaN               NaN   \n",
       "23697             10364.0               2.0          173.0               3.0   \n",
       "23698                 NaN               NaN            NaN               NaN   \n",
       "\n",
       "       ponds_nearest  days_exposition  \n",
       "0              755.0              NaN  \n",
       "1                NaN             81.0  \n",
       "2              574.0            558.0  \n",
       "3              234.0            424.0  \n",
       "4               48.0            121.0  \n",
       "...              ...              ...  \n",
       "23694          381.0              NaN  \n",
       "23695            NaN             45.0  \n",
       "23696            NaN              NaN  \n",
       "23697          196.0            602.0  \n",
       "23698            NaN              NaN  \n",
       "\n",
       "[23699 rows x 22 columns]"
      ]
     },
     "execution_count": 7,
     "metadata": {},
     "output_type": "execute_result"
    }
   ],
   "source": [
    "df.replace(df['ceiling_height'][df['ceiling_height'] > 20], df['ceiling_height'][df['ceiling_height'] > 20]/10)"
   ]
  },
  {
   "cell_type": "markdown",
   "id": "41eb895b",
   "metadata": {},
   "source": [
    "Теперь возможно заменить отсутствующие данные медианным значением."
   ]
  },
  {
   "cell_type": "code",
   "execution_count": 8,
   "id": "172f3618",
   "metadata": {},
   "outputs": [],
   "source": [
    "df['ceiling_height'].fillna(df['ceiling_height'].median(), inplace = True)"
   ]
  },
  {
   "cell_type": "markdown",
   "id": "e1336cd1",
   "metadata": {},
   "source": [
    "**Этажность здания**"
   ]
  },
  {
   "cell_type": "code",
   "execution_count": 9,
   "id": "a65dbe47",
   "metadata": {},
   "outputs": [
    {
     "data": {
      "text/plain": [
       "array([16., 11.,  5., 14., 12., 26., 24., 27.,  9.,  6., 17., 25.,  3.,\n",
       "       23., 19., 18.,  4., 22.,  8.,  2., 10.,  7., 13., 15., nan, 20.,\n",
       "       28., 36., 21., 35., 34., 60.,  1., 29., 33., 52., 37.])"
      ]
     },
     "execution_count": 9,
     "metadata": {},
     "output_type": "execute_result"
    }
   ],
   "source": [
    "df['floors_total'].unique()"
   ]
  },
  {
   "cell_type": "markdown",
   "id": "765bfeb6",
   "metadata": {},
   "source": [
    "Выбросов не обнаружено, пропуски можно заполнить медианным значением и привести к целочисленным значениям."
   ]
  },
  {
   "cell_type": "code",
   "execution_count": 10,
   "id": "16dcb66c",
   "metadata": {},
   "outputs": [],
   "source": [
    "df['floors_total'].fillna(df['floors_total'].median(), inplace = True)\n",
    "df['floors_total'] = df['floors_total'].astype(int)"
   ]
  },
  {
   "cell_type": "markdown",
   "id": "88a1d718",
   "metadata": {},
   "source": [
    "**Жилая площадь и площадь кухни**\n",
    "  \n",
    "Для заполнения пропусков в этих столбцах целесообразно оценить, какую долю от общей площади занимает жилая площадь и кухня соответственно.\n",
    "  \n",
    "Таким образом, можно предсказать эти значения там, где они пропущены."
   ]
  },
  {
   "cell_type": "code",
   "execution_count": 11,
   "id": "60e9eeb2",
   "metadata": {},
   "outputs": [],
   "source": [
    "df['living_area'].fillna((df['living_area']/df['total_area']).mean(), inplace = True)\n",
    "df['kitchen_area'].fillna((df['kitchen_area']/df['total_area']).mean(), inplace = True)"
   ]
  },
  {
   "cell_type": "markdown",
   "id": "2a41c21d",
   "metadata": {},
   "source": [
    "**Количество балконов**  \n",
    "**Наличие парков и прудов поблизости**\n",
    "  \n",
    "В случае, если количество балконов, а также количество прудов и парков в радиусе 3х километров не указано, предположим, что их нет.\n",
    "Отсутствующие значения заменяются на `0`"
   ]
  },
  {
   "cell_type": "code",
   "execution_count": 12,
   "id": "31e618c5",
   "metadata": {},
   "outputs": [],
   "source": [
    "df['balcony'].fillna(0, inplace = True)\n",
    "df['parks_around3000'].fillna(0, inplace = True)\n",
    "df['ponds_around3000'].fillna(0, inplace = True)\n",
    "\n",
    "df['balcony'] = df['balcony'].astype(int)\n",
    "df['parks_around3000'] = df['parks_around3000'].astype(int)\n",
    "df['ponds_around3000'] = df['ponds_around3000'].astype(int)"
   ]
  },
  {
   "cell_type": "markdown",
   "id": "ee9a8f21",
   "metadata": {},
   "source": [
    "**Длительность размещения объявления**\n",
    "  \n",
    "Срок размещения объявления предсказать невозможно. Поскольку эти данные напрямую влияют на дальнейшие исследования, они исключаются из датафрейма."
   ]
  },
  {
   "cell_type": "code",
   "execution_count": 13,
   "id": "a8488d61",
   "metadata": {},
   "outputs": [],
   "source": [
    "df = df.dropna(subset='days_exposition').reset_index(drop=True)"
   ]
  },
  {
   "cell_type": "markdown",
   "id": "26340226",
   "metadata": {},
   "source": [
    "**Населенный пункт**\n",
    "  \n",
    "Отсутствующие значения в столбце `Населенный пункт` заменяются самым распространенным значением `Санкт-Петербург`"
   ]
  },
  {
   "cell_type": "code",
   "execution_count": 15,
   "id": "db6248c1",
   "metadata": {},
   "outputs": [
    {
     "data": {
      "text/plain": [
       "locality_name\n",
       "Санкт-Петербург           13638\n",
       "посёлок Мурино              517\n",
       "посёлок Шушары              408\n",
       "Всеволожск                  339\n",
       "Колпино                     308\n",
       "                          ...  \n",
       "посёлок Высокоключевой        1\n",
       "посёлок Возрождение           1\n",
       "поселок Дружноселье           1\n",
       "посёлок Белоостров            1\n",
       "село Шум                      1\n",
       "Name: last_price, Length: 330, dtype: int64"
      ]
     },
     "execution_count": 15,
     "metadata": {},
     "output_type": "execute_result"
    }
   ],
   "source": [
    "df.groupby('locality_name')['last_price'].count().sort_values(ascending=False)"
   ]
  },
  {
   "cell_type": "code",
   "execution_count": 16,
   "id": "1a895592",
   "metadata": {},
   "outputs": [],
   "source": [
    "df['locality_name'].fillna('Санкт-Петербург', inplace = True)"
   ]
  },
  {
   "cell_type": "markdown",
   "id": "160e055d",
   "metadata": {},
   "source": [
    "**Апартаменты**\n",
    "  \n",
    "Если не указано, используется ли недвижимость как апартаменты, предполагается, что нет. Пропущенные значения заменяются на `False`"
   ]
  },
  {
   "cell_type": "code",
   "execution_count": 19,
   "id": "19ae9d46",
   "metadata": {},
   "outputs": [],
   "source": [
    "df['is_apartment'].fillna(False, inplace = True)\n",
    "df['is_apartment'] = df['is_apartment'].astype(bool)"
   ]
  },
  {
   "cell_type": "markdown",
   "id": "7017543f",
   "metadata": {},
   "source": [
    "**Аэропорт**\n",
    "  \n",
    "Если не указано, на каком расстоянии находится аэропорт, предполагается что аэропорта поблизости нет. Пропущенные значения заменяются на значение, немного большее максимального, т.е. `100км`"
   ]
  },
  {
   "cell_type": "code",
   "execution_count": null,
   "id": "b172692d",
   "metadata": {},
   "outputs": [],
   "source": [
    "df['airports_nearest'].sort_values().unique()"
   ]
  },
  {
   "cell_type": "code",
   "execution_count": 21,
   "id": "b4db383b",
   "metadata": {},
   "outputs": [],
   "source": [
    "df['airports_nearest'].fillna(100000, inplace = True)\n",
    "df['airports_nearest'] = df['airports_nearest'].astype(int)"
   ]
  },
  {
   "cell_type": "markdown",
   "id": "8ed5195d",
   "metadata": {},
   "source": [
    "**Удаленность от центра**\n",
    "  \n",
    "Если значение удаленности от центра пропущено для недвижимости в Санкт-Петербурге, то эти данные напрямую влияют на дальнейшие исследования и их заполнение может исказить результаты, поэтому они исключаются из датафрейма.\n",
    "  \n",
    "В случае, если недвижимость расположена не в Санкт-Петербурге, допускается заполнение значением `0`."
   ]
  },
  {
   "cell_type": "code",
   "execution_count": 23,
   "id": "c71af6eb",
   "metadata": {
    "scrolled": true
   },
   "outputs": [],
   "source": [
    "df[df['locality_name'] == \"Санкт-Петербург\"].dropna(subset='cityCenters_nearest').reset_index(drop=True)\n",
    "df['cityCenters_nearest'].fillna(0, inplace = True)"
   ]
  },
  {
   "cell_type": "markdown",
   "id": "878d753c",
   "metadata": {},
   "source": [
    "**Удаленность от парков и прудов**\n",
    "  \n",
    "В случае наличия парка или пруда в радиусе 3х км - пропуски заполняются средним значением удаленности.\n",
    "В случае отсутствия таковых - на `3000м`"
   ]
  },
  {
   "cell_type": "code",
   "execution_count": 25,
   "id": "ee0714c1",
   "metadata": {},
   "outputs": [],
   "source": [
    "df['parks_nearest'][df['parks_around3000']>0].fillna(df['parks_nearest'][df['parks_around3000']>0].mean(), inplace = True)\n",
    "df['parks_nearest'].fillna(3000, inplace = True)\n",
    "df['parks_nearest'] = df['parks_nearest'].astype(int)"
   ]
  },
  {
   "cell_type": "code",
   "execution_count": 26,
   "id": "568729e5",
   "metadata": {},
   "outputs": [],
   "source": [
    "df['ponds_nearest'][df['ponds_around3000']>0].fillna(df['ponds_nearest'][df['ponds_around3000']>0].mean(), inplace = True)\n",
    "df['ponds_nearest'].fillna(3000, inplace = True)\n",
    "df['ponds_nearest'] = df['ponds_nearest'].astype(int)"
   ]
  },
  {
   "cell_type": "markdown",
   "id": "6b88a696",
   "metadata": {},
   "source": [
    "**Проверка заполнения пропусков**"
   ]
  },
  {
   "cell_type": "code",
   "execution_count": 27,
   "id": "bf8da215",
   "metadata": {
    "scrolled": true
   },
   "outputs": [
    {
     "name": "stdout",
     "output_type": "stream",
     "text": [
      "<class 'pandas.core.frame.DataFrame'>\n",
      "RangeIndex: 20518 entries, 0 to 20517\n",
      "Data columns (total 22 columns):\n",
      " #   Column                Non-Null Count  Dtype  \n",
      "---  ------                --------------  -----  \n",
      " 0   total_images          20518 non-null  int64  \n",
      " 1   last_price            20518 non-null  float64\n",
      " 2   total_area            20518 non-null  float64\n",
      " 3   first_day_exposition  20518 non-null  object \n",
      " 4   rooms                 20518 non-null  int64  \n",
      " 5   ceiling_height        20518 non-null  float64\n",
      " 6   floors_total          20518 non-null  int32  \n",
      " 7   living_area           20518 non-null  float64\n",
      " 8   floor                 20518 non-null  int64  \n",
      " 9   is_apartment          20518 non-null  bool   \n",
      " 10  studio                20518 non-null  bool   \n",
      " 11  open_plan             20518 non-null  bool   \n",
      " 12  kitchen_area          20518 non-null  float64\n",
      " 13  balcony               20518 non-null  int32  \n",
      " 14  locality_name         20518 non-null  object \n",
      " 15  airports_nearest      20518 non-null  int32  \n",
      " 16  cityCenters_nearest   20518 non-null  float64\n",
      " 17  parks_around3000      20518 non-null  int32  \n",
      " 18  parks_nearest         20518 non-null  int32  \n",
      " 19  ponds_around3000      20518 non-null  int32  \n",
      " 20  ponds_nearest         20518 non-null  int32  \n",
      " 21  days_exposition       20518 non-null  float64\n",
      "dtypes: bool(3), float64(7), int32(7), int64(3), object(2)\n",
      "memory usage: 2.5+ MB\n"
     ]
    }
   ],
   "source": [
    "df.info()"
   ]
  },
  {
   "cell_type": "markdown",
   "id": "cf3e2689",
   "metadata": {},
   "source": [
    "Все пропущенные значения заполнены или исключены."
   ]
  },
  {
   "cell_type": "markdown",
   "id": "9a1b1885",
   "metadata": {},
   "source": [
    "### 2.2 Удаление дубликатов <a class=\"anchor\" id=\"удаление_дубликатов\"></a>"
   ]
  },
  {
   "cell_type": "markdown",
   "id": "9fafb0d0",
   "metadata": {},
   "source": [
    "Наименования населенных пунктов могут быть записаны по-разному, поэтому необходимо привести их к единому виду."
   ]
  },
  {
   "cell_type": "code",
   "execution_count": 28,
   "id": "c1c2ecd2",
   "metadata": {},
   "outputs": [
    {
     "data": {
      "text/plain": [
       "array(['Бокситогорск', 'Волосово', 'Волхов', 'Всеволожск', 'Выборг',\n",
       "       'Высоцк', 'Гатчина', 'Зеленогорск', 'Ивангород', 'Каменногорск',\n",
       "       'Кингисепп', 'Кириши', 'Кировск', 'Колпино', 'Коммунар',\n",
       "       'Красное Село', 'Кронштадт', 'Кудрово', 'Лодейное Поле',\n",
       "       'Ломоносов', 'Луга', 'Любань', 'Никольское', 'Новая Ладога',\n",
       "       'Отрадное', 'Павловск', 'Петергоф', 'Пикалёво', 'Подпорожье',\n",
       "       'Приморск', 'Приозерск', 'Пушкин', 'Санкт-Петербург', 'Светогорск',\n",
       "       'Сертолово', 'Сестрорецк', 'Сланцы', 'Сосновый Бор', 'Сясьстрой',\n",
       "       'Тихвин', 'Тосно', 'Шлиссельбург',\n",
       "       'городской поселок Большая Ижора', 'городской поселок Янино-1',\n",
       "       'городской посёлок Будогощь', 'городской посёлок Виллози',\n",
       "       'городской посёлок Мга', 'городской посёлок Назия',\n",
       "       'городской посёлок Новоселье', 'городской посёлок Павлово',\n",
       "       'городской посёлок Рощино', 'городской посёлок Свирьстрой',\n",
       "       'городской посёлок Фёдоровское', 'городской посёлок Янино-1',\n",
       "       'деревня Агалатово', 'деревня Аро', 'деревня Батово',\n",
       "       'деревня Бегуницы', 'деревня Белогорка', 'деревня Большая Вруда',\n",
       "       'деревня Большая Пустомержа', 'деревня Большие Колпаны',\n",
       "       'деревня Большое Рейзино', 'деревня Бор', 'деревня Борисова Грива',\n",
       "       'деревня Ваганово', 'деревня Вартемяги', 'деревня Вахнова Кара',\n",
       "       'деревня Выскатка', 'деревня Гарболово', 'деревня Глинка',\n",
       "       'деревня Горбунки', 'деревня Гостилицы', 'деревня Заклинье',\n",
       "       'деревня Заневка', 'деревня Зимитицы', 'деревня Извара',\n",
       "       'деревня Иссад', 'деревня Калитино', 'деревня Кальтино',\n",
       "       'деревня Камышовка', 'деревня Каськово', 'деревня Келози',\n",
       "       'деревня Кипень', 'деревня Кисельня', 'деревня Колтуши',\n",
       "       'деревня Кудрово', 'деревня Кузьмолово', 'деревня Куровицы',\n",
       "       'деревня Куттузи', 'деревня Лаврики', 'деревня Лаголово',\n",
       "       'деревня Лампово', 'деревня Лесколово', 'деревня Лопухинка',\n",
       "       'деревня Лупполово', 'деревня Малая Романовка',\n",
       "       'деревня Малое Верево', 'деревня Малое Карлино',\n",
       "       'деревня Малые Колпаны', 'деревня Мануйлово', 'деревня Мины',\n",
       "       'деревня Мистолово', 'деревня Ненимяки', 'деревня Нижние Осельки',\n",
       "       'деревня Нижняя', 'деревня Низино', 'деревня Новое Девяткино',\n",
       "       'деревня Нурма', 'деревня Оржицы', 'деревня Парицы',\n",
       "       'деревня Пельгора', 'деревня Пеники', 'деревня Пикколово',\n",
       "       'деревня Пудомяги', 'деревня Пустынка', 'деревня Рабитицы',\n",
       "       'деревня Разбегаево', 'деревня Разметелево', 'деревня Рапполово',\n",
       "       'деревня Реброво', 'деревня Русско', 'деревня Старая',\n",
       "       'деревня Старая Пустошь', 'деревня Старое Хинколово',\n",
       "       'деревня Старополье', 'деревня Старосиверская',\n",
       "       'деревня Старые Бегуницы', 'деревня Суоранда',\n",
       "       'деревня Сяськелево', 'деревня Тарасово', 'деревня Терпилицы',\n",
       "       'деревня Тихковицы', 'деревня Торосово', 'деревня Трубников Бор',\n",
       "       'деревня Фалилеево', 'деревня Фёдоровское', 'деревня Хапо-Ое',\n",
       "       'деревня Хязельки', 'деревня Шпаньково', 'деревня Щеглово',\n",
       "       'деревня Юкки', 'деревня Ялгино', 'деревня Яльгелево',\n",
       "       'деревня Ям-Тесово', 'коттеджный поселок Кивеннапа Север',\n",
       "       'коттеджный поселок Счастье', 'коттеджный посёлок Лесное',\n",
       "       'поселок Аннино', 'поселок Барышево', 'поселок Бугры',\n",
       "       'поселок Возрождение', 'поселок Войсковицы', 'поселок Володарское',\n",
       "       'поселок Гаврилово', 'поселок Гарболово', 'поселок Гладкое',\n",
       "       'поселок Глажево', 'поселок Глебычево', 'поселок Гончарово',\n",
       "       'поселок Громово', 'поселок Дружноселье', 'поселок Елизаветино',\n",
       "       'поселок Жилгородок', 'поселок Жилпосёлок', 'поселок Житково',\n",
       "       'поселок Заводской', 'поселок Запорожское', 'поселок Зимитицы',\n",
       "       'поселок Ильичёво', 'поселок Калитино', 'поселок Каложицы',\n",
       "       'поселок Кингисеппский', 'поселок Кобралово', 'поселок Кобринское',\n",
       "       'поселок Коммунары', 'поселок Коробицыно', 'поселок Котельский',\n",
       "       'поселок Красная Долина', 'поселок Красносельское',\n",
       "       'поселок Лисий Нос', 'поселок Любань', 'поселок Мельниково',\n",
       "       'поселок Мичуринское', 'поселок Молодцово', 'поселок Мурино',\n",
       "       'поселок Новый Свет', 'поселок Новый Учхоз', 'поселок Оредеж',\n",
       "       'поселок Пансионат Зелёный Бор', 'поселок Первомайское',\n",
       "       'поселок Перово', 'поселок Петровское', 'поселок Победа',\n",
       "       'поселок Поляны', 'поселок Починок', 'поселок Пушное',\n",
       "       'поселок Пчевжа', 'поселок Романовка', 'поселок Ромашки',\n",
       "       'поселок Рябово', 'поселок Севастьяново', 'поселок Селезнёво',\n",
       "       'поселок Сельцо', 'поселок Семиозерье', 'поселок Семрино',\n",
       "       'поселок Серебрянский', 'поселок Совхозный',\n",
       "       'поселок Старая Малукса', 'поселок Стеклянный', 'поселок Сумино',\n",
       "       'поселок Суходолье', 'поселок Тельмана', 'поселок Терволово',\n",
       "       'поселок Торковичи', 'поселок Тёсово-4', 'поселок Углово',\n",
       "       'поселок Усть-Луга', 'поселок Ушаки', 'поселок Цвылёво',\n",
       "       'поселок городского типа Большая Ижора',\n",
       "       'поселок городского типа Вырица',\n",
       "       'поселок городского типа Дружная Горка',\n",
       "       'поселок городского типа Дубровка',\n",
       "       'поселок городского типа Ефимовский',\n",
       "       'поселок городского типа Кондратьево',\n",
       "       'поселок городского типа Красный Бор',\n",
       "       'поселок городского типа Кузьмоловский',\n",
       "       'поселок городского типа Лебяжье',\n",
       "       'поселок городского типа Лесогорский',\n",
       "       'поселок городского типа Назия',\n",
       "       'поселок городского типа Никольский',\n",
       "       'поселок городского типа Приладожский',\n",
       "       'поселок городского типа Рахья', 'поселок городского типа Рощино',\n",
       "       'поселок городского типа Рябово',\n",
       "       'поселок городского типа Синявино',\n",
       "       'поселок городского типа Советский',\n",
       "       'поселок городского типа Токсово',\n",
       "       'поселок городского типа Форносово',\n",
       "       'поселок городского типа имени Свердлова',\n",
       "       'поселок станции Вещево', 'поселок станции Корнево',\n",
       "       'поселок станции Лужайка', 'поселок станции Приветнинское',\n",
       "       'посёлок Александровская', 'посёлок Алексеевка', 'посёлок Аннино',\n",
       "       'посёлок Белоостров', 'посёлок Бугры', 'посёлок Возрождение',\n",
       "       'посёлок Войскорово', 'посёлок Высокоключевой',\n",
       "       'посёлок Гаврилово', 'посёлок Жилгородок', 'посёлок Ильичёво',\n",
       "       'посёлок Кикерино', 'посёлок Кобралово', 'посёлок Левашово',\n",
       "       'посёлок Ленинское', 'посёлок Лисий Нос', 'посёлок Мельниково',\n",
       "       'посёлок Металлострой', 'посёлок Мичуринское',\n",
       "       'посёлок Молодёжное', 'посёлок Мурино', 'посёлок Новогорелово',\n",
       "       'посёлок Новый Свет', 'посёлок Пансионат Зелёный Бор',\n",
       "       'посёлок Парголово', 'посёлок Перово', 'посёлок Песочный',\n",
       "       'посёлок Петро-Славянка', 'посёлок Петровское',\n",
       "       'посёлок Платформа 69-й километр', 'посёлок Плодовое',\n",
       "       'посёлок Плоское', 'посёлок Поляны', 'посёлок Понтонный',\n",
       "       'посёлок Пригородный', 'посёлок Пудость', 'посёлок Репино',\n",
       "       'посёлок Ропша', 'посёлок Сапёрное', 'посёлок Сапёрный',\n",
       "       'посёлок Сосново', 'посёлок Старая Малукса', 'посёлок Стеклянный',\n",
       "       'посёлок Стрельна', 'посёлок Суйда', 'посёлок Тельмана',\n",
       "       'посёлок Терволово', 'посёлок Торфяное', 'посёлок Усть-Ижора',\n",
       "       'посёлок Усть-Луга', 'посёлок Шушары', 'посёлок Щеглово',\n",
       "       'посёлок городского типа Важины',\n",
       "       'посёлок городского типа Вознесенье',\n",
       "       'посёлок городского типа Вырица',\n",
       "       'посёлок городского типа Красный Бор',\n",
       "       'посёлок городского типа Кузнечное',\n",
       "       'посёлок городского типа Кузьмоловский',\n",
       "       'посёлок городского типа Лебяжье', 'посёлок городского типа Мга',\n",
       "       'посёлок городского типа Павлово',\n",
       "       'посёлок городского типа Рощино', 'посёлок городского типа Рябово',\n",
       "       'посёлок городского типа Сиверский',\n",
       "       'посёлок городского типа Тайцы', 'посёлок городского типа Токсово',\n",
       "       'посёлок городского типа Ульяновка',\n",
       "       'посёлок городского типа Форносово',\n",
       "       'посёлок городского типа имени Морозова',\n",
       "       'посёлок городского типа имени Свердлова',\n",
       "       'посёлок при железнодорожной станции Вещево',\n",
       "       'посёлок станции Громово', 'посёлок станции Свирь',\n",
       "       'садоводческое некоммерческое товарищество Лесная Поляна',\n",
       "       'садовое товарищество Приладожский', 'садовое товарищество Рахья',\n",
       "       'садовое товарищество Садко', 'село Копорье', 'село Павлово',\n",
       "       'село Паша', 'село Путилово', 'село Рождествено',\n",
       "       'село Русско-Высоцкое', 'село Старая Ладога', 'село Шум'],\n",
       "      dtype=object)"
      ]
     },
     "execution_count": 28,
     "metadata": {},
     "output_type": "execute_result"
    }
   ],
   "source": [
    "df['locality_name'].sort_values().unique()"
   ]
  },
  {
   "cell_type": "markdown",
   "id": "394d33c7",
   "metadata": {},
   "source": [
    "Необходимо убрать слова, обозначающие тип населенного пункта."
   ]
  },
  {
   "cell_type": "code",
   "execution_count": 41,
   "id": "be63f21b",
   "metadata": {},
   "outputs": [],
   "source": [
    "for town in ['поселок ', 'посёлок ', 'деревня ', 'село ', \n",
    "             'садовое ', 'садоводческое ', 'некоммерческое ', 'товарищество ', \n",
    "             'городской ', 'городского типа ', 'коттеджный ', \n",
    "             'при железнодорожной ', 'станции ', \n",
    "             'Пансионат ', 'Платформа ']:\n",
    "     df['locality_name'] = df['locality_name'].str.replace(town, '')"
   ]
  },
  {
   "cell_type": "code",
   "execution_count": 42,
   "id": "a60e6594",
   "metadata": {
    "scrolled": false
   },
   "outputs": [
    {
     "data": {
      "text/plain": [
       "array([' 69-й километр', 'Агалатово', 'Александровская', 'Алексеевка',\n",
       "       'Аннино', 'Аро', 'Барышево', 'Батово', 'Бегуницы', 'Белогорка',\n",
       "       'Белоостров', 'Бокситогорск', 'Большая Вруда', 'Большая Ижора',\n",
       "       'Большая Пустомержа', 'Большие Колпаны', 'Большое Рейзино', 'Бор',\n",
       "       'Борисова Грива', 'Бугры', 'Будогощь', 'Ваганово', 'Важины',\n",
       "       'Вартемяги', 'Вахнова Кара', 'Вещево', 'Виллози', 'Вознесенье',\n",
       "       'Возрождение', 'Войсковицы', 'Войскорово', 'Володарское',\n",
       "       'Волосово', 'Волхов', 'Всеволожск', 'Выборг', 'Вырица', 'Выскатка',\n",
       "       'Высокоключевой', 'Высоцк', 'Гаврилово', 'Гарболово', 'Гатчина',\n",
       "       'Гладкое', 'Глажево', 'Глебычево', 'Глинка', 'Гончарово',\n",
       "       'Горбунки', 'Гостилицы', 'Громово', 'Дружная Горка', 'Дружноселье',\n",
       "       'Дубровка', 'Елизаветино', 'Ефимовский', 'Жилгородок',\n",
       "       'Жилпосёлок', 'Житково', 'Заводской', 'Заклинье', 'Заневка',\n",
       "       'Запорожское', 'Зеленогорск', 'Зелёный Бор', 'Зимитицы',\n",
       "       'Ивангород', 'Извара', 'Ильичёво', 'Иссад', 'Калитино', 'Каложицы',\n",
       "       'Кальтино', 'Каменногорск', 'Камышовка', 'Каськово', 'Келози',\n",
       "       'Кивеннапа Север', 'Кикерино', 'Кингисепп', 'Кингисеппский',\n",
       "       'Кипень', 'Кириши', 'Кировск', 'Кисельня', 'Кобралово',\n",
       "       'Кобринское', 'Колпино', 'Колтуши', 'Коммунар', 'Коммунары',\n",
       "       'Кондратьево', 'Копорье', 'Корнево', 'Коробицыно', 'Котельский',\n",
       "       'Красная Долина', 'Красное Село', 'Красносельское', 'Красный Бор',\n",
       "       'Кронштадт', 'Кудрово', 'Кузнечное', 'Кузьмолово', 'Кузьмоловский',\n",
       "       'Куровицы', 'Куттузи', 'Лаврики', 'Лаголово', 'Лампово', 'Лебяжье',\n",
       "       'Левашово', 'Ленинское', 'Лесколово', 'Лесная Поляна', 'Лесное',\n",
       "       'Лесогорский', 'Лисий Нос', 'Лодейное Поле', 'Ломоносов',\n",
       "       'Лопухинка', 'Луга', 'Лужайка', 'Лупполово', 'Любань',\n",
       "       'Малая Романовка', 'Малое Верево', 'Малое Карлино',\n",
       "       'Малые Колпаны', 'Мануйлово', 'Мга', 'Мельниково', 'Металлострой',\n",
       "       'Мины', 'Мистолово', 'Мичуринское', 'Молодцово', 'Молодёжное',\n",
       "       'Мурино', 'Назия', 'Ненимяки', 'Нижние Осельки', 'Нижняя',\n",
       "       'Низино', 'Никольский', 'Никольское', 'Новая Ладога',\n",
       "       'Новогорелово', 'Новое Девяткино', 'Новоселье', 'Новый Свет',\n",
       "       'Новый Учхоз', 'Нурма', 'Оредеж', 'Оржицы', 'Отрадное', 'Павлово',\n",
       "       'Павловск', 'Парголово', 'Парицы', 'Паша', 'Пельгора', 'Пеники',\n",
       "       'Первомайское', 'Перово', 'Песочный', 'Петергоф', 'Петро-Славянка',\n",
       "       'Петровское', 'Пикалёво', 'Пикколово', 'Плодовое', 'Плоское',\n",
       "       'Победа', 'Подпорожье', 'Поляны', 'Понтонный', 'Починок',\n",
       "       'Приветнинское', 'Пригородный', 'Приладожский', 'Приморск',\n",
       "       'Приозерск', 'Пудомяги', 'Пудость', 'Пустынка', 'Путилово',\n",
       "       'Пушкин', 'Пушное', 'Пчевжа', 'Рабитицы', 'Разбегаево',\n",
       "       'Разметелево', 'Рапполово', 'Рахья', 'Реброво', 'Репино',\n",
       "       'Рождествено', 'Романовка', 'Ромашки', 'Ропша', 'Рощино', 'Русско',\n",
       "       'Русско-Высоцкое', 'Рябово', 'Садко', 'Санкт-Петербург',\n",
       "       'Сапёрное', 'Сапёрный', 'Светогорск', 'Свирь', 'Свирьстрой',\n",
       "       'Севастьяново', 'Селезнёво', 'Сельцо', 'Семиозерье', 'Семрино',\n",
       "       'Серебрянский', 'Сертолово', 'Сестрорецк', 'Сиверский', 'Синявино',\n",
       "       'Сланцы', 'Советский', 'Совхозный', 'Сосново', 'Сосновый Бор',\n",
       "       'Старая', 'Старая Ладога', 'Старая Малукса', 'Старая Пустошь',\n",
       "       'Старое Хинколово', 'Старополье', 'Старосиверская',\n",
       "       'Старые Бегуницы', 'Стеклянный', 'Стрельна', 'Суйда', 'Сумино',\n",
       "       'Суоранда', 'Суходолье', 'Счастье', 'Сяськелево', 'Сясьстрой',\n",
       "       'Тайцы', 'Тарасово', 'Тельмана', 'Терволово', 'Терпилицы',\n",
       "       'Тихвин', 'Тихковицы', 'Токсово', 'Торковичи', 'Торосово',\n",
       "       'Торфяное', 'Тосно', 'Трубников Бор', 'Тёсово-4', 'Углово',\n",
       "       'Ульяновка', 'Усть-Ижора', 'Усть-Луга', 'Ушаки', 'Фалилеево',\n",
       "       'Форносово', 'Фёдоровское', 'Хапо-Ое', 'Хязельки', 'Цвылёво',\n",
       "       'Шлиссельбург', 'Шпаньково', 'Шум', 'Шушары', 'Щеглово', 'Юкки',\n",
       "       'Ялгино', 'Яльгелево', 'Ям-Тесово', 'Янино-1', 'имени Морозова',\n",
       "       'имени Свердлова'], dtype=object)"
      ]
     },
     "execution_count": 42,
     "metadata": {},
     "output_type": "execute_result"
    }
   ],
   "source": [
    "df['locality_name'].sort_values().unique()"
   ]
  },
  {
   "cell_type": "code",
   "execution_count": null,
   "id": "3e38ae66",
   "metadata": {},
   "outputs": [],
   "source": [
    "Все дублирующие названия приведены к единому виду."
   ]
  },
  {
   "cell_type": "markdown",
   "id": "e5816c87",
   "metadata": {},
   "source": [
    "## 3. Дополнение данных"
   ]
  },
  {
   "cell_type": "markdown",
   "id": "b285fcb4",
   "metadata": {},
   "source": [
    "**Цена за м2**\n",
    "  \n",
    "Необходимо добавить столбец со стоимостью м2 объектов недвижимости"
   ]
  },
  {
   "cell_type": "code",
   "execution_count": 46,
   "id": "0905a517",
   "metadata": {},
   "outputs": [],
   "source": [
    "df['sqare_meter_price'] = df['last_price'] / df['total_area']"
   ]
  },
  {
   "cell_type": "markdown",
   "id": "be41dd7a",
   "metadata": {},
   "source": [
    "**Время размещения объявления**\n",
    "  \n",
    "Для дальнейшего исследования добавляются столбцы с днем недели, месяцем и годом размещения объявления о продаже."
   ]
  },
  {
   "cell_type": "code",
   "execution_count": 47,
   "id": "54160356",
   "metadata": {},
   "outputs": [],
   "source": [
    "df['first_day_exposition'] = pd.to_datetime(df['first_day_exposition'], format='%Y-%m-%dT%H:%M:%S')"
   ]
  },
  {
   "cell_type": "code",
   "execution_count": 50,
   "id": "b53a9a15",
   "metadata": {},
   "outputs": [],
   "source": [
    "df['exposition_weekday'] = df['first_day_exposition'].dt.dayofweek\n",
    "df['exposition_month'] = df['first_day_exposition'].dt.month\n",
    "df['exposition_year'] = df['first_day_exposition'].dt.year"
   ]
  },
  {
   "cell_type": "markdown",
   "id": "f09b1778",
   "metadata": {},
   "source": [
    "**Тип этажа**\n",
    "  \n",
    "Добавляется столбец с типом этажа, на котором располагается квартира:  \n",
    "`Первый`, `Последний` или `Другой`"
   ]
  },
  {
   "cell_type": "code",
   "execution_count": null,
   "id": "a1d96447",
   "metadata": {
    "scrolled": true
   },
   "outputs": [],
   "source": [
    "df['floor_type'] = 'другой'\n",
    "df['floor_type'][df['floor'] == 1] = 'первый'\n",
    "df['floor_type'][df['floor'] == df['floors_total']] = 'последний'"
   ]
  },
  {
   "cell_type": "markdown",
   "id": "c4fa6383",
   "metadata": {},
   "source": [
    "**Удаленность от центра в км**\n",
    "\n",
    "Значения удаленности от центра переводятся в км и округляются."
   ]
  },
  {
   "cell_type": "code",
   "execution_count": 55,
   "id": "565932e8",
   "metadata": {},
   "outputs": [],
   "source": [
    "df['cityCenters_nearest_km'] = df['cityCenters_nearest'] / 1000\n",
    "df['cityCenters_nearest_km'] = df['cityCenters_nearest_km'].round(0).astype(int)"
   ]
  },
  {
   "cell_type": "markdown",
   "id": "e2df0853",
   "metadata": {},
   "source": [
    "**Проверка дополненности датафрейма**"
   ]
  },
  {
   "cell_type": "code",
   "execution_count": 56,
   "id": "a6eec41b",
   "metadata": {
    "scrolled": true
   },
   "outputs": [
    {
     "data": {
      "text/html": [
       "<div>\n",
       "<style scoped>\n",
       "    .dataframe tbody tr th:only-of-type {\n",
       "        vertical-align: middle;\n",
       "    }\n",
       "\n",
       "    .dataframe tbody tr th {\n",
       "        vertical-align: top;\n",
       "    }\n",
       "\n",
       "    .dataframe thead th {\n",
       "        text-align: right;\n",
       "    }\n",
       "</style>\n",
       "<table border=\"1\" class=\"dataframe\">\n",
       "  <thead>\n",
       "    <tr style=\"text-align: right;\">\n",
       "      <th></th>\n",
       "      <th>total_images</th>\n",
       "      <th>last_price</th>\n",
       "      <th>total_area</th>\n",
       "      <th>first_day_exposition</th>\n",
       "      <th>rooms</th>\n",
       "      <th>ceiling_height</th>\n",
       "      <th>floors_total</th>\n",
       "      <th>living_area</th>\n",
       "      <th>floor</th>\n",
       "      <th>is_apartment</th>\n",
       "      <th>...</th>\n",
       "      <th>parks_around3000</th>\n",
       "      <th>parks_nearest</th>\n",
       "      <th>ponds_around3000</th>\n",
       "      <th>ponds_nearest</th>\n",
       "      <th>days_exposition</th>\n",
       "      <th>sqare_meter_price</th>\n",
       "      <th>exposition_weekday</th>\n",
       "      <th>exposition_month</th>\n",
       "      <th>exposition_year</th>\n",
       "      <th>cityCenters_nearest_km</th>\n",
       "    </tr>\n",
       "  </thead>\n",
       "  <tbody>\n",
       "    <tr>\n",
       "      <th>0</th>\n",
       "      <td>7</td>\n",
       "      <td>3350000.0</td>\n",
       "      <td>40.4</td>\n",
       "      <td>2018-12-04</td>\n",
       "      <td>1</td>\n",
       "      <td>2.65</td>\n",
       "      <td>11</td>\n",
       "      <td>18.600000</td>\n",
       "      <td>1</td>\n",
       "      <td>False</td>\n",
       "      <td>...</td>\n",
       "      <td>0</td>\n",
       "      <td>3000</td>\n",
       "      <td>0</td>\n",
       "      <td>3000</td>\n",
       "      <td>81.0</td>\n",
       "      <td>82920.792079</td>\n",
       "      <td>1</td>\n",
       "      <td>12</td>\n",
       "      <td>2018</td>\n",
       "      <td>19</td>\n",
       "    </tr>\n",
       "    <tr>\n",
       "      <th>1</th>\n",
       "      <td>10</td>\n",
       "      <td>5196000.0</td>\n",
       "      <td>56.0</td>\n",
       "      <td>2015-08-20</td>\n",
       "      <td>2</td>\n",
       "      <td>2.65</td>\n",
       "      <td>5</td>\n",
       "      <td>34.300000</td>\n",
       "      <td>4</td>\n",
       "      <td>False</td>\n",
       "      <td>...</td>\n",
       "      <td>1</td>\n",
       "      <td>90</td>\n",
       "      <td>2</td>\n",
       "      <td>574</td>\n",
       "      <td>558.0</td>\n",
       "      <td>92785.714286</td>\n",
       "      <td>3</td>\n",
       "      <td>8</td>\n",
       "      <td>2015</td>\n",
       "      <td>14</td>\n",
       "    </tr>\n",
       "    <tr>\n",
       "      <th>2</th>\n",
       "      <td>0</td>\n",
       "      <td>64900000.0</td>\n",
       "      <td>159.0</td>\n",
       "      <td>2015-07-24</td>\n",
       "      <td>3</td>\n",
       "      <td>2.65</td>\n",
       "      <td>14</td>\n",
       "      <td>0.564766</td>\n",
       "      <td>9</td>\n",
       "      <td>False</td>\n",
       "      <td>...</td>\n",
       "      <td>2</td>\n",
       "      <td>84</td>\n",
       "      <td>3</td>\n",
       "      <td>234</td>\n",
       "      <td>424.0</td>\n",
       "      <td>408176.100629</td>\n",
       "      <td>4</td>\n",
       "      <td>7</td>\n",
       "      <td>2015</td>\n",
       "      <td>7</td>\n",
       "    </tr>\n",
       "    <tr>\n",
       "      <th>3</th>\n",
       "      <td>2</td>\n",
       "      <td>10000000.0</td>\n",
       "      <td>100.0</td>\n",
       "      <td>2018-06-19</td>\n",
       "      <td>2</td>\n",
       "      <td>3.03</td>\n",
       "      <td>14</td>\n",
       "      <td>32.000000</td>\n",
       "      <td>13</td>\n",
       "      <td>False</td>\n",
       "      <td>...</td>\n",
       "      <td>2</td>\n",
       "      <td>112</td>\n",
       "      <td>1</td>\n",
       "      <td>48</td>\n",
       "      <td>121.0</td>\n",
       "      <td>100000.000000</td>\n",
       "      <td>1</td>\n",
       "      <td>6</td>\n",
       "      <td>2018</td>\n",
       "      <td>8</td>\n",
       "    </tr>\n",
       "    <tr>\n",
       "      <th>4</th>\n",
       "      <td>10</td>\n",
       "      <td>2890000.0</td>\n",
       "      <td>30.4</td>\n",
       "      <td>2018-09-10</td>\n",
       "      <td>1</td>\n",
       "      <td>2.65</td>\n",
       "      <td>12</td>\n",
       "      <td>14.400000</td>\n",
       "      <td>5</td>\n",
       "      <td>False</td>\n",
       "      <td>...</td>\n",
       "      <td>0</td>\n",
       "      <td>3000</td>\n",
       "      <td>0</td>\n",
       "      <td>3000</td>\n",
       "      <td>55.0</td>\n",
       "      <td>95065.789474</td>\n",
       "      <td>0</td>\n",
       "      <td>9</td>\n",
       "      <td>2018</td>\n",
       "      <td>0</td>\n",
       "    </tr>\n",
       "  </tbody>\n",
       "</table>\n",
       "<p>5 rows × 27 columns</p>\n",
       "</div>"
      ],
      "text/plain": [
       "   total_images  last_price  total_area first_day_exposition  rooms  \\\n",
       "0             7   3350000.0        40.4           2018-12-04      1   \n",
       "1            10   5196000.0        56.0           2015-08-20      2   \n",
       "2             0  64900000.0       159.0           2015-07-24      3   \n",
       "3             2  10000000.0       100.0           2018-06-19      2   \n",
       "4            10   2890000.0        30.4           2018-09-10      1   \n",
       "\n",
       "   ceiling_height  floors_total  living_area  floor  is_apartment  ...  \\\n",
       "0            2.65            11    18.600000      1         False  ...   \n",
       "1            2.65             5    34.300000      4         False  ...   \n",
       "2            2.65            14     0.564766      9         False  ...   \n",
       "3            3.03            14    32.000000     13         False  ...   \n",
       "4            2.65            12    14.400000      5         False  ...   \n",
       "\n",
       "   parks_around3000  parks_nearest  ponds_around3000  ponds_nearest  \\\n",
       "0                 0           3000                 0           3000   \n",
       "1                 1             90                 2            574   \n",
       "2                 2             84                 3            234   \n",
       "3                 2            112                 1             48   \n",
       "4                 0           3000                 0           3000   \n",
       "\n",
       "  days_exposition  sqare_meter_price  exposition_weekday  exposition_month  \\\n",
       "0            81.0       82920.792079                   1                12   \n",
       "1           558.0       92785.714286                   3                 8   \n",
       "2           424.0      408176.100629                   4                 7   \n",
       "3           121.0      100000.000000                   1                 6   \n",
       "4            55.0       95065.789474                   0                 9   \n",
       "\n",
       "   exposition_year  cityCenters_nearest_km  \n",
       "0             2018                      19  \n",
       "1             2015                      14  \n",
       "2             2015                       7  \n",
       "3             2018                       8  \n",
       "4             2018                       0  \n",
       "\n",
       "[5 rows x 27 columns]"
      ]
     },
     "execution_count": 56,
     "metadata": {},
     "output_type": "execute_result"
    }
   ],
   "source": [
    "df.head()"
   ]
  },
  {
   "cell_type": "markdown",
   "id": "09003e1c",
   "metadata": {},
   "source": [
    "Все необходимые для исследования данные добавлены."
   ]
  },
  {
   "cell_type": "markdown",
   "id": "94e6a190",
   "metadata": {},
   "source": [
    "## 4. Исследовательский анализ"
   ]
  },
  {
   "cell_type": "code",
   "execution_count": 117,
   "id": "8c351a88",
   "metadata": {},
   "outputs": [],
   "source": [
    "columns_to_analyse = ['total_area', 'living_area', 'kitchen_area',\n",
    " 'last_price', 'rooms', 'ceiling_height',\n",
    " 'floor', 'floors_total',\n",
    " 'cityCenters_nearest', 'airports_nearest', 'parks_nearest', \n",
    " 'exposition_weekday', 'exposition_month']"
   ]
  },
  {
   "cell_type": "code",
   "execution_count": 111,
   "id": "58a9cfab",
   "metadata": {},
   "outputs": [],
   "source": [
    "def top_range (col):\n",
    "    Q1 = df[col].quantile(0.25)\n",
    "    Q3 = df[col].quantile(0.75)\n",
    "    IQR = Q3-Q1\n",
    "    top_range = Q3+IQR*1.5 \n",
    "    return top_range"
   ]
  },
  {
   "cell_type": "code",
   "execution_count": 118,
   "id": "248e9e9b",
   "metadata": {
    "scrolled": true
   },
   "outputs": [
    {
     "data": {
      "image/png": "[encoded data removed]",
      "text/plain": [
       "<Figure size 432x288 with 1 Axes>"
      ]
     },
     "metadata": {
      "needs_background": "light"
     },
     "output_type": "display_data"
    },
    {
     "data": {
      "image/png": "[encoded data removed]",
      "text/plain": [
       "<Figure size 432x288 with 1 Axes>"
      ]
     },
     "metadata": {
      "needs_background": "light"
     },
     "output_type": "display_data"
    },
    {
     "data": {
      "image/png": "[encoded data removed]",
      "text/plain": [
       "<Figure size 432x288 with 1 Axes>"
      ]
     },
     "metadata": {
      "needs_background": "light"
     },
     "output_type": "display_data"
    },
    {
     "data": {
      "image/png": "[encoded data removed]",
      "text/plain": [
       "<Figure size 432x288 with 1 Axes>"
      ]
     },
     "metadata": {
      "needs_background": "light"
     },
     "output_type": "display_data"
    },
    {
     "data": {
      "image/png": "[encoded data removed]",
      "text/plain": [
       "<Figure size 432x288 with 1 Axes>"
      ]
     },
     "metadata": {
      "needs_background": "light"
     },
     "output_type": "display_data"
    },
    {
     "data": {
      "image/png": "[encoded data removed]",
      "text/plain": [
       "<Figure size 432x288 with 1 Axes>"
      ]
     },
     "metadata": {
      "needs_background": "light"
     },
     "output_type": "display_data"
    },
    {
     "data": {
      "image/png": "[encoded data removed]",
      "text/plain": [
       "<Figure size 432x288 with 1 Axes>"
      ]
     },
     "metadata": {
      "needs_background": "light"
     },
     "output_type": "display_data"
    },
    {
     "data": {
      "image/png": "[encoded data removed]",
      "text/plain": [
       "<Figure size 432x288 with 1 Axes>"
      ]
     },
     "metadata": {
      "needs_background": "light"
     },
     "output_type": "display_data"
    },
    {
     "data": {
      "image/png": "[encoded data removed]",
      "text/plain": [
       "<Figure size 432x288 with 1 Axes>"
      ]
     },
     "metadata": {
      "needs_background": "light"
     },
     "output_type": "display_data"
    },
    {
     "data": {
      "image/png": "[encoded data removed]",
      "text/plain": [
       "<Figure size 432x288 with 1 Axes>"
      ]
     },
     "metadata": {
      "needs_background": "light"
     },
     "output_type": "display_data"
    },
    {
     "data": {
      "image/png": "[encoded data removed]",
      "text/plain": [
       "<Figure size 432x288 with 1 Axes>"
      ]
     },
     "metadata": {
      "needs_background": "light"
     },
     "output_type": "display_data"
    },
    {
     "data": {
      "image/png": "[encoded data removed]",
      "text/plain": [
       "<Figure size 432x288 with 1 Axes>"
      ]
     },
     "metadata": {
      "needs_background": "light"
     },
     "output_type": "display_data"
    },
    {
     "data": {
      "image/png": "[encoded data removed]",
      "text/plain": [
       "<Figure size 432x288 with 1 Axes>"
      ]
     },
     "metadata": {
      "needs_background": "light"
     },
     "output_type": "display_data"
    }
   ],
   "source": [
    "for col in columns_to_analyse:\n",
    "    df.hist(column=col, bins=50, range=(0,top_range(col)))"
   ]
  },
  {
   "cell_type": "code",
   "execution_count": 124,
   "id": "585e867b",
   "metadata": {},
   "outputs": [
    {
     "data": {
      "text/plain": [
       "array([[<AxesSubplot:title={'center':'total_images'}>,\n",
       "        <AxesSubplot:title={'center':'last_price'}>,\n",
       "        <AxesSubplot:title={'center':'total_area'}>,\n",
       "        <AxesSubplot:title={'center':'first_day_exposition'}>,\n",
       "        <AxesSubplot:title={'center':'rooms'}>],\n",
       "       [<AxesSubplot:title={'center':'ceiling_height'}>,\n",
       "        <AxesSubplot:title={'center':'floors_total'}>,\n",
       "        <AxesSubplot:title={'center':'living_area'}>,\n",
       "        <AxesSubplot:title={'center':'floor'}>,\n",
       "        <AxesSubplot:title={'center':'kitchen_area'}>],\n",
       "       [<AxesSubplot:title={'center':'balcony'}>,\n",
       "        <AxesSubplot:title={'center':'airports_nearest'}>,\n",
       "        <AxesSubplot:title={'center':'cityCenters_nearest'}>,\n",
       "        <AxesSubplot:title={'center':'parks_around3000'}>,\n",
       "        <AxesSubplot:title={'center':'parks_nearest'}>],\n",
       "       [<AxesSubplot:title={'center':'ponds_around3000'}>,\n",
       "        <AxesSubplot:title={'center':'ponds_nearest'}>,\n",
       "        <AxesSubplot:title={'center':'days_exposition'}>,\n",
       "        <AxesSubplot:title={'center':'sqare_meter_price'}>,\n",
       "        <AxesSubplot:title={'center':'exposition_weekday'}>],\n",
       "       [<AxesSubplot:title={'center':'exposition_month'}>,\n",
       "        <AxesSubplot:title={'center':'exposition_year'}>,\n",
       "        <AxesSubplot:title={'center':'cityCenters_nearest_km'}>,\n",
       "        <AxesSubplot:>, <AxesSubplot:>]], dtype=object)"
      ]
     },
     "execution_count": 124,
     "metadata": {},
     "output_type": "execute_result"
    },
    {
     "data": {
      "image/png": "[encoded data removed]",
      "text/plain": [
       "<Figure size 1440x720 with 25 Axes>"
      ]
     },
     "metadata": {
      "needs_background": "light"
     },
     "output_type": "display_data"
    }
   ],
   "source": [
    "df.hist(figsize=(20,10))"
   ]
  }
 ],
 "metadata": {
  "kernelspec": {
   "display_name": "Python 3 (ipykernel)",
   "language": "python",
   "name": "python3"
  },
  "language_info": {
   "codemirror_mode": {
    "name": "ipython",
    "version": 3
   },
   "file_extension": ".py",
   "mimetype": "text/x-python",
   "name": "python",
   "nbconvert_exporter": "python",
   "pygments_lexer": "ipython3",
   "version": "3.9.12"
  }
 },
 "nbformat": 4,
 "nbformat_minor": 5
}
