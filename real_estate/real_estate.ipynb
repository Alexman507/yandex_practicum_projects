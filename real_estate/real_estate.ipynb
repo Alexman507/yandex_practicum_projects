{
 "cells": [
  {
   "cell_type": "markdown",
   "id": "6907b89e",
   "metadata": {},
   "source": [
    "## Оглавление:\n",
    "\n",
    "* [1. Обзор данных](#обзор_данных)\n",
    "* [2. Предобработка данных](#предобработка_данных)\n",
    "    * [2.1. Обработка пропущенных значений](#обработка_пропусков)\n",
    "    * [2.2. Обработка дублирующих наименований](#обработка_дубликатов)\n",
    "* [3. Дополнение данных](#дополнение_данных)\n",
    "* [4. Исследовательский анализ](#исследовательский_анализ)\n",
    "    * [4.1. Оценка распределения значений](#оценка_распределения)\n",
    "    * [4.2. Изучение скорости продажи недвижимости](#изучение_скорости)\n",
    "    * [4.3. Зависимость цены от различных параметров](#зависимость_цены)\n",
    "    * [4.4. Средняя стоимость за м2](#стоимость_за_м2)\n",
    "    * [4.5. Отличие стоимости за м2 в центре и на окраине Санкт-Перербурга](#удаленность_от_центра_спб)\n",
    "* [5. Выводы](#выводы)"
   ]
  },
  {
   "cell_type": "markdown",
   "id": "94b4ee6a",
   "metadata": {},
   "source": [
    "# Оценка рынка недвижимости Санкт-Петербурга и Ленинградской области"
   ]
  },
  {
   "cell_type": "markdown",
   "id": "bf8a677a",
   "metadata": {},
   "source": [
    "**Цель исследования** - Нахождение зависимостей между различными параметрами жилья, такими как площадь квартиры, удленность от центра города, наличие балкона и другие.\n",
    "  \n",
    "**Ход исследования**\n",
    "\n",
    "Данные о поведении пользователей получены из файла с расширением .csv. \n",
    "К данным приложена документация, однако могут встречаться пропуски или значения, искажающие данные.\n",
    "Поэтому перед проверкой гипотез требуется провести обзор данных и их обработку.\n",
    "\n",
    "Далее необходимо провести анализ следующих параметров:\n",
    "\n",
    "* Оценить распределение значений основных параметров\n",
    "* Изучить время, за которое обычно продаются квартиры\n",
    "* Оценить влияние различных параметров на стоимость недвижимости\n",
    "* Определить среднюю стоимость за м2 для различных населенных пунктов\n",
    "* Выяснить зависимость стоимости недвижимости от расстояния до центра"
   ]
  },
  {
   "cell_type": "markdown",
   "id": "b44caad9",
   "metadata": {},
   "source": [
    "## 1. Обзор данных <a class=\"anchor\" id=\"обзор_данных\"></a>"
   ]
  },
  {
   "cell_type": "markdown",
   "id": "e4645cc1",
   "metadata": {},
   "source": [
    "В исследовании используются средства библиотеки `pandas`.\n",
    "Данные получены в виде файла с расширением .csv"
   ]
  },
  {
   "cell_type": "code",
   "execution_count": 89,
   "id": "348acd9d",
   "metadata": {},
   "outputs": [],
   "source": [
    "import pandas as pd\n",
    "import numpy as np\n",
    "import matplotlib.pyplot as plt\n",
    "import warnings\n",
    "warnings.filterwarnings('ignore')"
   ]
  },
  {
   "cell_type": "code",
   "execution_count": 2,
   "id": "65908a56",
   "metadata": {},
   "outputs": [],
   "source": [
    "# df = pd.read_csv('real_estate_data.csv', sep='\\t')"
   ]
  },
  {
   "cell_type": "code",
   "execution_count": 3,
   "id": "ed85e1da",
   "metadata": {},
   "outputs": [],
   "source": [
    "try:\n",
    "    df = pd.read_csv('/datasets/real_estate_data.csv', sep='\\t')\n",
    "except:\n",
    "    df = pd.read_csv('https://code.s3.yandex.net/datasets/real_estate_data.csv', sep='\\t')"
   ]
  },
  {
   "cell_type": "markdown",
   "id": "d1b75fb5",
   "metadata": {},
   "source": [
    "Для общего представления о полученных данных осуществляется вывод первых 5-ти строк таблицы,\n",
    "а также используется метод `info`."
   ]
  },
  {
   "cell_type": "code",
   "execution_count": 4,
   "id": "c112f70d",
   "metadata": {},
   "outputs": [
    {
     "data": {
      "text/html": [
       "<div>\n",
       "<style scoped>\n",
       "    .dataframe tbody tr th:only-of-type {\n",
       "        vertical-align: middle;\n",
       "    }\n",
       "\n",
       "    .dataframe tbody tr th {\n",
       "        vertical-align: top;\n",
       "    }\n",
       "\n",
       "    .dataframe thead th {\n",
       "        text-align: right;\n",
       "    }\n",
       "</style>\n",
       "<table border=\"1\" class=\"dataframe\">\n",
       "  <thead>\n",
       "    <tr style=\"text-align: right;\">\n",
       "      <th></th>\n",
       "      <th>total_images</th>\n",
       "      <th>last_price</th>\n",
       "      <th>total_area</th>\n",
       "      <th>first_day_exposition</th>\n",
       "      <th>rooms</th>\n",
       "      <th>ceiling_height</th>\n",
       "      <th>floors_total</th>\n",
       "      <th>living_area</th>\n",
       "      <th>floor</th>\n",
       "      <th>is_apartment</th>\n",
       "      <th>...</th>\n",
       "      <th>kitchen_area</th>\n",
       "      <th>balcony</th>\n",
       "      <th>locality_name</th>\n",
       "      <th>airports_nearest</th>\n",
       "      <th>cityCenters_nearest</th>\n",
       "      <th>parks_around3000</th>\n",
       "      <th>parks_nearest</th>\n",
       "      <th>ponds_around3000</th>\n",
       "      <th>ponds_nearest</th>\n",
       "      <th>days_exposition</th>\n",
       "    </tr>\n",
       "  </thead>\n",
       "  <tbody>\n",
       "    <tr>\n",
       "      <th>0</th>\n",
       "      <td>20</td>\n",
       "      <td>13000000.0</td>\n",
       "      <td>108.0</td>\n",
       "      <td>2019-03-07T00:00:00</td>\n",
       "      <td>3</td>\n",
       "      <td>2.70</td>\n",
       "      <td>16.0</td>\n",
       "      <td>51.0</td>\n",
       "      <td>8</td>\n",
       "      <td>NaN</td>\n",
       "      <td>...</td>\n",
       "      <td>25.0</td>\n",
       "      <td>NaN</td>\n",
       "      <td>Санкт-Петербург</td>\n",
       "      <td>18863.0</td>\n",
       "      <td>16028.0</td>\n",
       "      <td>1.0</td>\n",
       "      <td>482.0</td>\n",
       "      <td>2.0</td>\n",
       "      <td>755.0</td>\n",
       "      <td>NaN</td>\n",
       "    </tr>\n",
       "    <tr>\n",
       "      <th>1</th>\n",
       "      <td>7</td>\n",
       "      <td>3350000.0</td>\n",
       "      <td>40.4</td>\n",
       "      <td>2018-12-04T00:00:00</td>\n",
       "      <td>1</td>\n",
       "      <td>NaN</td>\n",
       "      <td>11.0</td>\n",
       "      <td>18.6</td>\n",
       "      <td>1</td>\n",
       "      <td>NaN</td>\n",
       "      <td>...</td>\n",
       "      <td>11.0</td>\n",
       "      <td>2.0</td>\n",
       "      <td>посёлок Шушары</td>\n",
       "      <td>12817.0</td>\n",
       "      <td>18603.0</td>\n",
       "      <td>0.0</td>\n",
       "      <td>NaN</td>\n",
       "      <td>0.0</td>\n",
       "      <td>NaN</td>\n",
       "      <td>81.0</td>\n",
       "    </tr>\n",
       "    <tr>\n",
       "      <th>2</th>\n",
       "      <td>10</td>\n",
       "      <td>5196000.0</td>\n",
       "      <td>56.0</td>\n",
       "      <td>2015-08-20T00:00:00</td>\n",
       "      <td>2</td>\n",
       "      <td>NaN</td>\n",
       "      <td>5.0</td>\n",
       "      <td>34.3</td>\n",
       "      <td>4</td>\n",
       "      <td>NaN</td>\n",
       "      <td>...</td>\n",
       "      <td>8.3</td>\n",
       "      <td>0.0</td>\n",
       "      <td>Санкт-Петербург</td>\n",
       "      <td>21741.0</td>\n",
       "      <td>13933.0</td>\n",
       "      <td>1.0</td>\n",
       "      <td>90.0</td>\n",
       "      <td>2.0</td>\n",
       "      <td>574.0</td>\n",
       "      <td>558.0</td>\n",
       "    </tr>\n",
       "    <tr>\n",
       "      <th>3</th>\n",
       "      <td>0</td>\n",
       "      <td>64900000.0</td>\n",
       "      <td>159.0</td>\n",
       "      <td>2015-07-24T00:00:00</td>\n",
       "      <td>3</td>\n",
       "      <td>NaN</td>\n",
       "      <td>14.0</td>\n",
       "      <td>NaN</td>\n",
       "      <td>9</td>\n",
       "      <td>NaN</td>\n",
       "      <td>...</td>\n",
       "      <td>NaN</td>\n",
       "      <td>0.0</td>\n",
       "      <td>Санкт-Петербург</td>\n",
       "      <td>28098.0</td>\n",
       "      <td>6800.0</td>\n",
       "      <td>2.0</td>\n",
       "      <td>84.0</td>\n",
       "      <td>3.0</td>\n",
       "      <td>234.0</td>\n",
       "      <td>424.0</td>\n",
       "    </tr>\n",
       "    <tr>\n",
       "      <th>4</th>\n",
       "      <td>2</td>\n",
       "      <td>10000000.0</td>\n",
       "      <td>100.0</td>\n",
       "      <td>2018-06-19T00:00:00</td>\n",
       "      <td>2</td>\n",
       "      <td>3.03</td>\n",
       "      <td>14.0</td>\n",
       "      <td>32.0</td>\n",
       "      <td>13</td>\n",
       "      <td>NaN</td>\n",
       "      <td>...</td>\n",
       "      <td>41.0</td>\n",
       "      <td>NaN</td>\n",
       "      <td>Санкт-Петербург</td>\n",
       "      <td>31856.0</td>\n",
       "      <td>8098.0</td>\n",
       "      <td>2.0</td>\n",
       "      <td>112.0</td>\n",
       "      <td>1.0</td>\n",
       "      <td>48.0</td>\n",
       "      <td>121.0</td>\n",
       "    </tr>\n",
       "  </tbody>\n",
       "</table>\n",
       "<p>5 rows × 22 columns</p>\n",
       "</div>"
      ],
      "text/plain": [
       "   total_images  last_price  total_area first_day_exposition  rooms  \\\n",
       "0            20  13000000.0       108.0  2019-03-07T00:00:00      3   \n",
       "1             7   3350000.0        40.4  2018-12-04T00:00:00      1   \n",
       "2            10   5196000.0        56.0  2015-08-20T00:00:00      2   \n",
       "3             0  64900000.0       159.0  2015-07-24T00:00:00      3   \n",
       "4             2  10000000.0       100.0  2018-06-19T00:00:00      2   \n",
       "\n",
       "   ceiling_height  floors_total  living_area  floor is_apartment  ...  \\\n",
       "0            2.70          16.0         51.0      8          NaN  ...   \n",
       "1             NaN          11.0         18.6      1          NaN  ...   \n",
       "2             NaN           5.0         34.3      4          NaN  ...   \n",
       "3             NaN          14.0          NaN      9          NaN  ...   \n",
       "4            3.03          14.0         32.0     13          NaN  ...   \n",
       "\n",
       "   kitchen_area  balcony    locality_name  airports_nearest  \\\n",
       "0          25.0      NaN  Санкт-Петербург           18863.0   \n",
       "1          11.0      2.0   посёлок Шушары           12817.0   \n",
       "2           8.3      0.0  Санкт-Петербург           21741.0   \n",
       "3           NaN      0.0  Санкт-Петербург           28098.0   \n",
       "4          41.0      NaN  Санкт-Петербург           31856.0   \n",
       "\n",
       "  cityCenters_nearest  parks_around3000  parks_nearest  ponds_around3000  \\\n",
       "0             16028.0               1.0          482.0               2.0   \n",
       "1             18603.0               0.0            NaN               0.0   \n",
       "2             13933.0               1.0           90.0               2.0   \n",
       "3              6800.0               2.0           84.0               3.0   \n",
       "4              8098.0               2.0          112.0               1.0   \n",
       "\n",
       "   ponds_nearest  days_exposition  \n",
       "0          755.0              NaN  \n",
       "1            NaN             81.0  \n",
       "2          574.0            558.0  \n",
       "3          234.0            424.0  \n",
       "4           48.0            121.0  \n",
       "\n",
       "[5 rows x 22 columns]"
      ]
     },
     "execution_count": 4,
     "metadata": {},
     "output_type": "execute_result"
    }
   ],
   "source": [
    "df.head()"
   ]
  },
  {
   "cell_type": "markdown",
   "id": "2bb02a6f",
   "metadata": {},
   "source": [
    "**Наименования столбцов**\n",
    "  \n",
    "`airports_nearest` — расстояние до ближайшего аэропорта в метрах (м)  \n",
    "`balcony` — число балконов  \n",
    "`ceiling_height` — высота потолков (м)  \n",
    "`cityCenters_nearest` — расстояние до центра города (м)  \n",
    "`days_exposition` — сколько дней было размещено объявление (от публикации до снятия)  \n",
    "`first_day_exposition` — дата публикации  \n",
    "`floor` — этаж  \n",
    "`floors_total` — всего этажей в доме  \n",
    "`is_apartment` — апартаменты (булев тип)  \n",
    "`kitchen_area` — площадь кухни в квадратных метрах (м²)  \n",
    "`last_price` — цена на момент снятия с публикации  \n",
    "`living_area` — жилая площадь в квадратных метрах (м²)  \n",
    "`locality_name` — название населённого пункта  \n",
    "`open_plan` — свободная планировка (булев тип)  \n",
    "`parks_around3000` — число парков в радиусе 3 км  \n",
    "`parks_nearest` — расстояние до ближайшего парка (м)  \n",
    "`ponds_around3000` — число водоёмов в радиусе 3 км  \n",
    "`ponds_nearest` — расстояние до ближайшего водоёма (м)  \n",
    "`rooms` — число комнат  \n",
    "`studio` — квартира-студия (булев тип)  \n",
    "`total_area` — общая площадь квартиры в квадратных метрах (м²)  \n",
    "`total_images` — число фотографий квартиры в объявлении  "
   ]
  },
  {
   "cell_type": "code",
   "execution_count": 85,
   "id": "dbab824c",
   "metadata": {},
   "outputs": [
    {
     "data": {
      "image/png": "[encoded data removed]",
      "text/plain": [
       "<Figure size 1080x1440 with 25 Axes>"
      ]
     },
     "metadata": {
      "needs_background": "light"
     },
     "output_type": "display_data"
    }
   ],
   "source": [
    "df.hist(figsize=(15, 20));"
   ]
  },
  {
   "cell_type": "markdown",
   "id": "a0688778",
   "metadata": {},
   "source": [
    "По области значений гистограмм заметно, что среди значений многих столбцов имеются \"выбросы\" - значения, сильно отличающиеся от большинства."
   ]
  },
  {
   "cell_type": "code",
   "execution_count": 6,
   "id": "31d3a031",
   "metadata": {},
   "outputs": [
    {
     "name": "stdout",
     "output_type": "stream",
     "text": [
      "<class 'pandas.core.frame.DataFrame'>\n",
      "RangeIndex: 23699 entries, 0 to 23698\n",
      "Data columns (total 22 columns):\n",
      " #   Column                Non-Null Count  Dtype  \n",
      "---  ------                --------------  -----  \n",
      " 0   total_images          23699 non-null  int64  \n",
      " 1   last_price            23699 non-null  float64\n",
      " 2   total_area            23699 non-null  float64\n",
      " 3   first_day_exposition  23699 non-null  object \n",
      " 4   rooms                 23699 non-null  int64  \n",
      " 5   ceiling_height        14504 non-null  float64\n",
      " 6   floors_total          23613 non-null  float64\n",
      " 7   living_area           21796 non-null  float64\n",
      " 8   floor                 23699 non-null  int64  \n",
      " 9   is_apartment          2775 non-null   object \n",
      " 10  studio                23699 non-null  bool   \n",
      " 11  open_plan             23699 non-null  bool   \n",
      " 12  kitchen_area          21421 non-null  float64\n",
      " 13  balcony               12180 non-null  float64\n",
      " 14  locality_name         23650 non-null  object \n",
      " 15  airports_nearest      18157 non-null  float64\n",
      " 16  cityCenters_nearest   18180 non-null  float64\n",
      " 17  parks_around3000      18181 non-null  float64\n",
      " 18  parks_nearest         8079 non-null   float64\n",
      " 19  ponds_around3000      18181 non-null  float64\n",
      " 20  ponds_nearest         9110 non-null   float64\n",
      " 21  days_exposition       20518 non-null  float64\n",
      "dtypes: bool(2), float64(14), int64(3), object(3)\n",
      "memory usage: 3.7+ MB\n"
     ]
    }
   ],
   "source": [
    "df.info()"
   ]
  },
  {
   "cell_type": "code",
   "execution_count": 7,
   "id": "0e317162",
   "metadata": {},
   "outputs": [],
   "source": [
    "# check\n",
    "# пропущенные значения бары\n",
    "\n",
    "def pass_value_barh(df):\n",
    "    try:\n",
    "        (\n",
    "            (df.isna().mean()*100)\n",
    "            .to_frame()\n",
    "            .rename(columns = {0:'space'})\n",
    "            .query('space > 0')\n",
    "            .sort_values(by = 'space', ascending = True)\n",
    "            .plot(kind= 'barh', figsize=(19,6), rot = -5, legend = False, fontsize = 16)\n",
    "            .set_title('Пример' + \"\\n\", fontsize = 22, color = 'SteelBlue')    \n",
    "        );    \n",
    "    except:\n",
    "        print('пропусков не осталось :) ')"
   ]
  },
  {
   "cell_type": "code",
   "execution_count": 8,
   "id": "6ed0841b",
   "metadata": {
    "scrolled": true
   },
   "outputs": [
    {
     "data": {
      "image/png": "[encoded data removed]",
      "text/plain": [
       "<Figure size 1368x432 with 1 Axes>"
      ]
     },
     "metadata": {
      "needs_background": "light"
     },
     "output_type": "display_data"
    }
   ],
   "source": [
    "pass_value_barh(df)"
   ]
  },
  {
   "cell_type": "markdown",
   "id": "49de5bf3",
   "metadata": {},
   "source": [
    "Наблюдается значительное количество пропусков.  \n",
    "Для некоторых столбцов доля отсутствующих значений составляет более 50%.  \n",
    "Необходимо оценить распределение данных и по возможности заполнить пропуски."
   ]
  },
  {
   "cell_type": "markdown",
   "id": "d39f630a",
   "metadata": {},
   "source": [
    "## 2. Предобработка данных <a class=\"anchor\" id=\"предобработка_данных\"></a>"
   ]
  },
  {
   "cell_type": "markdown",
   "id": "c930a152",
   "metadata": {},
   "source": [
    "### 2.1 Обработка пропущенных значений <a class=\"anchor\" id=\"обработка_пропусков\"></a>"
   ]
  },
  {
   "cell_type": "markdown",
   "id": "96d00aec",
   "metadata": {},
   "source": [
    "В данных наблюдаются множественные пропуски, потребуется их изучение и заполнение релевантными значениями"
   ]
  },
  {
   "cell_type": "markdown",
   "id": "1ceabccc",
   "metadata": {},
   "source": [
    "**Высота потолков**"
   ]
  },
  {
   "cell_type": "markdown",
   "id": "41eb895b",
   "metadata": {},
   "source": [
    "Поскольку высота потолков зависит от типа здания, а также от района и населенного пункта, заполнение медианным значением недопустимо. В связи с этим пропуски заполняются значением `0` и не будут учитываться в исследовании."
   ]
  },
  {
   "cell_type": "code",
   "execution_count": 9,
   "id": "172f3618",
   "metadata": {},
   "outputs": [],
   "source": [
    "df['ceiling_height'].fillna(0, inplace = True)"
   ]
  },
  {
   "cell_type": "markdown",
   "id": "e1336cd1",
   "metadata": {},
   "source": [
    "**Этажность здания**"
   ]
  },
  {
   "cell_type": "code",
   "execution_count": 10,
   "id": "a65dbe47",
   "metadata": {},
   "outputs": [
    {
     "data": {
      "text/plain": [
       "array([16., 11.,  5., 14., 12., 26., 24., 27.,  9.,  6., 17., 25.,  3.,\n",
       "       23., 19., 18.,  4., 22.,  8.,  2., 10.,  7., 13., 15., nan, 20.,\n",
       "       28., 36., 21., 35., 34., 60.,  1., 29., 33., 52., 37.])"
      ]
     },
     "execution_count": 10,
     "metadata": {},
     "output_type": "execute_result"
    }
   ],
   "source": [
    "df['floors_total'].unique()"
   ]
  },
  {
   "cell_type": "markdown",
   "id": "765bfeb6",
   "metadata": {},
   "source": [
    "Выбросов не обнаружено, пропуски можно заполнить медианным значением и привести к целочисленным значениям."
   ]
  },
  {
   "cell_type": "code",
   "execution_count": 11,
   "id": "ed299df2",
   "metadata": {},
   "outputs": [
    {
     "data": {
      "text/plain": [
       "9.0"
      ]
     },
     "execution_count": 11,
     "metadata": {},
     "output_type": "execute_result"
    }
   ],
   "source": [
    "df['floors_total'].median()"
   ]
  },
  {
   "cell_type": "markdown",
   "id": "afd724ab",
   "metadata": {},
   "source": [
    "Следует учесть, что поскольку медианное значение общей этажности равно 9, для некоторых объектов значение общей этажности может оказаться меньше этажа, на котором расположена квартира.\n",
    "\n",
    "Предположить реальное значение этажности этих зданий невозможно, поэтому оставшиеся данные заменяются на `0` и не будут использованы в исследовании."
   ]
  },
  {
   "cell_type": "code",
   "execution_count": 87,
   "id": "16dcb66c",
   "metadata": {},
   "outputs": [],
   "source": [
    "df[df['floors_total'] >= df['floors_total'].median()]['floors_total'].fillna(df['floors_total'].median(), inplace = True)\n",
    "df['floors_total'].fillna(0, inplace = True)\n",
    "\n",
    "df['floors_total'] = df['floors_total'].astype(int)"
   ]
  },
  {
   "cell_type": "code",
   "execution_count": 13,
   "id": "27c4340b",
   "metadata": {},
   "outputs": [
    {
     "data": {
      "text/plain": [
       "186      0\n",
       "237      0\n",
       "457      0\n",
       "671      0\n",
       "1757     0\n",
       "        ..\n",
       "22542    0\n",
       "22656    0\n",
       "22808    0\n",
       "23590    0\n",
       "23658    0\n",
       "Name: floors_total, Length: 86, dtype: int32"
      ]
     },
     "execution_count": 13,
     "metadata": {},
     "output_type": "execute_result"
    }
   ],
   "source": [
    "df[df['floors_total'] < df['floor']]['floors_total']"
   ]
  },
  {
   "cell_type": "code",
   "execution_count": 14,
   "id": "2d0fe6a9",
   "metadata": {},
   "outputs": [
    {
     "name": "stdout",
     "output_type": "stream",
     "text": [
      "Всего значений, где общая этажность оказалась ниже этажности квартиры - 86\n"
     ]
    }
   ],
   "source": [
    "print(f\"Всего значений, где общая этажность оказалась ниже этажности квартиры - {len(df[df['floors_total'] < df['floor']]['floors_total'])}\")"
   ]
  },
  {
   "cell_type": "markdown",
   "id": "88a1d718",
   "metadata": {},
   "source": [
    "**Жилая площадь и площадь кухни**\n",
    "  \n",
    "Для заполнения пропусков в этих столбцах целесообразно оценить, какую долю от общей площади занимает жилая площадь и кухня соответственно.\n",
    "  \n",
    "Таким образом, можно предсказать эти значения там, где они пропущены."
   ]
  },
  {
   "cell_type": "code",
   "execution_count": 90,
   "id": "57f05ecf",
   "metadata": {},
   "outputs": [],
   "source": [
    "def living_area_fill (row):\n",
    "    if np.isnan(row['living_area']):\n",
    "        return row['total_area'] * (df['living_area']/df['total_area']).mean()\n",
    "    return row['living_area']\n",
    "\n",
    "def kitchen_area_fill (row):\n",
    "    if np.isnan(row['kitchen_area']):\n",
    "        return row['total_area'] * (df['kitchen_area']/df['total_area']).mean()\n",
    "    return row['kitchen_area']"
   ]
  },
  {
   "cell_type": "code",
   "execution_count": 91,
   "id": "9af3baa5",
   "metadata": {},
   "outputs": [],
   "source": [
    "df['living_area'] = df.apply(living_area_fill, axis =1)\n",
    "df['kitchen_area'] = df.apply(kitchen_area_fill, axis =1)"
   ]
  },
  {
   "cell_type": "markdown",
   "id": "2a41c21d",
   "metadata": {},
   "source": [
    "**Количество балконов**  \n",
    "**Наличие парков и прудов поблизости**\n",
    "  \n",
    "В случае, если количество балконов, а также количество прудов и парков в радиусе 3х километров не указано, предположим, что их нет.\n",
    "Отсутствующие значения заменяются на `0`"
   ]
  },
  {
   "cell_type": "code",
   "execution_count": 18,
   "id": "31e618c5",
   "metadata": {},
   "outputs": [],
   "source": [
    "df['balcony'].fillna(0, inplace = True)\n",
    "df['parks_around3000'].fillna(0, inplace = True)\n",
    "df['ponds_around3000'].fillna(0, inplace = True)\n",
    "\n",
    "df['balcony'] = df['balcony'].astype(int)\n",
    "df['parks_around3000'] = df['parks_around3000'].astype(int)\n",
    "df['ponds_around3000'] = df['ponds_around3000'].astype(int)"
   ]
  },
  {
   "cell_type": "markdown",
   "id": "ee9a8f21",
   "metadata": {},
   "source": [
    "**Длительность размещения объявления**\n",
    "  \n",
    "Срок размещения объявления предсказать невозможно. Пропущенные значения заменяются на `0` т.к. точное значение предположить невозможно. В дальнейшем эти значения не будут использованы в исследовании."
   ]
  },
  {
   "cell_type": "code",
   "execution_count": 19,
   "id": "a8488d61",
   "metadata": {},
   "outputs": [],
   "source": [
    "df['days_exposition'].fillna(0, inplace = True)\n",
    "df['days_exposition'] = df['days_exposition'].astype(int)"
   ]
  },
  {
   "cell_type": "markdown",
   "id": "26340226",
   "metadata": {},
   "source": [
    "**Населенный пункт**\n",
    "  \n",
    "Отсутствующие значения в столбце `Населенный пункт` заменяются значением `Неизвестно`"
   ]
  },
  {
   "cell_type": "code",
   "execution_count": 20,
   "id": "db6248c1",
   "metadata": {},
   "outputs": [
    {
     "data": {
      "text/plain": [
       "locality_name\n",
       "Санкт-Петербург       15721\n",
       "посёлок Мурино          522\n",
       "посёлок Шушары          440\n",
       "Всеволожск              398\n",
       "Пушкин                  369\n",
       "                      ...  \n",
       "поселок Каложицы          1\n",
       "поселок Кирпичное         1\n",
       "поселок Коммунары         1\n",
       "поселок Коробицыно        1\n",
       "село Шум                  1\n",
       "Name: last_price, Length: 364, dtype: int64"
      ]
     },
     "execution_count": 20,
     "metadata": {},
     "output_type": "execute_result"
    }
   ],
   "source": [
    "df.groupby('locality_name')['last_price'].count().sort_values(ascending=False)"
   ]
  },
  {
   "cell_type": "code",
   "execution_count": 21,
   "id": "1a895592",
   "metadata": {},
   "outputs": [],
   "source": [
    "df['locality_name'].fillna('Неизвестно', inplace = True)"
   ]
  },
  {
   "cell_type": "markdown",
   "id": "160e055d",
   "metadata": {},
   "source": [
    "**Апартаменты**\n",
    "  \n",
    "Если не указано, используется ли недвижимость как апартаменты, предполагается, что нет. Пропущенные значения заменяются на `False`"
   ]
  },
  {
   "cell_type": "code",
   "execution_count": 22,
   "id": "19ae9d46",
   "metadata": {},
   "outputs": [],
   "source": [
    "df['is_apartment'].fillna(False, inplace = True)\n",
    "df['is_apartment'] = df['is_apartment'].astype(bool)"
   ]
  },
  {
   "cell_type": "markdown",
   "id": "7017543f",
   "metadata": {},
   "source": [
    "**Инфраструктура**\n",
    "  \n",
    "Если не указано, на каком расстоянии находится аэропорт, а также парки и пруды, предполагается что аэропорта поблизости нет. Пропущенные значения заменяются на `0` т.к. точное значение предположить невозможно. В дальнейшем эти значения не будут использованы в исследовании."
   ]
  },
  {
   "cell_type": "code",
   "execution_count": 23,
   "id": "b4db383b",
   "metadata": {},
   "outputs": [],
   "source": [
    "infrastructure_list = ['airports_nearest', 'cityCenters_nearest', 'parks_nearest', 'ponds_nearest']\n",
    "\n",
    "for infrastructure in infrastructure_list:\n",
    "    df[infrastructure].fillna(0, inplace = True)\n",
    "    df[infrastructure] = df[infrastructure].astype(int)"
   ]
  },
  {
   "cell_type": "markdown",
   "id": "6b88a696",
   "metadata": {},
   "source": [
    "**Проверка заполнения пропусков**"
   ]
  },
  {
   "cell_type": "code",
   "execution_count": 24,
   "id": "bf8da215",
   "metadata": {
    "scrolled": true
   },
   "outputs": [
    {
     "name": "stdout",
     "output_type": "stream",
     "text": [
      "<class 'pandas.core.frame.DataFrame'>\n",
      "RangeIndex: 23699 entries, 0 to 23698\n",
      "Data columns (total 22 columns):\n",
      " #   Column                Non-Null Count  Dtype  \n",
      "---  ------                --------------  -----  \n",
      " 0   total_images          23699 non-null  int64  \n",
      " 1   last_price            23699 non-null  float64\n",
      " 2   total_area            23699 non-null  float64\n",
      " 3   first_day_exposition  23699 non-null  object \n",
      " 4   rooms                 23699 non-null  int64  \n",
      " 5   ceiling_height        23699 non-null  float64\n",
      " 6   floors_total          23699 non-null  int32  \n",
      " 7   living_area           23699 non-null  float64\n",
      " 8   floor                 23699 non-null  int64  \n",
      " 9   is_apartment          23699 non-null  bool   \n",
      " 10  studio                23699 non-null  bool   \n",
      " 11  open_plan             23699 non-null  bool   \n",
      " 12  kitchen_area          23699 non-null  float64\n",
      " 13  balcony               23699 non-null  int32  \n",
      " 14  locality_name         23699 non-null  object \n",
      " 15  airports_nearest      23699 non-null  int32  \n",
      " 16  cityCenters_nearest   23699 non-null  int32  \n",
      " 17  parks_around3000      23699 non-null  int32  \n",
      " 18  parks_nearest         23699 non-null  int32  \n",
      " 19  ponds_around3000      23699 non-null  int32  \n",
      " 20  ponds_nearest         23699 non-null  int32  \n",
      " 21  days_exposition       23699 non-null  int32  \n",
      "dtypes: bool(3), float64(5), int32(9), int64(3), object(2)\n",
      "memory usage: 2.7+ MB\n"
     ]
    }
   ],
   "source": [
    "df.info()"
   ]
  },
  {
   "cell_type": "markdown",
   "id": "cf3e2689",
   "metadata": {},
   "source": [
    "Все пропущенные значения заполнены."
   ]
  },
  {
   "cell_type": "markdown",
   "id": "9a1b1885",
   "metadata": {},
   "source": [
    "### 2.2 Обработка некорректных значений <a class=\"anchor\" id=\"обработка_некорректных_значений\"></a>"
   ]
  },
  {
   "cell_type": "markdown",
   "id": "ec0e4d5d",
   "metadata": {},
   "source": [
    "**Высота потолков**"
   ]
  },
  {
   "cell_type": "code",
   "execution_count": 25,
   "id": "94e53220",
   "metadata": {
    "scrolled": true
   },
   "outputs": [
    {
     "data": {
      "text/plain": [
       "array([  0.  ,   1.  ,   1.2 ,   1.75,   2.  ,   2.2 ,   2.25,   2.3 ,\n",
       "         2.34,   2.4 ,   2.45,   2.46,   2.47,   2.48,   2.49,   2.5 ,\n",
       "         2.51,   2.52,   2.53,   2.54,   2.55,   2.56,   2.57,   2.58,\n",
       "         2.59,   2.6 ,   2.61,   2.62,   2.63,   2.64,   2.65,   2.66,\n",
       "         2.67,   2.68,   2.69,   2.7 ,   2.71,   2.72,   2.73,   2.74,\n",
       "         2.75,   2.76,   2.77,   2.78,   2.79,   2.8 ,   2.81,   2.82,\n",
       "         2.83,   2.84,   2.85,   2.86,   2.87,   2.88,   2.89,   2.9 ,\n",
       "         2.91,   2.92,   2.93,   2.94,   2.95,   2.96,   2.97,   2.98,\n",
       "         2.99,   3.  ,   3.01,   3.02,   3.03,   3.04,   3.05,   3.06,\n",
       "         3.07,   3.08,   3.09,   3.1 ,   3.11,   3.12,   3.13,   3.14,\n",
       "         3.15,   3.16,   3.17,   3.18,   3.2 ,   3.21,   3.22,   3.23,\n",
       "         3.24,   3.25,   3.26,   3.27,   3.28,   3.29,   3.3 ,   3.31,\n",
       "         3.32,   3.33,   3.34,   3.35,   3.36,   3.37,   3.38,   3.39,\n",
       "         3.4 ,   3.42,   3.43,   3.44,   3.45,   3.46,   3.47,   3.48,\n",
       "         3.49,   3.5 ,   3.51,   3.52,   3.53,   3.54,   3.55,   3.56,\n",
       "         3.57,   3.58,   3.59,   3.6 ,   3.62,   3.63,   3.65,   3.66,\n",
       "         3.67,   3.68,   3.69,   3.7 ,   3.75,   3.76,   3.78,   3.8 ,\n",
       "         3.82,   3.83,   3.84,   3.85,   3.86,   3.87,   3.88,   3.9 ,\n",
       "         3.93,   3.95,   3.98,   4.  ,   4.06,   4.1 ,   4.14,   4.15,\n",
       "         4.19,   4.2 ,   4.25,   4.3 ,   4.37,   4.4 ,   4.45,   4.5 ,\n",
       "         4.65,   4.7 ,   4.8 ,   4.9 ,   5.  ,   5.2 ,   5.3 ,   5.5 ,\n",
       "         5.6 ,   5.8 ,   6.  ,   8.  ,   8.3 ,  10.3 ,  14.  ,  20.  ,\n",
       "        22.6 ,  24.  ,  25.  ,  26.  ,  27.  ,  27.5 ,  32.  , 100.  ])"
      ]
     },
     "execution_count": 25,
     "metadata": {},
     "output_type": "execute_result"
    }
   ],
   "source": [
    "df['ceiling_height'].sort_values().unique()"
   ]
  },
  {
   "cell_type": "markdown",
   "id": "9ed1ecd1",
   "metadata": {},
   "source": [
    "Наблюдаются аномально высокие значения, такие как 27.0, 32.0. Вероятнее всего, реальные значения - 2.7, 3.2 соответственно.  \n",
    "Все значения больше 20м заменяются на порядок меньшими."
   ]
  },
  {
   "cell_type": "code",
   "execution_count": 26,
   "id": "79731759",
   "metadata": {
    "scrolled": true
   },
   "outputs": [],
   "source": [
    "for index in range(len(df['ceiling_height'])):\n",
    "    if df.loc[index, 'ceiling_height'] > 20:\n",
    "        df.loc[index, 'ceiling_height'] = df.loc[index, 'ceiling_height']/10"
   ]
  },
  {
   "cell_type": "code",
   "execution_count": 27,
   "id": "b05f1767",
   "metadata": {
    "scrolled": false
   },
   "outputs": [
    {
     "data": {
      "text/plain": [
       "array([ 0.  ,  1.  ,  1.2 ,  1.75,  2.  ,  2.2 ,  2.25,  2.26,  2.3 ,\n",
       "        2.34,  2.4 ,  2.45,  2.46,  2.47,  2.48,  2.49,  2.5 ,  2.51,\n",
       "        2.52,  2.53,  2.54,  2.55,  2.56,  2.57,  2.58,  2.59,  2.6 ,\n",
       "        2.61,  2.62,  2.63,  2.64,  2.65,  2.66,  2.67,  2.68,  2.69,\n",
       "        2.7 ,  2.71,  2.72,  2.73,  2.74,  2.75,  2.76,  2.77,  2.78,\n",
       "        2.79,  2.8 ,  2.81,  2.82,  2.83,  2.84,  2.85,  2.86,  2.87,\n",
       "        2.88,  2.89,  2.9 ,  2.91,  2.92,  2.93,  2.94,  2.95,  2.96,\n",
       "        2.97,  2.98,  2.99,  3.  ,  3.01,  3.02,  3.03,  3.04,  3.05,\n",
       "        3.06,  3.07,  3.08,  3.09,  3.1 ,  3.11,  3.12,  3.13,  3.14,\n",
       "        3.15,  3.16,  3.17,  3.18,  3.2 ,  3.21,  3.22,  3.23,  3.24,\n",
       "        3.25,  3.26,  3.27,  3.28,  3.29,  3.3 ,  3.31,  3.32,  3.33,\n",
       "        3.34,  3.35,  3.36,  3.37,  3.38,  3.39,  3.4 ,  3.42,  3.43,\n",
       "        3.44,  3.45,  3.46,  3.47,  3.48,  3.49,  3.5 ,  3.51,  3.52,\n",
       "        3.53,  3.54,  3.55,  3.56,  3.57,  3.58,  3.59,  3.6 ,  3.62,\n",
       "        3.63,  3.65,  3.66,  3.67,  3.68,  3.69,  3.7 ,  3.75,  3.76,\n",
       "        3.78,  3.8 ,  3.82,  3.83,  3.84,  3.85,  3.86,  3.87,  3.88,\n",
       "        3.9 ,  3.93,  3.95,  3.98,  4.  ,  4.06,  4.1 ,  4.14,  4.15,\n",
       "        4.19,  4.2 ,  4.25,  4.3 ,  4.37,  4.4 ,  4.45,  4.5 ,  4.65,\n",
       "        4.7 ,  4.8 ,  4.9 ,  5.  ,  5.2 ,  5.3 ,  5.5 ,  5.6 ,  5.8 ,\n",
       "        6.  ,  8.  ,  8.3 , 10.  , 10.3 , 14.  , 20.  ])"
      ]
     },
     "execution_count": 27,
     "metadata": {},
     "output_type": "execute_result"
    }
   ],
   "source": [
    "df['ceiling_height'].sort_values().unique()"
   ]
  },
  {
   "cell_type": "markdown",
   "id": "0091898f",
   "metadata": {},
   "source": [
    "**Наименования населенных пунктов**"
   ]
  },
  {
   "cell_type": "markdown",
   "id": "9fafb0d0",
   "metadata": {},
   "source": [
    "Наименования населенных пунктов могут быть записаны по-разному, поэтому необходимо привести их к единому виду."
   ]
  },
  {
   "cell_type": "code",
   "execution_count": 28,
   "id": "c1c2ecd2",
   "metadata": {},
   "outputs": [
    {
     "data": {
      "text/plain": [
       "array(['Бокситогорск', 'Волосово', 'Волхов', 'Всеволожск', 'Выборг',\n",
       "       'Высоцк', 'Гатчина', 'Зеленогорск', 'Ивангород', 'Каменногорск',\n",
       "       'Кингисепп', 'Кириши', 'Кировск', 'Колпино', 'Коммунар',\n",
       "       'Красное Село', 'Кронштадт', 'Кудрово', 'Лодейное Поле',\n",
       "       'Ломоносов', 'Луга', 'Любань', 'Мурино', 'Неизвестно',\n",
       "       'Никольское', 'Новая Ладога', 'Отрадное', 'Павловск', 'Петергоф',\n",
       "       'Пикалёво', 'Подпорожье', 'Приморск', 'Приозерск', 'Пушкин',\n",
       "       'Санкт-Петербург', 'Светогорск', 'Сертолово', 'Сестрорецк',\n",
       "       'Сланцы', 'Сосновый Бор', 'Сясьстрой', 'Тихвин', 'Тосно',\n",
       "       'Шлиссельбург', 'городской поселок Большая Ижора',\n",
       "       'городской поселок Янино-1', 'городской посёлок Будогощь',\n",
       "       'городской посёлок Виллози', 'городской посёлок Лесогорский',\n",
       "       'городской посёлок Мга', 'городской посёлок Назия',\n",
       "       'городской посёлок Новоселье', 'городской посёлок Павлово',\n",
       "       'городской посёлок Рощино', 'городской посёлок Свирьстрой',\n",
       "       'городской посёлок Советский', 'городской посёлок Фёдоровское',\n",
       "       'городской посёлок Янино-1', 'деревня Агалатово', 'деревня Аро',\n",
       "       'деревня Батово', 'деревня Бегуницы', 'деревня Белогорка',\n",
       "       'деревня Большая Вруда', 'деревня Большая Пустомержа',\n",
       "       'деревня Большие Колпаны', 'деревня Большое Рейзино',\n",
       "       'деревня Большой Сабск', 'деревня Бор', 'деревня Борисова Грива',\n",
       "       'деревня Ваганово', 'деревня Вартемяги', 'деревня Вахнова Кара',\n",
       "       'деревня Выскатка', 'деревня Гарболово', 'деревня Глинка',\n",
       "       'деревня Горбунки', 'деревня Гостилицы', 'деревня Заклинье',\n",
       "       'деревня Заневка', 'деревня Зимитицы', 'деревня Извара',\n",
       "       'деревня Иссад', 'деревня Калитино', 'деревня Кальтино',\n",
       "       'деревня Камышовка', 'деревня Каськово', 'деревня Келози',\n",
       "       'деревня Кипень', 'деревня Кисельня', 'деревня Колтуши',\n",
       "       'деревня Коркино', 'деревня Котлы', 'деревня Кривко',\n",
       "       'деревня Кудрово', 'деревня Кузьмолово', 'деревня Курковицы',\n",
       "       'деревня Куровицы', 'деревня Куттузи', 'деревня Лаврики',\n",
       "       'деревня Лаголово', 'деревня Лампово', 'деревня Лесколово',\n",
       "       'деревня Лопухинка', 'деревня Лупполово',\n",
       "       'деревня Малая Романовка', 'деревня Малое Верево',\n",
       "       'деревня Малое Карлино', 'деревня Малые Колпаны',\n",
       "       'деревня Мануйлово', 'деревня Меньково', 'деревня Мины',\n",
       "       'деревня Мистолово', 'деревня Ненимяки', 'деревня Нижние Осельки',\n",
       "       'деревня Нижняя', 'деревня Низино', 'деревня Новое Девяткино',\n",
       "       'деревня Новолисино', 'деревня Нурма', 'деревня Оржицы',\n",
       "       'деревня Парицы', 'деревня Пельгора', 'деревня Пеники',\n",
       "       'деревня Пижма', 'деревня Пикколово', 'деревня Пудомяги',\n",
       "       'деревня Пустынка', 'деревня Пчева', 'деревня Рабитицы',\n",
       "       'деревня Разбегаево', 'деревня Раздолье', 'деревня Разметелево',\n",
       "       'деревня Рапполово', 'деревня Реброво', 'деревня Русско',\n",
       "       'деревня Сижно', 'деревня Снегирёвка', 'деревня Старая',\n",
       "       'деревня Старая Пустошь', 'деревня Старое Хинколово',\n",
       "       'деревня Старополье', 'деревня Старосиверская',\n",
       "       'деревня Старые Бегуницы', 'деревня Суоранда',\n",
       "       'деревня Сяськелево', 'деревня Тарасово', 'деревня Терпилицы',\n",
       "       'деревня Тихковицы', 'деревня Тойворово', 'деревня Торосово',\n",
       "       'деревня Торошковичи', 'деревня Трубников Бор',\n",
       "       'деревня Фалилеево', 'деревня Фёдоровское', 'деревня Хапо-Ое',\n",
       "       'деревня Хязельки', 'деревня Чудской Бор', 'деревня Шпаньково',\n",
       "       'деревня Щеглово', 'деревня Юкки', 'деревня Ялгино',\n",
       "       'деревня Яльгелево', 'деревня Ям-Тесово',\n",
       "       'коттеджный поселок Кивеннапа Север', 'коттеджный поселок Счастье',\n",
       "       'коттеджный посёлок Лесное', 'поселок Аннино', 'поселок Барышево',\n",
       "       'поселок Бугры', 'поселок Возрождение', 'поселок Войсковицы',\n",
       "       'поселок Володарское', 'поселок Гаврилово', 'поселок Гарболово',\n",
       "       'поселок Гладкое', 'поселок Глажево', 'поселок Глебычево',\n",
       "       'поселок Гончарово', 'поселок Громово', 'поселок Дружноселье',\n",
       "       'поселок Елизаветино', 'поселок Жилгородок', 'поселок Жилпосёлок',\n",
       "       'поселок Житково', 'поселок Заводской', 'поселок Запорожское',\n",
       "       'поселок Зимитицы', 'поселок Ильичёво', 'поселок Калитино',\n",
       "       'поселок Каложицы', 'поселок Кингисеппский', 'поселок Кирпичное',\n",
       "       'поселок Кобралово', 'поселок Кобринское', 'поселок Коммунары',\n",
       "       'поселок Коробицыно', 'поселок Котельский',\n",
       "       'поселок Красная Долина', 'поселок Красносельское',\n",
       "       'поселок Лесное', 'поселок Лисий Нос', 'поселок Лукаши',\n",
       "       'поселок Любань', 'поселок Мельниково', 'поселок Мичуринское',\n",
       "       'поселок Молодцово', 'поселок Мурино', 'поселок Новый Свет',\n",
       "       'поселок Новый Учхоз', 'поселок Оредеж',\n",
       "       'поселок Пансионат Зелёный Бор', 'поселок Первомайское',\n",
       "       'поселок Перово', 'поселок Петровское', 'поселок Победа',\n",
       "       'поселок Поляны', 'поселок Почап', 'поселок Починок',\n",
       "       'поселок Пушное', 'поселок Пчевжа', 'поселок Рабитицы',\n",
       "       'поселок Романовка', 'поселок Ромашки', 'поселок Рябово',\n",
       "       'поселок Севастьяново', 'поселок Селезнёво', 'поселок Сельцо',\n",
       "       'поселок Семиозерье', 'поселок Семрино', 'поселок Серебрянский',\n",
       "       'поселок Совхозный', 'поселок Старая Малукса',\n",
       "       'поселок Стеклянный', 'поселок Сумино', 'поселок Суходолье',\n",
       "       'поселок Тельмана', 'поселок Терволово', 'поселок Торковичи',\n",
       "       'поселок Тёсово-4', 'поселок Углово', 'поселок Усть-Луга',\n",
       "       'поселок Ушаки', 'поселок Цвелодубово', 'поселок Цвылёво',\n",
       "       'поселок городского типа Большая Ижора',\n",
       "       'поселок городского типа Вырица',\n",
       "       'поселок городского типа Дружная Горка',\n",
       "       'поселок городского типа Дубровка',\n",
       "       'поселок городского типа Ефимовский',\n",
       "       'поселок городского типа Кондратьево',\n",
       "       'поселок городского типа Красный Бор',\n",
       "       'поселок городского типа Кузьмоловский',\n",
       "       'поселок городского типа Лебяжье',\n",
       "       'поселок городского типа Лесогорский',\n",
       "       'поселок городского типа Назия',\n",
       "       'поселок городского типа Никольский',\n",
       "       'поселок городского типа Приладожский',\n",
       "       'поселок городского типа Рахья', 'поселок городского типа Рощино',\n",
       "       'поселок городского типа Рябово',\n",
       "       'поселок городского типа Синявино',\n",
       "       'поселок городского типа Советский',\n",
       "       'поселок городского типа Токсово',\n",
       "       'поселок городского типа Форносово',\n",
       "       'поселок городского типа имени Свердлова',\n",
       "       'поселок станции Вещево', 'поселок станции Корнево',\n",
       "       'поселок станции Лужайка', 'поселок станции Приветнинское',\n",
       "       'посёлок Александровская', 'посёлок Алексеевка', 'посёлок Аннино',\n",
       "       'посёлок Белоостров', 'посёлок Бугры', 'посёлок Возрождение',\n",
       "       'посёлок Войскорово', 'посёлок Высокоключевой',\n",
       "       'посёлок Гаврилово', 'посёлок Дзержинского', 'посёлок Жилгородок',\n",
       "       'посёлок Ильичёво', 'посёлок Кикерино', 'посёлок Кобралово',\n",
       "       'посёлок Коробицыно', 'посёлок Левашово', 'посёлок Ленинское',\n",
       "       'посёлок Лисий Нос', 'посёлок Мельниково', 'посёлок Металлострой',\n",
       "       'посёлок Мичуринское', 'посёлок Молодёжное', 'посёлок Мурино',\n",
       "       'посёлок Мыза-Ивановка', 'посёлок Новогорелово',\n",
       "       'посёлок Новый Свет', 'посёлок Пансионат Зелёный Бор',\n",
       "       'посёлок Парголово', 'посёлок Перово', 'посёлок Песочный',\n",
       "       'посёлок Петро-Славянка', 'посёлок Петровское',\n",
       "       'посёлок Платформа 69-й километр', 'посёлок Плодовое',\n",
       "       'посёлок Плоское', 'посёлок Победа', 'посёлок Поляны',\n",
       "       'посёлок Понтонный', 'посёлок Пригородный', 'посёлок Пудость',\n",
       "       'посёлок Репино', 'посёлок Ропша', 'посёлок Сапёрное',\n",
       "       'посёлок Сапёрный', 'посёлок Сосново', 'посёлок Старая Малукса',\n",
       "       'посёлок Стеклянный', 'посёлок Стрельна', 'посёлок Суйда',\n",
       "       'посёлок Сумино', 'посёлок Тельмана', 'посёлок Терволово',\n",
       "       'посёлок Торфяное', 'посёлок Усть-Ижора', 'посёлок Усть-Луга',\n",
       "       'посёлок Форт Красная Горка', 'посёлок Шугозеро', 'посёлок Шушары',\n",
       "       'посёлок Щеглово', 'посёлок городского типа Важины',\n",
       "       'посёлок городского типа Вознесенье',\n",
       "       'посёлок городского типа Вырица',\n",
       "       'посёлок городского типа Красный Бор',\n",
       "       'посёлок городского типа Кузнечное',\n",
       "       'посёлок городского типа Кузьмоловский',\n",
       "       'посёлок городского типа Лебяжье', 'посёлок городского типа Мга',\n",
       "       'посёлок городского типа Павлово',\n",
       "       'посёлок городского типа Рощино', 'посёлок городского типа Рябово',\n",
       "       'посёлок городского типа Сиверский',\n",
       "       'посёлок городского типа Тайцы', 'посёлок городского типа Токсово',\n",
       "       'посёлок городского типа Ульяновка',\n",
       "       'посёлок городского типа Форносово',\n",
       "       'посёлок городского типа имени Морозова',\n",
       "       'посёлок городского типа имени Свердлова',\n",
       "       'посёлок при железнодорожной станции Вещево',\n",
       "       'посёлок при железнодорожной станции Приветнинское',\n",
       "       'посёлок станции Громово', 'посёлок станции Свирь',\n",
       "       'садоводческое некоммерческое товарищество Лесная Поляна',\n",
       "       'садовое товарищество Новая Ропша',\n",
       "       'садовое товарищество Приладожский', 'садовое товарищество Рахья',\n",
       "       'садовое товарищество Садко', 'село Копорье', 'село Никольское',\n",
       "       'село Павлово', 'село Паша', 'село Путилово', 'село Рождествено',\n",
       "       'село Русско-Высоцкое', 'село Старая Ладога', 'село Шум'],\n",
       "      dtype=object)"
      ]
     },
     "execution_count": 28,
     "metadata": {},
     "output_type": "execute_result"
    }
   ],
   "source": [
    "df['locality_name'].sort_values().unique()"
   ]
  },
  {
   "cell_type": "markdown",
   "id": "394d33c7",
   "metadata": {},
   "source": [
    "Необходимо убрать слова, обозначающие тип населенного пункта."
   ]
  },
  {
   "cell_type": "code",
   "execution_count": 29,
   "id": "be63f21b",
   "metadata": {},
   "outputs": [],
   "source": [
    "for town in ['поселок ', 'посёлок ', 'деревня ', 'село ', \n",
    "             'садовое ', 'садоводческое ', 'некоммерческое ', 'товарищество ', \n",
    "             'городской ', 'городского типа ', 'коттеджный ', \n",
    "             'при железнодорожной ', 'станции ', \n",
    "             'Пансионат ', 'Платформа ']:\n",
    "     df['locality_name'] = df['locality_name'].str.replace(town, '')"
   ]
  },
  {
   "cell_type": "code",
   "execution_count": 30,
   "id": "a60e6594",
   "metadata": {
    "scrolled": true
   },
   "outputs": [
    {
     "data": {
      "text/plain": [
       "array(['69-й километр', 'Агалатово', 'Александровская', 'Алексеевка',\n",
       "       'Аннино', 'Аро', 'Барышево', 'Батово', 'Бегуницы', 'Белогорка',\n",
       "       'Белоостров', 'Бокситогорск', 'Большая Вруда', 'Большая Ижора',\n",
       "       'Большая Пустомержа', 'Большие Колпаны', 'Большое Рейзино',\n",
       "       'Большой Сабск', 'Бор', 'Борисова Грива', 'Бугры', 'Будогощь',\n",
       "       'Ваганово', 'Важины', 'Вартемяги', 'Вахнова Кара', 'Вещево',\n",
       "       'Виллози', 'Вознесенье', 'Возрождение', 'Войсковицы', 'Войскорово',\n",
       "       'Володарское', 'Волосово', 'Волхов', 'Всеволожск', 'Выборг',\n",
       "       'Вырица', 'Выскатка', 'Высокоключевой', 'Высоцк', 'Гаврилово',\n",
       "       'Гарболово', 'Гатчина', 'Гладкое', 'Глажево', 'Глебычево',\n",
       "       'Глинка', 'Гончарово', 'Горбунки', 'Гостилицы', 'Громово',\n",
       "       'Дзержинского', 'Дружная Горка', 'Дружноселье', 'Дубровка',\n",
       "       'Елизаветино', 'Ефимовский', 'Жилгородок', 'Жилпосёлок', 'Житково',\n",
       "       'Заводской', 'Заклинье', 'Заневка', 'Запорожское', 'Зеленогорск',\n",
       "       'Зелёный Бор', 'Зимитицы', 'Ивангород', 'Извара', 'Ильичёво',\n",
       "       'Иссад', 'Калитино', 'Каложицы', 'Кальтино', 'Каменногорск',\n",
       "       'Камышовка', 'Каськово', 'Келози', 'Кивеннапа Север', 'Кикерино',\n",
       "       'Кингисепп', 'Кингисеппский', 'Кипень', 'Кириши', 'Кировск',\n",
       "       'Кирпичное', 'Кисельня', 'Кобралово', 'Кобринское', 'Колпино',\n",
       "       'Колтуши', 'Коммунар', 'Коммунары', 'Кондратьево', 'Копорье',\n",
       "       'Коркино', 'Корнево', 'Коробицыно', 'Котельский', 'Котлы',\n",
       "       'Красная Долина', 'Красное Село', 'Красносельское', 'Красный Бор',\n",
       "       'Кривко', 'Кронштадт', 'Кудрово', 'Кузнечное', 'Кузьмолово',\n",
       "       'Кузьмоловский', 'Курковицы', 'Куровицы', 'Куттузи', 'Лаврики',\n",
       "       'Лаголово', 'Лампово', 'Лебяжье', 'Левашово', 'Ленинское',\n",
       "       'Лесколово', 'Лесная Поляна', 'Лесное', 'Лесогорский', 'Лисий Нос',\n",
       "       'Лодейное Поле', 'Ломоносов', 'Лопухинка', 'Луга', 'Лужайка',\n",
       "       'Лукаши', 'Лупполово', 'Любань', 'Малая Романовка', 'Малое Верево',\n",
       "       'Малое Карлино', 'Малые Колпаны', 'Мануйлово', 'Мга', 'Мельниково',\n",
       "       'Меньково', 'Металлострой', 'Мины', 'Мистолово', 'Мичуринское',\n",
       "       'Молодцово', 'Молодёжное', 'Мурино', 'Мыза-Ивановка', 'Назия',\n",
       "       'Неизвестно', 'Ненимяки', 'Нижние Осельки', 'Нижняя', 'Низино',\n",
       "       'Никольский', 'Никольское', 'Новая Ладога', 'Новая Ропша',\n",
       "       'Новогорелово', 'Новое Девяткино', 'Новолисино', 'Новоселье',\n",
       "       'Новый Свет', 'Новый Учхоз', 'Нурма', 'Оредеж', 'Оржицы',\n",
       "       'Отрадное', 'Павлово', 'Павловск', 'Парголово', 'Парицы', 'Паша',\n",
       "       'Пельгора', 'Пеники', 'Первомайское', 'Перово', 'Песочный',\n",
       "       'Петергоф', 'Петро-Славянка', 'Петровское', 'Пижма', 'Пикалёво',\n",
       "       'Пикколово', 'Плодовое', 'Плоское', 'Победа', 'Подпорожье',\n",
       "       'Поляны', 'Понтонный', 'Почап', 'Починок', 'Приветнинское',\n",
       "       'Пригородный', 'Приладожский', 'Приморск', 'Приозерск', 'Пудомяги',\n",
       "       'Пудость', 'Пустынка', 'Путилово', 'Пушкин', 'Пушное', 'Пчева',\n",
       "       'Пчевжа', 'Рабитицы', 'Разбегаево', 'Раздолье', 'Разметелево',\n",
       "       'Рапполово', 'Рахья', 'Реброво', 'Репино', 'Рождествено',\n",
       "       'Романовка', 'Ромашки', 'Ропша', 'Рощино', 'Русско',\n",
       "       'Русско-Высоцкое', 'Рябово', 'Садко', 'Санкт-Петербург',\n",
       "       'Сапёрное', 'Сапёрный', 'Светогорск', 'Свирь', 'Свирьстрой',\n",
       "       'Севастьяново', 'Селезнёво', 'Сельцо', 'Семиозерье', 'Семрино',\n",
       "       'Серебрянский', 'Сертолово', 'Сестрорецк', 'Сиверский', 'Сижно',\n",
       "       'Синявино', 'Сланцы', 'Снегирёвка', 'Советский', 'Совхозный',\n",
       "       'Сосново', 'Сосновый Бор', 'Старая', 'Старая Ладога',\n",
       "       'Старая Малукса', 'Старая Пустошь', 'Старое Хинколово',\n",
       "       'Старополье', 'Старосиверская', 'Старые Бегуницы', 'Стеклянный',\n",
       "       'Стрельна', 'Суйда', 'Сумино', 'Суоранда', 'Суходолье', 'Счастье',\n",
       "       'Сяськелево', 'Сясьстрой', 'Тайцы', 'Тарасово', 'Тельмана',\n",
       "       'Терволово', 'Терпилицы', 'Тихвин', 'Тихковицы', 'Тойворово',\n",
       "       'Токсово', 'Торковичи', 'Торосово', 'Торошковичи', 'Торфяное',\n",
       "       'Тосно', 'Трубников Бор', 'Тёсово-4', 'Углово', 'Ульяновка',\n",
       "       'Усть-Ижора', 'Усть-Луга', 'Ушаки', 'Фалилеево', 'Форносово',\n",
       "       'Форт Красная Горка', 'Фёдоровское', 'Хапо-Ое', 'Хязельки',\n",
       "       'Цвелодубово', 'Цвылёво', 'Чудской Бор', 'Шлиссельбург',\n",
       "       'Шпаньково', 'Шугозеро', 'Шум', 'Шушары', 'Щеглово', 'Юкки',\n",
       "       'Ялгино', 'Яльгелево', 'Ям-Тесово', 'Янино-1', 'имени Морозова',\n",
       "       'имени Свердлова'], dtype=object)"
      ]
     },
     "execution_count": 30,
     "metadata": {},
     "output_type": "execute_result"
    }
   ],
   "source": [
    "df['locality_name'].sort_values().unique()"
   ]
  },
  {
   "cell_type": "markdown",
   "id": "6a742448",
   "metadata": {},
   "source": [
    "Все дублирующие названия приведены к единому виду."
   ]
  },
  {
   "cell_type": "code",
   "execution_count": 31,
   "id": "42a7557e",
   "metadata": {},
   "outputs": [
    {
     "data": {
      "text/plain": [
       "306"
      ]
     },
     "execution_count": 31,
     "metadata": {},
     "output_type": "execute_result"
    }
   ],
   "source": [
    "df['locality_name'].nunique()"
   ]
  },
  {
   "cell_type": "markdown",
   "id": "7d112560",
   "metadata": {},
   "source": [
    "**Фильтрация аномальных значений**"
   ]
  },
  {
   "cell_type": "markdown",
   "id": "8ff7828f",
   "metadata": {},
   "source": [
    "Среди столбцов с численными значениями могут встречаться аномалии.\n",
    "Необходимо определить и исключить выбивающиеся значения."
   ]
  },
  {
   "cell_type": "code",
   "execution_count": 95,
   "id": "88a23446",
   "metadata": {},
   "outputs": [
    {
     "data": {
      "text/html": [
       "<style type=\"text/css\">\n",
       "</style>\n",
       "<table id=\"T_26beb\">\n",
       "  <thead>\n",
       "    <tr>\n",
       "      <th class=\"blank level0\" >&nbsp;</th>\n",
       "      <th id=\"T_26beb_level0_col0\" class=\"col_heading level0 col0\" >rooms</th>\n",
       "      <th id=\"T_26beb_level0_col1\" class=\"col_heading level0 col1\" >total_area</th>\n",
       "      <th id=\"T_26beb_level0_col2\" class=\"col_heading level0 col2\" >ceiling_height</th>\n",
       "      <th id=\"T_26beb_level0_col3\" class=\"col_heading level0 col3\" >days_exposition</th>\n",
       "      <th id=\"T_26beb_level0_col4\" class=\"col_heading level0 col4\" >last_price</th>\n",
       "      <th id=\"T_26beb_level0_col5\" class=\"col_heading level0 col5\" >living_area</th>\n",
       "      <th id=\"T_26beb_level0_col6\" class=\"col_heading level0 col6\" >kitchen_area</th>\n",
       "      <th id=\"T_26beb_level0_col7\" class=\"col_heading level0 col7\" >floor</th>\n",
       "      <th id=\"T_26beb_level0_col8\" class=\"col_heading level0 col8\" >floors_total</th>\n",
       "    </tr>\n",
       "  </thead>\n",
       "  <tbody>\n",
       "    <tr>\n",
       "      <th id=\"T_26beb_level0_row0\" class=\"row_heading level0 row0\" >0.010000</th>\n",
       "      <td id=\"T_26beb_row0_col0\" class=\"data row0 col0\" >1.00</td>\n",
       "      <td id=\"T_26beb_row0_col1\" class=\"data row0 col1\" >29.40</td>\n",
       "      <td id=\"T_26beb_row0_col2\" class=\"data row0 col2\" >0.00</td>\n",
       "      <td id=\"T_26beb_row0_col3\" class=\"data row0 col3\" >0.00</td>\n",
       "      <td id=\"T_26beb_row0_col4\" class=\"data row0 col4\" >1,300,000.00</td>\n",
       "      <td id=\"T_26beb_row0_col5\" class=\"data row0 col5\" >14.37</td>\n",
       "      <td id=\"T_26beb_row0_col6\" class=\"data row0 col6\" >5.00</td>\n",
       "      <td id=\"T_26beb_row0_col7\" class=\"data row0 col7\" >1.00</td>\n",
       "      <td id=\"T_26beb_row0_col8\" class=\"data row0 col8\" >2.00</td>\n",
       "    </tr>\n",
       "    <tr>\n",
       "      <th id=\"T_26beb_level0_row1\" class=\"row_heading level0 row1\" >0.500000</th>\n",
       "      <td id=\"T_26beb_row1_col0\" class=\"data row1 col0\" >2.00</td>\n",
       "      <td id=\"T_26beb_row1_col1\" class=\"data row1 col1\" >52.60</td>\n",
       "      <td id=\"T_26beb_row1_col2\" class=\"data row1 col2\" >2.50</td>\n",
       "      <td id=\"T_26beb_row1_col3\" class=\"data row1 col3\" >73.00</td>\n",
       "      <td id=\"T_26beb_row1_col4\" class=\"data row1 col4\" >4,700,000.00</td>\n",
       "      <td id=\"T_26beb_row1_col5\" class=\"data row1 col5\" >30.20</td>\n",
       "      <td id=\"T_26beb_row1_col6\" class=\"data row1 col6\" >9.10</td>\n",
       "      <td id=\"T_26beb_row1_col7\" class=\"data row1 col7\" >4.00</td>\n",
       "      <td id=\"T_26beb_row1_col8\" class=\"data row1 col8\" >9.00</td>\n",
       "    </tr>\n",
       "    <tr>\n",
       "      <th id=\"T_26beb_level0_row2\" class=\"row_heading level0 row2\" >0.900000</th>\n",
       "      <td id=\"T_26beb_row2_col0\" class=\"data row2 col0\" >3.00</td>\n",
       "      <td id=\"T_26beb_row2_col1\" class=\"data row2 col1\" >91.30</td>\n",
       "      <td id=\"T_26beb_row2_col2\" class=\"data row2 col2\" >3.00</td>\n",
       "      <td id=\"T_26beb_row2_col3\" class=\"data row2 col3\" >415.50</td>\n",
       "      <td id=\"T_26beb_row2_col4\" class=\"data row2 col4\" >10,500,000.00</td>\n",
       "      <td id=\"T_26beb_row2_col5\" class=\"data row2 col5\" >54.00</td>\n",
       "      <td id=\"T_26beb_row2_col6\" class=\"data row2 col6\" >15.30</td>\n",
       "      <td id=\"T_26beb_row2_col7\" class=\"data row2 col7\" >13.00</td>\n",
       "      <td id=\"T_26beb_row2_col8\" class=\"data row2 col8\" >22.00</td>\n",
       "    </tr>\n",
       "    <tr>\n",
       "      <th id=\"T_26beb_level0_row3\" class=\"row_heading level0 row3\" >0.997600</th>\n",
       "      <td id=\"T_26beb_row3_col0\" class=\"data row3 col0\" >6.00</td>\n",
       "      <td id=\"T_26beb_row3_col1\" class=\"data row3 col1\" >200.00</td>\n",
       "      <td id=\"T_26beb_row3_col2\" class=\"data row3 col2\" >3.85</td>\n",
       "      <td id=\"T_26beb_row3_col3\" class=\"data row3 col3\" >1,093.00</td>\n",
       "      <td id=\"T_26beb_row3_col4\" class=\"data row3 col4\" >40,615,368.00</td>\n",
       "      <td id=\"T_26beb_row3_col5\" class=\"data row3 col5\" >124.73</td>\n",
       "      <td id=\"T_26beb_row3_col6\" class=\"data row3 col6\" >40.00</td>\n",
       "      <td id=\"T_26beb_row3_col7\" class=\"data row3 col7\" >24.00</td>\n",
       "      <td id=\"T_26beb_row3_col8\" class=\"data row3 col8\" >27.00</td>\n",
       "    </tr>\n",
       "  </tbody>\n",
       "</table>\n"
      ],
      "text/plain": [
       "<pandas.io.formats.style.Styler at 0x2033f0fa640>"
      ]
     },
     "execution_count": 95,
     "metadata": {},
     "output_type": "execute_result"
    }
   ],
   "source": [
    "(\n",
    "    df[['rooms', 'total_area', 'ceiling_height', 'days_exposition', 'last_price', 'living_area',  \n",
    "        'kitchen_area', 'floor',   'floors_total']]\n",
    "    .quantile([0.01, .5, .90, .9976])  \n",
    "    .style.format(\"{:,.2f}\")\n",
    ")"
   ]
  },
  {
   "cell_type": "code",
   "execution_count": 38,
   "id": "476f5312",
   "metadata": {
    "scrolled": true
   },
   "outputs": [
    {
     "name": "stdout",
     "output_type": "stream",
     "text": [
      "<class 'pandas.core.frame.DataFrame'>\n",
      "Int64Index: 22250 entries, 0 to 23697\n",
      "Data columns (total 22 columns):\n",
      " #   Column                Non-Null Count  Dtype  \n",
      "---  ------                --------------  -----  \n",
      " 0   total_images          22250 non-null  int64  \n",
      " 1   last_price            22250 non-null  float64\n",
      " 2   total_area            22250 non-null  float64\n",
      " 3   first_day_exposition  22250 non-null  object \n",
      " 4   rooms                 22250 non-null  int64  \n",
      " 5   ceiling_height        22250 non-null  float64\n",
      " 6   floors_total          22250 non-null  int32  \n",
      " 7   living_area           22250 non-null  float64\n",
      " 8   floor                 22250 non-null  int64  \n",
      " 9   is_apartment          22250 non-null  bool   \n",
      " 10  studio                22250 non-null  bool   \n",
      " 11  open_plan             22250 non-null  bool   \n",
      " 12  kitchen_area          22250 non-null  float64\n",
      " 13  balcony               22250 non-null  int32  \n",
      " 14  locality_name         22250 non-null  object \n",
      " 15  airports_nearest      22250 non-null  int32  \n",
      " 16  cityCenters_nearest   22250 non-null  int32  \n",
      " 17  parks_around3000      22250 non-null  int32  \n",
      " 18  parks_nearest         22250 non-null  int32  \n",
      " 19  ponds_around3000      22250 non-null  int32  \n",
      " 20  ponds_nearest         22250 non-null  int32  \n",
      " 21  days_exposition       22250 non-null  int32  \n",
      "dtypes: bool(3), float64(5), int32(9), int64(3), object(2)\n",
      "memory usage: 2.7+ MB\n"
     ]
    }
   ],
   "source": [
    "to_filter = ['rooms', 'total_area', 'ceiling_height', \n",
    "             'days_exposition', 'last_price', 'living_area', \n",
    "             'kitchen_area', 'floor', 'floors_total']\n",
    "\n",
    "for col in to_filter:\n",
    "    top_filter = df[col].quantile(.9976)\n",
    "    df = df[df[col] <= top_filter]\n",
    "    \n",
    "    bottom_filter = df[col].quantile(.01)\n",
    "    df = df[df[col] >= bottom_filter]\n",
    "\n",
    "df.info()"
   ]
  },
  {
   "cell_type": "markdown",
   "id": "70446814",
   "metadata": {},
   "source": [
    "Отфильтрованы по одному проценту крайне низких и крайне высоких значений.  \n",
    "Несмотря на итоговую потерю порядка 5% данных, это значительно повысит точность исследования."
   ]
  },
  {
   "cell_type": "markdown",
   "id": "e5816c87",
   "metadata": {},
   "source": [
    "## 3. Дополнение данных <a class=\"anchor\" id=\"дополнение_данных\"></a>"
   ]
  },
  {
   "cell_type": "markdown",
   "id": "b285fcb4",
   "metadata": {},
   "source": [
    "**Цена за м2**\n",
    "  \n",
    "Необходимо добавить столбец со стоимостью м2 объектов недвижимости"
   ]
  },
  {
   "cell_type": "code",
   "execution_count": 39,
   "id": "0905a517",
   "metadata": {},
   "outputs": [],
   "source": [
    "df['sqare_meter_price'] = df['last_price'] / df['total_area']"
   ]
  },
  {
   "cell_type": "markdown",
   "id": "be41dd7a",
   "metadata": {},
   "source": [
    "**Время размещения объявления**\n",
    "  \n",
    "Для дальнейшего исследования добавляются столбцы с днем недели, месяцем и годом размещения объявления о продаже."
   ]
  },
  {
   "cell_type": "code",
   "execution_count": 40,
   "id": "54160356",
   "metadata": {},
   "outputs": [],
   "source": [
    "df['first_day_exposition'] = pd.to_datetime(df['first_day_exposition'], format='%Y-%m-%dT%H:%M:%S')"
   ]
  },
  {
   "cell_type": "code",
   "execution_count": 41,
   "id": "b53a9a15",
   "metadata": {},
   "outputs": [],
   "source": [
    "df['exposition_weekday'] = df['first_day_exposition'].dt.dayofweek\n",
    "df['exposition_month'] = df['first_day_exposition'].dt.month\n",
    "df['exposition_year'] = df['first_day_exposition'].dt.year"
   ]
  },
  {
   "cell_type": "markdown",
   "id": "f09b1778",
   "metadata": {},
   "source": [
    "**Тип этажа**\n",
    "  \n",
    "Добавляется столбец с типом этажа, на котором располагается квартира:  \n",
    "`Первый`, `Последний` или `Другой`"
   ]
  },
  {
   "cell_type": "code",
   "execution_count": 96,
   "id": "a1d96447",
   "metadata": {
    "scrolled": false
   },
   "outputs": [],
   "source": [
    "df.loc[:,'floor_type'] = 'другой'\n",
    "df.loc[:,'floor_type'][df.loc[:,'floor'] == df.loc[:,'floors_total']] = 'последний'\n",
    "df.loc[:,'floor_type'][df.loc[:,'floor'] == 1] = 'первый'"
   ]
  },
  {
   "cell_type": "code",
   "execution_count": 108,
   "id": "6b47bc7a",
   "metadata": {
    "scrolled": false
   },
   "outputs": [],
   "source": [
    "df['floor_type_id'] = 2\n",
    "df.loc[df['floor_type'] == 'первый', 'floor_type_id'] = 1\n",
    "df.loc[df['floor_type'] == 'последний', 'floor_type_id'] = 3"
   ]
  },
  {
   "cell_type": "code",
   "execution_count": 109,
   "id": "780654a8",
   "metadata": {},
   "outputs": [
    {
     "data": {
      "text/plain": [
       "2    16426\n",
       "3     3070\n",
       "1     2700\n",
       "Name: floor_type_id, dtype: int64"
      ]
     },
     "execution_count": 109,
     "metadata": {},
     "output_type": "execute_result"
    }
   ],
   "source": [
    "df['floor_type_id'].value_counts()"
   ]
  },
  {
   "cell_type": "markdown",
   "id": "bf85690b",
   "metadata": {},
   "source": [
    "Также добавляется столбец с id типа этажа, где:"
   ]
  },
  {
   "cell_type": "code",
   "execution_count": 112,
   "id": "1ac38afc",
   "metadata": {},
   "outputs": [
    {
     "data": {
      "text/html": [
       "<div>\n",
       "<style scoped>\n",
       "    .dataframe tbody tr th:only-of-type {\n",
       "        vertical-align: middle;\n",
       "    }\n",
       "\n",
       "    .dataframe tbody tr th {\n",
       "        vertical-align: top;\n",
       "    }\n",
       "\n",
       "    .dataframe thead th {\n",
       "        text-align: right;\n",
       "    }\n",
       "</style>\n",
       "<table border=\"1\" class=\"dataframe\">\n",
       "  <thead>\n",
       "    <tr style=\"text-align: right;\">\n",
       "      <th></th>\n",
       "      <th>floor_type_id</th>\n",
       "    </tr>\n",
       "    <tr>\n",
       "      <th>floor_type</th>\n",
       "      <th></th>\n",
       "    </tr>\n",
       "  </thead>\n",
       "  <tbody>\n",
       "    <tr>\n",
       "      <th>первый</th>\n",
       "      <td>1</td>\n",
       "    </tr>\n",
       "    <tr>\n",
       "      <th>другой</th>\n",
       "      <td>2</td>\n",
       "    </tr>\n",
       "    <tr>\n",
       "      <th>последний</th>\n",
       "      <td>3</td>\n",
       "    </tr>\n",
       "  </tbody>\n",
       "</table>\n",
       "</div>"
      ],
      "text/plain": [
       "            floor_type_id\n",
       "floor_type               \n",
       "первый                  1\n",
       "другой                  2\n",
       "последний               3"
      ]
     },
     "execution_count": 112,
     "metadata": {},
     "output_type": "execute_result"
    }
   ],
   "source": [
    "df.pivot_table(index='floor_type', values='floor_type_id').sort_values(by='floor_type_id', ascending=True)"
   ]
  },
  {
   "cell_type": "markdown",
   "id": "c4fa6383",
   "metadata": {},
   "source": [
    "**Удаленность от центра в км**\n",
    "\n",
    "Значения удаленности от центра переводятся в километры и округляются."
   ]
  },
  {
   "cell_type": "code",
   "execution_count": 46,
   "id": "565932e8",
   "metadata": {},
   "outputs": [],
   "source": [
    "df['cityCenters_nearest_km'] = df['cityCenters_nearest'] / 1000\n",
    "df['cityCenters_nearest_km'] = df['cityCenters_nearest_km'].round(0).astype(int)"
   ]
  },
  {
   "cell_type": "markdown",
   "id": "e2df0853",
   "metadata": {},
   "source": [
    "**Проверка дополненности датафрейма**"
   ]
  },
  {
   "cell_type": "code",
   "execution_count": 47,
   "id": "a6eec41b",
   "metadata": {
    "scrolled": true
   },
   "outputs": [
    {
     "data": {
      "text/html": [
       "<div>\n",
       "<style scoped>\n",
       "    .dataframe tbody tr th:only-of-type {\n",
       "        vertical-align: middle;\n",
       "    }\n",
       "\n",
       "    .dataframe tbody tr th {\n",
       "        vertical-align: top;\n",
       "    }\n",
       "\n",
       "    .dataframe thead th {\n",
       "        text-align: right;\n",
       "    }\n",
       "</style>\n",
       "<table border=\"1\" class=\"dataframe\">\n",
       "  <thead>\n",
       "    <tr style=\"text-align: right;\">\n",
       "      <th></th>\n",
       "      <th>total_images</th>\n",
       "      <th>last_price</th>\n",
       "      <th>total_area</th>\n",
       "      <th>first_day_exposition</th>\n",
       "      <th>rooms</th>\n",
       "      <th>ceiling_height</th>\n",
       "      <th>floors_total</th>\n",
       "      <th>living_area</th>\n",
       "      <th>floor</th>\n",
       "      <th>is_apartment</th>\n",
       "      <th>...</th>\n",
       "      <th>ponds_around3000</th>\n",
       "      <th>ponds_nearest</th>\n",
       "      <th>days_exposition</th>\n",
       "      <th>sqare_meter_price</th>\n",
       "      <th>exposition_weekday</th>\n",
       "      <th>exposition_month</th>\n",
       "      <th>exposition_year</th>\n",
       "      <th>floor_type</th>\n",
       "      <th>floor_type_id</th>\n",
       "      <th>cityCenters_nearest_km</th>\n",
       "    </tr>\n",
       "  </thead>\n",
       "  <tbody>\n",
       "    <tr>\n",
       "      <th>0</th>\n",
       "      <td>20</td>\n",
       "      <td>13000000.0</td>\n",
       "      <td>108.0</td>\n",
       "      <td>2019-03-07</td>\n",
       "      <td>3</td>\n",
       "      <td>2.70</td>\n",
       "      <td>16</td>\n",
       "      <td>51.000000</td>\n",
       "      <td>8</td>\n",
       "      <td>False</td>\n",
       "      <td>...</td>\n",
       "      <td>2</td>\n",
       "      <td>755</td>\n",
       "      <td>0</td>\n",
       "      <td>120370.370370</td>\n",
       "      <td>3</td>\n",
       "      <td>3</td>\n",
       "      <td>2019</td>\n",
       "      <td>другой</td>\n",
       "      <td>2</td>\n",
       "      <td>16</td>\n",
       "    </tr>\n",
       "    <tr>\n",
       "      <th>1</th>\n",
       "      <td>7</td>\n",
       "      <td>3350000.0</td>\n",
       "      <td>40.4</td>\n",
       "      <td>2018-12-04</td>\n",
       "      <td>1</td>\n",
       "      <td>0.00</td>\n",
       "      <td>11</td>\n",
       "      <td>18.600000</td>\n",
       "      <td>1</td>\n",
       "      <td>False</td>\n",
       "      <td>...</td>\n",
       "      <td>0</td>\n",
       "      <td>0</td>\n",
       "      <td>81</td>\n",
       "      <td>82920.792079</td>\n",
       "      <td>1</td>\n",
       "      <td>12</td>\n",
       "      <td>2018</td>\n",
       "      <td>первый</td>\n",
       "      <td>1</td>\n",
       "      <td>19</td>\n",
       "    </tr>\n",
       "    <tr>\n",
       "      <th>2</th>\n",
       "      <td>10</td>\n",
       "      <td>5196000.0</td>\n",
       "      <td>56.0</td>\n",
       "      <td>2015-08-20</td>\n",
       "      <td>2</td>\n",
       "      <td>0.00</td>\n",
       "      <td>5</td>\n",
       "      <td>34.300000</td>\n",
       "      <td>4</td>\n",
       "      <td>False</td>\n",
       "      <td>...</td>\n",
       "      <td>2</td>\n",
       "      <td>574</td>\n",
       "      <td>558</td>\n",
       "      <td>92785.714286</td>\n",
       "      <td>3</td>\n",
       "      <td>8</td>\n",
       "      <td>2015</td>\n",
       "      <td>другой</td>\n",
       "      <td>2</td>\n",
       "      <td>14</td>\n",
       "    </tr>\n",
       "    <tr>\n",
       "      <th>3</th>\n",
       "      <td>0</td>\n",
       "      <td>64900000.0</td>\n",
       "      <td>159.0</td>\n",
       "      <td>2015-07-24</td>\n",
       "      <td>3</td>\n",
       "      <td>0.00</td>\n",
       "      <td>14</td>\n",
       "      <td>89.797718</td>\n",
       "      <td>9</td>\n",
       "      <td>False</td>\n",
       "      <td>...</td>\n",
       "      <td>3</td>\n",
       "      <td>234</td>\n",
       "      <td>424</td>\n",
       "      <td>408176.100629</td>\n",
       "      <td>4</td>\n",
       "      <td>7</td>\n",
       "      <td>2015</td>\n",
       "      <td>другой</td>\n",
       "      <td>2</td>\n",
       "      <td>7</td>\n",
       "    </tr>\n",
       "    <tr>\n",
       "      <th>4</th>\n",
       "      <td>2</td>\n",
       "      <td>10000000.0</td>\n",
       "      <td>100.0</td>\n",
       "      <td>2018-06-19</td>\n",
       "      <td>2</td>\n",
       "      <td>3.03</td>\n",
       "      <td>14</td>\n",
       "      <td>32.000000</td>\n",
       "      <td>13</td>\n",
       "      <td>False</td>\n",
       "      <td>...</td>\n",
       "      <td>1</td>\n",
       "      <td>48</td>\n",
       "      <td>121</td>\n",
       "      <td>100000.000000</td>\n",
       "      <td>1</td>\n",
       "      <td>6</td>\n",
       "      <td>2018</td>\n",
       "      <td>другой</td>\n",
       "      <td>2</td>\n",
       "      <td>8</td>\n",
       "    </tr>\n",
       "  </tbody>\n",
       "</table>\n",
       "<p>5 rows × 29 columns</p>\n",
       "</div>"
      ],
      "text/plain": [
       "   total_images  last_price  total_area first_day_exposition  rooms  \\\n",
       "0            20  13000000.0       108.0           2019-03-07      3   \n",
       "1             7   3350000.0        40.4           2018-12-04      1   \n",
       "2            10   5196000.0        56.0           2015-08-20      2   \n",
       "3             0  64900000.0       159.0           2015-07-24      3   \n",
       "4             2  10000000.0       100.0           2018-06-19      2   \n",
       "\n",
       "   ceiling_height  floors_total  living_area  floor  is_apartment  ...  \\\n",
       "0            2.70            16    51.000000      8         False  ...   \n",
       "1            0.00            11    18.600000      1         False  ...   \n",
       "2            0.00             5    34.300000      4         False  ...   \n",
       "3            0.00            14    89.797718      9         False  ...   \n",
       "4            3.03            14    32.000000     13         False  ...   \n",
       "\n",
       "   ponds_around3000  ponds_nearest  days_exposition  sqare_meter_price  \\\n",
       "0                 2            755                0      120370.370370   \n",
       "1                 0              0               81       82920.792079   \n",
       "2                 2            574              558       92785.714286   \n",
       "3                 3            234              424      408176.100629   \n",
       "4                 1             48              121      100000.000000   \n",
       "\n",
       "  exposition_weekday  exposition_month  exposition_year  floor_type  \\\n",
       "0                  3                 3             2019      другой   \n",
       "1                  1                12             2018      первый   \n",
       "2                  3                 8             2015      другой   \n",
       "3                  4                 7             2015      другой   \n",
       "4                  1                 6             2018      другой   \n",
       "\n",
       "   floor_type_id  cityCenters_nearest_km  \n",
       "0              2                      16  \n",
       "1              1                      19  \n",
       "2              2                      14  \n",
       "3              2                       7  \n",
       "4              2                       8  \n",
       "\n",
       "[5 rows x 29 columns]"
      ]
     },
     "execution_count": 47,
     "metadata": {},
     "output_type": "execute_result"
    }
   ],
   "source": [
    "df.head()"
   ]
  },
  {
   "cell_type": "markdown",
   "id": "09003e1c",
   "metadata": {},
   "source": [
    "Все необходимые для исследования данные добавлены."
   ]
  },
  {
   "cell_type": "markdown",
   "id": "94e6a190",
   "metadata": {},
   "source": [
    "## 4. Исследовательский анализ <a class=\"anchor\" id=\"исследовательский_анализ\"></a>"
   ]
  },
  {
   "cell_type": "markdown",
   "id": "40fb7aa5",
   "metadata": {},
   "source": [
    "### 4.1. Оценка распределения значений <a class=\"anchor\" id=\"оценка_распределения\"></a>"
   ]
  },
  {
   "cell_type": "markdown",
   "id": "9d66c683",
   "metadata": {},
   "source": [
    "Для оценки корректности имеющихся данных следует изучить распределение значений для следующих параметров:\n",
    "    \n",
    "* Цена \n",
    "* Площадь\n",
    "* Количество комнат\n",
    "* Высота потолков\n",
    "* Этажность\n",
    "* Инфраструктура\n",
    "* Размещение объявления"
   ]
  },
  {
   "cell_type": "markdown",
   "id": "b1f160ac",
   "metadata": {},
   "source": [
    "**Цена** <a class=\"anchor\" id=\"цена\"></a>"
   ]
  },
  {
   "cell_type": "code",
   "execution_count": 48,
   "id": "213f07c5",
   "metadata": {},
   "outputs": [],
   "source": [
    "def top_range (col): #функции для отсечения выбросов на основании межквартильного размаха\n",
    "    Q1 = df[col].quantile(0.25)\n",
    "    Q3 = df[col].quantile(0.75)\n",
    "    IQR = Q3-Q1\n",
    "    top_range = Q3+IQR*1.5 \n",
    "    return top_range\n",
    "\n",
    "def bottom_range (col):\n",
    "    Q1 = df[col].quantile(0.25)\n",
    "    Q3 = df[col].quantile(0.75)\n",
    "    IQR = Q3-Q1\n",
    "    bottom_range = Q1-IQR*1.5 \n",
    "    return bottom_range"
   ]
  },
  {
   "cell_type": "code",
   "execution_count": 49,
   "id": "d1de2505",
   "metadata": {},
   "outputs": [
    {
     "data": {
      "text/plain": [
       "array([[<AxesSubplot:title={'center':'last_price'}>]], dtype=object)"
      ]
     },
     "execution_count": 49,
     "metadata": {},
     "output_type": "execute_result"
    },
    {
     "data": {
      "image/png": "[encoded data removed]",
      "text/plain": [
       "<Figure size 432x288 with 1 Axes>"
      ]
     },
     "metadata": {
      "needs_background": "light"
     },
     "output_type": "display_data"
    }
   ],
   "source": [
    "df.hist(column='last_price', \n",
    "        bins=50, \n",
    "        range=(0,top_range('last_price'))\n",
    "        )"
   ]
  },
  {
   "cell_type": "markdown",
   "id": "0a3a128d",
   "metadata": {},
   "source": [
    "Гистограмма цен близка к нормальному распределению, что говорит о доствоерности имеющихся данных.\n",
    "Наибольшее количество объявлений размещено для объектов стоимостью от 3 до 5 млн.руб."
   ]
  },
  {
   "cell_type": "markdown",
   "id": "e3e08296",
   "metadata": {},
   "source": [
    "**Площадь** <a class=\"anchor\" id=\"площадь\"></a>"
   ]
  },
  {
   "cell_type": "code",
   "execution_count": 50,
   "id": "8c351a88",
   "metadata": {},
   "outputs": [],
   "source": [
    "square_to_analyse = ['total_area', 'living_area', 'kitchen_area']"
   ]
  },
  {
   "cell_type": "code",
   "execution_count": 51,
   "id": "248e9e9b",
   "metadata": {
    "scrolled": false
   },
   "outputs": [
    {
     "data": {
      "image/png": "[encoded data removed]",
      "text/plain": [
       "<Figure size 432x288 with 1 Axes>"
      ]
     },
     "metadata": {
      "needs_background": "light"
     },
     "output_type": "display_data"
    },
    {
     "data": {
      "image/png": "[encoded data removed]",
      "text/plain": [
       "<Figure size 432x288 with 1 Axes>"
      ]
     },
     "metadata": {
      "needs_background": "light"
     },
     "output_type": "display_data"
    },
    {
     "data": {
      "image/png": "[encoded data removed]",
      "text/plain": [
       "<Figure size 432x288 with 1 Axes>"
      ]
     },
     "metadata": {
      "needs_background": "light"
     },
     "output_type": "display_data"
    }
   ],
   "source": [
    "for col in square_to_analyse:\n",
    "    df.hist(column=col, bins=50, range=(0,top_range(col)))"
   ]
  },
  {
   "cell_type": "markdown",
   "id": "7fe9106a",
   "metadata": {},
   "source": [
    "Гистограммы общей площади и площади кухни также соответствуют нормальному распределению и свидетельствуют о корректности данных.\n",
    "\n",
    "Однако, распределение значений жилой площади квартир имеет 2 явных пика, около 18м2 и 30м2. Необходимо изучить причину данной аномалии."
   ]
  },
  {
   "cell_type": "markdown",
   "id": "0f42a11a",
   "metadata": {},
   "source": [
    "**Количество комнат** <a class=\"anchor\" id=\"количество_комнат\"></a>"
   ]
  },
  {
   "cell_type": "code",
   "execution_count": 52,
   "id": "93340532",
   "metadata": {
    "scrolled": true
   },
   "outputs": [
    {
     "data": {
      "text/plain": [
       "array([[<AxesSubplot:title={'center':'rooms'}>]], dtype=object)"
      ]
     },
     "execution_count": 52,
     "metadata": {},
     "output_type": "execute_result"
    },
    {
     "data": {
      "image/png": "[encoded data removed]",
      "text/plain": [
       "<Figure size 432x288 with 1 Axes>"
      ]
     },
     "metadata": {
      "needs_background": "light"
     },
     "output_type": "display_data"
    }
   ],
   "source": [
    "df.hist(column='rooms', bins=20, range=(0,top_range('rooms')))"
   ]
  },
  {
   "cell_type": "markdown",
   "id": "488f8973",
   "metadata": {},
   "source": [
    "Наибольшее количество объявлений для однокомнатных и двухкомнатных квартир, что коррелирует с данными по площади и стоимости."
   ]
  },
  {
   "cell_type": "markdown",
   "id": "4fb2f3b3",
   "metadata": {},
   "source": [
    "**Высота потолков** <a class=\"anchor\" id=\"высота_потолков\"></a>"
   ]
  },
  {
   "cell_type": "code",
   "execution_count": 53,
   "id": "6ce7e70c",
   "metadata": {},
   "outputs": [
    {
     "data": {
      "text/plain": [
       "array([[<AxesSubplot:title={'center':'ceiling_height'}>]], dtype=object)"
      ]
     },
     "execution_count": 53,
     "metadata": {},
     "output_type": "execute_result"
    },
    {
     "data": {
      "image/png": "[encoded data removed]",
      "text/plain": [
       "<Figure size 432x288 with 1 Axes>"
      ]
     },
     "metadata": {
      "needs_background": "light"
     },
     "output_type": "display_data"
    }
   ],
   "source": [
    "df.hist(column='ceiling_height', bins=50, range=(0.1,top_range('ceiling_height')))"
   ]
  },
  {
   "cell_type": "markdown",
   "id": "c2321cce",
   "metadata": {},
   "source": [
    "Большое количество объектов с высотой потолков `2.65м` обусловлено тем, что это значение является медианным и им было заполнено порядка 10000 строк.\n",
    "\n",
    "Также наблюдается кратность `5см` для высоты потолков."
   ]
  },
  {
   "cell_type": "markdown",
   "id": "fbdb2e40",
   "metadata": {},
   "source": [
    "**Этажность** <a class=\"anchor\" id=\"этажность\"></a>"
   ]
  },
  {
   "cell_type": "code",
   "execution_count": 54,
   "id": "f1c5e205",
   "metadata": {},
   "outputs": [],
   "source": [
    "floors_to_analyse = ['floor', 'floors_total']"
   ]
  },
  {
   "cell_type": "code",
   "execution_count": 55,
   "id": "5f51d9f8",
   "metadata": {},
   "outputs": [
    {
     "data": {
      "image/png": "[encoded data removed]",
      "text/plain": [
       "<Figure size 432x288 with 1 Axes>"
      ]
     },
     "metadata": {
      "needs_background": "light"
     },
     "output_type": "display_data"
    },
    {
     "data": {
      "image/png": "[encoded data removed]",
      "text/plain": [
       "<Figure size 432x288 with 1 Axes>"
      ]
     },
     "metadata": {
      "needs_background": "light"
     },
     "output_type": "display_data"
    }
   ],
   "source": [
    "for col in floors_to_analyse:\n",
    "    df.hist(column=col, bins=50, range=(0,top_range(col)))"
   ]
  },
  {
   "cell_type": "code",
   "execution_count": 56,
   "id": "7a2e2928",
   "metadata": {
    "scrolled": false
   },
   "outputs": [
    {
     "data": {
      "text/plain": [
       "array([[<AxesSubplot:title={'center':'floor_type_id'}>]], dtype=object)"
      ]
     },
     "execution_count": 56,
     "metadata": {},
     "output_type": "execute_result"
    },
    {
     "data": {
      "image/png": "[encoded data removed]",
      "text/plain": [
       "<Figure size 432x288 with 1 Axes>"
      ]
     },
     "metadata": {
      "needs_background": "light"
     },
     "output_type": "display_data"
    }
   ],
   "source": [
    "df.hist(column='floor_type_id', bins=5)"
   ]
  },
  {
   "cell_type": "markdown",
   "id": "b64bc692",
   "metadata": {},
   "source": [
    "Как видно из гистограммы `floors_total` - больше всего объявлений размещено для квартир в 5-ти и 9-ти этажных домах.\n",
    "Следовательно, чаще всего этаж, на котором расположена квартира находится в этом диапазоне.\n",
    "Гистограмма типа этажа также соответствует данному распределению\n",
    "\n",
    "Также стоит заметить, что 1 этаж не является самым популярным, несмотря на то, что статистически таких квартир должно быть больше всего.\n",
    "Это может быть связано с тем, что в некоторых объявлениях может быть указан 2-й этаж, несмотря на то, что квартира фактически располагается на 1-м."
   ]
  },
  {
   "cell_type": "markdown",
   "id": "bbe891b0",
   "metadata": {},
   "source": [
    "**Инфраструктура** <a class=\"anchor\" id=\"инфраструктура\"></a>"
   ]
  },
  {
   "cell_type": "markdown",
   "id": "cb56a17f",
   "metadata": {},
   "source": [
    "При построении гистограмм удаленности от инфраструктурных объектов исключаются заполненные на `0` пропуски."
   ]
  },
  {
   "cell_type": "code",
   "execution_count": 57,
   "id": "56898f04",
   "metadata": {},
   "outputs": [],
   "source": [
    "surrounding_to_analyse = ['cityCenters_nearest', 'airports_nearest', 'parks_nearest', 'ponds_nearest']"
   ]
  },
  {
   "cell_type": "code",
   "execution_count": 58,
   "id": "2a239d31",
   "metadata": {
    "scrolled": true
   },
   "outputs": [
    {
     "data": {
      "image/png": "[encoded data removed]",
      "text/plain": [
       "<Figure size 432x288 with 1 Axes>"
      ]
     },
     "metadata": {
      "needs_background": "light"
     },
     "output_type": "display_data"
    },
    {
     "data": {
      "image/png": "[encoded data removed]",
      "text/plain": [
       "<Figure size 432x288 with 1 Axes>"
      ]
     },
     "metadata": {
      "needs_background": "light"
     },
     "output_type": "display_data"
    },
    {
     "data": {
      "image/png": "[encoded data removed]",
      "text/plain": [
       "<Figure size 432x288 with 1 Axes>"
      ]
     },
     "metadata": {
      "needs_background": "light"
     },
     "output_type": "display_data"
    },
    {
     "data": {
      "image/png": "[encoded data removed]",
      "text/plain": [
       "<Figure size 432x288 with 1 Axes>"
      ]
     },
     "metadata": {
      "needs_background": "light"
     },
     "output_type": "display_data"
    }
   ],
   "source": [
    "for col in surrounding_to_analyse:\n",
    "    df.hist(column=col, bins=50, range=(0.1,top_range(col)))\n",
    "\n",
    "plt.show()"
   ]
  },
  {
   "cell_type": "markdown",
   "id": "4951df0a",
   "metadata": {},
   "source": [
    "2 максимума значений удаленности от центра могут быть связаны с тем, что приведены данные для разных населенных пунктов. Следует проверить эту гипотезу, составив гистограмму только для недвижимости в Санкт-Петербурге."
   ]
  },
  {
   "cell_type": "code",
   "execution_count": 59,
   "id": "4e3c438f",
   "metadata": {},
   "outputs": [
    {
     "data": {
      "text/plain": [
       "array([[<AxesSubplot:title={'center':'cityCenters_nearest'}>]],\n",
       "      dtype=object)"
      ]
     },
     "execution_count": 59,
     "metadata": {},
     "output_type": "execute_result"
    },
    {
     "data": {
      "image/png": "[encoded data removed]",
      "text/plain": [
       "<Figure size 432x288 with 1 Axes>"
      ]
     },
     "metadata": {
      "needs_background": "light"
     },
     "output_type": "display_data"
    }
   ],
   "source": [
    "df.query('locality_name == \"Санкт-Петербург\"').hist(column='cityCenters_nearest', \n",
    "                                                    bins=50, \n",
    "                                                    range=(0,top_range('cityCenters_nearest')))"
   ]
  },
  {
   "cell_type": "markdown",
   "id": "1a47847d",
   "metadata": {},
   "source": [
    "Гипотеза оказалась ошибочной, 2 максимума наблюдаются в том числе для недвижимости Санкт-Петербурга."
   ]
  },
  {
   "cell_type": "markdown",
   "id": "1aea81cf",
   "metadata": {},
   "source": [
    "**Размещение объявления** <a class=\"anchor\" id=\"размещение_объявления\"></a>"
   ]
  },
  {
   "cell_type": "code",
   "execution_count": 60,
   "id": "5cd12e1a",
   "metadata": {},
   "outputs": [],
   "source": [
    "exposition_to_analyse = ['exposition_weekday', 'exposition_month', 'exposition_year']"
   ]
  },
  {
   "cell_type": "code",
   "execution_count": 61,
   "id": "4bcdfda6",
   "metadata": {},
   "outputs": [
    {
     "data": {
      "image/png": "[encoded data removed]",
      "text/plain": [
       "<Figure size 432x288 with 1 Axes>"
      ]
     },
     "metadata": {
      "needs_background": "light"
     },
     "output_type": "display_data"
    },
    {
     "data": {
      "image/png": "[encoded data removed]",
      "text/plain": [
       "<Figure size 432x288 with 1 Axes>"
      ]
     },
     "metadata": {
      "needs_background": "light"
     },
     "output_type": "display_data"
    },
    {
     "data": {
      "image/png": "[encoded data removed]",
      "text/plain": [
       "<Figure size 432x288 with 1 Axes>"
      ]
     },
     "metadata": {
      "needs_background": "light"
     },
     "output_type": "display_data"
    }
   ],
   "source": [
    "for col in exposition_to_analyse:\n",
    "    df.hist(column=col, bins=30)"
   ]
  },
  {
   "cell_type": "markdown",
   "id": "76074ae6",
   "metadata": {},
   "source": [
    "Как видно, в выходные размещается наименьшее количество объявлений. Вероятно, это связано с графиком работы агенств недвижимости.\n",
    "\n",
    "Также за последние 5 лет наблюдается значительный рост числа объявлений. Данные за 2019 год неполные, поэтому низкое значение данного столбца не является показателем снижения активности."
   ]
  },
  {
   "cell_type": "markdown",
   "id": "124857cb",
   "metadata": {},
   "source": [
    "### 4.2. Изучение скорости продажи недвижимости <a class=\"anchor\" id=\"изучение_скорости\"></a>"
   ]
  },
  {
   "cell_type": "code",
   "execution_count": 76,
   "id": "3f4186ed",
   "metadata": {},
   "outputs": [
    {
     "name": "stdout",
     "output_type": "stream",
     "text": [
      "<class 'pandas.core.frame.DataFrame'>\n",
      "Int64Index: 22196 entries, 0 to 23697\n",
      "Data columns (total 29 columns):\n",
      " #   Column                  Non-Null Count  Dtype         \n",
      "---  ------                  --------------  -----         \n",
      " 0   total_images            22196 non-null  int64         \n",
      " 1   last_price              22196 non-null  float64       \n",
      " 2   total_area              22196 non-null  float64       \n",
      " 3   first_day_exposition    22196 non-null  datetime64[ns]\n",
      " 4   rooms                   22196 non-null  int64         \n",
      " 5   ceiling_height          22196 non-null  float64       \n",
      " 6   floors_total            22196 non-null  int32         \n",
      " 7   living_area             22196 non-null  float64       \n",
      " 8   floor                   22196 non-null  int64         \n",
      " 9   is_apartment            22196 non-null  bool          \n",
      " 10  studio                  22196 non-null  bool          \n",
      " 11  open_plan               22196 non-null  bool          \n",
      " 12  kitchen_area            22196 non-null  float64       \n",
      " 13  balcony                 22196 non-null  int32         \n",
      " 14  locality_name           22196 non-null  object        \n",
      " 15  airports_nearest        22196 non-null  int32         \n",
      " 16  cityCenters_nearest     22196 non-null  int32         \n",
      " 17  parks_around3000        22196 non-null  int32         \n",
      " 18  parks_nearest           22196 non-null  int32         \n",
      " 19  ponds_around3000        22196 non-null  int32         \n",
      " 20  ponds_nearest           22196 non-null  int32         \n",
      " 21  days_exposition         22196 non-null  int32         \n",
      " 22  sqare_meter_price       22196 non-null  float64       \n",
      " 23  exposition_weekday      22196 non-null  int64         \n",
      " 24  exposition_month        22196 non-null  int64         \n",
      " 25  exposition_year         22196 non-null  int64         \n",
      " 26  floor_type              22196 non-null  object        \n",
      " 27  floor_type_id           22196 non-null  int64         \n",
      " 28  cityCenters_nearest_km  22196 non-null  int32         \n",
      "dtypes: bool(3), datetime64[ns](1), float64(6), int32(10), int64(7), object(2)\n",
      "memory usage: 3.8+ MB\n"
     ]
    }
   ],
   "source": [
    "top_filter = df['days_exposition'].quantile(.9976)\n",
    "df = df[df['days_exposition'] <= top_filter]\n",
    "    \n",
    "bottom_filter = df['days_exposition'].quantile(.01)\n",
    "df = df[df['days_exposition'] >= bottom_filter]\n",
    "\n",
    "df.info()"
   ]
  },
  {
   "cell_type": "code",
   "execution_count": 77,
   "id": "a94163b8",
   "metadata": {
    "scrolled": false
   },
   "outputs": [
    {
     "data": {
      "text/plain": [
       "count    19212.000000\n",
       "mean       174.651936\n",
       "std        203.412633\n",
       "min          1.000000\n",
       "25%         45.000000\n",
       "50%         95.000000\n",
       "75%        227.000000\n",
       "max       1163.000000\n",
       "Name: days_exposition, dtype: float64"
      ]
     },
     "execution_count": 77,
     "metadata": {},
     "output_type": "execute_result"
    }
   ],
   "source": [
    "df.query('days_exposition > 0')['days_exposition'].describe()"
   ]
  },
  {
   "cell_type": "code",
   "execution_count": 78,
   "id": "07d7aad0",
   "metadata": {},
   "outputs": [
    {
     "name": "stdout",
     "output_type": "stream",
     "text": [
      "Продается в течение недели: 4.2% объектов;\n",
      "Продается в течение месяца: 18.3% объектов;\n",
      "Продается в течение квартала: 48.9% объектов;\n",
      "Продается в течение полугода: 69.2% объектов;\n",
      "Продается в течение года: 85.7% объектов.\n"
     ]
    }
   ],
   "source": [
    "exposition_less_than_7 = len(df.query('0 < days_exposition <=7')['days_exposition']) \\\n",
    "/ len(df.query('0 < days_exposition')['days_exposition'])\n",
    "\n",
    "exposition_less_than_30 = len(df.query('0 < days_exposition <=30')['days_exposition']) \\\n",
    "/ len(df.query('0 < days_exposition')['days_exposition'])\n",
    "\n",
    "exposition_less_than_90 = len(df.query('0 < days_exposition <=91')['days_exposition']) \\\n",
    "/ len(df.query('0 < days_exposition')['days_exposition'])\n",
    "\n",
    "exposition_less_than_182 = len(df.query('0 < days_exposition <=182')['days_exposition']) \\\n",
    "/ len(df.query('0 < days_exposition')['days_exposition'])\n",
    "\n",
    "exposition_less_than_365 = len(df.query('0 < days_exposition <=365')['days_exposition']) \\\n",
    "/ len(df.query('0 < days_exposition')['days_exposition'])\n",
    "\n",
    "print(f'''Продается в течение недели: {exposition_less_than_7 :.1%} объектов;\n",
    "Продается в течение месяца: {exposition_less_than_30 :.1%} объектов;\n",
    "Продается в течение квартала: {exposition_less_than_90 :.1%} объектов;\n",
    "Продается в течение полугода: {exposition_less_than_182 :.1%} объектов;\n",
    "Продается в течение года: {exposition_less_than_365 :.1%} объектов.''')"
   ]
  },
  {
   "cell_type": "markdown",
   "id": "b08a2935",
   "metadata": {},
   "source": [
    "|Тип сделки|Срок размещения объявления|Доля проданных объектов|\n",
    "|:---------|:---------------------------|:----------------------|\n",
    "|Очень быстрая|17 дней|10%|\n",
    "|Быстрая|1.5 месяца|25%|\n",
    "|Нормальная|3 месяца|50%|\n",
    "|Долгая|7.5 месяцев|75%|\n",
    "|Очень долгая|1.2 года|90%|"
   ]
  },
  {
   "cell_type": "markdown",
   "id": "3aa9e906",
   "metadata": {},
   "source": [
    "### 4.3. Зависимость цены от различных параметров <a class=\"anchor\" id=\"зависимость_цены\"></a>"
   ]
  },
  {
   "cell_type": "markdown",
   "id": "63509e6f",
   "metadata": {},
   "source": [
    "Необходимо оценить зависимость стоимости объектов недвижимости от следующих параметров:\n",
    "  \n",
    "* `общая площадь`\n",
    "* `жилая площадь`\n",
    "* `площадь кухни`\n",
    "* `цена объекта`\n",
    "* `количество комнат`\n",
    "* `высота потолков`\n",
    "* `этаж квартиры`\n",
    "* `тип этажа квартиры` («первый», «последний», «другой»)\n",
    "* `общее количество этажей в доме`\n",
    "* `расстояние до центра города`\n",
    "* `расстояние до ближайшего аэропорта`\n",
    "* `расстояние до ближайшего парка`\n",
    "* `день, месяц, год публикации объявления`"
   ]
  },
  {
   "cell_type": "markdown",
   "id": "22493924",
   "metadata": {},
   "source": [
    "**Зависимость цены от площади**"
   ]
  },
  {
   "cell_type": "code",
   "execution_count": 63,
   "id": "de8251c1",
   "metadata": {},
   "outputs": [],
   "source": [
    "corr_area = ['total_area', 'living_area', 'kitchen_area']"
   ]
  },
  {
   "cell_type": "code",
   "execution_count": 64,
   "id": "b6680bf3",
   "metadata": {
    "scrolled": false
   },
   "outputs": [
    {
     "data": {
      "image/png": "[encoded data removed]",
      "text/plain": [
       "<Figure size 432x288 with 1 Axes>"
      ]
     },
     "metadata": {
      "needs_background": "light"
     },
     "output_type": "display_data"
    },
    {
     "data": {
      "image/png": "[encoded data removed]",
      "text/plain": [
       "<Figure size 432x288 with 1 Axes>"
      ]
     },
     "metadata": {
      "needs_background": "light"
     },
     "output_type": "display_data"
    },
    {
     "data": {
      "image/png": "[encoded data removed]",
      "text/plain": [
       "<Figure size 432x288 with 1 Axes>"
      ]
     },
     "metadata": {
      "needs_background": "light"
     },
     "output_type": "display_data"
    }
   ],
   "source": [
    "for parameter in corr_area:\n",
    "\n",
    "    df.plot(kind='scatter',  \n",
    "            x=parameter, \n",
    "            y='last_price',\n",
    "            alpha = 0.03\n",
    "           )"
   ]
  },
  {
   "cell_type": "markdown",
   "id": "9e820380",
   "metadata": {},
   "source": [
    "Наблюдается положительная корреляция между площатью недвижимости и ее ценой.  \n",
    "Причем для общей площади корреляция более явная."
   ]
  },
  {
   "cell_type": "markdown",
   "id": "2ac7c9e5",
   "metadata": {},
   "source": [
    "**Зависимость цены от количества комнат**"
   ]
  },
  {
   "cell_type": "markdown",
   "id": "a838169c",
   "metadata": {},
   "source": [
    "Поскольку количество комнат является дискретным значением - вместо диаграммы рассеяния стоит построить график медиан."
   ]
  },
  {
   "cell_type": "code",
   "execution_count": 65,
   "id": "740148ab",
   "metadata": {},
   "outputs": [
    {
     "data": {
      "text/html": [
       "<div>\n",
       "<style scoped>\n",
       "    .dataframe tbody tr th:only-of-type {\n",
       "        vertical-align: middle;\n",
       "    }\n",
       "\n",
       "    .dataframe tbody tr th {\n",
       "        vertical-align: top;\n",
       "    }\n",
       "\n",
       "    .dataframe thead th {\n",
       "        text-align: right;\n",
       "    }\n",
       "</style>\n",
       "<table border=\"1\" class=\"dataframe\">\n",
       "  <thead>\n",
       "    <tr style=\"text-align: right;\">\n",
       "      <th></th>\n",
       "      <th>last_price</th>\n",
       "    </tr>\n",
       "    <tr>\n",
       "      <th>rooms</th>\n",
       "      <th></th>\n",
       "    </tr>\n",
       "  </thead>\n",
       "  <tbody>\n",
       "    <tr>\n",
       "      <th>1</th>\n",
       "      <td>3640000.0</td>\n",
       "    </tr>\n",
       "    <tr>\n",
       "      <th>2</th>\n",
       "      <td>4800000.0</td>\n",
       "    </tr>\n",
       "    <tr>\n",
       "      <th>3</th>\n",
       "      <td>6190000.0</td>\n",
       "    </tr>\n",
       "    <tr>\n",
       "      <th>4</th>\n",
       "      <td>8900000.0</td>\n",
       "    </tr>\n",
       "    <tr>\n",
       "      <th>5</th>\n",
       "      <td>12515000.0</td>\n",
       "    </tr>\n",
       "    <tr>\n",
       "      <th>6</th>\n",
       "      <td>14500000.0</td>\n",
       "    </tr>\n",
       "    <tr>\n",
       "      <th>7</th>\n",
       "      <td>16800000.0</td>\n",
       "    </tr>\n",
       "  </tbody>\n",
       "</table>\n",
       "</div>"
      ],
      "text/plain": [
       "       last_price\n",
       "rooms            \n",
       "1       3640000.0\n",
       "2       4800000.0\n",
       "3       6190000.0\n",
       "4       8900000.0\n",
       "5      12515000.0\n",
       "6      14500000.0\n",
       "7      16800000.0"
      ]
     },
     "execution_count": 65,
     "metadata": {},
     "output_type": "execute_result"
    }
   ],
   "source": [
    "median_price_by_rooms = df.pivot_table(index='rooms', values='last_price', aggfunc='median')\n",
    "median_price_by_rooms"
   ]
  },
  {
   "cell_type": "code",
   "execution_count": 97,
   "id": "b79f73c2",
   "metadata": {},
   "outputs": [
    {
     "data": {
      "image/png": "[encoded data removed]",
      "text/plain": [
       "<Figure size 432x288 with 1 Axes>"
      ]
     },
     "metadata": {
      "needs_background": "light"
     },
     "output_type": "display_data"
    }
   ],
   "source": [
    "median_price_by_rooms.plot(y='last_price', \n",
    "                           kind='line',\n",
    "                           style='o-');"
   ]
  },
  {
   "cell_type": "markdown",
   "id": "02c796d7",
   "metadata": {},
   "source": [
    "Очевидна линейная зависимость цены от количества комнат.  "
   ]
  },
  {
   "cell_type": "markdown",
   "id": "b6fd8a26",
   "metadata": {},
   "source": [
    "**Зависимость цены от типа этажа**"
   ]
  },
  {
   "cell_type": "markdown",
   "id": "6957a1de",
   "metadata": {},
   "source": [
    "Тип этажа также является дискретным значением, оцениваются медианные значения для каждой категории."
   ]
  },
  {
   "cell_type": "code",
   "execution_count": 67,
   "id": "97401796",
   "metadata": {},
   "outputs": [
    {
     "data": {
      "text/html": [
       "<div>\n",
       "<style scoped>\n",
       "    .dataframe tbody tr th:only-of-type {\n",
       "        vertical-align: middle;\n",
       "    }\n",
       "\n",
       "    .dataframe tbody tr th {\n",
       "        vertical-align: top;\n",
       "    }\n",
       "\n",
       "    .dataframe thead th {\n",
       "        text-align: right;\n",
       "    }\n",
       "</style>\n",
       "<table border=\"1\" class=\"dataframe\">\n",
       "  <thead>\n",
       "    <tr style=\"text-align: right;\">\n",
       "      <th></th>\n",
       "      <th>last_price</th>\n",
       "    </tr>\n",
       "    <tr>\n",
       "      <th>floor_type_id</th>\n",
       "      <th></th>\n",
       "    </tr>\n",
       "  </thead>\n",
       "  <tbody>\n",
       "    <tr>\n",
       "      <th>1</th>\n",
       "      <td>3999000.0</td>\n",
       "    </tr>\n",
       "    <tr>\n",
       "      <th>2</th>\n",
       "      <td>4900000.0</td>\n",
       "    </tr>\n",
       "    <tr>\n",
       "      <th>3</th>\n",
       "      <td>4350000.0</td>\n",
       "    </tr>\n",
       "  </tbody>\n",
       "</table>\n",
       "</div>"
      ],
      "text/plain": [
       "               last_price\n",
       "floor_type_id            \n",
       "1               3999000.0\n",
       "2               4900000.0\n",
       "3               4350000.0"
      ]
     },
     "execution_count": 67,
     "metadata": {},
     "output_type": "execute_result"
    }
   ],
   "source": [
    "median_price_by_foor_type = df.pivot_table(index='floor_type_id', values='last_price', aggfunc='median')\n",
    "median_price_by_foor_type"
   ]
  },
  {
   "cell_type": "code",
   "execution_count": 98,
   "id": "98baa032",
   "metadata": {
    "scrolled": true
   },
   "outputs": [
    {
     "data": {
      "image/png": "[encoded data removed]",
      "text/plain": [
       "<Figure size 432x288 with 1 Axes>"
      ]
     },
     "metadata": {
      "needs_background": "light"
     },
     "output_type": "display_data"
    }
   ],
   "source": [
    "median_price_by_foor_type.plot(y='last_price', \n",
    "                               kind = 'bar' \n",
    "                               );"
   ]
  },
  {
   "cell_type": "markdown",
   "id": "da9f89b9",
   "metadata": {},
   "source": [
    "Квартиры на крайних этажах в среднем дешевле на 15-20%, причем для первого этажа это проявляется сильнее."
   ]
  },
  {
   "cell_type": "markdown",
   "id": "884f00b5",
   "metadata": {},
   "source": [
    "**Зависимость цены от инфраструктуры**"
   ]
  },
  {
   "cell_type": "code",
   "execution_count": 69,
   "id": "74c07e94",
   "metadata": {
    "scrolled": false
   },
   "outputs": [
    {
     "data": {
      "image/png": "[encoded data removed]",
      "text/plain": [
       "<Figure size 432x288 with 1 Axes>"
      ]
     },
     "metadata": {
      "needs_background": "light"
     },
     "output_type": "display_data"
    },
    {
     "data": {
      "image/png": "[encoded data removed]",
      "text/plain": [
       "<Figure size 432x288 with 1 Axes>"
      ]
     },
     "metadata": {
      "needs_background": "light"
     },
     "output_type": "display_data"
    },
    {
     "data": {
      "image/png": "[encoded data removed]",
      "text/plain": [
       "<Figure size 432x288 with 1 Axes>"
      ]
     },
     "metadata": {
      "needs_background": "light"
     },
     "output_type": "display_data"
    },
    {
     "data": {
      "image/png": "[encoded data removed]",
      "text/plain": [
       "<Figure size 432x288 with 1 Axes>"
      ]
     },
     "metadata": {
      "needs_background": "light"
     },
     "output_type": "display_data"
    }
   ],
   "source": [
    "infrastructure_list = ['cityCenters_nearest', 'airports_nearest', 'parks_nearest', 'ponds_nearest']\n",
    "\n",
    "for parameter in infrastructure_list:\n",
    "    df[df[parameter] > 0].plot(kind='scatter', \n",
    "                               x=parameter, \n",
    "                               y='last_price',  \n",
    "                               alpha = 0.03)"
   ]
  },
  {
   "cell_type": "markdown",
   "id": "11e86849",
   "metadata": {},
   "source": [
    "Наличие поблизости парков, а также удаленность от аэропорта практически не влияют на стоимость жилья, в отличие от удаленности от центра.\n",
    "Заметно падение стоимости жилья ближе к окраинам города."
   ]
  },
  {
   "cell_type": "markdown",
   "id": "282644fa",
   "metadata": {},
   "source": [
    "**Зависимость цены от даты размещения объявления**"
   ]
  },
  {
   "cell_type": "code",
   "execution_count": 70,
   "id": "347288d2",
   "metadata": {},
   "outputs": [],
   "source": [
    "corr_exposition = ['exposition_weekday', 'exposition_month', 'exposition_year']"
   ]
  },
  {
   "cell_type": "code",
   "execution_count": 102,
   "id": "daf5d50f",
   "metadata": {
    "scrolled": false
   },
   "outputs": [
    {
     "data": {
      "text/html": [
       "<div>\n",
       "<style scoped>\n",
       "    .dataframe tbody tr th:only-of-type {\n",
       "        vertical-align: middle;\n",
       "    }\n",
       "\n",
       "    .dataframe tbody tr th {\n",
       "        vertical-align: top;\n",
       "    }\n",
       "\n",
       "    .dataframe thead th {\n",
       "        text-align: right;\n",
       "    }\n",
       "</style>\n",
       "<table border=\"1\" class=\"dataframe\">\n",
       "  <thead>\n",
       "    <tr style=\"text-align: right;\">\n",
       "      <th></th>\n",
       "      <th>last_price</th>\n",
       "    </tr>\n",
       "    <tr>\n",
       "      <th>exposition_weekday</th>\n",
       "      <th></th>\n",
       "    </tr>\n",
       "  </thead>\n",
       "  <tbody>\n",
       "    <tr>\n",
       "      <th>0</th>\n",
       "      <td>4700000.0</td>\n",
       "    </tr>\n",
       "    <tr>\n",
       "      <th>1</th>\n",
       "      <td>4800000.0</td>\n",
       "    </tr>\n",
       "    <tr>\n",
       "      <th>2</th>\n",
       "      <td>4790000.0</td>\n",
       "    </tr>\n",
       "    <tr>\n",
       "      <th>3</th>\n",
       "      <td>4690000.0</td>\n",
       "    </tr>\n",
       "    <tr>\n",
       "      <th>4</th>\n",
       "      <td>4600000.0</td>\n",
       "    </tr>\n",
       "    <tr>\n",
       "      <th>5</th>\n",
       "      <td>4600000.0</td>\n",
       "    </tr>\n",
       "    <tr>\n",
       "      <th>6</th>\n",
       "      <td>4552500.0</td>\n",
       "    </tr>\n",
       "  </tbody>\n",
       "</table>\n",
       "</div>"
      ],
      "text/plain": [
       "                    last_price\n",
       "exposition_weekday            \n",
       "0                    4700000.0\n",
       "1                    4800000.0\n",
       "2                    4790000.0\n",
       "3                    4690000.0\n",
       "4                    4600000.0\n",
       "5                    4600000.0\n",
       "6                    4552500.0"
      ]
     },
     "metadata": {},
     "output_type": "display_data"
    },
    {
     "data": {
      "image/png": "[encoded data removed]",
      "text/plain": [
       "<Figure size 432x288 with 1 Axes>"
      ]
     },
     "metadata": {
      "needs_background": "light"
     },
     "output_type": "display_data"
    }
   ],
   "source": [
    "median_price_by_exposition_weekday = df.pivot_table(index='exposition_weekday', values='last_price', aggfunc='median')\n",
    "\n",
    "display(median_price_by_exposition_weekday)\n",
    "\n",
    "median_price_by_exposition_weekday.plot(y='last_price', \n",
    "                               kind = 'barh');"
   ]
  },
  {
   "cell_type": "markdown",
   "id": "6c1a7e13",
   "metadata": {},
   "source": [
    "Зависимость цены от дня недели размещения объявления практически не проявляется"
   ]
  },
  {
   "cell_type": "code",
   "execution_count": 100,
   "id": "062c1a7d",
   "metadata": {
    "scrolled": false
   },
   "outputs": [
    {
     "data": {
      "text/html": [
       "<div>\n",
       "<style scoped>\n",
       "    .dataframe tbody tr th:only-of-type {\n",
       "        vertical-align: middle;\n",
       "    }\n",
       "\n",
       "    .dataframe tbody tr th {\n",
       "        vertical-align: top;\n",
       "    }\n",
       "\n",
       "    .dataframe thead th {\n",
       "        text-align: right;\n",
       "    }\n",
       "</style>\n",
       "<table border=\"1\" class=\"dataframe\">\n",
       "  <thead>\n",
       "    <tr style=\"text-align: right;\">\n",
       "      <th></th>\n",
       "      <th>last_price</th>\n",
       "    </tr>\n",
       "    <tr>\n",
       "      <th>exposition_month</th>\n",
       "      <th></th>\n",
       "    </tr>\n",
       "  </thead>\n",
       "  <tbody>\n",
       "    <tr>\n",
       "      <th>1</th>\n",
       "      <td>4700000.0</td>\n",
       "    </tr>\n",
       "    <tr>\n",
       "      <th>2</th>\n",
       "      <td>4700000.0</td>\n",
       "    </tr>\n",
       "    <tr>\n",
       "      <th>3</th>\n",
       "      <td>4700000.0</td>\n",
       "    </tr>\n",
       "    <tr>\n",
       "      <th>4</th>\n",
       "      <td>4800227.0</td>\n",
       "    </tr>\n",
       "    <tr>\n",
       "      <th>5</th>\n",
       "      <td>4590000.0</td>\n",
       "    </tr>\n",
       "    <tr>\n",
       "      <th>6</th>\n",
       "      <td>4499000.0</td>\n",
       "    </tr>\n",
       "    <tr>\n",
       "      <th>7</th>\n",
       "      <td>4700000.0</td>\n",
       "    </tr>\n",
       "    <tr>\n",
       "      <th>8</th>\n",
       "      <td>4600006.0</td>\n",
       "    </tr>\n",
       "    <tr>\n",
       "      <th>9</th>\n",
       "      <td>4750000.0</td>\n",
       "    </tr>\n",
       "    <tr>\n",
       "      <th>10</th>\n",
       "      <td>4600000.0</td>\n",
       "    </tr>\n",
       "    <tr>\n",
       "      <th>11</th>\n",
       "      <td>4700000.0</td>\n",
       "    </tr>\n",
       "    <tr>\n",
       "      <th>12</th>\n",
       "      <td>4700000.0</td>\n",
       "    </tr>\n",
       "  </tbody>\n",
       "</table>\n",
       "</div>"
      ],
      "text/plain": [
       "                  last_price\n",
       "exposition_month            \n",
       "1                  4700000.0\n",
       "2                  4700000.0\n",
       "3                  4700000.0\n",
       "4                  4800227.0\n",
       "5                  4590000.0\n",
       "6                  4499000.0\n",
       "7                  4700000.0\n",
       "8                  4600006.0\n",
       "9                  4750000.0\n",
       "10                 4600000.0\n",
       "11                 4700000.0\n",
       "12                 4700000.0"
      ]
     },
     "metadata": {},
     "output_type": "display_data"
    },
    {
     "data": {
      "image/png": "[encoded data removed]",
      "text/plain": [
       "<Figure size 432x288 with 1 Axes>"
      ]
     },
     "metadata": {
      "needs_background": "light"
     },
     "output_type": "display_data"
    }
   ],
   "source": [
    "median_price_by_exposition_month = df.pivot_table(index='exposition_month', values='last_price', aggfunc='median')\n",
    "\n",
    "display(median_price_by_exposition_month)\n",
    "\n",
    "median_price_by_exposition_month.plot(y='last_price', \n",
    "                               kind = 'barh');"
   ]
  },
  {
   "cell_type": "markdown",
   "id": "7739397c",
   "metadata": {},
   "source": [
    "Наблюдается незначительное падение стоимости для объявлений, размещенных в мае и июне, однако размах диаграммы составляет менее 10%"
   ]
  },
  {
   "cell_type": "code",
   "execution_count": 101,
   "id": "b0af6ede",
   "metadata": {
    "scrolled": false
   },
   "outputs": [
    {
     "data": {
      "text/html": [
       "<div>\n",
       "<style scoped>\n",
       "    .dataframe tbody tr th:only-of-type {\n",
       "        vertical-align: middle;\n",
       "    }\n",
       "\n",
       "    .dataframe tbody tr th {\n",
       "        vertical-align: top;\n",
       "    }\n",
       "\n",
       "    .dataframe thead th {\n",
       "        text-align: right;\n",
       "    }\n",
       "</style>\n",
       "<table border=\"1\" class=\"dataframe\">\n",
       "  <thead>\n",
       "    <tr style=\"text-align: right;\">\n",
       "      <th></th>\n",
       "      <th>last_price</th>\n",
       "    </tr>\n",
       "    <tr>\n",
       "      <th>exposition_year</th>\n",
       "      <th></th>\n",
       "    </tr>\n",
       "  </thead>\n",
       "  <tbody>\n",
       "    <tr>\n",
       "      <th>2014</th>\n",
       "      <td>7388280.0</td>\n",
       "    </tr>\n",
       "    <tr>\n",
       "      <th>2015</th>\n",
       "      <td>5200000.0</td>\n",
       "    </tr>\n",
       "    <tr>\n",
       "      <th>2016</th>\n",
       "      <td>4600000.0</td>\n",
       "    </tr>\n",
       "    <tr>\n",
       "      <th>2017</th>\n",
       "      <td>4500000.0</td>\n",
       "    </tr>\n",
       "    <tr>\n",
       "      <th>2018</th>\n",
       "      <td>4650000.0</td>\n",
       "    </tr>\n",
       "    <tr>\n",
       "      <th>2019</th>\n",
       "      <td>5100000.0</td>\n",
       "    </tr>\n",
       "  </tbody>\n",
       "</table>\n",
       "</div>"
      ],
      "text/plain": [
       "                 last_price\n",
       "exposition_year            \n",
       "2014              7388280.0\n",
       "2015              5200000.0\n",
       "2016              4600000.0\n",
       "2017              4500000.0\n",
       "2018              4650000.0\n",
       "2019              5100000.0"
      ]
     },
     "metadata": {},
     "output_type": "display_data"
    },
    {
     "data": {
      "image/png": "[encoded data removed]",
      "text/plain": [
       "<Figure size 432x288 with 1 Axes>"
      ]
     },
     "metadata": {
      "needs_background": "light"
     },
     "output_type": "display_data"
    }
   ],
   "source": [
    "median_price_by_exposition_year = df.pivot_table(index='exposition_year', values='last_price', aggfunc='median')\n",
    "\n",
    "display(median_price_by_exposition_year)\n",
    "\n",
    "median_price_by_exposition_year.plot(y='last_price', \n",
    "                               kind = 'bar');"
   ]
  },
  {
   "cell_type": "code",
   "execution_count": 74,
   "id": "5544ccfc",
   "metadata": {},
   "outputs": [
    {
     "data": {
      "text/html": [
       "<div>\n",
       "<style scoped>\n",
       "    .dataframe tbody tr th:only-of-type {\n",
       "        vertical-align: middle;\n",
       "    }\n",
       "\n",
       "    .dataframe tbody tr th {\n",
       "        vertical-align: top;\n",
       "    }\n",
       "\n",
       "    .dataframe thead th {\n",
       "        text-align: right;\n",
       "    }\n",
       "</style>\n",
       "<table border=\"1\" class=\"dataframe\">\n",
       "  <thead>\n",
       "    <tr style=\"text-align: right;\">\n",
       "      <th></th>\n",
       "      <th>last_price</th>\n",
       "    </tr>\n",
       "  </thead>\n",
       "  <tbody>\n",
       "    <tr>\n",
       "      <th>count</th>\n",
       "      <td>6.000000e+00</td>\n",
       "    </tr>\n",
       "    <tr>\n",
       "      <th>mean</th>\n",
       "      <td>5.227500e+06</td>\n",
       "    </tr>\n",
       "    <tr>\n",
       "      <th>std</th>\n",
       "      <td>1.041603e+06</td>\n",
       "    </tr>\n",
       "    <tr>\n",
       "      <th>min</th>\n",
       "      <td>4.500000e+06</td>\n",
       "    </tr>\n",
       "    <tr>\n",
       "      <th>25%</th>\n",
       "      <td>4.612500e+06</td>\n",
       "    </tr>\n",
       "    <tr>\n",
       "      <th>50%</th>\n",
       "      <td>4.875000e+06</td>\n",
       "    </tr>\n",
       "    <tr>\n",
       "      <th>75%</th>\n",
       "      <td>5.212500e+06</td>\n",
       "    </tr>\n",
       "    <tr>\n",
       "      <th>max</th>\n",
       "      <td>7.265000e+06</td>\n",
       "    </tr>\n",
       "  </tbody>\n",
       "</table>\n",
       "</div>"
      ],
      "text/plain": [
       "         last_price\n",
       "count  6.000000e+00\n",
       "mean   5.227500e+06\n",
       "std    1.041603e+06\n",
       "min    4.500000e+06\n",
       "25%    4.612500e+06\n",
       "50%    4.875000e+06\n",
       "75%    5.212500e+06\n",
       "max    7.265000e+06"
      ]
     },
     "execution_count": 74,
     "metadata": {},
     "output_type": "execute_result"
    }
   ],
   "source": [
    "median_price_by_exposition_year.describe()"
   ]
  },
  {
   "cell_type": "markdown",
   "id": "c64390e8",
   "metadata": {},
   "source": [
    "В период с 2014 по 2017 год наблюдалось падение цен на недвижимость, после чего средняя стоимость квартир начала расти.  \n",
    "Стоит отметить, что высокое значение средней стоимости недвижимости в 2014 году может быть обусловлено нерелевантностью выборки (114 значений)"
   ]
  },
  {
   "cell_type": "markdown",
   "id": "3c369875",
   "metadata": {},
   "source": [
    "### 4.4. Средняя стоимость за м2 <a class=\"anchor\" id=\"стоимость_за_м2\"></a>"
   ]
  },
  {
   "cell_type": "markdown",
   "id": "223c70f5",
   "metadata": {},
   "source": [
    "Производится оценка средней стоимости за м2 для недвижимости в 10-ти самых популярных населенных пунктах."
   ]
  },
  {
   "cell_type": "code",
   "execution_count": 105,
   "id": "eccbe1d2",
   "metadata": {
    "scrolled": true
   },
   "outputs": [
    {
     "data": {
      "text/html": [
       "<style type=\"text/css\">\n",
       "</style>\n",
       "<table id=\"T_bdb98\">\n",
       "  <thead>\n",
       "    <tr>\n",
       "      <th class=\"blank level0\" >&nbsp;</th>\n",
       "      <th id=\"T_bdb98_level0_col0\" class=\"col_heading level0 col0\" >sqare_meter_price</th>\n",
       "      <th id=\"T_bdb98_level0_col1\" class=\"col_heading level0 col1\" >count</th>\n",
       "    </tr>\n",
       "    <tr>\n",
       "      <th class=\"index_name level0\" >locality_name</th>\n",
       "      <th class=\"blank col0\" >&nbsp;</th>\n",
       "      <th class=\"blank col1\" >&nbsp;</th>\n",
       "    </tr>\n",
       "  </thead>\n",
       "  <tbody>\n",
       "    <tr>\n",
       "      <th id=\"T_bdb98_level0_row0\" class=\"row_heading level0 row0\" >Выборг</th>\n",
       "      <td id=\"T_bdb98_row0_col0\" class=\"data row0 col0\" >58,260</td>\n",
       "      <td id=\"T_bdb98_row0_col1\" class=\"data row0 col1\" >225</td>\n",
       "    </tr>\n",
       "    <tr>\n",
       "      <th id=\"T_bdb98_level0_row1\" class=\"row_heading level0 row1\" >Всеволожск</th>\n",
       "      <td id=\"T_bdb98_row1_col0\" class=\"data row1 col0\" >68,650</td>\n",
       "      <td id=\"T_bdb98_row1_col1\" class=\"data row1 col1\" >383</td>\n",
       "    </tr>\n",
       "    <tr>\n",
       "      <th id=\"T_bdb98_level0_row2\" class=\"row_heading level0 row2\" >Гатчина</th>\n",
       "      <td id=\"T_bdb98_row2_col0\" class=\"data row2 col0\" >69,079</td>\n",
       "      <td id=\"T_bdb98_row2_col1\" class=\"data row2 col1\" >300</td>\n",
       "    </tr>\n",
       "    <tr>\n",
       "      <th id=\"T_bdb98_level0_row3\" class=\"row_heading level0 row3\" >Колпино</th>\n",
       "      <td id=\"T_bdb98_row3_col0\" class=\"data row3 col0\" >75,208</td>\n",
       "      <td id=\"T_bdb98_row3_col1\" class=\"data row3 col1\" >334</td>\n",
       "    </tr>\n",
       "    <tr>\n",
       "      <th id=\"T_bdb98_level0_row4\" class=\"row_heading level0 row4\" >Шушары</th>\n",
       "      <td id=\"T_bdb98_row4_col0\" class=\"data row4 col0\" >77,494</td>\n",
       "      <td id=\"T_bdb98_row4_col1\" class=\"data row4 col1\" >419</td>\n",
       "    </tr>\n",
       "    <tr>\n",
       "      <th id=\"T_bdb98_level0_row5\" class=\"row_heading level0 row5\" >Мурино</th>\n",
       "      <td id=\"T_bdb98_row5_col0\" class=\"data row5 col0\" >84,660</td>\n",
       "      <td id=\"T_bdb98_row5_col1\" class=\"data row5 col1\" >491</td>\n",
       "    </tr>\n",
       "    <tr>\n",
       "      <th id=\"T_bdb98_level0_row6\" class=\"row_heading level0 row6\" >Парголово</th>\n",
       "      <td id=\"T_bdb98_row6_col0\" class=\"data row6 col0\" >89,487</td>\n",
       "      <td id=\"T_bdb98_row6_col1\" class=\"data row6 col1\" >290</td>\n",
       "    </tr>\n",
       "    <tr>\n",
       "      <th id=\"T_bdb98_level0_row7\" class=\"row_heading level0 row7\" >Кудрово</th>\n",
       "      <td id=\"T_bdb98_row7_col0\" class=\"data row7 col0\" >94,580</td>\n",
       "      <td id=\"T_bdb98_row7_col1\" class=\"data row7 col1\" >420</td>\n",
       "    </tr>\n",
       "    <tr>\n",
       "      <th id=\"T_bdb98_level0_row8\" class=\"row_heading level0 row8\" >Пушкин</th>\n",
       "      <td id=\"T_bdb98_row8_col0\" class=\"data row8 col0\" >102,968</td>\n",
       "      <td id=\"T_bdb98_row8_col1\" class=\"data row8 col1\" >355</td>\n",
       "    </tr>\n",
       "    <tr>\n",
       "      <th id=\"T_bdb98_level0_row9\" class=\"row_heading level0 row9\" >Санкт-Петербург</th>\n",
       "      <td id=\"T_bdb98_row9_col0\" class=\"data row9 col0\" >111,946</td>\n",
       "      <td id=\"T_bdb98_row9_col1\" class=\"data row9 col1\" >14,871</td>\n",
       "    </tr>\n",
       "  </tbody>\n",
       "</table>\n"
      ],
      "text/plain": [
       "<pandas.io.formats.style.Styler at 0x20340c1bdc0>"
      ]
     },
     "execution_count": 105,
     "metadata": {},
     "output_type": "execute_result"
    }
   ],
   "source": [
    "price_per_square_meter = df.pivot_table(index='locality_name', \n",
    "                                                 values='sqare_meter_price', \n",
    "                                                 aggfunc=['mean','count'])\n",
    "price_per_square_meter.columns = ['sqare_meter_price', 'count'] \n",
    "price_per_square_meter = price_per_square_meter.sort_values(by='count', ascending=False).head(10)\n",
    "price_per_square_meter = price_per_square_meter.sort_values(by='sqare_meter_price', ascending=True)\n",
    "\n",
    "price_per_square_meter.style.format(\"{:,.0f}\")"
   ]
  },
  {
   "cell_type": "markdown",
   "id": "0701be32",
   "metadata": {},
   "source": [
    "Разумеется, наибольшее количество объявлений размещено в Санкт-Петербурге.  \n",
    "Также в рейтинг вошли несколько крупных пригородов, а также г.Выборг. "
   ]
  },
  {
   "cell_type": "code",
   "execution_count": 106,
   "id": "f8199e9a",
   "metadata": {
    "scrolled": false
   },
   "outputs": [
    {
     "data": {
      "image/png": "[encoded data removed]",
      "text/plain": [
       "<Figure size 432x288 with 1 Axes>"
      ]
     },
     "metadata": {
      "needs_background": "light"
     },
     "output_type": "display_data"
    }
   ],
   "source": [
    "price_per_square_meter.plot(y='sqare_meter_price', \n",
    "                            kind = 'barh', \n",
    "                            grid=True);"
   ]
  },
  {
   "cell_type": "markdown",
   "id": "866e9390",
   "metadata": {},
   "source": [
    "Средняя стоимость квадратного метра жилья в Санкт-Петербурге превышает 100 тыс. рублей,  \n",
    "в то время как в Выборге она составляет менее 60 тыс."
   ]
  },
  {
   "cell_type": "markdown",
   "id": "7dad9589",
   "metadata": {},
   "source": [
    "### 4.5. Отличие стоимости за м2 в центре и на окраине Санкт-Перербурга <a class=\"anchor\" id=\"удаленность_от_центра_спб\"></a>"
   ]
  },
  {
   "cell_type": "code",
   "execution_count": 82,
   "id": "5b9b109c",
   "metadata": {},
   "outputs": [
    {
     "data": {
      "text/html": [
       "<div>\n",
       "<style scoped>\n",
       "    .dataframe tbody tr th:only-of-type {\n",
       "        vertical-align: middle;\n",
       "    }\n",
       "\n",
       "    .dataframe tbody tr th {\n",
       "        vertical-align: top;\n",
       "    }\n",
       "\n",
       "    .dataframe thead th {\n",
       "        text-align: right;\n",
       "    }\n",
       "</style>\n",
       "<table border=\"1\" class=\"dataframe\">\n",
       "  <thead>\n",
       "    <tr style=\"text-align: right;\">\n",
       "      <th></th>\n",
       "      <th>last_price</th>\n",
       "    </tr>\n",
       "    <tr>\n",
       "      <th>cityCenters_nearest_km</th>\n",
       "      <th></th>\n",
       "    </tr>\n",
       "  </thead>\n",
       "  <tbody>\n",
       "    <tr>\n",
       "      <th>0</th>\n",
       "      <td>1.408126e+07</td>\n",
       "    </tr>\n",
       "    <tr>\n",
       "      <th>1</th>\n",
       "      <td>1.217975e+07</td>\n",
       "    </tr>\n",
       "    <tr>\n",
       "      <th>2</th>\n",
       "      <td>1.240487e+07</td>\n",
       "    </tr>\n",
       "    <tr>\n",
       "      <th>3</th>\n",
       "      <td>1.019058e+07</td>\n",
       "    </tr>\n",
       "    <tr>\n",
       "      <th>4</th>\n",
       "      <td>1.108154e+07</td>\n",
       "    </tr>\n",
       "    <tr>\n",
       "      <th>5</th>\n",
       "      <td>1.162560e+07</td>\n",
       "    </tr>\n",
       "    <tr>\n",
       "      <th>6</th>\n",
       "      <td>1.167418e+07</td>\n",
       "    </tr>\n",
       "    <tr>\n",
       "      <th>7</th>\n",
       "      <td>1.228464e+07</td>\n",
       "    </tr>\n",
       "    <tr>\n",
       "      <th>8</th>\n",
       "      <td>9.023982e+06</td>\n",
       "    </tr>\n",
       "    <tr>\n",
       "      <th>9</th>\n",
       "      <td>6.956927e+06</td>\n",
       "    </tr>\n",
       "    <tr>\n",
       "      <th>10</th>\n",
       "      <td>6.431659e+06</td>\n",
       "    </tr>\n",
       "    <tr>\n",
       "      <th>11</th>\n",
       "      <td>6.099383e+06</td>\n",
       "    </tr>\n",
       "    <tr>\n",
       "      <th>12</th>\n",
       "      <td>5.837334e+06</td>\n",
       "    </tr>\n",
       "    <tr>\n",
       "      <th>13</th>\n",
       "      <td>6.103690e+06</td>\n",
       "    </tr>\n",
       "    <tr>\n",
       "      <th>14</th>\n",
       "      <td>5.628030e+06</td>\n",
       "    </tr>\n",
       "    <tr>\n",
       "      <th>15</th>\n",
       "      <td>5.815100e+06</td>\n",
       "    </tr>\n",
       "    <tr>\n",
       "      <th>16</th>\n",
       "      <td>5.375821e+06</td>\n",
       "    </tr>\n",
       "    <tr>\n",
       "      <th>17</th>\n",
       "      <td>5.269070e+06</td>\n",
       "    </tr>\n",
       "    <tr>\n",
       "      <th>18</th>\n",
       "      <td>5.057149e+06</td>\n",
       "    </tr>\n",
       "    <tr>\n",
       "      <th>19</th>\n",
       "      <td>5.167510e+06</td>\n",
       "    </tr>\n",
       "    <tr>\n",
       "      <th>20</th>\n",
       "      <td>4.657778e+06</td>\n",
       "    </tr>\n",
       "    <tr>\n",
       "      <th>21</th>\n",
       "      <td>5.484809e+06</td>\n",
       "    </tr>\n",
       "    <tr>\n",
       "      <th>22</th>\n",
       "      <td>5.382048e+06</td>\n",
       "    </tr>\n",
       "    <tr>\n",
       "      <th>23</th>\n",
       "      <td>4.780608e+06</td>\n",
       "    </tr>\n",
       "    <tr>\n",
       "      <th>24</th>\n",
       "      <td>3.890687e+06</td>\n",
       "    </tr>\n",
       "    <tr>\n",
       "      <th>25</th>\n",
       "      <td>4.335000e+06</td>\n",
       "    </tr>\n",
       "    <tr>\n",
       "      <th>26</th>\n",
       "      <td>4.286413e+06</td>\n",
       "    </tr>\n",
       "    <tr>\n",
       "      <th>27</th>\n",
       "      <td>8.300000e+06</td>\n",
       "    </tr>\n",
       "    <tr>\n",
       "      <th>28</th>\n",
       "      <td>5.026429e+06</td>\n",
       "    </tr>\n",
       "    <tr>\n",
       "      <th>29</th>\n",
       "      <td>4.236667e+06</td>\n",
       "    </tr>\n",
       "  </tbody>\n",
       "</table>\n",
       "</div>"
      ],
      "text/plain": [
       "                          last_price\n",
       "cityCenters_nearest_km              \n",
       "0                       1.408126e+07\n",
       "1                       1.217975e+07\n",
       "2                       1.240487e+07\n",
       "3                       1.019058e+07\n",
       "4                       1.108154e+07\n",
       "5                       1.162560e+07\n",
       "6                       1.167418e+07\n",
       "7                       1.228464e+07\n",
       "8                       9.023982e+06\n",
       "9                       6.956927e+06\n",
       "10                      6.431659e+06\n",
       "11                      6.099383e+06\n",
       "12                      5.837334e+06\n",
       "13                      6.103690e+06\n",
       "14                      5.628030e+06\n",
       "15                      5.815100e+06\n",
       "16                      5.375821e+06\n",
       "17                      5.269070e+06\n",
       "18                      5.057149e+06\n",
       "19                      5.167510e+06\n",
       "20                      4.657778e+06\n",
       "21                      5.484809e+06\n",
       "22                      5.382048e+06\n",
       "23                      4.780608e+06\n",
       "24                      3.890687e+06\n",
       "25                      4.335000e+06\n",
       "26                      4.286413e+06\n",
       "27                      8.300000e+06\n",
       "28                      5.026429e+06\n",
       "29                      4.236667e+06"
      ]
     },
     "execution_count": 82,
     "metadata": {},
     "output_type": "execute_result"
    }
   ],
   "source": [
    "price_by_city_center = df.query('locality_name == \"Санкт-Петербург\"')\n",
    "[['last_price', 'cityCenters_nearest_km']]\n",
    "\n",
    "price_by_city_center = price_by_city_center.pivot_table(index='cityCenters_nearest_km', \n",
    "                                                        values='last_price')\n",
    "price_by_city_center"
   ]
  },
  {
   "cell_type": "code",
   "execution_count": 115,
   "id": "941b1f54",
   "metadata": {
    "scrolled": true
   },
   "outputs": [
    {
     "data": {
      "text/plain": [
       "<AxesSubplot:xlabel='cityCenters_nearest_km'>"
      ]
     },
     "execution_count": 115,
     "metadata": {},
     "output_type": "execute_result"
    },
    {
     "data": {
      "image/png": "[encoded data removed]",
      "text/plain": [
       "<Figure size 432x288 with 1 Axes>"
      ]
     },
     "metadata": {
      "needs_background": "light"
     },
     "output_type": "display_data"
    }
   ],
   "source": [
    "price_by_city_center.plot(kind = 'bar', alpha = 0.8)"
   ]
  },
  {
   "cell_type": "markdown",
   "id": "fdc0c91b",
   "metadata": {},
   "source": [
    "Заметно изменение цены квартир в зависимости от удаленности от центра города:  \n",
    "В центре недвижимость стоит порядка 12 млн. рублей  \n",
    "На окраине цена колеблется около 4 млн. рублей\n",
    "\n",
    "Для значения удаленности равной 27км наблюдается выброс. Необходимо изучить его причину."
   ]
  },
  {
   "cell_type": "code",
   "execution_count": 107,
   "id": "3355d15d",
   "metadata": {},
   "outputs": [
    {
     "data": {
      "text/plain": [
       "locality_name\n",
       "Санкт-Петербург    2\n",
       "Name: last_price, dtype: int64"
      ]
     },
     "execution_count": 107,
     "metadata": {},
     "output_type": "execute_result"
    }
   ],
   "source": [
    "df.query('locality_name == \"Санкт-Петербург\" and cityCenters_nearest_km == 27').pivot_table(index='locality_name', aggfunc='count')['last_price']"
   ]
  },
  {
   "cell_type": "markdown",
   "id": "3110f987",
   "metadata": {},
   "source": [
    "Аномальное значение объясняется тем, что для этого значения удаленности всего 2 значения цены в Санкт-Петербурге, что не является релевантной выборкой."
   ]
  },
  {
   "cell_type": "markdown",
   "id": "47fca09c",
   "metadata": {},
   "source": [
    "## 5. Выводы <a class=\"anchor\" id=\"выводы\"></a>"
   ]
  },
  {
   "cell_type": "markdown",
   "id": "38b4ac66",
   "metadata": {},
   "source": [
    "**1. Оценка распределения значений**  \n",
    "  \n",
    "* Наибольшее число объявлений представлено для одно- и двухкомнатных квартир, стоимостью от 3 до 5 млн. руб. и общей площадью от 30 до 50 м2.  \n",
    "* Высота потолков большинства представленных квартир находится в диапазоне от 2,5 до 2,8м и кратна 5см.  \n",
    "* Больше всего квартир расположено в 5 и 9-этажных домах.  \n",
    "* Объявления о продаже обычно размещаются в будние дни, чаще всего - весной. Также за последние годы количество квартир, продаваемых через сервис Яндекс.Недвижимость выросло в 8 раз.  \n",
    "    \n",
    "    \n",
    "**2. Зависимость цены от различных параметров**   \n",
    "  \n",
    "* Стоимость недвижимости линейно зависит от ее площади и количества комнат.  \n",
    "* Стоимость недвижимости на первом и последнем этажах ниже, чем на промежуточных на 15-20%.  \n",
    "* Наличие поблизости парков, а также удаленность от аэропорта практически не влияют на стоимость жилья. Удаленность от центра, наоборот, играет важную роль в формировании стоимости жилья.  \n",
    "* День недели и месяц, когда было размещено объявление практически не коррелирует со стоимостью недвижимости.  \n",
    "    \n",
    "    \n",
    "**3. Изучение скорости продажи недвижимости**\n",
    "  \n",
    "* Не стоит расчитывать на срочную продажу квартиры, обычно это занимает порядка 3 месяцев.  \n",
    "    \n",
    "  \n",
    "**4. Средняя стоимость за м2**  \n",
    "  \n",
    "* Среди 10 населенных пунктов с наибольшим числом объявлений самая дорогая недвижимость в Санкт-Петербурге и ближайших пригородах. В ленинградской области больше всего объявлений размещено в г.Выборг, где средняя стоимость за м2 примерно вдвое ниже, чем в Санкт-Петербурге.  \n",
    "    \n",
    "  \n",
    "**5. Отличие стоимости за м2 в центре и на окраине Санкт-Перербурга**  \n",
    "  \n",
    "* Как было отмечено выше, стоимость недвижимости, в том числе и за м2 уменьшается по мере удаленности от центра. На окраине Санкт-Петербурга цена квадратного метра приблизительно в 1.5 раз ниже, чем в центре города."
   ]
  }
 ],
 "metadata": {
  "ExecuteTimeLog": [
   {
    "duration": 1035,
    "start_time": "2022-10-16T11:31:50.921Z"
   },
   {
    "duration": 2,
    "start_time": "2022-10-16T11:31:51.958Z"
   },
   {
    "duration": 182,
    "start_time": "2022-10-16T11:31:51.961Z"
   },
   {
    "duration": 85,
    "start_time": "2022-10-16T11:31:52.145Z"
   },
   {
    "duration": 13,
    "start_time": "2022-10-16T11:31:52.233Z"
   },
   {
    "duration": 13,
    "start_time": "2022-10-16T11:31:52.248Z"
   },
   {
    "duration": 493,
    "start_time": "2022-10-16T11:31:52.263Z"
   },
   {
    "duration": 66,
    "start_time": "2022-10-16T11:31:52.758Z"
   },
   {
    "duration": 333,
    "start_time": "2022-10-16T11:31:52.826Z"
   },
   {
    "duration": 62,
    "start_time": "2022-10-16T11:31:53.161Z"
   },
   {
    "duration": 6,
    "start_time": "2022-10-16T11:31:53.225Z"
   },
   {
    "duration": 4,
    "start_time": "2022-10-16T11:31:53.233Z"
   },
   {
    "duration": 9,
    "start_time": "2022-10-16T11:31:53.238Z"
   },
   {
    "duration": 72,
    "start_time": "2022-10-16T11:31:53.250Z"
   },
   {
    "duration": 14,
    "start_time": "2022-10-16T11:31:53.325Z"
   },
   {
    "duration": 16,
    "start_time": "2022-10-16T11:31:53.342Z"
   },
   {
    "duration": 67,
    "start_time": "2022-10-16T11:31:53.361Z"
   },
   {
    "duration": 6,
    "start_time": "2022-10-16T11:31:53.430Z"
   },
   {
    "duration": 9,
    "start_time": "2022-10-16T11:31:53.437Z"
   },
   {
    "duration": 9,
    "start_time": "2022-10-16T11:31:53.447Z"
   },
   {
    "duration": 73,
    "start_time": "2022-10-16T11:31:53.457Z"
   },
   {
    "duration": 18,
    "start_time": "2022-10-16T11:31:53.531Z"
   },
   {
    "duration": 373,
    "start_time": "2022-10-16T11:31:53.550Z"
   },
   {
    "duration": 18,
    "start_time": "2022-10-16T11:31:53.925Z"
   },
   {
    "duration": 6,
    "start_time": "2022-10-16T11:31:53.944Z"
   },
   {
    "duration": 181,
    "start_time": "2022-10-16T11:31:53.952Z"
   },
   {
    "duration": 0,
    "start_time": "2022-10-16T11:31:54.136Z"
   },
   {
    "duration": 0,
    "start_time": "2022-10-16T11:31:54.137Z"
   },
   {
    "duration": 0,
    "start_time": "2022-10-16T11:31:54.138Z"
   },
   {
    "duration": 0,
    "start_time": "2022-10-16T11:31:54.139Z"
   },
   {
    "duration": 0,
    "start_time": "2022-10-16T11:31:54.140Z"
   },
   {
    "duration": 0,
    "start_time": "2022-10-16T11:31:54.141Z"
   },
   {
    "duration": 0,
    "start_time": "2022-10-16T11:31:54.142Z"
   },
   {
    "duration": 0,
    "start_time": "2022-10-16T11:31:54.143Z"
   },
   {
    "duration": 0,
    "start_time": "2022-10-16T11:31:54.144Z"
   },
   {
    "duration": 0,
    "start_time": "2022-10-16T11:31:54.145Z"
   },
   {
    "duration": 0,
    "start_time": "2022-10-16T11:31:54.145Z"
   },
   {
    "duration": 0,
    "start_time": "2022-10-16T11:31:54.146Z"
   },
   {
    "duration": 0,
    "start_time": "2022-10-16T11:31:54.147Z"
   },
   {
    "duration": 0,
    "start_time": "2022-10-16T11:31:54.148Z"
   },
   {
    "duration": 0,
    "start_time": "2022-10-16T11:31:54.149Z"
   },
   {
    "duration": 0,
    "start_time": "2022-10-16T11:31:54.150Z"
   },
   {
    "duration": 0,
    "start_time": "2022-10-16T11:31:54.151Z"
   },
   {
    "duration": 0,
    "start_time": "2022-10-16T11:31:54.153Z"
   },
   {
    "duration": 0,
    "start_time": "2022-10-16T11:31:54.154Z"
   },
   {
    "duration": 0,
    "start_time": "2022-10-16T11:31:54.155Z"
   },
   {
    "duration": 0,
    "start_time": "2022-10-16T11:31:54.223Z"
   },
   {
    "duration": 0,
    "start_time": "2022-10-16T11:31:54.224Z"
   },
   {
    "duration": 0,
    "start_time": "2022-10-16T11:31:54.225Z"
   },
   {
    "duration": 0,
    "start_time": "2022-10-16T11:31:54.226Z"
   },
   {
    "duration": 0,
    "start_time": "2022-10-16T11:31:54.227Z"
   },
   {
    "duration": 0,
    "start_time": "2022-10-16T11:31:54.228Z"
   },
   {
    "duration": 0,
    "start_time": "2022-10-16T11:31:54.228Z"
   },
   {
    "duration": 0,
    "start_time": "2022-10-16T11:31:54.229Z"
   },
   {
    "duration": 0,
    "start_time": "2022-10-16T11:31:54.231Z"
   },
   {
    "duration": 0,
    "start_time": "2022-10-16T11:31:54.232Z"
   },
   {
    "duration": 0,
    "start_time": "2022-10-16T11:31:54.233Z"
   },
   {
    "duration": 0,
    "start_time": "2022-10-16T11:31:54.234Z"
   },
   {
    "duration": 0,
    "start_time": "2022-10-16T11:31:54.235Z"
   },
   {
    "duration": 0,
    "start_time": "2022-10-16T11:31:54.236Z"
   },
   {
    "duration": 0,
    "start_time": "2022-10-16T11:31:54.237Z"
   },
   {
    "duration": 0,
    "start_time": "2022-10-16T11:31:54.238Z"
   },
   {
    "duration": 0,
    "start_time": "2022-10-16T11:31:54.239Z"
   },
   {
    "duration": 0,
    "start_time": "2022-10-16T11:31:54.240Z"
   },
   {
    "duration": 0,
    "start_time": "2022-10-16T11:31:54.241Z"
   },
   {
    "duration": 0,
    "start_time": "2022-10-16T11:31:54.242Z"
   },
   {
    "duration": 0,
    "start_time": "2022-10-16T11:31:54.243Z"
   },
   {
    "duration": 0,
    "start_time": "2022-10-16T11:31:54.244Z"
   },
   {
    "duration": 0,
    "start_time": "2022-10-16T11:31:54.245Z"
   },
   {
    "duration": 0,
    "start_time": "2022-10-16T11:31:54.245Z"
   },
   {
    "duration": 0,
    "start_time": "2022-10-16T11:31:54.246Z"
   },
   {
    "duration": 0,
    "start_time": "2022-10-16T11:31:54.321Z"
   },
   {
    "duration": 0,
    "start_time": "2022-10-16T11:31:54.323Z"
   },
   {
    "duration": 0,
    "start_time": "2022-10-16T11:31:54.325Z"
   },
   {
    "duration": 0,
    "start_time": "2022-10-16T11:31:54.327Z"
   },
   {
    "duration": 49,
    "start_time": "2022-10-16T11:32:38.443Z"
   },
   {
    "duration": 611,
    "start_time": "2022-10-16T11:33:01.248Z"
   },
   {
    "duration": 3,
    "start_time": "2022-10-16T11:33:01.860Z"
   },
   {
    "duration": 105,
    "start_time": "2022-10-16T11:33:01.865Z"
   },
   {
    "duration": 28,
    "start_time": "2022-10-16T11:33:01.972Z"
   },
   {
    "duration": 29,
    "start_time": "2022-10-16T11:33:02.002Z"
   },
   {
    "duration": 5,
    "start_time": "2022-10-16T11:33:02.032Z"
   },
   {
    "duration": 241,
    "start_time": "2022-10-16T11:33:02.039Z"
   },
   {
    "duration": 8,
    "start_time": "2022-10-16T11:33:02.281Z"
   },
   {
    "duration": 171,
    "start_time": "2022-10-16T11:33:02.291Z"
   },
   {
    "duration": 58,
    "start_time": "2022-10-16T11:33:02.465Z"
   },
   {
    "duration": 6,
    "start_time": "2022-10-16T11:33:02.525Z"
   },
   {
    "duration": 5,
    "start_time": "2022-10-16T11:33:02.533Z"
   },
   {
    "duration": 8,
    "start_time": "2022-10-16T11:33:02.539Z"
   },
   {
    "duration": 7,
    "start_time": "2022-10-16T11:33:02.549Z"
   },
   {
    "duration": 68,
    "start_time": "2022-10-16T11:33:02.557Z"
   },
   {
    "duration": 4,
    "start_time": "2022-10-16T11:33:02.627Z"
   },
   {
    "duration": 15,
    "start_time": "2022-10-16T11:33:02.633Z"
   },
   {
    "duration": 4,
    "start_time": "2022-10-16T11:33:02.649Z"
   },
   {
    "duration": 15,
    "start_time": "2022-10-16T11:33:02.655Z"
   },
   {
    "duration": 51,
    "start_time": "2022-10-16T11:33:02.672Z"
   },
   {
    "duration": 14,
    "start_time": "2022-10-16T11:33:02.725Z"
   },
   {
    "duration": 17,
    "start_time": "2022-10-16T11:33:02.740Z"
   },
   {
    "duration": 377,
    "start_time": "2022-10-16T11:33:02.759Z"
   },
   {
    "duration": 18,
    "start_time": "2022-10-16T11:33:03.137Z"
   },
   {
    "duration": 7,
    "start_time": "2022-10-16T11:33:03.156Z"
   },
   {
    "duration": 159,
    "start_time": "2022-10-16T11:33:03.164Z"
   },
   {
    "duration": 9,
    "start_time": "2022-10-16T11:33:03.324Z"
   },
   {
    "duration": 585,
    "start_time": "2022-10-16T11:33:03.336Z"
   },
   {
    "duration": 531,
    "start_time": "2022-10-16T11:33:03.923Z"
   },
   {
    "duration": 16,
    "start_time": "2022-10-16T11:33:04.457Z"
   },
   {
    "duration": 18,
    "start_time": "2022-10-16T11:33:04.475Z"
   },
   {
    "duration": 12,
    "start_time": "2022-10-16T11:33:04.495Z"
   },
   {
    "duration": 16,
    "start_time": "2022-10-16T11:33:04.509Z"
   },
   {
    "duration": 19,
    "start_time": "2022-10-16T11:33:04.527Z"
   },
   {
    "duration": 12,
    "start_time": "2022-10-16T11:33:04.547Z"
   },
   {
    "duration": 100,
    "start_time": "2022-10-16T11:33:04.561Z"
   },
   {
    "duration": 0,
    "start_time": "2022-10-16T11:33:04.663Z"
   },
   {
    "duration": 0,
    "start_time": "2022-10-16T11:33:04.664Z"
   },
   {
    "duration": 0,
    "start_time": "2022-10-16T11:33:04.665Z"
   },
   {
    "duration": 0,
    "start_time": "2022-10-16T11:33:04.667Z"
   },
   {
    "duration": 0,
    "start_time": "2022-10-16T11:33:04.668Z"
   },
   {
    "duration": 0,
    "start_time": "2022-10-16T11:33:04.669Z"
   },
   {
    "duration": 0,
    "start_time": "2022-10-16T11:33:04.670Z"
   },
   {
    "duration": 0,
    "start_time": "2022-10-16T11:33:04.671Z"
   },
   {
    "duration": 0,
    "start_time": "2022-10-16T11:33:04.672Z"
   },
   {
    "duration": 0,
    "start_time": "2022-10-16T11:33:04.673Z"
   },
   {
    "duration": 0,
    "start_time": "2022-10-16T11:33:04.674Z"
   },
   {
    "duration": 0,
    "start_time": "2022-10-16T11:33:04.674Z"
   },
   {
    "duration": 0,
    "start_time": "2022-10-16T11:33:04.675Z"
   },
   {
    "duration": 0,
    "start_time": "2022-10-16T11:33:04.676Z"
   },
   {
    "duration": 0,
    "start_time": "2022-10-16T11:33:04.677Z"
   },
   {
    "duration": 0,
    "start_time": "2022-10-16T11:33:04.678Z"
   },
   {
    "duration": 0,
    "start_time": "2022-10-16T11:33:04.679Z"
   },
   {
    "duration": 0,
    "start_time": "2022-10-16T11:33:04.680Z"
   },
   {
    "duration": 0,
    "start_time": "2022-10-16T11:33:04.681Z"
   },
   {
    "duration": 0,
    "start_time": "2022-10-16T11:33:04.682Z"
   },
   {
    "duration": 0,
    "start_time": "2022-10-16T11:33:04.683Z"
   },
   {
    "duration": 0,
    "start_time": "2022-10-16T11:33:04.684Z"
   },
   {
    "duration": 0,
    "start_time": "2022-10-16T11:33:04.685Z"
   },
   {
    "duration": 0,
    "start_time": "2022-10-16T11:33:04.686Z"
   },
   {
    "duration": 0,
    "start_time": "2022-10-16T11:33:04.687Z"
   },
   {
    "duration": 0,
    "start_time": "2022-10-16T11:33:04.722Z"
   },
   {
    "duration": 0,
    "start_time": "2022-10-16T11:33:04.723Z"
   },
   {
    "duration": 0,
    "start_time": "2022-10-16T11:33:04.724Z"
   },
   {
    "duration": 0,
    "start_time": "2022-10-16T11:33:04.725Z"
   },
   {
    "duration": 0,
    "start_time": "2022-10-16T11:33:04.726Z"
   },
   {
    "duration": 0,
    "start_time": "2022-10-16T11:33:04.727Z"
   },
   {
    "duration": 0,
    "start_time": "2022-10-16T11:33:04.728Z"
   },
   {
    "duration": 0,
    "start_time": "2022-10-16T11:33:04.729Z"
   },
   {
    "duration": 0,
    "start_time": "2022-10-16T11:33:04.730Z"
   },
   {
    "duration": 0,
    "start_time": "2022-10-16T11:33:04.731Z"
   },
   {
    "duration": 0,
    "start_time": "2022-10-16T11:33:04.732Z"
   },
   {
    "duration": 0,
    "start_time": "2022-10-16T11:33:04.733Z"
   },
   {
    "duration": 0,
    "start_time": "2022-10-16T11:33:04.734Z"
   },
   {
    "duration": 0,
    "start_time": "2022-10-16T11:33:04.735Z"
   },
   {
    "duration": 8,
    "start_time": "2022-10-16T11:38:05.905Z"
   },
   {
    "duration": 5,
    "start_time": "2022-10-16T11:38:25.855Z"
   },
   {
    "duration": 20,
    "start_time": "2022-10-16T11:39:27.672Z"
   },
   {
    "duration": 6,
    "start_time": "2022-10-16T11:39:35.852Z"
   },
   {
    "duration": 20,
    "start_time": "2022-10-16T11:39:40.512Z"
   },
   {
    "duration": 558,
    "start_time": "2022-10-16T11:44:53.777Z"
   },
   {
    "duration": 3,
    "start_time": "2022-10-16T11:44:54.336Z"
   },
   {
    "duration": 87,
    "start_time": "2022-10-16T11:44:54.340Z"
   },
   {
    "duration": 28,
    "start_time": "2022-10-16T11:44:54.431Z"
   },
   {
    "duration": 15,
    "start_time": "2022-10-16T11:44:54.461Z"
   },
   {
    "duration": 4,
    "start_time": "2022-10-16T11:44:54.477Z"
   },
   {
    "duration": 247,
    "start_time": "2022-10-16T11:44:54.483Z"
   },
   {
    "duration": 8,
    "start_time": "2022-10-16T11:44:54.732Z"
   },
   {
    "duration": 154,
    "start_time": "2022-10-16T11:44:54.742Z"
   },
   {
    "duration": 7,
    "start_time": "2022-10-16T11:44:54.900Z"
   },
   {
    "duration": 18,
    "start_time": "2022-10-16T11:44:54.908Z"
   },
   {
    "duration": 6,
    "start_time": "2022-10-16T11:44:54.928Z"
   },
   {
    "duration": 6,
    "start_time": "2022-10-16T11:44:54.936Z"
   },
   {
    "duration": 8,
    "start_time": "2022-10-16T11:44:54.944Z"
   },
   {
    "duration": 12,
    "start_time": "2022-10-16T11:44:54.953Z"
   },
   {
    "duration": 4,
    "start_time": "2022-10-16T11:44:54.966Z"
   },
   {
    "duration": 56,
    "start_time": "2022-10-16T11:44:54.972Z"
   },
   {
    "duration": 19,
    "start_time": "2022-10-16T11:44:55.030Z"
   },
   {
    "duration": 11,
    "start_time": "2022-10-16T11:44:55.050Z"
   },
   {
    "duration": 23,
    "start_time": "2022-10-16T11:44:55.062Z"
   },
   {
    "duration": 15,
    "start_time": "2022-10-16T11:44:55.087Z"
   },
   {
    "duration": 21,
    "start_time": "2022-10-16T11:44:55.103Z"
   },
   {
    "duration": 161,
    "start_time": "2022-10-16T11:44:55.125Z"
   },
   {
    "duration": 22,
    "start_time": "2022-10-16T11:44:55.288Z"
   },
   {
    "duration": 16,
    "start_time": "2022-10-16T11:44:55.311Z"
   },
   {
    "duration": 53,
    "start_time": "2022-10-16T11:44:55.328Z"
   },
   {
    "duration": 8,
    "start_time": "2022-10-16T11:44:55.382Z"
   },
   {
    "duration": 310,
    "start_time": "2022-10-16T11:44:55.393Z"
   },
   {
    "duration": 340,
    "start_time": "2022-10-16T11:44:55.705Z"
   },
   {
    "duration": 14,
    "start_time": "2022-10-16T11:44:56.046Z"
   },
   {
    "duration": 13,
    "start_time": "2022-10-16T11:44:56.062Z"
   },
   {
    "duration": 4,
    "start_time": "2022-10-16T11:44:56.077Z"
   },
   {
    "duration": 10,
    "start_time": "2022-10-16T11:44:56.082Z"
   },
   {
    "duration": 36,
    "start_time": "2022-10-16T11:44:56.094Z"
   },
   {
    "duration": 11,
    "start_time": "2022-10-16T11:44:56.131Z"
   },
   {
    "duration": 9,
    "start_time": "2022-10-16T11:44:56.144Z"
   },
   {
    "duration": 5,
    "start_time": "2022-10-16T11:44:56.154Z"
   },
   {
    "duration": 20,
    "start_time": "2022-10-16T11:44:56.161Z"
   },
   {
    "duration": 4,
    "start_time": "2022-10-16T11:44:56.183Z"
   },
   {
    "duration": 49,
    "start_time": "2022-10-16T11:44:56.188Z"
   },
   {
    "duration": 15,
    "start_time": "2022-10-16T11:44:56.238Z"
   },
   {
    "duration": 201,
    "start_time": "2022-10-16T11:44:56.255Z"
   },
   {
    "duration": 3,
    "start_time": "2022-10-16T11:44:56.457Z"
   },
   {
    "duration": 545,
    "start_time": "2022-10-16T11:44:56.461Z"
   },
   {
    "duration": 164,
    "start_time": "2022-10-16T11:44:57.008Z"
   },
   {
    "duration": 192,
    "start_time": "2022-10-16T11:44:57.174Z"
   },
   {
    "duration": 3,
    "start_time": "2022-10-16T11:44:57.368Z"
   },
   {
    "duration": 365,
    "start_time": "2022-10-16T11:44:57.373Z"
   },
   {
    "duration": 221,
    "start_time": "2022-10-16T11:44:57.740Z"
   },
   {
    "duration": 3,
    "start_time": "2022-10-16T11:44:57.963Z"
   },
   {
    "duration": 1185,
    "start_time": "2022-10-16T11:44:57.968Z"
   },
   {
    "duration": 384,
    "start_time": "2022-10-16T11:44:59.155Z"
   },
   {
    "duration": 3,
    "start_time": "2022-10-16T11:44:59.540Z"
   },
   {
    "duration": 692,
    "start_time": "2022-10-16T11:44:59.544Z"
   },
   {
    "duration": 3,
    "start_time": "2022-10-16T11:45:00.238Z"
   },
   {
    "duration": 54,
    "start_time": "2022-10-16T11:45:00.243Z"
   },
   {
    "duration": 33,
    "start_time": "2022-10-16T11:45:00.298Z"
   },
   {
    "duration": 4,
    "start_time": "2022-10-16T11:45:00.332Z"
   },
   {
    "duration": 14,
    "start_time": "2022-10-16T11:45:00.337Z"
   },
   {
    "duration": 705,
    "start_time": "2022-10-16T11:45:00.353Z"
   },
   {
    "duration": 14,
    "start_time": "2022-10-16T11:45:01.060Z"
   },
   {
    "duration": 133,
    "start_time": "2022-10-16T11:45:01.076Z"
   },
   {
    "duration": 21,
    "start_time": "2022-10-16T11:45:01.211Z"
   },
   {
    "duration": 125,
    "start_time": "2022-10-16T11:45:01.234Z"
   },
   {
    "duration": 700,
    "start_time": "2022-10-16T11:45:01.361Z"
   },
   {
    "duration": 3,
    "start_time": "2022-10-16T11:45:02.063Z"
   },
   {
    "duration": 157,
    "start_time": "2022-10-16T11:45:02.067Z"
   },
   {
    "duration": 184,
    "start_time": "2022-10-16T11:45:02.226Z"
   },
   {
    "duration": 14,
    "start_time": "2022-10-16T11:45:02.411Z"
   },
   {
    "duration": 184,
    "start_time": "2022-10-16T11:45:02.427Z"
   },
   {
    "duration": 19,
    "start_time": "2022-10-16T11:45:02.612Z"
   },
   {
    "duration": 35,
    "start_time": "2022-10-16T11:45:02.633Z"
   },
   {
    "duration": 21,
    "start_time": "2022-10-16T11:45:02.669Z"
   },
   {
    "duration": 182,
    "start_time": "2022-10-16T11:45:02.691Z"
   },
   {
    "duration": 12,
    "start_time": "2022-10-16T11:45:02.874Z"
   },
   {
    "duration": 286,
    "start_time": "2022-10-16T11:45:02.888Z"
   },
   {
    "duration": 17,
    "start_time": "2022-10-16T12:14:00.031Z"
   },
   {
    "duration": 13,
    "start_time": "2022-10-16T12:14:19.632Z"
   },
   {
    "duration": 646,
    "start_time": "2022-10-16T12:25:39.130Z"
   },
   {
    "duration": 2,
    "start_time": "2022-10-16T12:25:39.778Z"
   },
   {
    "duration": 82,
    "start_time": "2022-10-16T12:25:39.782Z"
   },
   {
    "duration": 28,
    "start_time": "2022-10-16T12:25:39.866Z"
   },
   {
    "duration": 27,
    "start_time": "2022-10-16T12:25:39.895Z"
   },
   {
    "duration": 4,
    "start_time": "2022-10-16T12:25:39.924Z"
   },
   {
    "duration": 240,
    "start_time": "2022-10-16T12:25:39.930Z"
   },
   {
    "duration": 8,
    "start_time": "2022-10-16T12:25:40.172Z"
   },
   {
    "duration": 201,
    "start_time": "2022-10-16T12:25:40.182Z"
   },
   {
    "duration": 7,
    "start_time": "2022-10-16T12:25:40.385Z"
   },
   {
    "duration": 10,
    "start_time": "2022-10-16T12:25:40.393Z"
   },
   {
    "duration": 18,
    "start_time": "2022-10-16T12:25:40.405Z"
   },
   {
    "duration": 6,
    "start_time": "2022-10-16T12:25:40.425Z"
   },
   {
    "duration": 17,
    "start_time": "2022-10-16T12:25:40.432Z"
   },
   {
    "duration": 11,
    "start_time": "2022-10-16T12:25:40.450Z"
   },
   {
    "duration": 4,
    "start_time": "2022-10-16T12:25:40.462Z"
   },
   {
    "duration": 9,
    "start_time": "2022-10-16T12:25:40.468Z"
   },
   {
    "duration": 5,
    "start_time": "2022-10-16T12:25:40.478Z"
   },
   {
    "duration": 39,
    "start_time": "2022-10-16T12:25:40.484Z"
   },
   {
    "duration": 7,
    "start_time": "2022-10-16T12:25:40.525Z"
   },
   {
    "duration": 14,
    "start_time": "2022-10-16T12:25:40.533Z"
   },
   {
    "duration": 17,
    "start_time": "2022-10-16T12:25:40.549Z"
   },
   {
    "duration": 213,
    "start_time": "2022-10-16T12:25:40.567Z"
   },
   {
    "duration": 22,
    "start_time": "2022-10-16T12:25:40.782Z"
   },
   {
    "duration": 24,
    "start_time": "2022-10-16T12:25:40.806Z"
   },
   {
    "duration": 58,
    "start_time": "2022-10-16T12:25:40.832Z"
   },
   {
    "duration": 9,
    "start_time": "2022-10-16T12:25:40.891Z"
   },
   {
    "duration": 320,
    "start_time": "2022-10-16T12:25:40.923Z"
   },
   {
    "duration": 440,
    "start_time": "2022-10-16T12:25:41.245Z"
   },
   {
    "duration": 18,
    "start_time": "2022-10-16T12:25:41.687Z"
   },
   {
    "duration": 30,
    "start_time": "2022-10-16T12:25:41.707Z"
   },
   {
    "duration": 5,
    "start_time": "2022-10-16T12:25:41.739Z"
   },
   {
    "duration": 13,
    "start_time": "2022-10-16T12:25:41.746Z"
   },
   {
    "duration": 15,
    "start_time": "2022-10-16T12:25:41.761Z"
   },
   {
    "duration": 14,
    "start_time": "2022-10-16T12:25:41.778Z"
   },
   {
    "duration": 37,
    "start_time": "2022-10-16T12:25:41.794Z"
   },
   {
    "duration": 7,
    "start_time": "2022-10-16T12:25:41.833Z"
   },
   {
    "duration": 31,
    "start_time": "2022-10-16T12:25:41.841Z"
   },
   {
    "duration": 5,
    "start_time": "2022-10-16T12:25:41.874Z"
   },
   {
    "duration": 56,
    "start_time": "2022-10-16T12:25:41.881Z"
   },
   {
    "duration": 5,
    "start_time": "2022-10-16T12:25:41.940Z"
   },
   {
    "duration": 223,
    "start_time": "2022-10-16T12:25:41.948Z"
   },
   {
    "duration": 2,
    "start_time": "2022-10-16T12:25:42.173Z"
   },
   {
    "duration": 552,
    "start_time": "2022-10-16T12:25:42.177Z"
   },
   {
    "duration": 159,
    "start_time": "2022-10-16T12:25:42.731Z"
   },
   {
    "duration": 196,
    "start_time": "2022-10-16T12:25:42.891Z"
   },
   {
    "duration": 2,
    "start_time": "2022-10-16T12:25:43.089Z"
   },
   {
    "duration": 356,
    "start_time": "2022-10-16T12:25:43.093Z"
   },
   {
    "duration": 249,
    "start_time": "2022-10-16T12:25:43.451Z"
   },
   {
    "duration": 3,
    "start_time": "2022-10-16T12:25:43.702Z"
   },
   {
    "duration": 680,
    "start_time": "2022-10-16T12:25:43.706Z"
   },
   {
    "duration": 190,
    "start_time": "2022-10-16T12:25:44.387Z"
   },
   {
    "duration": 3,
    "start_time": "2022-10-16T12:25:44.579Z"
   },
   {
    "duration": 442,
    "start_time": "2022-10-16T12:25:44.583Z"
   },
   {
    "duration": 3,
    "start_time": "2022-10-16T12:25:45.027Z"
   },
   {
    "duration": 53,
    "start_time": "2022-10-16T12:25:45.031Z"
   },
   {
    "duration": 49,
    "start_time": "2022-10-16T12:25:45.086Z"
   },
   {
    "duration": 6,
    "start_time": "2022-10-16T12:25:45.137Z"
   },
   {
    "duration": 23,
    "start_time": "2022-10-16T12:25:45.145Z"
   },
   {
    "duration": 20,
    "start_time": "2022-10-16T12:25:45.170Z"
   },
   {
    "duration": 3,
    "start_time": "2022-10-16T12:25:45.191Z"
   },
   {
    "duration": 697,
    "start_time": "2022-10-16T12:25:45.196Z"
   },
   {
    "duration": 29,
    "start_time": "2022-10-16T12:25:45.894Z"
   },
   {
    "duration": 134,
    "start_time": "2022-10-16T12:25:45.925Z"
   },
   {
    "duration": 13,
    "start_time": "2022-10-16T12:25:46.061Z"
   },
   {
    "duration": 123,
    "start_time": "2022-10-16T12:25:46.076Z"
   },
   {
    "duration": 679,
    "start_time": "2022-10-16T12:25:46.202Z"
   },
   {
    "duration": 4,
    "start_time": "2022-10-16T12:25:46.882Z"
   },
   {
    "duration": 150,
    "start_time": "2022-10-16T12:25:46.887Z"
   },
   {
    "duration": 186,
    "start_time": "2022-10-16T12:25:47.038Z"
   },
   {
    "duration": 8,
    "start_time": "2022-10-16T12:25:47.226Z"
   },
   {
    "duration": 187,
    "start_time": "2022-10-16T12:25:47.235Z"
   },
   {
    "duration": 12,
    "start_time": "2022-10-16T12:25:47.424Z"
   },
   {
    "duration": 40,
    "start_time": "2022-10-16T12:25:47.438Z"
   },
   {
    "duration": 26,
    "start_time": "2022-10-16T12:25:47.480Z"
   },
   {
    "duration": 175,
    "start_time": "2022-10-16T12:25:47.522Z"
   },
   {
    "duration": 24,
    "start_time": "2022-10-16T12:25:47.699Z"
   },
   {
    "duration": 267,
    "start_time": "2022-10-16T12:25:47.724Z"
   },
   {
    "duration": 624,
    "start_time": "2022-10-16T12:27:16.219Z"
   },
   {
    "duration": 3,
    "start_time": "2022-10-16T12:27:16.845Z"
   },
   {
    "duration": 95,
    "start_time": "2022-10-16T12:27:16.850Z"
   },
   {
    "duration": 28,
    "start_time": "2022-10-16T12:27:16.948Z"
   },
   {
    "duration": 14,
    "start_time": "2022-10-16T12:27:16.978Z"
   },
   {
    "duration": 4,
    "start_time": "2022-10-16T12:27:16.994Z"
   },
   {
    "duration": 258,
    "start_time": "2022-10-16T12:27:17.000Z"
   },
   {
    "duration": 7,
    "start_time": "2022-10-16T12:27:17.260Z"
   },
   {
    "duration": 165,
    "start_time": "2022-10-16T12:27:17.269Z"
   },
   {
    "duration": 7,
    "start_time": "2022-10-16T12:27:17.437Z"
   },
   {
    "duration": 16,
    "start_time": "2022-10-16T12:27:17.446Z"
   },
   {
    "duration": 5,
    "start_time": "2022-10-16T12:27:17.464Z"
   },
   {
    "duration": 19,
    "start_time": "2022-10-16T12:27:17.471Z"
   },
   {
    "duration": 8,
    "start_time": "2022-10-16T12:27:17.492Z"
   },
   {
    "duration": 27,
    "start_time": "2022-10-16T12:27:17.502Z"
   },
   {
    "duration": 4,
    "start_time": "2022-10-16T12:27:17.530Z"
   },
   {
    "duration": 12,
    "start_time": "2022-10-16T12:27:17.536Z"
   },
   {
    "duration": 5,
    "start_time": "2022-10-16T12:27:17.550Z"
   },
   {
    "duration": 15,
    "start_time": "2022-10-16T12:27:17.557Z"
   },
   {
    "duration": 14,
    "start_time": "2022-10-16T12:27:17.574Z"
   },
   {
    "duration": 43,
    "start_time": "2022-10-16T12:27:17.590Z"
   },
   {
    "duration": 26,
    "start_time": "2022-10-16T12:27:17.634Z"
   },
   {
    "duration": 188,
    "start_time": "2022-10-16T12:27:17.661Z"
   },
   {
    "duration": 19,
    "start_time": "2022-10-16T12:27:17.851Z"
   },
   {
    "duration": 8,
    "start_time": "2022-10-16T12:27:17.872Z"
   },
   {
    "duration": 90,
    "start_time": "2022-10-16T12:27:17.882Z"
   },
   {
    "duration": 9,
    "start_time": "2022-10-16T12:27:17.973Z"
   },
   {
    "duration": 292,
    "start_time": "2022-10-16T12:27:17.986Z"
   },
   {
    "duration": 330,
    "start_time": "2022-10-16T12:27:18.280Z"
   },
   {
    "duration": 19,
    "start_time": "2022-10-16T12:27:18.612Z"
   },
   {
    "duration": 15,
    "start_time": "2022-10-16T12:27:18.633Z"
   },
   {
    "duration": 3,
    "start_time": "2022-10-16T12:27:18.650Z"
   },
   {
    "duration": 9,
    "start_time": "2022-10-16T12:27:18.655Z"
   },
   {
    "duration": 14,
    "start_time": "2022-10-16T12:27:18.665Z"
   },
   {
    "duration": 9,
    "start_time": "2022-10-16T12:27:18.680Z"
   },
   {
    "duration": 35,
    "start_time": "2022-10-16T12:27:18.691Z"
   },
   {
    "duration": 4,
    "start_time": "2022-10-16T12:27:18.728Z"
   },
   {
    "duration": 21,
    "start_time": "2022-10-16T12:27:18.734Z"
   },
   {
    "duration": 4,
    "start_time": "2022-10-16T12:27:18.757Z"
   },
   {
    "duration": 24,
    "start_time": "2022-10-16T12:27:18.762Z"
   },
   {
    "duration": 6,
    "start_time": "2022-10-16T12:27:18.787Z"
   },
   {
    "duration": 254,
    "start_time": "2022-10-16T12:27:18.795Z"
   },
   {
    "duration": 3,
    "start_time": "2022-10-16T12:27:19.050Z"
   },
   {
    "duration": 583,
    "start_time": "2022-10-16T12:27:19.055Z"
   },
   {
    "duration": 152,
    "start_time": "2022-10-16T12:27:19.639Z"
   },
   {
    "duration": 187,
    "start_time": "2022-10-16T12:27:19.793Z"
   },
   {
    "duration": 3,
    "start_time": "2022-10-16T12:27:19.982Z"
   },
   {
    "duration": 371,
    "start_time": "2022-10-16T12:27:19.987Z"
   },
   {
    "duration": 234,
    "start_time": "2022-10-16T12:27:20.360Z"
   },
   {
    "duration": 3,
    "start_time": "2022-10-16T12:27:20.596Z"
   },
   {
    "duration": 712,
    "start_time": "2022-10-16T12:27:20.601Z"
   },
   {
    "duration": 206,
    "start_time": "2022-10-16T12:27:21.315Z"
   },
   {
    "duration": 3,
    "start_time": "2022-10-16T12:27:21.525Z"
   },
   {
    "duration": 473,
    "start_time": "2022-10-16T12:27:21.530Z"
   },
   {
    "duration": 4,
    "start_time": "2022-10-16T12:27:22.005Z"
   },
   {
    "duration": 48,
    "start_time": "2022-10-16T12:27:22.011Z"
   },
   {
    "duration": 39,
    "start_time": "2022-10-16T12:27:22.061Z"
   },
   {
    "duration": 22,
    "start_time": "2022-10-16T12:27:22.101Z"
   },
   {
    "duration": 18,
    "start_time": "2022-10-16T12:27:22.125Z"
   },
   {
    "duration": 16,
    "start_time": "2022-10-16T12:27:22.145Z"
   },
   {
    "duration": 5,
    "start_time": "2022-10-16T12:27:22.162Z"
   },
   {
    "duration": 749,
    "start_time": "2022-10-16T12:27:22.168Z"
   },
   {
    "duration": 13,
    "start_time": "2022-10-16T12:27:22.921Z"
   },
   {
    "duration": 160,
    "start_time": "2022-10-16T12:27:22.936Z"
   },
   {
    "duration": 25,
    "start_time": "2022-10-16T12:27:23.098Z"
   },
   {
    "duration": 122,
    "start_time": "2022-10-16T12:27:23.124Z"
   },
   {
    "duration": 693,
    "start_time": "2022-10-16T12:27:23.248Z"
   },
   {
    "duration": 3,
    "start_time": "2022-10-16T12:27:23.942Z"
   },
   {
    "duration": 155,
    "start_time": "2022-10-16T12:27:23.947Z"
   },
   {
    "duration": 173,
    "start_time": "2022-10-16T12:27:24.103Z"
   },
   {
    "duration": 8,
    "start_time": "2022-10-16T12:27:24.278Z"
   },
   {
    "duration": 186,
    "start_time": "2022-10-16T12:27:24.288Z"
   },
   {
    "duration": 12,
    "start_time": "2022-10-16T12:27:24.475Z"
   },
   {
    "duration": 55,
    "start_time": "2022-10-16T12:27:24.488Z"
   },
   {
    "duration": 22,
    "start_time": "2022-10-16T12:27:24.544Z"
   },
   {
    "duration": 178,
    "start_time": "2022-10-16T12:27:24.567Z"
   },
   {
    "duration": 11,
    "start_time": "2022-10-16T12:27:24.746Z"
   },
   {
    "duration": 297,
    "start_time": "2022-10-16T12:27:24.759Z"
   }
  ],
  "kernelspec": {
   "display_name": "Python 3 (ipykernel)",
   "language": "python",
   "name": "python3"
  },
  "language_info": {
   "codemirror_mode": {
    "name": "ipython",
    "version": 3
   },
   "file_extension": ".py",
   "mimetype": "text/x-python",
   "name": "python",
   "nbconvert_exporter": "python",
   "pygments_lexer": "ipython3",
   "version": "3.9.12"
  },
  "toc": {
   "base_numbering": 1,
   "nav_menu": {},
   "number_sections": true,
   "sideBar": true,
   "skip_h1_title": true,
   "title_cell": "Table of Contents",
   "title_sidebar": "Contents",
   "toc_cell": false,
   "toc_position": {},
   "toc_section_display": true,
   "toc_window_display": true
  }
 },
 "nbformat": 4,
 "nbformat_minor": 5
}
