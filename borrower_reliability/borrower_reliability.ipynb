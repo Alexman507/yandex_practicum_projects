{
 "cells": [
  {
   "cell_type": "markdown",
   "id": "bde989ce",
   "metadata": {},
   "source": [
    "## Оглавление:\n",
    "\n",
    "* [1. Обзор данных](#обзор_данных)\n",
    "* [2. Предобработка данных](#предобработка_данных)\n",
    "    * [2.1. Удаление пропусков](#удаление_пропусков)\n",
    "    * [2.2. Обработка аномальных значений](#обработка_аномальных_значений)\n",
    "    * [2.3. Обработка дубликатов](#обработка_дубликатов)\n",
    "    * [2.4. Категоризация данных](#категоризация_данных)\n",
    "* [3. Проверка гипотез](#проверка_гипотез)\n",
    "    * [3.1. Количество детей](#дети)\n",
    "    * [3.2. Семейное положение](#семья)\n",
    "    * [3.3. Возраст заемщика](#возраст)\n",
    "    * [3.4. Уровень заработка](#доход)\n",
    "    * [3.5. Цель получения кредита](#цель)\n",
    "* [4. Итоги исследования](#итоги_исследования)"
   ]
  },
  {
   "cell_type": "markdown",
   "id": "62ad186f",
   "metadata": {},
   "source": [
    "# Исследование надежности заемщиков"
   ]
  },
  {
   "cell_type": "markdown",
   "id": "17b70fa4",
   "metadata": {},
   "source": [
    "**Цель исследования** - Оценка критериев кредитополучателей, по которым возможно предсказать вероятность своевременного погашения займа.\n",
    "  \n",
    "**Основные гипотезы** - Надежность заемщика может зависеть от таких критериев как уровень заработка, возраст, семейное положение или наличие детей. Также своевременность выплаты может зависеть от цели, на которую берется кредит.\n",
    "  \n",
    "**Ход исследования** - Данные о поведении пользователей получены из файла с расширением .csv. \n",
    "Имеется документация, однако могут встречаться пропуски или значения, искажающие данные. Поэтому перед проверкой гипотез требуется провести обзор данных.\n"
   ]
  },
  {
   "cell_type": "markdown",
   "id": "7cb1acab",
   "metadata": {},
   "source": [
    "## 1. Обзор данных <a class=\"anchor\" id=\"обзор_данных\"></a>"
   ]
  },
  {
   "cell_type": "markdown",
   "id": "c40c03eb",
   "metadata": {},
   "source": [
    "В исследовании используются средства библиотеки `pandas`.\n",
    "Данные получены в виде файла с расширением .csv"
   ]
  },
  {
   "cell_type": "code",
   "execution_count": 1,
   "id": "0a7c3cb8",
   "metadata": {},
   "outputs": [],
   "source": [
    "import pandas as pd\n",
    "\n",
    "data = pd.read_csv('loan_data.csv')"
   ]
  },
  {
   "cell_type": "markdown",
   "id": "1d7bc8eb",
   "metadata": {},
   "source": [
    "Для общего представления о полученных данных осуществляется вывод первых 5-ти строк таблицы:"
   ]
  },
  {
   "cell_type": "code",
   "execution_count": 2,
   "id": "ee1076e7",
   "metadata": {
    "scrolled": true
   },
   "outputs": [
    {
     "data": {
      "text/html": [
       "<div>\n",
       "<style scoped>\n",
       "    .dataframe tbody tr th:only-of-type {\n",
       "        vertical-align: middle;\n",
       "    }\n",
       "\n",
       "    .dataframe tbody tr th {\n",
       "        vertical-align: top;\n",
       "    }\n",
       "\n",
       "    .dataframe thead th {\n",
       "        text-align: right;\n",
       "    }\n",
       "</style>\n",
       "<table border=\"1\" class=\"dataframe\">\n",
       "  <thead>\n",
       "    <tr style=\"text-align: right;\">\n",
       "      <th></th>\n",
       "      <th>children</th>\n",
       "      <th>days_employed</th>\n",
       "      <th>dob_years</th>\n",
       "      <th>education</th>\n",
       "      <th>education_id</th>\n",
       "      <th>family_status</th>\n",
       "      <th>family_status_id</th>\n",
       "      <th>gender</th>\n",
       "      <th>income_type</th>\n",
       "      <th>debt</th>\n",
       "      <th>total_income</th>\n",
       "      <th>purpose</th>\n",
       "    </tr>\n",
       "  </thead>\n",
       "  <tbody>\n",
       "    <tr>\n",
       "      <th>0</th>\n",
       "      <td>1</td>\n",
       "      <td>-8437.673028</td>\n",
       "      <td>42</td>\n",
       "      <td>высшее</td>\n",
       "      <td>0</td>\n",
       "      <td>женат / замужем</td>\n",
       "      <td>0</td>\n",
       "      <td>F</td>\n",
       "      <td>сотрудник</td>\n",
       "      <td>0</td>\n",
       "      <td>253875.639453</td>\n",
       "      <td>покупка жилья</td>\n",
       "    </tr>\n",
       "    <tr>\n",
       "      <th>1</th>\n",
       "      <td>1</td>\n",
       "      <td>-4024.803754</td>\n",
       "      <td>36</td>\n",
       "      <td>среднее</td>\n",
       "      <td>1</td>\n",
       "      <td>женат / замужем</td>\n",
       "      <td>0</td>\n",
       "      <td>F</td>\n",
       "      <td>сотрудник</td>\n",
       "      <td>0</td>\n",
       "      <td>112080.014102</td>\n",
       "      <td>приобретение автомобиля</td>\n",
       "    </tr>\n",
       "    <tr>\n",
       "      <th>2</th>\n",
       "      <td>0</td>\n",
       "      <td>-5623.422610</td>\n",
       "      <td>33</td>\n",
       "      <td>Среднее</td>\n",
       "      <td>1</td>\n",
       "      <td>женат / замужем</td>\n",
       "      <td>0</td>\n",
       "      <td>M</td>\n",
       "      <td>сотрудник</td>\n",
       "      <td>0</td>\n",
       "      <td>145885.952297</td>\n",
       "      <td>покупка жилья</td>\n",
       "    </tr>\n",
       "    <tr>\n",
       "      <th>3</th>\n",
       "      <td>3</td>\n",
       "      <td>-4124.747207</td>\n",
       "      <td>32</td>\n",
       "      <td>среднее</td>\n",
       "      <td>1</td>\n",
       "      <td>женат / замужем</td>\n",
       "      <td>0</td>\n",
       "      <td>M</td>\n",
       "      <td>сотрудник</td>\n",
       "      <td>0</td>\n",
       "      <td>267628.550329</td>\n",
       "      <td>дополнительное образование</td>\n",
       "    </tr>\n",
       "    <tr>\n",
       "      <th>4</th>\n",
       "      <td>0</td>\n",
       "      <td>340266.072047</td>\n",
       "      <td>53</td>\n",
       "      <td>среднее</td>\n",
       "      <td>1</td>\n",
       "      <td>гражданский брак</td>\n",
       "      <td>1</td>\n",
       "      <td>F</td>\n",
       "      <td>пенсионер</td>\n",
       "      <td>0</td>\n",
       "      <td>158616.077870</td>\n",
       "      <td>сыграть свадьбу</td>\n",
       "    </tr>\n",
       "  </tbody>\n",
       "</table>\n",
       "</div>"
      ],
      "text/plain": [
       "   children  days_employed  dob_years education  education_id  \\\n",
       "0         1   -8437.673028         42    высшее             0   \n",
       "1         1   -4024.803754         36   среднее             1   \n",
       "2         0   -5623.422610         33   Среднее             1   \n",
       "3         3   -4124.747207         32   среднее             1   \n",
       "4         0  340266.072047         53   среднее             1   \n",
       "\n",
       "      family_status  family_status_id gender income_type  debt   total_income  \\\n",
       "0   женат / замужем                 0      F   сотрудник     0  253875.639453   \n",
       "1   женат / замужем                 0      F   сотрудник     0  112080.014102   \n",
       "2   женат / замужем                 0      M   сотрудник     0  145885.952297   \n",
       "3   женат / замужем                 0      M   сотрудник     0  267628.550329   \n",
       "4  гражданский брак                 1      F   пенсионер     0  158616.077870   \n",
       "\n",
       "                      purpose  \n",
       "0               покупка жилья  \n",
       "1     приобретение автомобиля  \n",
       "2               покупка жилья  \n",
       "3  дополнительное образование  \n",
       "4             сыграть свадьбу  "
      ]
     },
     "execution_count": 2,
     "metadata": {},
     "output_type": "execute_result"
    }
   ],
   "source": [
    "data.head()"
   ]
  },
  {
   "cell_type": "markdown",
   "id": "b45f7ec3",
   "metadata": {},
   "source": [
    "Также оценивается общая информация о таблице:"
   ]
  },
  {
   "cell_type": "code",
   "execution_count": 3,
   "id": "6ae64cf7",
   "metadata": {
    "scrolled": true
   },
   "outputs": [
    {
     "name": "stdout",
     "output_type": "stream",
     "text": [
      "<class 'pandas.core.frame.DataFrame'>\n",
      "RangeIndex: 21525 entries, 0 to 21524\n",
      "Data columns (total 12 columns):\n",
      " #   Column            Non-Null Count  Dtype  \n",
      "---  ------            --------------  -----  \n",
      " 0   children          21525 non-null  int64  \n",
      " 1   days_employed     19351 non-null  float64\n",
      " 2   dob_years         21525 non-null  int64  \n",
      " 3   education         21525 non-null  object \n",
      " 4   education_id      21525 non-null  int64  \n",
      " 5   family_status     21525 non-null  object \n",
      " 6   family_status_id  21525 non-null  int64  \n",
      " 7   gender            21525 non-null  object \n",
      " 8   income_type       21525 non-null  object \n",
      " 9   debt              21525 non-null  int64  \n",
      " 10  total_income      19351 non-null  float64\n",
      " 11  purpose           21525 non-null  object \n",
      "dtypes: float64(2), int64(5), object(5)\n",
      "memory usage: 2.0+ MB\n"
     ]
    }
   ],
   "source": [
    "data.info()"
   ]
  },
  {
   "cell_type": "markdown",
   "id": "b913a68d",
   "metadata": {},
   "source": [
    "**Согласно документации:**\n",
    "    \n",
    "`children` — количество детей в семье  \n",
    "`days_employed` — общий трудовой стаж в днях  \n",
    "`dob_years` — возраст клиента в годах  \n",
    "`education` — уровень образования клиента  \n",
    "`education_id` — идентификатор уровня образования  \n",
    "`family_status` — семейное положение  \n",
    "`family_status_id` — идентификатор семейного положения  \n",
    "`gender` — пол клиента  \n",
    "`income_type` — тип занятости  \n",
    "`debt` — имел ли задолженность по возврату кредитов  \n",
    "`total_income` — ежемесячный доход  \n",
    "`purpose` — цель получения кредита  "
   ]
  },
  {
   "cell_type": "markdown",
   "id": "40be5d31",
   "metadata": {},
   "source": [
    "## 2. Предобработка данных <a class=\"anchor\" id=\"предобработка_данных\"></a>"
   ]
  },
  {
   "cell_type": "markdown",
   "id": "6ab9b53c",
   "metadata": {},
   "source": [
    "### 2.1 Удаление пропусков <a class=\"anchor\" id=\"удаление_пропусков\"></a>"
   ]
  },
  {
   "cell_type": "markdown",
   "id": "13ab6a49",
   "metadata": {},
   "source": [
    "Количество пропущенных значений для каждого столбца:"
   ]
  },
  {
   "cell_type": "code",
   "execution_count": 4,
   "id": "9cd4c7ec",
   "metadata": {},
   "outputs": [
    {
     "data": {
      "text/plain": [
       "children               0\n",
       "days_employed       2174\n",
       "dob_years              0\n",
       "education              0\n",
       "education_id           0\n",
       "family_status          0\n",
       "family_status_id       0\n",
       "gender                 0\n",
       "income_type            0\n",
       "debt                   0\n",
       "total_income        2174\n",
       "purpose                0\n",
       "dtype: int64"
      ]
     },
     "execution_count": 4,
     "metadata": {},
     "output_type": "execute_result"
    }
   ],
   "source": [
    "data.isna().sum()"
   ]
  },
  {
   "cell_type": "markdown",
   "id": "aabc83f0",
   "metadata": {},
   "source": [
    "Необходимо заполнить пропуски в столбце `total_income` с данными о доходах.  \n",
    "На сумму дохода сильнее всего влияет тип занятости, поэтому заполнить пропуски в этом столбце следует медианным значением по каждому типу из столбца `income_type`."
   ]
  },
  {
   "cell_type": "code",
   "execution_count": 5,
   "id": "b62a7d6d",
   "metadata": {},
   "outputs": [],
   "source": [
    "for t in data['income_type'].unique():\n",
    "    data.loc[(data['income_type'] == t) & (data['total_income'].isna()), 'total_income'] = \\\n",
    "    data.loc[(data['income_type'] == t), 'total_income'].median()"
   ]
  },
  {
   "cell_type": "markdown",
   "id": "b5fceefa",
   "metadata": {},
   "source": [
    "Проверка заполнения пропусков:"
   ]
  },
  {
   "cell_type": "code",
   "execution_count": 6,
   "id": "cdf366b1",
   "metadata": {
    "scrolled": false
   },
   "outputs": [
    {
     "data": {
      "text/plain": [
       "children               0\n",
       "days_employed       2174\n",
       "dob_years              0\n",
       "education              0\n",
       "education_id           0\n",
       "family_status          0\n",
       "family_status_id       0\n",
       "gender                 0\n",
       "income_type            0\n",
       "debt                   0\n",
       "total_income           0\n",
       "purpose                0\n",
       "dtype: int64"
      ]
     },
     "execution_count": 6,
     "metadata": {},
     "output_type": "execute_result"
    }
   ],
   "source": [
    "data.isna().sum()"
   ]
  },
  {
   "cell_type": "markdown",
   "id": "4b4c045f",
   "metadata": {},
   "source": [
    "Поскольку столбец `days_employed` не понадобится для исследования, на данный момент нет необходимости заполнять пропуски в нем."
   ]
  },
  {
   "cell_type": "markdown",
   "id": "72038f2f",
   "metadata": {},
   "source": [
    "### 2.2 Обработка аномальных значений <a class=\"anchor\" id=\"обработка_аномальных_значений\"></a>"
   ]
  },
  {
   "cell_type": "markdown",
   "id": "b3074f1c",
   "metadata": {},
   "source": [
    "Проверка значений столбца `children`."
   ]
  },
  {
   "cell_type": "code",
   "execution_count": 7,
   "id": "f367e003",
   "metadata": {},
   "outputs": [
    {
     "data": {
      "text/plain": [
       "array([ 1,  0,  3,  2, -1,  4, 20,  5], dtype=int64)"
      ]
     },
     "execution_count": 7,
     "metadata": {},
     "output_type": "execute_result"
    }
   ],
   "source": [
    "data['children'].unique()"
   ]
  },
  {
   "cell_type": "markdown",
   "id": "e819c125",
   "metadata": {},
   "source": [
    "В столбце `children` есть два аномальных значения. Строки, в которых встречаются аномальные значения исключаются из датафрейма `data`."
   ]
  },
  {
   "cell_type": "code",
   "execution_count": 8,
   "id": "28984044",
   "metadata": {},
   "outputs": [],
   "source": [
    "data = data[(data['children'] != -1) & (data['children'] != 20)]"
   ]
  },
  {
   "cell_type": "markdown",
   "id": "3cdd585d",
   "metadata": {},
   "source": [
    "Проверка уникальных значений столбца `children`, чтобы убедиться, что артефакты удалены."
   ]
  },
  {
   "cell_type": "code",
   "execution_count": 9,
   "id": "5bf0e4c5",
   "metadata": {},
   "outputs": [
    {
     "data": {
      "text/plain": [
       "array([1, 0, 3, 2, 4, 5], dtype=int64)"
      ]
     },
     "execution_count": 9,
     "metadata": {},
     "output_type": "execute_result"
    }
   ],
   "source": [
    "data['children'].unique()"
   ]
  },
  {
   "cell_type": "markdown",
   "id": "f98ce30e",
   "metadata": {},
   "source": [
    "Для удобства визуализации также следует заменить вещественный тип данных в столбце `total_income` на целочисленный"
   ]
  },
  {
   "cell_type": "code",
   "execution_count": 10,
   "id": "9d6e2f15",
   "metadata": {},
   "outputs": [],
   "source": [
    "data['total_income'] = data['total_income'].astype(int)"
   ]
  },
  {
   "cell_type": "markdown",
   "id": "203388ff",
   "metadata": {},
   "source": [
    "### 2.3. Обработка дубликатов <a class=\"anchor\" id=\"обработка_дубликатов\"></a>"
   ]
  },
  {
   "cell_type": "markdown",
   "id": "9514261c",
   "metadata": {},
   "source": [
    "В столбце `education` есть одни и те же значения, записанные по-разному: с использованием заглавных и строчных букв.  \n",
    "Их необходимо привести к единому виду."
   ]
  },
  {
   "cell_type": "code",
   "execution_count": 11,
   "id": "a3bb2018",
   "metadata": {},
   "outputs": [],
   "source": [
    "data['education'] = data['education'].str.lower()"
   ]
  },
  {
   "cell_type": "markdown",
   "id": "97c641c6",
   "metadata": {},
   "source": [
    "Проверка количества строк-дубликатов в данных и их удаление"
   ]
  },
  {
   "cell_type": "code",
   "execution_count": 12,
   "id": "68c02f0e",
   "metadata": {},
   "outputs": [
    {
     "data": {
      "text/plain": [
       "71"
      ]
     },
     "execution_count": 12,
     "metadata": {},
     "output_type": "execute_result"
    }
   ],
   "source": [
    "data.duplicated().sum()"
   ]
  },
  {
   "cell_type": "code",
   "execution_count": 13,
   "id": "5b81abb8",
   "metadata": {},
   "outputs": [],
   "source": [
    "data = data.drop_duplicates()"
   ]
  },
  {
   "cell_type": "markdown",
   "id": "5e15b669",
   "metadata": {},
   "source": [
    "### 2.4. Категоризация данных <a class=\"anchor\" id=\"категоризация_данных\"></a>"
   ]
  },
  {
   "cell_type": "markdown",
   "id": "4ff405b7",
   "metadata": {},
   "source": [
    "Для удобства обработки данных, присваиваются категории по уровню дохода согласно таблице:\n",
    "\n",
    "- 0–30000 — `'E'`;\n",
    "- 30001–50000 — `'D'`;\n",
    "- 50001–200000 — `'C'`;\n",
    "- 200001–1000000 — `'B'`;\n",
    "- 1000001 и выше — `'A'`."
   ]
  },
  {
   "cell_type": "code",
   "execution_count": 14,
   "id": "010d863d",
   "metadata": {},
   "outputs": [],
   "source": [
    "def categorize_income(income):\n",
    "    try:\n",
    "        if 0 <= income <= 30000:\n",
    "            return 'E'\n",
    "        elif 30001 <= income <= 50000:\n",
    "            return 'D'\n",
    "        elif 50001 <= income <= 200000:\n",
    "            return 'C'\n",
    "        elif 200001 <= income <= 1000000:\n",
    "            return 'B'\n",
    "        elif income >= 1000001:\n",
    "            return 'A'\n",
    "    except:\n",
    "        pass"
   ]
  },
  {
   "cell_type": "code",
   "execution_count": 15,
   "id": "d55e2985",
   "metadata": {},
   "outputs": [],
   "source": [
    "data['total_income_category'] = data['total_income'].apply(categorize_income)"
   ]
  },
  {
   "cell_type": "markdown",
   "id": "e7d12378",
   "metadata": {},
   "source": [
    "Структурирование перечня целей взятия кредита из столбца `purpose`."
   ]
  },
  {
   "cell_type": "code",
   "execution_count": 16,
   "id": "26159b5c",
   "metadata": {},
   "outputs": [
    {
     "data": {
      "text/plain": [
       "array(['покупка жилья', 'приобретение автомобиля',\n",
       "       'дополнительное образование', 'сыграть свадьбу',\n",
       "       'операции с жильем', 'образование', 'на проведение свадьбы',\n",
       "       'покупка жилья для семьи', 'покупка недвижимости',\n",
       "       'покупка коммерческой недвижимости', 'покупка жилой недвижимости',\n",
       "       'строительство собственной недвижимости', 'недвижимость',\n",
       "       'строительство недвижимости', 'на покупку подержанного автомобиля',\n",
       "       'на покупку своего автомобиля',\n",
       "       'операции с коммерческой недвижимостью',\n",
       "       'строительство жилой недвижимости', 'жилье',\n",
       "       'операции со своей недвижимостью', 'автомобили',\n",
       "       'заняться образованием', 'сделка с подержанным автомобилем',\n",
       "       'получение образования', 'автомобиль', 'свадьба',\n",
       "       'получение дополнительного образования', 'покупка своего жилья',\n",
       "       'операции с недвижимостью', 'получение высшего образования',\n",
       "       'свой автомобиль', 'сделка с автомобилем',\n",
       "       'профильное образование', 'высшее образование',\n",
       "       'покупка жилья для сдачи', 'на покупку автомобиля', 'ремонт жилью',\n",
       "       'заняться высшим образованием'], dtype=object)"
      ]
     },
     "execution_count": 16,
     "metadata": {},
     "output_type": "execute_result"
    }
   ],
   "source": [
    "data['purpose'].unique()"
   ]
  },
  {
   "cell_type": "markdown",
   "id": "1881e106",
   "metadata": {},
   "source": [
    "Создание функции, для формирования столбца `purpose_category` на основании данных из столбца `purpose`, в который войдут следующие категории:\n",
    "\n",
    "- `'операции с автомобилем'`,\n",
    "- `'операции с недвижимостью'`,\n",
    "- `'проведение свадьбы'`,\n",
    "- `'получение образования'`."
   ]
  },
  {
   "cell_type": "code",
   "execution_count": 17,
   "id": "f84cc2e2",
   "metadata": {},
   "outputs": [],
   "source": [
    "def categorize_purpose(row):\n",
    "    try:\n",
    "        if 'автом' in row:\n",
    "            return 'операции с автомобилем'\n",
    "        elif 'жил' in row or 'недвиж' in row:\n",
    "            return 'операции с недвижимостью'\n",
    "        elif 'свад' in row:\n",
    "            return 'проведение свадьбы'\n",
    "        elif 'образов' in row:\n",
    "            return 'получение образования'\n",
    "    except:\n",
    "        return 'нет категории'"
   ]
  },
  {
   "cell_type": "code",
   "execution_count": 18,
   "id": "5a424b1d",
   "metadata": {},
   "outputs": [],
   "source": [
    "data['purpose_category'] = data['purpose'].apply(categorize_purpose)"
   ]
  },
  {
   "cell_type": "markdown",
   "id": "aa8f48bc",
   "metadata": {},
   "source": [
    "### 3. Проверка гипотез <a class=\"anchor\" id=\"проверка_гипотез\"></a>"
   ]
  },
  {
   "cell_type": "markdown",
   "id": "96cad8b3",
   "metadata": {},
   "source": [
    "#### 3.1 Зависимость между количеством детей и возвратом кредита в срок <a class=\"anchor\" id=\"дети\"></a>"
   ]
  },
  {
   "cell_type": "markdown",
   "id": "2b4dbe49",
   "metadata": {},
   "source": [
    "Для проверки данной гипотезы необходимы следующие действия:  \n",
    "1. Группировка всех кредиторов по количеству детей\n",
    "2. Оценка вероятности возникновения просрочки по кредиту как отношения кредитов с задолженностью ко всем взятым кредитам\n",
    "3. Составление графика зависимости и его анализ"
   ]
  },
  {
   "cell_type": "code",
   "execution_count": 19,
   "id": "a53ad0c0",
   "metadata": {},
   "outputs": [
    {
     "name": "stdout",
     "output_type": "stream",
     "text": [
      "children\n",
      "0    0.075438\n",
      "1    0.092346\n",
      "2    0.094542\n",
      "3    0.081818\n",
      "4    0.097561\n",
      "5    0.000000\n",
      "Name: debt, dtype: float64\n"
     ]
    }
   ],
   "source": [
    "debt_probability_by_children = data.groupby('children')\n",
    "\n",
    "print(debt_probability_by_children['debt'].mean()) #разделение кредиторов по кол-ву детей"
   ]
  },
  {
   "cell_type": "markdown",
   "id": "16116a80",
   "metadata": {},
   "source": [
    "По предварительной оценке значения близки и не имеют четкой зависимости. Однако, среди семей с пятью детьми все кредиты были возвращены в срок. Необходимо проверить причину настолько значительного отклонения."
   ]
  },
  {
   "cell_type": "code",
   "execution_count": 20,
   "id": "6949dbd7",
   "metadata": {},
   "outputs": [
    {
     "name": "stdout",
     "output_type": "stream",
     "text": [
      "children\n",
      "0    14091\n",
      "1     4808\n",
      "2     2052\n",
      "3      330\n",
      "4       41\n",
      "5        9\n",
      "Name: debt, dtype: int64\n"
     ]
    }
   ],
   "source": [
    "print(debt_probability_by_children['debt'].count()) #оценка репрезентативности выборки"
   ]
  },
  {
   "cell_type": "markdown",
   "id": "60879d53",
   "metadata": {},
   "source": [
    "Причина отклонений заключается в том, что данных для оценки вероятности невыплаты кредита в срок для многодетных семей недостаточно, поэтому семьи с четырьмя и пятью детьми необходимо исключить из расчета."
   ]
  },
  {
   "cell_type": "code",
   "execution_count": 21,
   "id": "6992caad",
   "metadata": {},
   "outputs": [
    {
     "name": "stdout",
     "output_type": "stream",
     "text": [
      "children\n",
      "0    0.075\n",
      "1    0.092\n",
      "2    0.095\n",
      "3    0.082\n",
      "Name: debt, dtype: float64\n"
     ]
    }
   ],
   "source": [
    "debt_probability_by_children_mean = debt_probability_by_children['debt'].mean()[0:4]\n",
    "\n",
    "print(round(debt_probability_by_children_mean, 3)) #для каждой группы посчитать процент задолженностей (среднее значение)"
   ]
  },
  {
   "cell_type": "markdown",
   "id": "fc56811d",
   "metadata": {},
   "source": [
    "На основании этих данных построен график зависимости"
   ]
  },
  {
   "cell_type": "code",
   "execution_count": 53,
   "id": "1050d85b",
   "metadata": {},
   "outputs": [
    {
     "data": {
      "text/plain": [
       "<AxesSubplot:xlabel='children', ylabel='debt'>"
      ]
     },
     "execution_count": 53,
     "metadata": {},
     "output_type": "execute_result"
    },
    {
     "data": {
      "image/png": "[encoded data removed]",
      "text/plain": [
       "<Figure size 432x288 with 1 Axes>"
      ]
     },
     "metadata": {
      "needs_background": "light"
     },
     "output_type": "display_data"
    }
   ],
   "source": [
    "import seaborn as sns\n",
    "                            #график отношения кол-ва детей к вероятности наличия задолженности\n",
    "sns.barplot(x=debt_probability_by_children_mean.index, \n",
    "            y=debt_probability_by_children_mean,\n",
    "            palette = 'Spectral')"
   ]
  },
  {
   "cell_type": "markdown",
   "id": "583032ca",
   "metadata": {},
   "source": [
    "Визуально данные не имеют тенденции, однако требуется более точная оценка. "
   ]
  },
  {
   "cell_type": "code",
   "execution_count": 36,
   "id": "8b6c4e1e",
   "metadata": {},
   "outputs": [
    {
     "data": {
      "text/html": [
       "<div>\n",
       "<style scoped>\n",
       "    .dataframe tbody tr th:only-of-type {\n",
       "        vertical-align: middle;\n",
       "    }\n",
       "\n",
       "    .dataframe tbody tr th {\n",
       "        vertical-align: top;\n",
       "    }\n",
       "\n",
       "    .dataframe thead th {\n",
       "        text-align: right;\n",
       "    }\n",
       "</style>\n",
       "<table border=\"1\" class=\"dataframe\">\n",
       "  <thead>\n",
       "    <tr style=\"text-align: right;\">\n",
       "      <th></th>\n",
       "      <th>Всего выдано кредитов</th>\n",
       "      <th>Просрочено кредитов</th>\n",
       "      <th>Вероятность просрочки</th>\n",
       "    </tr>\n",
       "    <tr>\n",
       "      <th>children</th>\n",
       "      <th></th>\n",
       "      <th></th>\n",
       "      <th></th>\n",
       "    </tr>\n",
       "  </thead>\n",
       "  <tbody>\n",
       "    <tr>\n",
       "      <th>0</th>\n",
       "      <td>14091</td>\n",
       "      <td>1063</td>\n",
       "      <td>0.075</td>\n",
       "    </tr>\n",
       "    <tr>\n",
       "      <th>1</th>\n",
       "      <td>4808</td>\n",
       "      <td>444</td>\n",
       "      <td>0.092</td>\n",
       "    </tr>\n",
       "    <tr>\n",
       "      <th>2</th>\n",
       "      <td>2052</td>\n",
       "      <td>194</td>\n",
       "      <td>0.095</td>\n",
       "    </tr>\n",
       "    <tr>\n",
       "      <th>3</th>\n",
       "      <td>330</td>\n",
       "      <td>27</td>\n",
       "      <td>0.082</td>\n",
       "    </tr>\n",
       "  </tbody>\n",
       "</table>\n",
       "</div>"
      ],
      "text/plain": [
       "          Всего выдано кредитов  Просрочено кредитов  Вероятность просрочки\n",
       "children                                                                   \n",
       "0                         14091                 1063                  0.075\n",
       "1                          4808                  444                  0.092\n",
       "2                          2052                  194                  0.095\n",
       "3                           330                   27                  0.082"
      ]
     },
     "execution_count": 36,
     "metadata": {},
     "output_type": "execute_result"
    }
   ],
   "source": [
    "report_children = data.pivot_table(index='children', \n",
    "                       values='debt', \n",
    "                       aggfunc=['count', 'sum', 'mean'])\n",
    "report_children.columns = ['Всего выдано кредитов', 'Просрочено кредитов', 'Вероятность просрочки']\n",
    "report_children[0:4].round(3)"
   ]
  },
  {
   "cell_type": "markdown",
   "id": "7f15ee89",
   "metadata": {},
   "source": [
    "**Вывод:** \n",
    "\n",
    "В результате анализа не выявлено тенденции к изменению количества задолженностей по кредиту в зависимости от количества детей в семье кредитора. Все значения находятся в диапазоне 7,5% - 9,5% просроченных кредитов и не имеют заметной тенденции. \n",
    "  \n",
    "Однако следует обратить внимание на то, что по объективным причинам данных для анализа семей с четырья и пятью детьми недостаточно и расчеты к ним не применялись."
   ]
  },
  {
   "cell_type": "markdown",
   "id": "67f417ee",
   "metadata": {},
   "source": [
    "#### 3.2 Зависимость между семейным положением и возвратом кредита в срок <a class=\"anchor\" id=\"семья\"></a>"
   ]
  },
  {
   "cell_type": "markdown",
   "id": "ac7af478",
   "metadata": {},
   "source": [
    "Для проверки второй гипотезы необходимо использовать аналогичный порядок действий:  \n",
    "1. Все кредиторы группируются по семейному положению\n",
    "2. Оценивается вероятность возникновения просрочки по кредиту\n",
    "3. Составляется и анализируется график зависимости"
   ]
  },
  {
   "cell_type": "code",
   "execution_count": 24,
   "id": "1545d936",
   "metadata": {},
   "outputs": [
    {
     "name": "stdout",
     "output_type": "stream",
     "text": [
      "family_status\n",
      "Не женат / не замужем    0.097639\n",
      "в разводе                0.070648\n",
      "вдовец / вдова           0.066246\n",
      "гражданский брак         0.093130\n",
      "женат / замужем          0.075606\n",
      "Name: debt, dtype: float64\n",
      "\n",
      "family_status\n",
      "Не женат / не замужем     2796\n",
      "в разводе                 1189\n",
      "вдовец / вдова             951\n",
      "гражданский брак          4134\n",
      "женат / замужем          12261\n",
      "Name: debt, dtype: int64\n"
     ]
    }
   ],
   "source": [
    "debt_probability_by_family_status = data.groupby('family_status')\n",
    "\n",
    "print(debt_probability_by_family_status['debt'].mean()) #группировка кредиторов по гражданскому состоянию\n",
    "print()\n",
    "print(debt_probability_by_family_status['debt'].count()) #оценка репрезентативности выборки"
   ]
  },
  {
   "cell_type": "markdown",
   "id": "94f133a5",
   "metadata": {},
   "source": [
    "Ошибки в данных не обнаружены, а данных достаточно для анализа \n",
    "Следующим этапом является построение графика\n",
    "Для удобства визуализации график построен по `family_status_id`, а также приложена легенда."
   ]
  },
  {
   "cell_type": "code",
   "execution_count": 54,
   "id": "aefdba37",
   "metadata": {},
   "outputs": [
    {
     "name": "stdout",
     "output_type": "stream",
     "text": [
      "family_status\n",
      "Не женат / не замужем    4.0\n",
      "в разводе                3.0\n",
      "вдовец / вдова           2.0\n",
      "гражданский брак         1.0\n",
      "женат / замужем          0.0\n",
      "Name: family_status_id, dtype: float64\n"
     ]
    },
    {
     "data": {
      "image/png": "[encoded data removed]",
      "text/plain": [
       "<Figure size 432x288 with 1 Axes>"
      ]
     },
     "metadata": {
      "needs_background": "light"
     },
     "output_type": "display_data"
    }
   ],
   "source": [
    "debt_probability_by_family_status_id = data.groupby('family_status_id')\n",
    "\n",
    "debt_probability_by_family_status_id_mean = debt_probability_by_family_status_id['debt'].mean()\n",
    "\n",
    "sns.barplot(x=debt_probability_by_family_status_id_mean.index, \n",
    "            y=debt_probability_by_family_status_id_mean,\n",
    "            palette = 'Spectral')\n",
    "                            #график отношения гражданского положения к вероятности наличия задолженности\n",
    "print(data.groupby('family_status')['family_status_id'].mean())"
   ]
  },
  {
   "cell_type": "markdown",
   "id": "541a2b48",
   "metadata": {},
   "source": [
    "Заметно, что люди, находящиеся в разводе или потерявшие супруга реже имеют задолженности по кредитам, в то время как граждане, не находившиеся в браке наоборот, чаще задерживают оплату."
   ]
  },
  {
   "cell_type": "code",
   "execution_count": 37,
   "id": "a8e20847",
   "metadata": {},
   "outputs": [
    {
     "data": {
      "text/html": [
       "<div>\n",
       "<style scoped>\n",
       "    .dataframe tbody tr th:only-of-type {\n",
       "        vertical-align: middle;\n",
       "    }\n",
       "\n",
       "    .dataframe tbody tr th {\n",
       "        vertical-align: top;\n",
       "    }\n",
       "\n",
       "    .dataframe thead th {\n",
       "        text-align: right;\n",
       "    }\n",
       "</style>\n",
       "<table border=\"1\" class=\"dataframe\">\n",
       "  <thead>\n",
       "    <tr style=\"text-align: right;\">\n",
       "      <th></th>\n",
       "      <th>Всего выдано кредитов</th>\n",
       "      <th>Просрочено кредитов</th>\n",
       "      <th>Вероятность просрочки</th>\n",
       "    </tr>\n",
       "    <tr>\n",
       "      <th>family_status</th>\n",
       "      <th></th>\n",
       "      <th></th>\n",
       "      <th></th>\n",
       "    </tr>\n",
       "  </thead>\n",
       "  <tbody>\n",
       "    <tr>\n",
       "      <th>Не женат / не замужем</th>\n",
       "      <td>2796</td>\n",
       "      <td>273</td>\n",
       "      <td>0.098</td>\n",
       "    </tr>\n",
       "    <tr>\n",
       "      <th>в разводе</th>\n",
       "      <td>1189</td>\n",
       "      <td>84</td>\n",
       "      <td>0.071</td>\n",
       "    </tr>\n",
       "    <tr>\n",
       "      <th>вдовец / вдова</th>\n",
       "      <td>951</td>\n",
       "      <td>63</td>\n",
       "      <td>0.066</td>\n",
       "    </tr>\n",
       "    <tr>\n",
       "      <th>гражданский брак</th>\n",
       "      <td>4134</td>\n",
       "      <td>385</td>\n",
       "      <td>0.093</td>\n",
       "    </tr>\n",
       "    <tr>\n",
       "      <th>женат / замужем</th>\n",
       "      <td>12261</td>\n",
       "      <td>927</td>\n",
       "      <td>0.076</td>\n",
       "    </tr>\n",
       "  </tbody>\n",
       "</table>\n",
       "</div>"
      ],
      "text/plain": [
       "                       Всего выдано кредитов  Просрочено кредитов  \\\n",
       "family_status                                                       \n",
       "Не женат / не замужем                   2796                  273   \n",
       "в разводе                               1189                   84   \n",
       "вдовец / вдова                           951                   63   \n",
       "гражданский брак                        4134                  385   \n",
       "женат / замужем                        12261                  927   \n",
       "\n",
       "                       Вероятность просрочки  \n",
       "family_status                                 \n",
       "Не женат / не замужем                  0.098  \n",
       "в разводе                              0.071  \n",
       "вдовец / вдова                         0.066  \n",
       "гражданский брак                       0.093  \n",
       "женат / замужем                        0.076  "
      ]
     },
     "execution_count": 37,
     "metadata": {},
     "output_type": "execute_result"
    }
   ],
   "source": [
    "report_family_status = data.pivot_table(index='family_status', \n",
    "                       values='debt', \n",
    "                       aggfunc=['count', 'sum', 'mean'])\n",
    "report_family_status.columns = ['Всего выдано кредитов', 'Просрочено кредитов', 'Вероятность просрочки']\n",
    "report_family_status.round(3)"
   ]
  },
  {
   "cell_type": "markdown",
   "id": "6e1f3681",
   "metadata": {},
   "source": [
    "**Промежуточный вывод:** \n",
    "\n",
    "Гипотеза частично подтверждена, поскольку наблюдается закономерность, что люди, имеющие статус `в разводе` и `вдовы/вдовцы` чаще возвращают кредиты в срок, в то время как категория граждан `холост / не замужем` имеет больший процент просрочек.\n",
    "  \n",
    "Возможно, на вероятность возврата кредита в срок влияет возраст, а не семейное положение, т.к. люди категорий `в разводе` и `вдова / вдовец` скорее всего старше, а категория `холост / не замужем` наоборот, потенциально самая \"молодая\"."
   ]
  },
  {
   "cell_type": "markdown",
   "id": "97b91c2f",
   "metadata": {},
   "source": [
    "Необходима проверка дополнительной гипотезы, путем нахождения среднего возраста каждой категории:"
   ]
  },
  {
   "cell_type": "markdown",
   "id": "2dece9eb",
   "metadata": {},
   "source": [
    "#### 3.3 Зависимость между возрастом и возвратом кредита в срок <a class=\"anchor\" id=\"возраст\"></a>"
   ]
  },
  {
   "cell_type": "code",
   "execution_count": 64,
   "id": "c905430c",
   "metadata": {},
   "outputs": [
    {
     "data": {
      "text/html": [
       "<div>\n",
       "<style scoped>\n",
       "    .dataframe tbody tr th:only-of-type {\n",
       "        vertical-align: middle;\n",
       "    }\n",
       "\n",
       "    .dataframe tbody tr th {\n",
       "        vertical-align: top;\n",
       "    }\n",
       "\n",
       "    .dataframe thead th {\n",
       "        text-align: right;\n",
       "    }\n",
       "</style>\n",
       "<table border=\"1\" class=\"dataframe\">\n",
       "  <thead>\n",
       "    <tr style=\"text-align: right;\">\n",
       "      <th></th>\n",
       "      <th>dob_years</th>\n",
       "      <th>debt</th>\n",
       "    </tr>\n",
       "    <tr>\n",
       "      <th>family_status</th>\n",
       "      <th></th>\n",
       "      <th></th>\n",
       "    </tr>\n",
       "  </thead>\n",
       "  <tbody>\n",
       "    <tr>\n",
       "      <th>Не женат / не замужем</th>\n",
       "      <td>38.368</td>\n",
       "      <td>0.098</td>\n",
       "    </tr>\n",
       "    <tr>\n",
       "      <th>в разводе</th>\n",
       "      <td>45.562</td>\n",
       "      <td>0.071</td>\n",
       "    </tr>\n",
       "    <tr>\n",
       "      <th>вдовец / вдова</th>\n",
       "      <td>56.502</td>\n",
       "      <td>0.066</td>\n",
       "    </tr>\n",
       "    <tr>\n",
       "      <th>гражданский брак</th>\n",
       "      <td>42.068</td>\n",
       "      <td>0.093</td>\n",
       "    </tr>\n",
       "    <tr>\n",
       "      <th>женат / замужем</th>\n",
       "      <td>43.559</td>\n",
       "      <td>0.076</td>\n",
       "    </tr>\n",
       "  </tbody>\n",
       "</table>\n",
       "</div>"
      ],
      "text/plain": [
       "                       dob_years   debt\n",
       "family_status                          \n",
       "Не женат / не замужем     38.368  0.098\n",
       "в разводе                 45.562  0.071\n",
       "вдовец / вдова            56.502  0.066\n",
       "гражданский брак          42.068  0.093\n",
       "женат / замужем           43.559  0.076"
      ]
     },
     "metadata": {},
     "output_type": "display_data"
    }
   ],
   "source": [
    "display(debt_probability_by_family_status[['dob_years','debt']].mean().round(3))"
   ]
  },
  {
   "cell_type": "markdown",
   "id": "4e954224",
   "metadata": {},
   "source": [
    "Категории заемщиков с более низким процентом просрочек действительно имеют наибольший средний возраст.\n",
    "Поэтому следует рассмотреть данную гипотезу подробнее:\n",
    "Для удобства оценки проводится группировка заемщиков по возрасту и проверка вероятность невыплаты кредита для каждой категории"
   ]
  },
  {
   "cell_type": "code",
   "execution_count": 28,
   "id": "9a06e359",
   "metadata": {},
   "outputs": [],
   "source": [
    "def age_category (age):  #функция распределения возрастов по категориям, где A - наименьший возраст, F - наибольший\n",
    "    if age >=70:\n",
    "        return '70+'\n",
    "    if age >=60:\n",
    "        return '60-69'\n",
    "    if age >=50:\n",
    "        return '50-59'\n",
    "    if age >=40:\n",
    "        return '40-49'\n",
    "    if age >=30:\n",
    "        return '30-39'\n",
    "    return '0-29'\n",
    "\n",
    "data['dob_years_category'] = data['dob_years'].apply(age_category)"
   ]
  },
  {
   "cell_type": "code",
   "execution_count": 55,
   "id": "a3465d67",
   "metadata": {},
   "outputs": [
    {
     "data": {
      "text/plain": [
       "<AxesSubplot:xlabel='dob_years_category', ylabel='debt'>"
      ]
     },
     "execution_count": 55,
     "metadata": {},
     "output_type": "execute_result"
    },
    {
     "data": {
      "image/png": "[encoded data removed]",
      "text/plain": [
       "<Figure size 432x288 with 1 Axes>"
      ]
     },
     "metadata": {
      "needs_background": "light"
     },
     "output_type": "display_data"
    }
   ],
   "source": [
    "sns.barplot(x=data.groupby('dob_years_category')['debt'].mean().index, \n",
    "            y=data.groupby('dob_years_category')['debt'].mean(), \n",
    "            palette = 'Spectral')\n",
    "#график зависимости количества просроченных кредитов от возраста заемщика"
   ]
  },
  {
   "cell_type": "markdown",
   "id": "c4dca471",
   "metadata": {},
   "source": [
    "Заметна явная тенденция к повышению стабильности выплат с увеличением возраста кредитора"
   ]
  },
  {
   "cell_type": "markdown",
   "id": "580ec31c",
   "metadata": {},
   "source": [
    "**Вывод:** \n",
    "\n",
    "Зависимость вероятности возникновения задержек по кредиту от семейного положения проявляется косвено.  \n",
    "На результат большее влияние оказывает возраст заемщика, а не его семейное положение."
   ]
  },
  {
   "cell_type": "markdown",
   "id": "5ed19712",
   "metadata": {},
   "source": [
    "#### 3.4 Зависимость между уровнем дохода и возвратом кредита в срок <a class=\"anchor\" id=\"доход\"></a>"
   ]
  },
  {
   "cell_type": "markdown",
   "id": "a0a80bf2",
   "metadata": {},
   "source": [
    "Для проверки третьей гипотезы необходимо использовать аналогичный порядок действий:  \n",
    "1. Все кредиторы группируются по уровню дохода согласно категориям, определенным выше\n",
    "2. Оценивается вероятность возникновения просрочки по кредиту\n",
    "3. Составляется и анализируется график зависимости"
   ]
  },
  {
   "cell_type": "code",
   "execution_count": 30,
   "id": "baa4cc61",
   "metadata": {},
   "outputs": [
    {
     "name": "stdout",
     "output_type": "stream",
     "text": [
      "total_income_category\n",
      "A    0.080000\n",
      "B    0.070602\n",
      "C    0.084982\n",
      "D    0.060172\n",
      "E    0.090909\n",
      "Name: debt, dtype: float64\n"
     ]
    }
   ],
   "source": [
    "debt_probability_by_income = data.groupby('total_income_category')\n",
    "\n",
    "debt_probability_by_income_mean = debt_probability_by_income['debt'].mean()\n",
    "\n",
    "\n",
    "print(debt_probability_by_income_mean) #разделение кредиторов по категории заработка"
   ]
  },
  {
   "cell_type": "markdown",
   "id": "86284399",
   "metadata": {},
   "source": [
    "На основании этих данных строится график зависимости"
   ]
  },
  {
   "cell_type": "code",
   "execution_count": 56,
   "id": "a6d34cad",
   "metadata": {},
   "outputs": [
    {
     "data": {
      "text/plain": [
       "<AxesSubplot:xlabel='total_income_category', ylabel='debt'>"
      ]
     },
     "execution_count": 56,
     "metadata": {},
     "output_type": "execute_result"
    },
    {
     "data": {
      "image/png": "[encoded data removed]",
      "text/plain": [
       "<Figure size 432x288 with 1 Axes>"
      ]
     },
     "metadata": {
      "needs_background": "light"
     },
     "output_type": "display_data"
    }
   ],
   "source": [
    "import seaborn as sns\n",
    "\n",
    "sns.barplot(x=debt_probability_by_income_mean.index, \n",
    "            y=debt_probability_by_income_mean,\n",
    "            palette = 'Spectral')\n",
    "#график отношения категории заработка к вероятности наличия задолженности"
   ]
  },
  {
   "cell_type": "markdown",
   "id": "9940b976",
   "metadata": {},
   "source": [
    "Согласно графику можно сделать вывод об отсутствии корреляции между уровнем заработка и невыплатой кредита в срок"
   ]
  },
  {
   "cell_type": "markdown",
   "id": "66dce124",
   "metadata": {},
   "source": [
    "**Вывод:** \n",
    "\n",
    "В результате анализа не было выявлено тенденции к изменению количества задолженностей по кредиту в зависимости от заработка."
   ]
  },
  {
   "cell_type": "markdown",
   "id": "1c649512",
   "metadata": {},
   "source": [
    "#### 3.5 Зависимость между целью получения кредита и возвратом кредита в срок  <a class=\"anchor\" id=\"цель\"></a>"
   ]
  },
  {
   "cell_type": "markdown",
   "id": "b3f903cf",
   "metadata": {},
   "source": [
    "Для проверки четвертой гипотезы необходимо использовать аналогичный порядок действий:  \n",
    "1. Все кредиторы группируются по цели займа\n",
    "2. Оценивается вероятность возникновения просрочки\n",
    "3. Составляется и анализируется график зависимости"
   ]
  },
  {
   "cell_type": "code",
   "execution_count": 32,
   "id": "5f2d436d",
   "metadata": {},
   "outputs": [
    {
     "name": "stdout",
     "output_type": "stream",
     "text": [
      "purpose_category\n",
      "операции с автомобилем      0.093480\n",
      "операции с недвижимостью    0.072551\n",
      "получение образования       0.092528\n",
      "проведение свадьбы          0.079118\n",
      "Name: debt, dtype: float64\n"
     ]
    }
   ],
   "source": [
    "debt_probability_by_purpopse = data.groupby('purpose_category')\n",
    "debt_probability_by_purpopse_mean = debt_probability_by_purpopse['debt'].mean()\n",
    "\n",
    "print(debt_probability_by_purpopse_mean) #разделение кредиторов по цели получения займа"
   ]
  },
  {
   "cell_type": "markdown",
   "id": "3bc5ea83",
   "metadata": {},
   "source": [
    "На основании этих данных строится график зависимости"
   ]
  },
  {
   "cell_type": "code",
   "execution_count": 57,
   "id": "13041999",
   "metadata": {},
   "outputs": [
    {
     "data": {
      "text/plain": [
       "<AxesSubplot:xlabel='purpose_category', ylabel='debt'>"
      ]
     },
     "execution_count": 57,
     "metadata": {},
     "output_type": "execute_result"
    },
    {
     "data": {
      "image/png": "[encoded data removed]",
      "text/plain": [
       "<Figure size 432x288 with 1 Axes>"
      ]
     },
     "metadata": {
      "needs_background": "light"
     },
     "output_type": "display_data"
    }
   ],
   "source": [
    "import seaborn as sns\n",
    "\n",
    "sns.barplot(x=debt_probability_by_purpopse_mean.index, \n",
    "            y=debt_probability_by_purpopse_mean,\n",
    "            palette = 'Spectral')\n",
    "#график отношения цели получения займа к вероятности возникновения задолженности"
   ]
  },
  {
   "cell_type": "code",
   "execution_count": 34,
   "id": "59487757",
   "metadata": {},
   "outputs": [
    {
     "name": "stdout",
     "output_type": "stream",
     "text": [
      " Чаще всего, в 9.3% случаев просрочки возникают по кредитам, полученным на операции с автомобилем\n",
      " Реже всего, в 7.3% случаев просрочки возникают по кредитам, полученным на операции с недвижимостью\n"
     ]
    }
   ],
   "source": [
    "print(f\" Чаще всего, в {debt_probability_by_purpopse_mean.max():.1%} случаев просрочки возникают по кредитам, полученным на {debt_probability_by_purpopse_mean.idxmax()}\")\n",
    "print(f\" Реже всего, в {debt_probability_by_purpopse_mean.min():.1%} случаев просрочки возникают по кредитам, полученным на {debt_probability_by_purpopse_mean.idxmin()}\")"
   ]
  },
  {
   "cell_type": "markdown",
   "id": "3c5b102c",
   "metadata": {},
   "source": [
    "**Вывод:** \n",
    "\n",
    "Гипотеза частично подтверждена, т.к. наблюдается зависимость вероятности возникновения задолженности по кредиту от целей получения займа.\n",
    "Тем не менее, значения для различных категорий близкие, поэтому корреляция незначительная."
   ]
  },
  {
   "cell_type": "markdown",
   "id": "bd384507",
   "metadata": {},
   "source": [
    "### 4. Итоги исследования  <a class=\"anchor\" id=\"итоги_исследования\"></a>"
   ]
  },
  {
   "cell_type": "markdown",
   "id": "9e06729f",
   "metadata": {},
   "source": [
    "Целью исследования было определение факторов, оказывающих наибольшее влияние на вероятность невыплаты кредита в срок  \n",
    "Для повышения точности исследования данные были обработаны и дополнены следующим образом:  \n",
    "1. Заполнены или исключены из расчета пропущенные значения\n",
    "2. Исправлены аномальные значения\n",
    "3. Обработаны дубликаты\n",
    "4. Данные категоризированы\n",
    "  \n",
    "Затем были проверены основные возможные факторы, потенциально влияющие на возникновение просрочек по кредиту:  \n",
    "1. Количество детей\n",
    "2. Семейное положение\n",
    "3. Возраст заемщика\n",
    "4. Уровень заработка\n",
    "5. Цель получения кредита\n",
    "  \n",
    "**Подтвержденные гипотезы**  \n",
    "Согласно полученным данным, наибольшее влияние на своевременность выплаты кредита оказывает `возраст` заемщика. Заметна явная тенденция к повышению стабильности выплат с увеличением возраста кредитора\n",
    "В связи с этим, косвенно на своевременность выплат влияет и `гражданское положение`.\n",
    "  \n",
    "**Частично подтвержденные гипотезы**  \n",
    "Имеется зависимость от `целей` получения кредита: займы, полученные на операции с недвижимостью чаще выплачиваются без задержек, в то время как кредиты на операции с автомобилем наименее надежны.\n",
    "  \n",
    "**Опровергнутые гипотезы**  \n",
    "Гипотезы о зависимости своевременной выплаты кредита от `количества детей` в семье заемщика и уровня его `заработка` не подтвердились. Корреляции между этим факторами и возвратом кредита в срок не обнаружено."
   ]
  }
 ],
 "metadata": {
  "kernelspec": {
   "display_name": "Python 3 (ipykernel)",
   "language": "python",
   "name": "python3"
  },
  "language_info": {
   "codemirror_mode": {
    "name": "ipython",
    "version": 3
   },
   "file_extension": ".py",
   "mimetype": "text/x-python",
   "name": "python",
   "nbconvert_exporter": "python",
   "pygments_lexer": "ipython3",
   "version": "3.9.12"
  }
 },
 "nbformat": 4,
 "nbformat_minor": 5
}
